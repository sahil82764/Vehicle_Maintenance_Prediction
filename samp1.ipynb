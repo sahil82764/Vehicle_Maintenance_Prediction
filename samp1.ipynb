{
 "cells": [
  {
   "cell_type": "code",
   "execution_count": 34,
   "metadata": {},
   "outputs": [],
   "source": [
    "import pandas as pd\n",
    "import numpy as np\n",
    "import os\n",
    "import logging\n",
    "from vmpred.util.util import read_parquet, read_yaml_file\n",
    "\n",
    "pd.set_option('display.max_columns', None)"
   ]
  },
  {
   "cell_type": "code",
   "execution_count": 44,
   "metadata": {},
   "outputs": [
    {
     "name": "stdout",
     "output_type": "stream",
     "text": [
      "<class 'pandas.core.frame.DataFrame'>\n",
      "RangeIndex: 50000 entries, 0 to 49999\n",
      "Data columns (total 20 columns):\n",
      " #   Column                Non-Null Count  Dtype         \n",
      "---  ------                --------------  -----         \n",
      " 0   vehicle_model         50000 non-null  category      \n",
      " 1   mileage               50000 non-null  Int64         \n",
      " 2   maintenance_history   50000 non-null  category      \n",
      " 3   reported_issues       50000 non-null  Int64         \n",
      " 4   vehicle_age           50000 non-null  Int64         \n",
      " 5   fuel_type             50000 non-null  category      \n",
      " 6   transmission_type     50000 non-null  category      \n",
      " 7   engine_size           50000 non-null  Int64         \n",
      " 8   odometer_reading      50000 non-null  Int64         \n",
      " 9   last_service_date     50000 non-null  datetime64[ns]\n",
      " 10  warranty_expiry_date  50000 non-null  datetime64[ns]\n",
      " 11  owner_type            50000 non-null  category      \n",
      " 12  insurance_premium     50000 non-null  float64       \n",
      " 13  service_history       50000 non-null  Int64         \n",
      " 14  accident_history      50000 non-null  Int64         \n",
      " 15  fuel_efficiency       50000 non-null  float64       \n",
      " 16  tire_condition        50000 non-null  category      \n",
      " 17  brake_condition       50000 non-null  category      \n",
      " 18  battery_status        50000 non-null  category      \n",
      " 19  need_maintenance      50000 non-null  Int64         \n",
      "dtypes: Int64(8), category(8), datetime64[ns](2), float64(2)\n",
      "memory usage: 5.3 MB\n"
     ]
    }
   ],
   "source": [
    "df1 = read_parquet('data/validatedData/validated_data.parquet')\n",
    "\n",
    "df1.info()"
   ]
  },
  {
   "cell_type": "code",
   "execution_count": 47,
   "metadata": {},
   "outputs": [
    {
     "name": "stdout",
     "output_type": "stream",
     "text": [
      "<class 'pandas.core.frame.DataFrame'>\n",
      "Index: 37500 entries, 17481 to 24519\n",
      "Data columns (total 41 columns):\n",
      " #   Column                       Non-Null Count  Dtype  \n",
      "---  ------                       --------------  -----  \n",
      " 0   mileage                      37500 non-null  float64\n",
      " 1   reported_issues              37500 non-null  float64\n",
      " 2   vehicle_age                  37500 non-null  float64\n",
      " 3   engine_size                  37500 non-null  float64\n",
      " 4   odometer_reading             37500 non-null  float64\n",
      " 5   insurance_premium            37500 non-null  float64\n",
      " 6   service_history              37500 non-null  float64\n",
      " 7   accident_history             37500 non-null  float64\n",
      " 8   fuel_efficiency              37500 non-null  float64\n",
      " 9   time_since_last_service      37500 non-null  float64\n",
      " 10  warranty_duration            37500 non-null  float64\n",
      " 11  mileage_per_year             37500 non-null  float64\n",
      " 12  service_frequency            37500 non-null  float64\n",
      " 13  accident_rate                37500 non-null  float64\n",
      " 14  vehicle_model_Bus            37500 non-null  float64\n",
      " 15  vehicle_model_Car            37500 non-null  float64\n",
      " 16  vehicle_model_Motorcycle     37500 non-null  float64\n",
      " 17  vehicle_model_SUV            37500 non-null  float64\n",
      " 18  vehicle_model_Truck          37500 non-null  float64\n",
      " 19  vehicle_model_Van            37500 non-null  float64\n",
      " 20  maintenance_history_1        37500 non-null  float64\n",
      " 21  maintenance_history_2        37500 non-null  float64\n",
      " 22  maintenance_history_3        37500 non-null  float64\n",
      " 23  fuel_type_Diesel             37500 non-null  float64\n",
      " 24  fuel_type_Electric           37500 non-null  float64\n",
      " 25  fuel_type_Petrol             37500 non-null  float64\n",
      " 26  transmission_type_Automatic  37500 non-null  float64\n",
      " 27  transmission_type_Manual     37500 non-null  float64\n",
      " 28  owner_type_First             37500 non-null  float64\n",
      " 29  owner_type_Second            37500 non-null  float64\n",
      " 30  owner_type_Third             37500 non-null  float64\n",
      " 31  tire_condition_1             37500 non-null  float64\n",
      " 32  tire_condition_2             37500 non-null  float64\n",
      " 33  tire_condition_3             37500 non-null  float64\n",
      " 34  brake_condition_1            37500 non-null  float64\n",
      " 35  brake_condition_2            37500 non-null  float64\n",
      " 36  brake_condition_3            37500 non-null  float64\n",
      " 37  battery_status_1             37500 non-null  float64\n",
      " 38  battery_status_2             37500 non-null  float64\n",
      " 39  battery_status_3             37500 non-null  float64\n",
      " 40  need_maintenance             37500 non-null  Int64  \n",
      "dtypes: Int64(1), float64(40)\n",
      "memory usage: 12.1 MB\n"
     ]
    }
   ],
   "source": [
    "\n",
    "\n",
    "df2 = read_parquet('data/transformedData/trainData/train_data.parquet')\n",
    "\n",
    "df2.info()"
   ]
  },
  {
   "cell_type": "code",
   "execution_count": 48,
   "metadata": {},
   "outputs": [
    {
     "data": {
      "text/html": [
       "<div>\n",
       "<style scoped>\n",
       "    .dataframe tbody tr th:only-of-type {\n",
       "        vertical-align: middle;\n",
       "    }\n",
       "\n",
       "    .dataframe tbody tr th {\n",
       "        vertical-align: top;\n",
       "    }\n",
       "\n",
       "    .dataframe thead th {\n",
       "        text-align: right;\n",
       "    }\n",
       "</style>\n",
       "<table border=\"1\" class=\"dataframe\">\n",
       "  <thead>\n",
       "    <tr style=\"text-align: right;\">\n",
       "      <th></th>\n",
       "      <th>mileage</th>\n",
       "      <th>reported_issues</th>\n",
       "      <th>vehicle_age</th>\n",
       "      <th>engine_size</th>\n",
       "      <th>odometer_reading</th>\n",
       "      <th>insurance_premium</th>\n",
       "      <th>service_history</th>\n",
       "      <th>accident_history</th>\n",
       "      <th>fuel_efficiency</th>\n",
       "      <th>time_since_last_service</th>\n",
       "      <th>warranty_duration</th>\n",
       "      <th>mileage_per_year</th>\n",
       "      <th>service_frequency</th>\n",
       "      <th>accident_rate</th>\n",
       "      <th>vehicle_model_Bus</th>\n",
       "      <th>vehicle_model_Car</th>\n",
       "      <th>vehicle_model_Motorcycle</th>\n",
       "      <th>vehicle_model_SUV</th>\n",
       "      <th>vehicle_model_Truck</th>\n",
       "      <th>vehicle_model_Van</th>\n",
       "      <th>maintenance_history_1</th>\n",
       "      <th>maintenance_history_2</th>\n",
       "      <th>maintenance_history_3</th>\n",
       "      <th>fuel_type_Diesel</th>\n",
       "      <th>fuel_type_Electric</th>\n",
       "      <th>fuel_type_Petrol</th>\n",
       "      <th>transmission_type_Automatic</th>\n",
       "      <th>transmission_type_Manual</th>\n",
       "      <th>owner_type_First</th>\n",
       "      <th>owner_type_Second</th>\n",
       "      <th>owner_type_Third</th>\n",
       "      <th>tire_condition_1</th>\n",
       "      <th>tire_condition_2</th>\n",
       "      <th>tire_condition_3</th>\n",
       "      <th>brake_condition_1</th>\n",
       "      <th>brake_condition_2</th>\n",
       "      <th>brake_condition_3</th>\n",
       "      <th>battery_status_1</th>\n",
       "      <th>battery_status_2</th>\n",
       "      <th>battery_status_3</th>\n",
       "      <th>need_maintenance</th>\n",
       "    </tr>\n",
       "  </thead>\n",
       "  <tbody>\n",
       "    <tr>\n",
       "      <th>17481</th>\n",
       "      <td>0.045950</td>\n",
       "      <td>-0.876318</td>\n",
       "      <td>0.176565</td>\n",
       "      <td>-0.886280</td>\n",
       "      <td>0.609636</td>\n",
       "      <td>1.537473</td>\n",
       "      <td>-0.179333</td>\n",
       "      <td>-0.448022</td>\n",
       "      <td>-0.529043</td>\n",
       "      <td>-1.666642</td>\n",
       "      <td>0.263491</td>\n",
       "      <td>-0.440709</td>\n",
       "      <td>-0.425000</td>\n",
       "      <td>-0.463372</td>\n",
       "      <td>0.0</td>\n",
       "      <td>1.0</td>\n",
       "      <td>0.0</td>\n",
       "      <td>0.0</td>\n",
       "      <td>0.0</td>\n",
       "      <td>0.0</td>\n",
       "      <td>1.0</td>\n",
       "      <td>0.0</td>\n",
       "      <td>0.0</td>\n",
       "      <td>0.0</td>\n",
       "      <td>1.0</td>\n",
       "      <td>0.0</td>\n",
       "      <td>1.0</td>\n",
       "      <td>0.0</td>\n",
       "      <td>0.0</td>\n",
       "      <td>0.0</td>\n",
       "      <td>1.0</td>\n",
       "      <td>0.0</td>\n",
       "      <td>0.0</td>\n",
       "      <td>1.0</td>\n",
       "      <td>0.0</td>\n",
       "      <td>0.0</td>\n",
       "      <td>1.0</td>\n",
       "      <td>0.0</td>\n",
       "      <td>0.0</td>\n",
       "      <td>1.0</td>\n",
       "      <td>0</td>\n",
       "    </tr>\n",
       "    <tr>\n",
       "      <th>7663</th>\n",
       "      <td>-1.521149</td>\n",
       "      <td>-0.876318</td>\n",
       "      <td>1.567554</td>\n",
       "      <td>1.503508</td>\n",
       "      <td>-0.934610</td>\n",
       "      <td>0.372496</td>\n",
       "      <td>-0.875017</td>\n",
       "      <td>-0.448022</td>\n",
       "      <td>-0.460301</td>\n",
       "      <td>0.004540</td>\n",
       "      <td>-0.956746</td>\n",
       "      <td>-0.823250</td>\n",
       "      <td>-0.713497</td>\n",
       "      <td>-0.575720</td>\n",
       "      <td>0.0</td>\n",
       "      <td>1.0</td>\n",
       "      <td>0.0</td>\n",
       "      <td>0.0</td>\n",
       "      <td>0.0</td>\n",
       "      <td>0.0</td>\n",
       "      <td>0.0</td>\n",
       "      <td>0.0</td>\n",
       "      <td>1.0</td>\n",
       "      <td>1.0</td>\n",
       "      <td>0.0</td>\n",
       "      <td>0.0</td>\n",
       "      <td>0.0</td>\n",
       "      <td>1.0</td>\n",
       "      <td>0.0</td>\n",
       "      <td>1.0</td>\n",
       "      <td>0.0</td>\n",
       "      <td>0.0</td>\n",
       "      <td>1.0</td>\n",
       "      <td>0.0</td>\n",
       "      <td>0.0</td>\n",
       "      <td>0.0</td>\n",
       "      <td>1.0</td>\n",
       "      <td>1.0</td>\n",
       "      <td>0.0</td>\n",
       "      <td>0.0</td>\n",
       "      <td>1</td>\n",
       "    </tr>\n",
       "    <tr>\n",
       "      <th>28828</th>\n",
       "      <td>-0.143054</td>\n",
       "      <td>-0.291099</td>\n",
       "      <td>1.219806</td>\n",
       "      <td>-0.886280</td>\n",
       "      <td>-1.527819</td>\n",
       "      <td>0.762068</td>\n",
       "      <td>0.516350</td>\n",
       "      <td>0.445235</td>\n",
       "      <td>0.259993</td>\n",
       "      <td>-1.346848</td>\n",
       "      <td>0.298073</td>\n",
       "      <td>-0.658243</td>\n",
       "      <td>-0.455051</td>\n",
       "      <td>-0.369748</td>\n",
       "      <td>0.0</td>\n",
       "      <td>0.0</td>\n",
       "      <td>0.0</td>\n",
       "      <td>1.0</td>\n",
       "      <td>0.0</td>\n",
       "      <td>0.0</td>\n",
       "      <td>1.0</td>\n",
       "      <td>0.0</td>\n",
       "      <td>0.0</td>\n",
       "      <td>0.0</td>\n",
       "      <td>0.0</td>\n",
       "      <td>1.0</td>\n",
       "      <td>1.0</td>\n",
       "      <td>0.0</td>\n",
       "      <td>0.0</td>\n",
       "      <td>0.0</td>\n",
       "      <td>1.0</td>\n",
       "      <td>1.0</td>\n",
       "      <td>0.0</td>\n",
       "      <td>0.0</td>\n",
       "      <td>0.0</td>\n",
       "      <td>1.0</td>\n",
       "      <td>0.0</td>\n",
       "      <td>0.0</td>\n",
       "      <td>0.0</td>\n",
       "      <td>1.0</td>\n",
       "      <td>1</td>\n",
       "    </tr>\n",
       "    <tr>\n",
       "      <th>17722</th>\n",
       "      <td>1.608397</td>\n",
       "      <td>0.879338</td>\n",
       "      <td>-0.518929</td>\n",
       "      <td>1.503508</td>\n",
       "      <td>0.700915</td>\n",
       "      <td>-0.027458</td>\n",
       "      <td>-1.222859</td>\n",
       "      <td>-0.448022</td>\n",
       "      <td>-1.701939</td>\n",
       "      <td>-0.439045</td>\n",
       "      <td>0.816797</td>\n",
       "      <td>0.217371</td>\n",
       "      <td>-0.605310</td>\n",
       "      <td>-0.322936</td>\n",
       "      <td>0.0</td>\n",
       "      <td>0.0</td>\n",
       "      <td>0.0</td>\n",
       "      <td>1.0</td>\n",
       "      <td>0.0</td>\n",
       "      <td>0.0</td>\n",
       "      <td>1.0</td>\n",
       "      <td>0.0</td>\n",
       "      <td>0.0</td>\n",
       "      <td>0.0</td>\n",
       "      <td>0.0</td>\n",
       "      <td>1.0</td>\n",
       "      <td>1.0</td>\n",
       "      <td>0.0</td>\n",
       "      <td>0.0</td>\n",
       "      <td>1.0</td>\n",
       "      <td>0.0</td>\n",
       "      <td>0.0</td>\n",
       "      <td>0.0</td>\n",
       "      <td>1.0</td>\n",
       "      <td>0.0</td>\n",
       "      <td>0.0</td>\n",
       "      <td>1.0</td>\n",
       "      <td>0.0</td>\n",
       "      <td>1.0</td>\n",
       "      <td>0.0</td>\n",
       "      <td>1</td>\n",
       "    </tr>\n",
       "    <tr>\n",
       "      <th>20318</th>\n",
       "      <td>1.656516</td>\n",
       "      <td>-1.461536</td>\n",
       "      <td>1.219806</td>\n",
       "      <td>-1.204918</td>\n",
       "      <td>0.183087</td>\n",
       "      <td>-0.161884</td>\n",
       "      <td>0.168508</td>\n",
       "      <td>-1.341279</td>\n",
       "      <td>0.986257</td>\n",
       "      <td>-0.016091</td>\n",
       "      <td>-0.902404</td>\n",
       "      <td>-0.473508</td>\n",
       "      <td>-0.515155</td>\n",
       "      <td>-0.744243</td>\n",
       "      <td>0.0</td>\n",
       "      <td>0.0</td>\n",
       "      <td>0.0</td>\n",
       "      <td>1.0</td>\n",
       "      <td>0.0</td>\n",
       "      <td>0.0</td>\n",
       "      <td>1.0</td>\n",
       "      <td>0.0</td>\n",
       "      <td>0.0</td>\n",
       "      <td>0.0</td>\n",
       "      <td>1.0</td>\n",
       "      <td>0.0</td>\n",
       "      <td>1.0</td>\n",
       "      <td>0.0</td>\n",
       "      <td>0.0</td>\n",
       "      <td>1.0</td>\n",
       "      <td>0.0</td>\n",
       "      <td>0.0</td>\n",
       "      <td>1.0</td>\n",
       "      <td>0.0</td>\n",
       "      <td>0.0</td>\n",
       "      <td>1.0</td>\n",
       "      <td>0.0</td>\n",
       "      <td>0.0</td>\n",
       "      <td>1.0</td>\n",
       "      <td>0.0</td>\n",
       "      <td>0</td>\n",
       "    </tr>\n",
       "    <tr>\n",
       "      <th>...</th>\n",
       "      <td>...</td>\n",
       "      <td>...</td>\n",
       "      <td>...</td>\n",
       "      <td>...</td>\n",
       "      <td>...</td>\n",
       "      <td>...</td>\n",
       "      <td>...</td>\n",
       "      <td>...</td>\n",
       "      <td>...</td>\n",
       "      <td>...</td>\n",
       "      <td>...</td>\n",
       "      <td>...</td>\n",
       "      <td>...</td>\n",
       "      <td>...</td>\n",
       "      <td>...</td>\n",
       "      <td>...</td>\n",
       "      <td>...</td>\n",
       "      <td>...</td>\n",
       "      <td>...</td>\n",
       "      <td>...</td>\n",
       "      <td>...</td>\n",
       "      <td>...</td>\n",
       "      <td>...</td>\n",
       "      <td>...</td>\n",
       "      <td>...</td>\n",
       "      <td>...</td>\n",
       "      <td>...</td>\n",
       "      <td>...</td>\n",
       "      <td>...</td>\n",
       "      <td>...</td>\n",
       "      <td>...</td>\n",
       "      <td>...</td>\n",
       "      <td>...</td>\n",
       "      <td>...</td>\n",
       "      <td>...</td>\n",
       "      <td>...</td>\n",
       "      <td>...</td>\n",
       "      <td>...</td>\n",
       "      <td>...</td>\n",
       "      <td>...</td>\n",
       "      <td>...</td>\n",
       "    </tr>\n",
       "    <tr>\n",
       "      <th>3384</th>\n",
       "      <td>0.112331</td>\n",
       "      <td>-1.461536</td>\n",
       "      <td>0.524312</td>\n",
       "      <td>0.706912</td>\n",
       "      <td>0.827773</td>\n",
       "      <td>-1.030044</td>\n",
       "      <td>-1.222859</td>\n",
       "      <td>-1.341279</td>\n",
       "      <td>0.003356</td>\n",
       "      <td>-1.068317</td>\n",
       "      <td>-1.342084</td>\n",
       "      <td>-0.516861</td>\n",
       "      <td>-0.721224</td>\n",
       "      <td>-0.744243</td>\n",
       "      <td>0.0</td>\n",
       "      <td>0.0</td>\n",
       "      <td>0.0</td>\n",
       "      <td>0.0</td>\n",
       "      <td>1.0</td>\n",
       "      <td>0.0</td>\n",
       "      <td>0.0</td>\n",
       "      <td>0.0</td>\n",
       "      <td>1.0</td>\n",
       "      <td>0.0</td>\n",
       "      <td>0.0</td>\n",
       "      <td>1.0</td>\n",
       "      <td>1.0</td>\n",
       "      <td>0.0</td>\n",
       "      <td>1.0</td>\n",
       "      <td>0.0</td>\n",
       "      <td>0.0</td>\n",
       "      <td>1.0</td>\n",
       "      <td>0.0</td>\n",
       "      <td>0.0</td>\n",
       "      <td>1.0</td>\n",
       "      <td>0.0</td>\n",
       "      <td>0.0</td>\n",
       "      <td>1.0</td>\n",
       "      <td>0.0</td>\n",
       "      <td>0.0</td>\n",
       "      <td>1</td>\n",
       "    </tr>\n",
       "    <tr>\n",
       "      <th>9803</th>\n",
       "      <td>-0.363930</td>\n",
       "      <td>-1.461536</td>\n",
       "      <td>-1.562170</td>\n",
       "      <td>-1.204918</td>\n",
       "      <td>-0.644643</td>\n",
       "      <td>-1.388605</td>\n",
       "      <td>-0.179333</td>\n",
       "      <td>0.445235</td>\n",
       "      <td>-1.471188</td>\n",
       "      <td>0.344966</td>\n",
       "      <td>1.177434</td>\n",
       "      <td>2.152576</td>\n",
       "      <td>1.828884</td>\n",
       "      <td>2.626207</td>\n",
       "      <td>0.0</td>\n",
       "      <td>0.0</td>\n",
       "      <td>0.0</td>\n",
       "      <td>0.0</td>\n",
       "      <td>1.0</td>\n",
       "      <td>0.0</td>\n",
       "      <td>0.0</td>\n",
       "      <td>0.0</td>\n",
       "      <td>1.0</td>\n",
       "      <td>0.0</td>\n",
       "      <td>1.0</td>\n",
       "      <td>0.0</td>\n",
       "      <td>0.0</td>\n",
       "      <td>1.0</td>\n",
       "      <td>0.0</td>\n",
       "      <td>0.0</td>\n",
       "      <td>1.0</td>\n",
       "      <td>1.0</td>\n",
       "      <td>0.0</td>\n",
       "      <td>0.0</td>\n",
       "      <td>0.0</td>\n",
       "      <td>1.0</td>\n",
       "      <td>0.0</td>\n",
       "      <td>0.0</td>\n",
       "      <td>0.0</td>\n",
       "      <td>1.0</td>\n",
       "      <td>0</td>\n",
       "    </tr>\n",
       "    <tr>\n",
       "      <th>14544</th>\n",
       "      <td>-1.639884</td>\n",
       "      <td>-0.291099</td>\n",
       "      <td>-0.171182</td>\n",
       "      <td>1.503508</td>\n",
       "      <td>0.697550</td>\n",
       "      <td>0.441993</td>\n",
       "      <td>-0.527175</td>\n",
       "      <td>-1.341279</td>\n",
       "      <td>-0.643030</td>\n",
       "      <td>-0.779471</td>\n",
       "      <td>-1.159296</td>\n",
       "      <td>-0.633336</td>\n",
       "      <td>-0.443031</td>\n",
       "      <td>-0.744243</td>\n",
       "      <td>0.0</td>\n",
       "      <td>0.0</td>\n",
       "      <td>0.0</td>\n",
       "      <td>0.0</td>\n",
       "      <td>0.0</td>\n",
       "      <td>1.0</td>\n",
       "      <td>0.0</td>\n",
       "      <td>1.0</td>\n",
       "      <td>0.0</td>\n",
       "      <td>1.0</td>\n",
       "      <td>0.0</td>\n",
       "      <td>0.0</td>\n",
       "      <td>1.0</td>\n",
       "      <td>0.0</td>\n",
       "      <td>0.0</td>\n",
       "      <td>1.0</td>\n",
       "      <td>0.0</td>\n",
       "      <td>0.0</td>\n",
       "      <td>0.0</td>\n",
       "      <td>1.0</td>\n",
       "      <td>1.0</td>\n",
       "      <td>0.0</td>\n",
       "      <td>0.0</td>\n",
       "      <td>0.0</td>\n",
       "      <td>0.0</td>\n",
       "      <td>1.0</td>\n",
       "      <td>1</td>\n",
       "    </tr>\n",
       "    <tr>\n",
       "      <th>30244</th>\n",
       "      <td>1.440640</td>\n",
       "      <td>-0.876318</td>\n",
       "      <td>0.176565</td>\n",
       "      <td>-0.886280</td>\n",
       "      <td>-1.462882</td>\n",
       "      <td>-0.765761</td>\n",
       "      <td>-0.527175</td>\n",
       "      <td>-1.341279</td>\n",
       "      <td>-0.032234</td>\n",
       "      <td>1.314665</td>\n",
       "      <td>-1.183997</td>\n",
       "      <td>-0.225952</td>\n",
       "      <td>-0.515155</td>\n",
       "      <td>-0.744243</td>\n",
       "      <td>0.0</td>\n",
       "      <td>0.0</td>\n",
       "      <td>0.0</td>\n",
       "      <td>1.0</td>\n",
       "      <td>0.0</td>\n",
       "      <td>0.0</td>\n",
       "      <td>1.0</td>\n",
       "      <td>0.0</td>\n",
       "      <td>0.0</td>\n",
       "      <td>0.0</td>\n",
       "      <td>1.0</td>\n",
       "      <td>0.0</td>\n",
       "      <td>0.0</td>\n",
       "      <td>1.0</td>\n",
       "      <td>0.0</td>\n",
       "      <td>1.0</td>\n",
       "      <td>0.0</td>\n",
       "      <td>0.0</td>\n",
       "      <td>0.0</td>\n",
       "      <td>1.0</td>\n",
       "      <td>0.0</td>\n",
       "      <td>0.0</td>\n",
       "      <td>1.0</td>\n",
       "      <td>0.0</td>\n",
       "      <td>1.0</td>\n",
       "      <td>0.0</td>\n",
       "      <td>0</td>\n",
       "    </tr>\n",
       "    <tr>\n",
       "      <th>24519</th>\n",
       "      <td>-1.204590</td>\n",
       "      <td>-0.291099</td>\n",
       "      <td>0.872059</td>\n",
       "      <td>-1.204918</td>\n",
       "      <td>-1.698750</td>\n",
       "      <td>0.642317</td>\n",
       "      <td>0.864192</td>\n",
       "      <td>-0.448022</td>\n",
       "      <td>1.403169</td>\n",
       "      <td>-1.088949</td>\n",
       "      <td>-0.882643</td>\n",
       "      <td>-0.733728</td>\n",
       "      <td>-0.334844</td>\n",
       "      <td>-0.533589</td>\n",
       "      <td>1.0</td>\n",
       "      <td>0.0</td>\n",
       "      <td>0.0</td>\n",
       "      <td>0.0</td>\n",
       "      <td>0.0</td>\n",
       "      <td>0.0</td>\n",
       "      <td>0.0</td>\n",
       "      <td>1.0</td>\n",
       "      <td>0.0</td>\n",
       "      <td>0.0</td>\n",
       "      <td>1.0</td>\n",
       "      <td>0.0</td>\n",
       "      <td>1.0</td>\n",
       "      <td>0.0</td>\n",
       "      <td>1.0</td>\n",
       "      <td>0.0</td>\n",
       "      <td>0.0</td>\n",
       "      <td>1.0</td>\n",
       "      <td>0.0</td>\n",
       "      <td>0.0</td>\n",
       "      <td>1.0</td>\n",
       "      <td>0.0</td>\n",
       "      <td>0.0</td>\n",
       "      <td>0.0</td>\n",
       "      <td>0.0</td>\n",
       "      <td>1.0</td>\n",
       "      <td>1</td>\n",
       "    </tr>\n",
       "  </tbody>\n",
       "</table>\n",
       "<p>37500 rows × 41 columns</p>\n",
       "</div>"
      ],
      "text/plain": [
       "        mileage  reported_issues  vehicle_age  engine_size  odometer_reading  \\\n",
       "17481  0.045950        -0.876318     0.176565    -0.886280          0.609636   \n",
       "7663  -1.521149        -0.876318     1.567554     1.503508         -0.934610   \n",
       "28828 -0.143054        -0.291099     1.219806    -0.886280         -1.527819   \n",
       "17722  1.608397         0.879338    -0.518929     1.503508          0.700915   \n",
       "20318  1.656516        -1.461536     1.219806    -1.204918          0.183087   \n",
       "...         ...              ...          ...          ...               ...   \n",
       "3384   0.112331        -1.461536     0.524312     0.706912          0.827773   \n",
       "9803  -0.363930        -1.461536    -1.562170    -1.204918         -0.644643   \n",
       "14544 -1.639884        -0.291099    -0.171182     1.503508          0.697550   \n",
       "30244  1.440640        -0.876318     0.176565    -0.886280         -1.462882   \n",
       "24519 -1.204590        -0.291099     0.872059    -1.204918         -1.698750   \n",
       "\n",
       "       insurance_premium  service_history  accident_history  fuel_efficiency  \\\n",
       "17481           1.537473        -0.179333         -0.448022        -0.529043   \n",
       "7663            0.372496        -0.875017         -0.448022        -0.460301   \n",
       "28828           0.762068         0.516350          0.445235         0.259993   \n",
       "17722          -0.027458        -1.222859         -0.448022        -1.701939   \n",
       "20318          -0.161884         0.168508         -1.341279         0.986257   \n",
       "...                  ...              ...               ...              ...   \n",
       "3384           -1.030044        -1.222859         -1.341279         0.003356   \n",
       "9803           -1.388605        -0.179333          0.445235        -1.471188   \n",
       "14544           0.441993        -0.527175         -1.341279        -0.643030   \n",
       "30244          -0.765761        -0.527175         -1.341279        -0.032234   \n",
       "24519           0.642317         0.864192         -0.448022         1.403169   \n",
       "\n",
       "       time_since_last_service  warranty_duration  mileage_per_year  \\\n",
       "17481                -1.666642           0.263491         -0.440709   \n",
       "7663                  0.004540          -0.956746         -0.823250   \n",
       "28828                -1.346848           0.298073         -0.658243   \n",
       "17722                -0.439045           0.816797          0.217371   \n",
       "20318                -0.016091          -0.902404         -0.473508   \n",
       "...                        ...                ...               ...   \n",
       "3384                 -1.068317          -1.342084         -0.516861   \n",
       "9803                  0.344966           1.177434          2.152576   \n",
       "14544                -0.779471          -1.159296         -0.633336   \n",
       "30244                 1.314665          -1.183997         -0.225952   \n",
       "24519                -1.088949          -0.882643         -0.733728   \n",
       "\n",
       "       service_frequency  accident_rate  vehicle_model_Bus  vehicle_model_Car  \\\n",
       "17481          -0.425000      -0.463372                0.0                1.0   \n",
       "7663           -0.713497      -0.575720                0.0                1.0   \n",
       "28828          -0.455051      -0.369748                0.0                0.0   \n",
       "17722          -0.605310      -0.322936                0.0                0.0   \n",
       "20318          -0.515155      -0.744243                0.0                0.0   \n",
       "...                  ...            ...                ...                ...   \n",
       "3384           -0.721224      -0.744243                0.0                0.0   \n",
       "9803            1.828884       2.626207                0.0                0.0   \n",
       "14544          -0.443031      -0.744243                0.0                0.0   \n",
       "30244          -0.515155      -0.744243                0.0                0.0   \n",
       "24519          -0.334844      -0.533589                1.0                0.0   \n",
       "\n",
       "       vehicle_model_Motorcycle  vehicle_model_SUV  vehicle_model_Truck  \\\n",
       "17481                       0.0                0.0                  0.0   \n",
       "7663                        0.0                0.0                  0.0   \n",
       "28828                       0.0                1.0                  0.0   \n",
       "17722                       0.0                1.0                  0.0   \n",
       "20318                       0.0                1.0                  0.0   \n",
       "...                         ...                ...                  ...   \n",
       "3384                        0.0                0.0                  1.0   \n",
       "9803                        0.0                0.0                  1.0   \n",
       "14544                       0.0                0.0                  0.0   \n",
       "30244                       0.0                1.0                  0.0   \n",
       "24519                       0.0                0.0                  0.0   \n",
       "\n",
       "       vehicle_model_Van  maintenance_history_1  maintenance_history_2  \\\n",
       "17481                0.0                    1.0                    0.0   \n",
       "7663                 0.0                    0.0                    0.0   \n",
       "28828                0.0                    1.0                    0.0   \n",
       "17722                0.0                    1.0                    0.0   \n",
       "20318                0.0                    1.0                    0.0   \n",
       "...                  ...                    ...                    ...   \n",
       "3384                 0.0                    0.0                    0.0   \n",
       "9803                 0.0                    0.0                    0.0   \n",
       "14544                1.0                    0.0                    1.0   \n",
       "30244                0.0                    1.0                    0.0   \n",
       "24519                0.0                    0.0                    1.0   \n",
       "\n",
       "       maintenance_history_3  fuel_type_Diesel  fuel_type_Electric  \\\n",
       "17481                    0.0               0.0                 1.0   \n",
       "7663                     1.0               1.0                 0.0   \n",
       "28828                    0.0               0.0                 0.0   \n",
       "17722                    0.0               0.0                 0.0   \n",
       "20318                    0.0               0.0                 1.0   \n",
       "...                      ...               ...                 ...   \n",
       "3384                     1.0               0.0                 0.0   \n",
       "9803                     1.0               0.0                 1.0   \n",
       "14544                    0.0               1.0                 0.0   \n",
       "30244                    0.0               0.0                 1.0   \n",
       "24519                    0.0               0.0                 1.0   \n",
       "\n",
       "       fuel_type_Petrol  transmission_type_Automatic  \\\n",
       "17481               0.0                          1.0   \n",
       "7663                0.0                          0.0   \n",
       "28828               1.0                          1.0   \n",
       "17722               1.0                          1.0   \n",
       "20318               0.0                          1.0   \n",
       "...                 ...                          ...   \n",
       "3384                1.0                          1.0   \n",
       "9803                0.0                          0.0   \n",
       "14544               0.0                          1.0   \n",
       "30244               0.0                          0.0   \n",
       "24519               0.0                          1.0   \n",
       "\n",
       "       transmission_type_Manual  owner_type_First  owner_type_Second  \\\n",
       "17481                       0.0               0.0                0.0   \n",
       "7663                        1.0               0.0                1.0   \n",
       "28828                       0.0               0.0                0.0   \n",
       "17722                       0.0               0.0                1.0   \n",
       "20318                       0.0               0.0                1.0   \n",
       "...                         ...               ...                ...   \n",
       "3384                        0.0               1.0                0.0   \n",
       "9803                        1.0               0.0                0.0   \n",
       "14544                       0.0               0.0                1.0   \n",
       "30244                       1.0               0.0                1.0   \n",
       "24519                       0.0               1.0                0.0   \n",
       "\n",
       "       owner_type_Third  tire_condition_1  tire_condition_2  tire_condition_3  \\\n",
       "17481               1.0               0.0               0.0               1.0   \n",
       "7663                0.0               0.0               1.0               0.0   \n",
       "28828               1.0               1.0               0.0               0.0   \n",
       "17722               0.0               0.0               0.0               1.0   \n",
       "20318               0.0               0.0               1.0               0.0   \n",
       "...                 ...               ...               ...               ...   \n",
       "3384                0.0               1.0               0.0               0.0   \n",
       "9803                1.0               1.0               0.0               0.0   \n",
       "14544               0.0               0.0               0.0               1.0   \n",
       "30244               0.0               0.0               0.0               1.0   \n",
       "24519               0.0               1.0               0.0               0.0   \n",
       "\n",
       "       brake_condition_1  brake_condition_2  brake_condition_3  \\\n",
       "17481                0.0                0.0                1.0   \n",
       "7663                 0.0                0.0                1.0   \n",
       "28828                0.0                1.0                0.0   \n",
       "17722                0.0                0.0                1.0   \n",
       "20318                0.0                1.0                0.0   \n",
       "...                  ...                ...                ...   \n",
       "3384                 1.0                0.0                0.0   \n",
       "9803                 0.0                1.0                0.0   \n",
       "14544                1.0                0.0                0.0   \n",
       "30244                0.0                0.0                1.0   \n",
       "24519                1.0                0.0                0.0   \n",
       "\n",
       "       battery_status_1  battery_status_2  battery_status_3  need_maintenance  \n",
       "17481               0.0               0.0               1.0                 0  \n",
       "7663                1.0               0.0               0.0                 1  \n",
       "28828               0.0               0.0               1.0                 1  \n",
       "17722               0.0               1.0               0.0                 1  \n",
       "20318               0.0               1.0               0.0                 0  \n",
       "...                 ...               ...               ...               ...  \n",
       "3384                1.0               0.0               0.0                 1  \n",
       "9803                0.0               0.0               1.0                 0  \n",
       "14544               0.0               0.0               1.0                 1  \n",
       "30244               0.0               1.0               0.0                 0  \n",
       "24519               0.0               0.0               1.0                 1  \n",
       "\n",
       "[37500 rows x 41 columns]"
      ]
     },
     "execution_count": 48,
     "metadata": {},
     "output_type": "execute_result"
    }
   ],
   "source": [
    "df2"
   ]
  },
  {
   "cell_type": "code",
   "execution_count": 2,
   "metadata": {},
   "outputs": [
    {
     "name": "stdout",
     "output_type": "stream",
     "text": [
      "<class 'pandas.core.frame.DataFrame'>\n",
      "RangeIndex: 50000 entries, 0 to 49999\n",
      "Data columns (total 20 columns):\n",
      " #   Column                Non-Null Count  Dtype         \n",
      "---  ------                --------------  -----         \n",
      " 0   vehicle_model         50000 non-null  category      \n",
      " 1   mileage               50000 non-null  Int64         \n",
      " 2   maintenance_history   50000 non-null  category      \n",
      " 3   reported_issues       50000 non-null  Int64         \n",
      " 4   vehicle_age           50000 non-null  Int64         \n",
      " 5   fuel_type             50000 non-null  category      \n",
      " 6   transmission_type     50000 non-null  category      \n",
      " 7   engine_size           50000 non-null  Int64         \n",
      " 8   odometer_reading      50000 non-null  Int64         \n",
      " 9   last_service_date     50000 non-null  datetime64[ns]\n",
      " 10  warranty_expiry_date  50000 non-null  datetime64[ns]\n",
      " 11  owner_type            50000 non-null  category      \n",
      " 12  insurance_premium     50000 non-null  float64       \n",
      " 13  service_history       50000 non-null  Int64         \n",
      " 14  accident_history      50000 non-null  Int64         \n",
      " 15  fuel_efficiency       50000 non-null  float64       \n",
      " 16  tire_condition        50000 non-null  category      \n",
      " 17  brake_condition       50000 non-null  category      \n",
      " 18  battery_status        50000 non-null  category      \n",
      " 19  need_maintenance      50000 non-null  Int64         \n",
      "dtypes: Int64(8), category(8), datetime64[ns](2), float64(2)\n",
      "memory usage: 5.3 MB\n"
     ]
    }
   ],
   "source": [
    "df = pd.read_parquet('data/validatedData/validated_data.parquet', engine=\"pyarrow\")\n",
    "df.info()"
   ]
  },
  {
   "cell_type": "code",
   "execution_count": 3,
   "metadata": {},
   "outputs": [
    {
     "data": {
      "text/html": [
       "<div>\n",
       "<style scoped>\n",
       "    .dataframe tbody tr th:only-of-type {\n",
       "        vertical-align: middle;\n",
       "    }\n",
       "\n",
       "    .dataframe tbody tr th {\n",
       "        vertical-align: top;\n",
       "    }\n",
       "\n",
       "    .dataframe thead th {\n",
       "        text-align: right;\n",
       "    }\n",
       "</style>\n",
       "<table border=\"1\" class=\"dataframe\">\n",
       "  <thead>\n",
       "    <tr style=\"text-align: right;\">\n",
       "      <th></th>\n",
       "      <th>vehicle_model</th>\n",
       "      <th>mileage</th>\n",
       "      <th>maintenance_history</th>\n",
       "      <th>reported_issues</th>\n",
       "      <th>vehicle_age</th>\n",
       "      <th>fuel_type</th>\n",
       "      <th>transmission_type</th>\n",
       "      <th>engine_size</th>\n",
       "      <th>odometer_reading</th>\n",
       "      <th>last_service_date</th>\n",
       "      <th>warranty_expiry_date</th>\n",
       "      <th>owner_type</th>\n",
       "      <th>insurance_premium</th>\n",
       "      <th>service_history</th>\n",
       "      <th>accident_history</th>\n",
       "      <th>fuel_efficiency</th>\n",
       "      <th>tire_condition</th>\n",
       "      <th>brake_condition</th>\n",
       "      <th>battery_status</th>\n",
       "      <th>need_maintenance</th>\n",
       "    </tr>\n",
       "  </thead>\n",
       "  <tbody>\n",
       "    <tr>\n",
       "      <th>0</th>\n",
       "      <td>Truck</td>\n",
       "      <td>58765</td>\n",
       "      <td>Good</td>\n",
       "      <td>0</td>\n",
       "      <td>4</td>\n",
       "      <td>Electric</td>\n",
       "      <td>Automatic</td>\n",
       "      <td>2000</td>\n",
       "      <td>28524</td>\n",
       "      <td>2023-11-23</td>\n",
       "      <td>2025-06-24</td>\n",
       "      <td>Second</td>\n",
       "      <td>20782.0</td>\n",
       "      <td>6</td>\n",
       "      <td>3</td>\n",
       "      <td>13.622204</td>\n",
       "      <td>New</td>\n",
       "      <td>New</td>\n",
       "      <td>Weak</td>\n",
       "      <td>1</td>\n",
       "    </tr>\n",
       "    <tr>\n",
       "      <th>1</th>\n",
       "      <td>Van</td>\n",
       "      <td>60353</td>\n",
       "      <td>Average</td>\n",
       "      <td>1</td>\n",
       "      <td>7</td>\n",
       "      <td>Electric</td>\n",
       "      <td>Automatic</td>\n",
       "      <td>2500</td>\n",
       "      <td>133630</td>\n",
       "      <td>2023-09-21</td>\n",
       "      <td>2025-06-04</td>\n",
       "      <td>Second</td>\n",
       "      <td>23489.0</td>\n",
       "      <td>7</td>\n",
       "      <td>0</td>\n",
       "      <td>13.625307</td>\n",
       "      <td>New</td>\n",
       "      <td>New</td>\n",
       "      <td>Weak</td>\n",
       "      <td>1</td>\n",
       "    </tr>\n",
       "    <tr>\n",
       "      <th>2</th>\n",
       "      <td>Bus</td>\n",
       "      <td>68072</td>\n",
       "      <td>Poor</td>\n",
       "      <td>0</td>\n",
       "      <td>2</td>\n",
       "      <td>Electric</td>\n",
       "      <td>Automatic</td>\n",
       "      <td>1500</td>\n",
       "      <td>34022</td>\n",
       "      <td>2023-06-27</td>\n",
       "      <td>2025-04-27</td>\n",
       "      <td>First</td>\n",
       "      <td>17979.0</td>\n",
       "      <td>7</td>\n",
       "      <td>0</td>\n",
       "      <td>14.306302</td>\n",
       "      <td>New</td>\n",
       "      <td>Good</td>\n",
       "      <td>Weak</td>\n",
       "      <td>1</td>\n",
       "    </tr>\n",
       "    <tr>\n",
       "      <th>3</th>\n",
       "      <td>Bus</td>\n",
       "      <td>60849</td>\n",
       "      <td>Average</td>\n",
       "      <td>4</td>\n",
       "      <td>5</td>\n",
       "      <td>Petrol</td>\n",
       "      <td>Automatic</td>\n",
       "      <td>2500</td>\n",
       "      <td>81636</td>\n",
       "      <td>2023-08-24</td>\n",
       "      <td>2025-11-05</td>\n",
       "      <td>Second</td>\n",
       "      <td>6220.0</td>\n",
       "      <td>7</td>\n",
       "      <td>3</td>\n",
       "      <td>18.709467</td>\n",
       "      <td>New</td>\n",
       "      <td>Worn Out</td>\n",
       "      <td>New</td>\n",
       "      <td>1</td>\n",
       "    </tr>\n",
       "    <tr>\n",
       "      <th>4</th>\n",
       "      <td>Bus</td>\n",
       "      <td>45742</td>\n",
       "      <td>Poor</td>\n",
       "      <td>5</td>\n",
       "      <td>1</td>\n",
       "      <td>Petrol</td>\n",
       "      <td>Manual</td>\n",
       "      <td>2000</td>\n",
       "      <td>97162</td>\n",
       "      <td>2023-05-25</td>\n",
       "      <td>2025-09-14</td>\n",
       "      <td>Third</td>\n",
       "      <td>16446.0</td>\n",
       "      <td>6</td>\n",
       "      <td>2</td>\n",
       "      <td>16.977483</td>\n",
       "      <td>Good</td>\n",
       "      <td>Good</td>\n",
       "      <td>Weak</td>\n",
       "      <td>1</td>\n",
       "    </tr>\n",
       "    <tr>\n",
       "      <th>...</th>\n",
       "      <td>...</td>\n",
       "      <td>...</td>\n",
       "      <td>...</td>\n",
       "      <td>...</td>\n",
       "      <td>...</td>\n",
       "      <td>...</td>\n",
       "      <td>...</td>\n",
       "      <td>...</td>\n",
       "      <td>...</td>\n",
       "      <td>...</td>\n",
       "      <td>...</td>\n",
       "      <td>...</td>\n",
       "      <td>...</td>\n",
       "      <td>...</td>\n",
       "      <td>...</td>\n",
       "      <td>...</td>\n",
       "      <td>...</td>\n",
       "      <td>...</td>\n",
       "      <td>...</td>\n",
       "      <td>...</td>\n",
       "    </tr>\n",
       "    <tr>\n",
       "      <th>49995</th>\n",
       "      <td>Car</td>\n",
       "      <td>77229</td>\n",
       "      <td>Good</td>\n",
       "      <td>3</td>\n",
       "      <td>6</td>\n",
       "      <td>Diesel</td>\n",
       "      <td>Automatic</td>\n",
       "      <td>2500</td>\n",
       "      <td>97404</td>\n",
       "      <td>2023-11-24</td>\n",
       "      <td>2025-09-15</td>\n",
       "      <td>Third</td>\n",
       "      <td>5217.0</td>\n",
       "      <td>4</td>\n",
       "      <td>1</td>\n",
       "      <td>10.357298</td>\n",
       "      <td>New</td>\n",
       "      <td>Good</td>\n",
       "      <td>Weak</td>\n",
       "      <td>1</td>\n",
       "    </tr>\n",
       "    <tr>\n",
       "      <th>49996</th>\n",
       "      <td>Truck</td>\n",
       "      <td>54742</td>\n",
       "      <td>Good</td>\n",
       "      <td>4</td>\n",
       "      <td>4</td>\n",
       "      <td>Diesel</td>\n",
       "      <td>Manual</td>\n",
       "      <td>800</td>\n",
       "      <td>13421</td>\n",
       "      <td>2023-07-14</td>\n",
       "      <td>2025-01-21</td>\n",
       "      <td>Second</td>\n",
       "      <td>15856.0</td>\n",
       "      <td>4</td>\n",
       "      <td>1</td>\n",
       "      <td>14.924022</td>\n",
       "      <td>Worn Out</td>\n",
       "      <td>New</td>\n",
       "      <td>Good</td>\n",
       "      <td>1</td>\n",
       "    </tr>\n",
       "    <tr>\n",
       "      <th>49997</th>\n",
       "      <td>Van</td>\n",
       "      <td>75601</td>\n",
       "      <td>Poor</td>\n",
       "      <td>0</td>\n",
       "      <td>4</td>\n",
       "      <td>Electric</td>\n",
       "      <td>Automatic</td>\n",
       "      <td>1500</td>\n",
       "      <td>124851</td>\n",
       "      <td>2023-09-09</td>\n",
       "      <td>2024-11-09</td>\n",
       "      <td>First</td>\n",
       "      <td>6019.0</td>\n",
       "      <td>10</td>\n",
       "      <td>0</td>\n",
       "      <td>19.859243</td>\n",
       "      <td>Worn Out</td>\n",
       "      <td>Worn Out</td>\n",
       "      <td>Weak</td>\n",
       "      <td>1</td>\n",
       "    </tr>\n",
       "    <tr>\n",
       "      <th>49998</th>\n",
       "      <td>Car</td>\n",
       "      <td>66181</td>\n",
       "      <td>Good</td>\n",
       "      <td>1</td>\n",
       "      <td>7</td>\n",
       "      <td>Electric</td>\n",
       "      <td>Manual</td>\n",
       "      <td>2500</td>\n",
       "      <td>103182</td>\n",
       "      <td>2023-08-26</td>\n",
       "      <td>2025-05-22</td>\n",
       "      <td>Third</td>\n",
       "      <td>5030.0</td>\n",
       "      <td>4</td>\n",
       "      <td>3</td>\n",
       "      <td>10.720555</td>\n",
       "      <td>New</td>\n",
       "      <td>Good</td>\n",
       "      <td>Weak</td>\n",
       "      <td>1</td>\n",
       "    </tr>\n",
       "    <tr>\n",
       "      <th>49999</th>\n",
       "      <td>Car</td>\n",
       "      <td>71605</td>\n",
       "      <td>Poor</td>\n",
       "      <td>0</td>\n",
       "      <td>10</td>\n",
       "      <td>Petrol</td>\n",
       "      <td>Manual</td>\n",
       "      <td>2000</td>\n",
       "      <td>65721</td>\n",
       "      <td>2023-07-25</td>\n",
       "      <td>2024-06-06</td>\n",
       "      <td>Third</td>\n",
       "      <td>9171.0</td>\n",
       "      <td>6</td>\n",
       "      <td>3</td>\n",
       "      <td>16.328945</td>\n",
       "      <td>Good</td>\n",
       "      <td>New</td>\n",
       "      <td>Good</td>\n",
       "      <td>0</td>\n",
       "    </tr>\n",
       "  </tbody>\n",
       "</table>\n",
       "<p>50000 rows × 20 columns</p>\n",
       "</div>"
      ],
      "text/plain": [
       "      vehicle_model  mileage maintenance_history  reported_issues  \\\n",
       "0             Truck    58765                Good                0   \n",
       "1               Van    60353             Average                1   \n",
       "2               Bus    68072                Poor                0   \n",
       "3               Bus    60849             Average                4   \n",
       "4               Bus    45742                Poor                5   \n",
       "...             ...      ...                 ...              ...   \n",
       "49995           Car    77229                Good                3   \n",
       "49996         Truck    54742                Good                4   \n",
       "49997           Van    75601                Poor                0   \n",
       "49998           Car    66181                Good                1   \n",
       "49999           Car    71605                Poor                0   \n",
       "\n",
       "       vehicle_age fuel_type transmission_type  engine_size  odometer_reading  \\\n",
       "0                4  Electric         Automatic         2000             28524   \n",
       "1                7  Electric         Automatic         2500            133630   \n",
       "2                2  Electric         Automatic         1500             34022   \n",
       "3                5    Petrol         Automatic         2500             81636   \n",
       "4                1    Petrol            Manual         2000             97162   \n",
       "...            ...       ...               ...          ...               ...   \n",
       "49995            6    Diesel         Automatic         2500             97404   \n",
       "49996            4    Diesel            Manual          800             13421   \n",
       "49997            4  Electric         Automatic         1500            124851   \n",
       "49998            7  Electric            Manual         2500            103182   \n",
       "49999           10    Petrol            Manual         2000             65721   \n",
       "\n",
       "      last_service_date warranty_expiry_date owner_type  insurance_premium  \\\n",
       "0            2023-11-23           2025-06-24     Second            20782.0   \n",
       "1            2023-09-21           2025-06-04     Second            23489.0   \n",
       "2            2023-06-27           2025-04-27      First            17979.0   \n",
       "3            2023-08-24           2025-11-05     Second             6220.0   \n",
       "4            2023-05-25           2025-09-14      Third            16446.0   \n",
       "...                 ...                  ...        ...                ...   \n",
       "49995        2023-11-24           2025-09-15      Third             5217.0   \n",
       "49996        2023-07-14           2025-01-21     Second            15856.0   \n",
       "49997        2023-09-09           2024-11-09      First             6019.0   \n",
       "49998        2023-08-26           2025-05-22      Third             5030.0   \n",
       "49999        2023-07-25           2024-06-06      Third             9171.0   \n",
       "\n",
       "       service_history  accident_history  fuel_efficiency tire_condition  \\\n",
       "0                    6                 3        13.622204            New   \n",
       "1                    7                 0        13.625307            New   \n",
       "2                    7                 0        14.306302            New   \n",
       "3                    7                 3        18.709467            New   \n",
       "4                    6                 2        16.977483           Good   \n",
       "...                ...               ...              ...            ...   \n",
       "49995                4                 1        10.357298            New   \n",
       "49996                4                 1        14.924022       Worn Out   \n",
       "49997               10                 0        19.859243       Worn Out   \n",
       "49998                4                 3        10.720555            New   \n",
       "49999                6                 3        16.328945           Good   \n",
       "\n",
       "      brake_condition battery_status  need_maintenance  \n",
       "0                 New           Weak                 1  \n",
       "1                 New           Weak                 1  \n",
       "2                Good           Weak                 1  \n",
       "3            Worn Out            New                 1  \n",
       "4                Good           Weak                 1  \n",
       "...               ...            ...               ...  \n",
       "49995            Good           Weak                 1  \n",
       "49996             New           Good                 1  \n",
       "49997        Worn Out           Weak                 1  \n",
       "49998            Good           Weak                 1  \n",
       "49999             New           Good                 0  \n",
       "\n",
       "[50000 rows x 20 columns]"
      ]
     },
     "execution_count": 3,
     "metadata": {},
     "output_type": "execute_result"
    }
   ],
   "source": [
    "df"
   ]
  },
  {
   "cell_type": "markdown",
   "metadata": {},
   "source": [
    "# DATA INGESTION"
   ]
  },
  {
   "cell_type": "markdown",
   "metadata": {},
   "source": [
    "# EDA"
   ]
  },
  {
   "cell_type": "markdown",
   "metadata": {},
   "source": [
    "DATA DESCRIPTION"
   ]
  },
  {
   "cell_type": "code",
   "execution_count": 4,
   "metadata": {},
   "outputs": [
    {
     "data": {
      "text/plain": [
       "(50000, 20)"
      ]
     },
     "execution_count": 4,
     "metadata": {},
     "output_type": "execute_result"
    }
   ],
   "source": [
    "df.shape"
   ]
  },
  {
   "cell_type": "code",
   "execution_count": 5,
   "metadata": {},
   "outputs": [
    {
     "data": {
      "text/html": [
       "<div>\n",
       "<style scoped>\n",
       "    .dataframe tbody tr th:only-of-type {\n",
       "        vertical-align: middle;\n",
       "    }\n",
       "\n",
       "    .dataframe tbody tr th {\n",
       "        vertical-align: top;\n",
       "    }\n",
       "\n",
       "    .dataframe thead th {\n",
       "        text-align: right;\n",
       "    }\n",
       "</style>\n",
       "<table border=\"1\" class=\"dataframe\">\n",
       "  <thead>\n",
       "    <tr style=\"text-align: right;\">\n",
       "      <th></th>\n",
       "      <th>vehicle_model</th>\n",
       "      <th>mileage</th>\n",
       "      <th>maintenance_history</th>\n",
       "      <th>reported_issues</th>\n",
       "      <th>vehicle_age</th>\n",
       "      <th>fuel_type</th>\n",
       "      <th>transmission_type</th>\n",
       "      <th>engine_size</th>\n",
       "      <th>odometer_reading</th>\n",
       "      <th>last_service_date</th>\n",
       "      <th>warranty_expiry_date</th>\n",
       "      <th>owner_type</th>\n",
       "      <th>insurance_premium</th>\n",
       "      <th>service_history</th>\n",
       "      <th>accident_history</th>\n",
       "      <th>fuel_efficiency</th>\n",
       "      <th>tire_condition</th>\n",
       "      <th>brake_condition</th>\n",
       "      <th>battery_status</th>\n",
       "      <th>need_maintenance</th>\n",
       "    </tr>\n",
       "  </thead>\n",
       "  <tbody>\n",
       "    <tr>\n",
       "      <th>0</th>\n",
       "      <td>Truck</td>\n",
       "      <td>58765</td>\n",
       "      <td>Good</td>\n",
       "      <td>0</td>\n",
       "      <td>4</td>\n",
       "      <td>Electric</td>\n",
       "      <td>Automatic</td>\n",
       "      <td>2000</td>\n",
       "      <td>28524</td>\n",
       "      <td>2023-11-23</td>\n",
       "      <td>2025-06-24</td>\n",
       "      <td>Second</td>\n",
       "      <td>20782.0</td>\n",
       "      <td>6</td>\n",
       "      <td>3</td>\n",
       "      <td>13.622204</td>\n",
       "      <td>New</td>\n",
       "      <td>New</td>\n",
       "      <td>Weak</td>\n",
       "      <td>1</td>\n",
       "    </tr>\n",
       "    <tr>\n",
       "      <th>1</th>\n",
       "      <td>Van</td>\n",
       "      <td>60353</td>\n",
       "      <td>Average</td>\n",
       "      <td>1</td>\n",
       "      <td>7</td>\n",
       "      <td>Electric</td>\n",
       "      <td>Automatic</td>\n",
       "      <td>2500</td>\n",
       "      <td>133630</td>\n",
       "      <td>2023-09-21</td>\n",
       "      <td>2025-06-04</td>\n",
       "      <td>Second</td>\n",
       "      <td>23489.0</td>\n",
       "      <td>7</td>\n",
       "      <td>0</td>\n",
       "      <td>13.625307</td>\n",
       "      <td>New</td>\n",
       "      <td>New</td>\n",
       "      <td>Weak</td>\n",
       "      <td>1</td>\n",
       "    </tr>\n",
       "    <tr>\n",
       "      <th>2</th>\n",
       "      <td>Bus</td>\n",
       "      <td>68072</td>\n",
       "      <td>Poor</td>\n",
       "      <td>0</td>\n",
       "      <td>2</td>\n",
       "      <td>Electric</td>\n",
       "      <td>Automatic</td>\n",
       "      <td>1500</td>\n",
       "      <td>34022</td>\n",
       "      <td>2023-06-27</td>\n",
       "      <td>2025-04-27</td>\n",
       "      <td>First</td>\n",
       "      <td>17979.0</td>\n",
       "      <td>7</td>\n",
       "      <td>0</td>\n",
       "      <td>14.306302</td>\n",
       "      <td>New</td>\n",
       "      <td>Good</td>\n",
       "      <td>Weak</td>\n",
       "      <td>1</td>\n",
       "    </tr>\n",
       "    <tr>\n",
       "      <th>3</th>\n",
       "      <td>Bus</td>\n",
       "      <td>60849</td>\n",
       "      <td>Average</td>\n",
       "      <td>4</td>\n",
       "      <td>5</td>\n",
       "      <td>Petrol</td>\n",
       "      <td>Automatic</td>\n",
       "      <td>2500</td>\n",
       "      <td>81636</td>\n",
       "      <td>2023-08-24</td>\n",
       "      <td>2025-11-05</td>\n",
       "      <td>Second</td>\n",
       "      <td>6220.0</td>\n",
       "      <td>7</td>\n",
       "      <td>3</td>\n",
       "      <td>18.709467</td>\n",
       "      <td>New</td>\n",
       "      <td>Worn Out</td>\n",
       "      <td>New</td>\n",
       "      <td>1</td>\n",
       "    </tr>\n",
       "    <tr>\n",
       "      <th>4</th>\n",
       "      <td>Bus</td>\n",
       "      <td>45742</td>\n",
       "      <td>Poor</td>\n",
       "      <td>5</td>\n",
       "      <td>1</td>\n",
       "      <td>Petrol</td>\n",
       "      <td>Manual</td>\n",
       "      <td>2000</td>\n",
       "      <td>97162</td>\n",
       "      <td>2023-05-25</td>\n",
       "      <td>2025-09-14</td>\n",
       "      <td>Third</td>\n",
       "      <td>16446.0</td>\n",
       "      <td>6</td>\n",
       "      <td>2</td>\n",
       "      <td>16.977483</td>\n",
       "      <td>Good</td>\n",
       "      <td>Good</td>\n",
       "      <td>Weak</td>\n",
       "      <td>1</td>\n",
       "    </tr>\n",
       "    <tr>\n",
       "      <th>...</th>\n",
       "      <td>...</td>\n",
       "      <td>...</td>\n",
       "      <td>...</td>\n",
       "      <td>...</td>\n",
       "      <td>...</td>\n",
       "      <td>...</td>\n",
       "      <td>...</td>\n",
       "      <td>...</td>\n",
       "      <td>...</td>\n",
       "      <td>...</td>\n",
       "      <td>...</td>\n",
       "      <td>...</td>\n",
       "      <td>...</td>\n",
       "      <td>...</td>\n",
       "      <td>...</td>\n",
       "      <td>...</td>\n",
       "      <td>...</td>\n",
       "      <td>...</td>\n",
       "      <td>...</td>\n",
       "      <td>...</td>\n",
       "    </tr>\n",
       "    <tr>\n",
       "      <th>49995</th>\n",
       "      <td>Car</td>\n",
       "      <td>77229</td>\n",
       "      <td>Good</td>\n",
       "      <td>3</td>\n",
       "      <td>6</td>\n",
       "      <td>Diesel</td>\n",
       "      <td>Automatic</td>\n",
       "      <td>2500</td>\n",
       "      <td>97404</td>\n",
       "      <td>2023-11-24</td>\n",
       "      <td>2025-09-15</td>\n",
       "      <td>Third</td>\n",
       "      <td>5217.0</td>\n",
       "      <td>4</td>\n",
       "      <td>1</td>\n",
       "      <td>10.357298</td>\n",
       "      <td>New</td>\n",
       "      <td>Good</td>\n",
       "      <td>Weak</td>\n",
       "      <td>1</td>\n",
       "    </tr>\n",
       "    <tr>\n",
       "      <th>49996</th>\n",
       "      <td>Truck</td>\n",
       "      <td>54742</td>\n",
       "      <td>Good</td>\n",
       "      <td>4</td>\n",
       "      <td>4</td>\n",
       "      <td>Diesel</td>\n",
       "      <td>Manual</td>\n",
       "      <td>800</td>\n",
       "      <td>13421</td>\n",
       "      <td>2023-07-14</td>\n",
       "      <td>2025-01-21</td>\n",
       "      <td>Second</td>\n",
       "      <td>15856.0</td>\n",
       "      <td>4</td>\n",
       "      <td>1</td>\n",
       "      <td>14.924022</td>\n",
       "      <td>Worn Out</td>\n",
       "      <td>New</td>\n",
       "      <td>Good</td>\n",
       "      <td>1</td>\n",
       "    </tr>\n",
       "    <tr>\n",
       "      <th>49997</th>\n",
       "      <td>Van</td>\n",
       "      <td>75601</td>\n",
       "      <td>Poor</td>\n",
       "      <td>0</td>\n",
       "      <td>4</td>\n",
       "      <td>Electric</td>\n",
       "      <td>Automatic</td>\n",
       "      <td>1500</td>\n",
       "      <td>124851</td>\n",
       "      <td>2023-09-09</td>\n",
       "      <td>2024-11-09</td>\n",
       "      <td>First</td>\n",
       "      <td>6019.0</td>\n",
       "      <td>10</td>\n",
       "      <td>0</td>\n",
       "      <td>19.859243</td>\n",
       "      <td>Worn Out</td>\n",
       "      <td>Worn Out</td>\n",
       "      <td>Weak</td>\n",
       "      <td>1</td>\n",
       "    </tr>\n",
       "    <tr>\n",
       "      <th>49998</th>\n",
       "      <td>Car</td>\n",
       "      <td>66181</td>\n",
       "      <td>Good</td>\n",
       "      <td>1</td>\n",
       "      <td>7</td>\n",
       "      <td>Electric</td>\n",
       "      <td>Manual</td>\n",
       "      <td>2500</td>\n",
       "      <td>103182</td>\n",
       "      <td>2023-08-26</td>\n",
       "      <td>2025-05-22</td>\n",
       "      <td>Third</td>\n",
       "      <td>5030.0</td>\n",
       "      <td>4</td>\n",
       "      <td>3</td>\n",
       "      <td>10.720555</td>\n",
       "      <td>New</td>\n",
       "      <td>Good</td>\n",
       "      <td>Weak</td>\n",
       "      <td>1</td>\n",
       "    </tr>\n",
       "    <tr>\n",
       "      <th>49999</th>\n",
       "      <td>Car</td>\n",
       "      <td>71605</td>\n",
       "      <td>Poor</td>\n",
       "      <td>0</td>\n",
       "      <td>10</td>\n",
       "      <td>Petrol</td>\n",
       "      <td>Manual</td>\n",
       "      <td>2000</td>\n",
       "      <td>65721</td>\n",
       "      <td>2023-07-25</td>\n",
       "      <td>2024-06-06</td>\n",
       "      <td>Third</td>\n",
       "      <td>9171.0</td>\n",
       "      <td>6</td>\n",
       "      <td>3</td>\n",
       "      <td>16.328945</td>\n",
       "      <td>Good</td>\n",
       "      <td>New</td>\n",
       "      <td>Good</td>\n",
       "      <td>0</td>\n",
       "    </tr>\n",
       "  </tbody>\n",
       "</table>\n",
       "<p>50000 rows × 20 columns</p>\n",
       "</div>"
      ],
      "text/plain": [
       "      vehicle_model  mileage maintenance_history  reported_issues  \\\n",
       "0             Truck    58765                Good                0   \n",
       "1               Van    60353             Average                1   \n",
       "2               Bus    68072                Poor                0   \n",
       "3               Bus    60849             Average                4   \n",
       "4               Bus    45742                Poor                5   \n",
       "...             ...      ...                 ...              ...   \n",
       "49995           Car    77229                Good                3   \n",
       "49996         Truck    54742                Good                4   \n",
       "49997           Van    75601                Poor                0   \n",
       "49998           Car    66181                Good                1   \n",
       "49999           Car    71605                Poor                0   \n",
       "\n",
       "       vehicle_age fuel_type transmission_type  engine_size  odometer_reading  \\\n",
       "0                4  Electric         Automatic         2000             28524   \n",
       "1                7  Electric         Automatic         2500            133630   \n",
       "2                2  Electric         Automatic         1500             34022   \n",
       "3                5    Petrol         Automatic         2500             81636   \n",
       "4                1    Petrol            Manual         2000             97162   \n",
       "...            ...       ...               ...          ...               ...   \n",
       "49995            6    Diesel         Automatic         2500             97404   \n",
       "49996            4    Diesel            Manual          800             13421   \n",
       "49997            4  Electric         Automatic         1500            124851   \n",
       "49998            7  Electric            Manual         2500            103182   \n",
       "49999           10    Petrol            Manual         2000             65721   \n",
       "\n",
       "      last_service_date warranty_expiry_date owner_type  insurance_premium  \\\n",
       "0            2023-11-23           2025-06-24     Second            20782.0   \n",
       "1            2023-09-21           2025-06-04     Second            23489.0   \n",
       "2            2023-06-27           2025-04-27      First            17979.0   \n",
       "3            2023-08-24           2025-11-05     Second             6220.0   \n",
       "4            2023-05-25           2025-09-14      Third            16446.0   \n",
       "...                 ...                  ...        ...                ...   \n",
       "49995        2023-11-24           2025-09-15      Third             5217.0   \n",
       "49996        2023-07-14           2025-01-21     Second            15856.0   \n",
       "49997        2023-09-09           2024-11-09      First             6019.0   \n",
       "49998        2023-08-26           2025-05-22      Third             5030.0   \n",
       "49999        2023-07-25           2024-06-06      Third             9171.0   \n",
       "\n",
       "       service_history  accident_history  fuel_efficiency tire_condition  \\\n",
       "0                    6                 3        13.622204            New   \n",
       "1                    7                 0        13.625307            New   \n",
       "2                    7                 0        14.306302            New   \n",
       "3                    7                 3        18.709467            New   \n",
       "4                    6                 2        16.977483           Good   \n",
       "...                ...               ...              ...            ...   \n",
       "49995                4                 1        10.357298            New   \n",
       "49996                4                 1        14.924022       Worn Out   \n",
       "49997               10                 0        19.859243       Worn Out   \n",
       "49998                4                 3        10.720555            New   \n",
       "49999                6                 3        16.328945           Good   \n",
       "\n",
       "      brake_condition battery_status  need_maintenance  \n",
       "0                 New           Weak                 1  \n",
       "1                 New           Weak                 1  \n",
       "2                Good           Weak                 1  \n",
       "3            Worn Out            New                 1  \n",
       "4                Good           Weak                 1  \n",
       "...               ...            ...               ...  \n",
       "49995            Good           Weak                 1  \n",
       "49996             New           Good                 1  \n",
       "49997        Worn Out           Weak                 1  \n",
       "49998            Good           Weak                 1  \n",
       "49999             New           Good                 0  \n",
       "\n",
       "[50000 rows x 20 columns]"
      ]
     },
     "execution_count": 5,
     "metadata": {},
     "output_type": "execute_result"
    }
   ],
   "source": [
    "df"
   ]
  },
  {
   "cell_type": "code",
   "execution_count": 6,
   "metadata": {},
   "outputs": [
    {
     "data": {
      "text/plain": [
       "vehicle_model           0\n",
       "mileage                 0\n",
       "maintenance_history     0\n",
       "reported_issues         0\n",
       "vehicle_age             0\n",
       "fuel_type               0\n",
       "transmission_type       0\n",
       "engine_size             0\n",
       "odometer_reading        0\n",
       "last_service_date       0\n",
       "warranty_expiry_date    0\n",
       "owner_type              0\n",
       "insurance_premium       0\n",
       "service_history         0\n",
       "accident_history        0\n",
       "fuel_efficiency         0\n",
       "tire_condition          0\n",
       "brake_condition         0\n",
       "battery_status          0\n",
       "need_maintenance        0\n",
       "dtype: int64"
      ]
     },
     "execution_count": 6,
     "metadata": {},
     "output_type": "execute_result"
    }
   ],
   "source": [
    "df.isnull().sum()"
   ]
  },
  {
   "cell_type": "code",
   "execution_count": 7,
   "metadata": {},
   "outputs": [
    {
     "data": {
      "text/html": [
       "<div>\n",
       "<style scoped>\n",
       "    .dataframe tbody tr th:only-of-type {\n",
       "        vertical-align: middle;\n",
       "    }\n",
       "\n",
       "    .dataframe tbody tr th {\n",
       "        vertical-align: top;\n",
       "    }\n",
       "\n",
       "    .dataframe thead th {\n",
       "        text-align: right;\n",
       "    }\n",
       "</style>\n",
       "<table border=\"1\" class=\"dataframe\">\n",
       "  <thead>\n",
       "    <tr style=\"text-align: right;\">\n",
       "      <th></th>\n",
       "      <th>vehicle_model</th>\n",
       "      <th>mileage</th>\n",
       "      <th>maintenance_history</th>\n",
       "      <th>reported_issues</th>\n",
       "      <th>vehicle_age</th>\n",
       "      <th>fuel_type</th>\n",
       "      <th>transmission_type</th>\n",
       "      <th>engine_size</th>\n",
       "      <th>odometer_reading</th>\n",
       "      <th>last_service_date</th>\n",
       "      <th>warranty_expiry_date</th>\n",
       "      <th>owner_type</th>\n",
       "      <th>insurance_premium</th>\n",
       "      <th>service_history</th>\n",
       "      <th>accident_history</th>\n",
       "      <th>fuel_efficiency</th>\n",
       "      <th>tire_condition</th>\n",
       "      <th>brake_condition</th>\n",
       "      <th>battery_status</th>\n",
       "      <th>need_maintenance</th>\n",
       "    </tr>\n",
       "  </thead>\n",
       "  <tbody>\n",
       "    <tr>\n",
       "      <th>0</th>\n",
       "      <td>Truck</td>\n",
       "      <td>58765</td>\n",
       "      <td>Good</td>\n",
       "      <td>0</td>\n",
       "      <td>4</td>\n",
       "      <td>Electric</td>\n",
       "      <td>Automatic</td>\n",
       "      <td>2000</td>\n",
       "      <td>28524</td>\n",
       "      <td>2023-11-23</td>\n",
       "      <td>2025-06-24</td>\n",
       "      <td>Second</td>\n",
       "      <td>20782.0</td>\n",
       "      <td>6</td>\n",
       "      <td>3</td>\n",
       "      <td>13.622204</td>\n",
       "      <td>New</td>\n",
       "      <td>New</td>\n",
       "      <td>Weak</td>\n",
       "      <td>1</td>\n",
       "    </tr>\n",
       "    <tr>\n",
       "      <th>1</th>\n",
       "      <td>Van</td>\n",
       "      <td>60353</td>\n",
       "      <td>Average</td>\n",
       "      <td>1</td>\n",
       "      <td>7</td>\n",
       "      <td>Electric</td>\n",
       "      <td>Automatic</td>\n",
       "      <td>2500</td>\n",
       "      <td>133630</td>\n",
       "      <td>2023-09-21</td>\n",
       "      <td>2025-06-04</td>\n",
       "      <td>Second</td>\n",
       "      <td>23489.0</td>\n",
       "      <td>7</td>\n",
       "      <td>0</td>\n",
       "      <td>13.625307</td>\n",
       "      <td>New</td>\n",
       "      <td>New</td>\n",
       "      <td>Weak</td>\n",
       "      <td>1</td>\n",
       "    </tr>\n",
       "    <tr>\n",
       "      <th>2</th>\n",
       "      <td>Bus</td>\n",
       "      <td>68072</td>\n",
       "      <td>Poor</td>\n",
       "      <td>0</td>\n",
       "      <td>2</td>\n",
       "      <td>Electric</td>\n",
       "      <td>Automatic</td>\n",
       "      <td>1500</td>\n",
       "      <td>34022</td>\n",
       "      <td>2023-06-27</td>\n",
       "      <td>2025-04-27</td>\n",
       "      <td>First</td>\n",
       "      <td>17979.0</td>\n",
       "      <td>7</td>\n",
       "      <td>0</td>\n",
       "      <td>14.306302</td>\n",
       "      <td>New</td>\n",
       "      <td>Good</td>\n",
       "      <td>Weak</td>\n",
       "      <td>1</td>\n",
       "    </tr>\n",
       "    <tr>\n",
       "      <th>3</th>\n",
       "      <td>Bus</td>\n",
       "      <td>60849</td>\n",
       "      <td>Average</td>\n",
       "      <td>4</td>\n",
       "      <td>5</td>\n",
       "      <td>Petrol</td>\n",
       "      <td>Automatic</td>\n",
       "      <td>2500</td>\n",
       "      <td>81636</td>\n",
       "      <td>2023-08-24</td>\n",
       "      <td>2025-11-05</td>\n",
       "      <td>Second</td>\n",
       "      <td>6220.0</td>\n",
       "      <td>7</td>\n",
       "      <td>3</td>\n",
       "      <td>18.709467</td>\n",
       "      <td>New</td>\n",
       "      <td>Worn Out</td>\n",
       "      <td>New</td>\n",
       "      <td>1</td>\n",
       "    </tr>\n",
       "    <tr>\n",
       "      <th>4</th>\n",
       "      <td>Bus</td>\n",
       "      <td>45742</td>\n",
       "      <td>Poor</td>\n",
       "      <td>5</td>\n",
       "      <td>1</td>\n",
       "      <td>Petrol</td>\n",
       "      <td>Manual</td>\n",
       "      <td>2000</td>\n",
       "      <td>97162</td>\n",
       "      <td>2023-05-25</td>\n",
       "      <td>2025-09-14</td>\n",
       "      <td>Third</td>\n",
       "      <td>16446.0</td>\n",
       "      <td>6</td>\n",
       "      <td>2</td>\n",
       "      <td>16.977483</td>\n",
       "      <td>Good</td>\n",
       "      <td>Good</td>\n",
       "      <td>Weak</td>\n",
       "      <td>1</td>\n",
       "    </tr>\n",
       "    <tr>\n",
       "      <th>...</th>\n",
       "      <td>...</td>\n",
       "      <td>...</td>\n",
       "      <td>...</td>\n",
       "      <td>...</td>\n",
       "      <td>...</td>\n",
       "      <td>...</td>\n",
       "      <td>...</td>\n",
       "      <td>...</td>\n",
       "      <td>...</td>\n",
       "      <td>...</td>\n",
       "      <td>...</td>\n",
       "      <td>...</td>\n",
       "      <td>...</td>\n",
       "      <td>...</td>\n",
       "      <td>...</td>\n",
       "      <td>...</td>\n",
       "      <td>...</td>\n",
       "      <td>...</td>\n",
       "      <td>...</td>\n",
       "      <td>...</td>\n",
       "    </tr>\n",
       "    <tr>\n",
       "      <th>49995</th>\n",
       "      <td>Car</td>\n",
       "      <td>77229</td>\n",
       "      <td>Good</td>\n",
       "      <td>3</td>\n",
       "      <td>6</td>\n",
       "      <td>Diesel</td>\n",
       "      <td>Automatic</td>\n",
       "      <td>2500</td>\n",
       "      <td>97404</td>\n",
       "      <td>2023-11-24</td>\n",
       "      <td>2025-09-15</td>\n",
       "      <td>Third</td>\n",
       "      <td>5217.0</td>\n",
       "      <td>4</td>\n",
       "      <td>1</td>\n",
       "      <td>10.357298</td>\n",
       "      <td>New</td>\n",
       "      <td>Good</td>\n",
       "      <td>Weak</td>\n",
       "      <td>1</td>\n",
       "    </tr>\n",
       "    <tr>\n",
       "      <th>49996</th>\n",
       "      <td>Truck</td>\n",
       "      <td>54742</td>\n",
       "      <td>Good</td>\n",
       "      <td>4</td>\n",
       "      <td>4</td>\n",
       "      <td>Diesel</td>\n",
       "      <td>Manual</td>\n",
       "      <td>800</td>\n",
       "      <td>13421</td>\n",
       "      <td>2023-07-14</td>\n",
       "      <td>2025-01-21</td>\n",
       "      <td>Second</td>\n",
       "      <td>15856.0</td>\n",
       "      <td>4</td>\n",
       "      <td>1</td>\n",
       "      <td>14.924022</td>\n",
       "      <td>Worn Out</td>\n",
       "      <td>New</td>\n",
       "      <td>Good</td>\n",
       "      <td>1</td>\n",
       "    </tr>\n",
       "    <tr>\n",
       "      <th>49997</th>\n",
       "      <td>Van</td>\n",
       "      <td>75601</td>\n",
       "      <td>Poor</td>\n",
       "      <td>0</td>\n",
       "      <td>4</td>\n",
       "      <td>Electric</td>\n",
       "      <td>Automatic</td>\n",
       "      <td>1500</td>\n",
       "      <td>124851</td>\n",
       "      <td>2023-09-09</td>\n",
       "      <td>2024-11-09</td>\n",
       "      <td>First</td>\n",
       "      <td>6019.0</td>\n",
       "      <td>10</td>\n",
       "      <td>0</td>\n",
       "      <td>19.859243</td>\n",
       "      <td>Worn Out</td>\n",
       "      <td>Worn Out</td>\n",
       "      <td>Weak</td>\n",
       "      <td>1</td>\n",
       "    </tr>\n",
       "    <tr>\n",
       "      <th>49998</th>\n",
       "      <td>Car</td>\n",
       "      <td>66181</td>\n",
       "      <td>Good</td>\n",
       "      <td>1</td>\n",
       "      <td>7</td>\n",
       "      <td>Electric</td>\n",
       "      <td>Manual</td>\n",
       "      <td>2500</td>\n",
       "      <td>103182</td>\n",
       "      <td>2023-08-26</td>\n",
       "      <td>2025-05-22</td>\n",
       "      <td>Third</td>\n",
       "      <td>5030.0</td>\n",
       "      <td>4</td>\n",
       "      <td>3</td>\n",
       "      <td>10.720555</td>\n",
       "      <td>New</td>\n",
       "      <td>Good</td>\n",
       "      <td>Weak</td>\n",
       "      <td>1</td>\n",
       "    </tr>\n",
       "    <tr>\n",
       "      <th>49999</th>\n",
       "      <td>Car</td>\n",
       "      <td>71605</td>\n",
       "      <td>Poor</td>\n",
       "      <td>0</td>\n",
       "      <td>10</td>\n",
       "      <td>Petrol</td>\n",
       "      <td>Manual</td>\n",
       "      <td>2000</td>\n",
       "      <td>65721</td>\n",
       "      <td>2023-07-25</td>\n",
       "      <td>2024-06-06</td>\n",
       "      <td>Third</td>\n",
       "      <td>9171.0</td>\n",
       "      <td>6</td>\n",
       "      <td>3</td>\n",
       "      <td>16.328945</td>\n",
       "      <td>Good</td>\n",
       "      <td>New</td>\n",
       "      <td>Good</td>\n",
       "      <td>0</td>\n",
       "    </tr>\n",
       "  </tbody>\n",
       "</table>\n",
       "<p>50000 rows × 20 columns</p>\n",
       "</div>"
      ],
      "text/plain": [
       "      vehicle_model  mileage maintenance_history  reported_issues  \\\n",
       "0             Truck    58765                Good                0   \n",
       "1               Van    60353             Average                1   \n",
       "2               Bus    68072                Poor                0   \n",
       "3               Bus    60849             Average                4   \n",
       "4               Bus    45742                Poor                5   \n",
       "...             ...      ...                 ...              ...   \n",
       "49995           Car    77229                Good                3   \n",
       "49996         Truck    54742                Good                4   \n",
       "49997           Van    75601                Poor                0   \n",
       "49998           Car    66181                Good                1   \n",
       "49999           Car    71605                Poor                0   \n",
       "\n",
       "       vehicle_age fuel_type transmission_type  engine_size  odometer_reading  \\\n",
       "0                4  Electric         Automatic         2000             28524   \n",
       "1                7  Electric         Automatic         2500            133630   \n",
       "2                2  Electric         Automatic         1500             34022   \n",
       "3                5    Petrol         Automatic         2500             81636   \n",
       "4                1    Petrol            Manual         2000             97162   \n",
       "...            ...       ...               ...          ...               ...   \n",
       "49995            6    Diesel         Automatic         2500             97404   \n",
       "49996            4    Diesel            Manual          800             13421   \n",
       "49997            4  Electric         Automatic         1500            124851   \n",
       "49998            7  Electric            Manual         2500            103182   \n",
       "49999           10    Petrol            Manual         2000             65721   \n",
       "\n",
       "      last_service_date warranty_expiry_date owner_type  insurance_premium  \\\n",
       "0            2023-11-23           2025-06-24     Second            20782.0   \n",
       "1            2023-09-21           2025-06-04     Second            23489.0   \n",
       "2            2023-06-27           2025-04-27      First            17979.0   \n",
       "3            2023-08-24           2025-11-05     Second             6220.0   \n",
       "4            2023-05-25           2025-09-14      Third            16446.0   \n",
       "...                 ...                  ...        ...                ...   \n",
       "49995        2023-11-24           2025-09-15      Third             5217.0   \n",
       "49996        2023-07-14           2025-01-21     Second            15856.0   \n",
       "49997        2023-09-09           2024-11-09      First             6019.0   \n",
       "49998        2023-08-26           2025-05-22      Third             5030.0   \n",
       "49999        2023-07-25           2024-06-06      Third             9171.0   \n",
       "\n",
       "       service_history  accident_history  fuel_efficiency tire_condition  \\\n",
       "0                    6                 3        13.622204            New   \n",
       "1                    7                 0        13.625307            New   \n",
       "2                    7                 0        14.306302            New   \n",
       "3                    7                 3        18.709467            New   \n",
       "4                    6                 2        16.977483           Good   \n",
       "...                ...               ...              ...            ...   \n",
       "49995                4                 1        10.357298            New   \n",
       "49996                4                 1        14.924022       Worn Out   \n",
       "49997               10                 0        19.859243       Worn Out   \n",
       "49998                4                 3        10.720555            New   \n",
       "49999                6                 3        16.328945           Good   \n",
       "\n",
       "      brake_condition battery_status  need_maintenance  \n",
       "0                 New           Weak                 1  \n",
       "1                 New           Weak                 1  \n",
       "2                Good           Weak                 1  \n",
       "3            Worn Out            New                 1  \n",
       "4                Good           Weak                 1  \n",
       "...               ...            ...               ...  \n",
       "49995            Good           Weak                 1  \n",
       "49996             New           Good                 1  \n",
       "49997        Worn Out           Weak                 1  \n",
       "49998            Good           Weak                 1  \n",
       "49999             New           Good                 0  \n",
       "\n",
       "[50000 rows x 20 columns]"
      ]
     },
     "execution_count": 7,
     "metadata": {},
     "output_type": "execute_result"
    }
   ],
   "source": [
    "df.drop_duplicates()"
   ]
  },
  {
   "cell_type": "code",
   "execution_count": 8,
   "metadata": {},
   "outputs": [
    {
     "data": {
      "text/html": [
       "<div>\n",
       "<style scoped>\n",
       "    .dataframe tbody tr th:only-of-type {\n",
       "        vertical-align: middle;\n",
       "    }\n",
       "\n",
       "    .dataframe tbody tr th {\n",
       "        vertical-align: top;\n",
       "    }\n",
       "\n",
       "    .dataframe thead th {\n",
       "        text-align: right;\n",
       "    }\n",
       "</style>\n",
       "<table border=\"1\" class=\"dataframe\">\n",
       "  <thead>\n",
       "    <tr style=\"text-align: right;\">\n",
       "      <th></th>\n",
       "      <th>vehicle_model</th>\n",
       "      <th>mileage</th>\n",
       "      <th>maintenance_history</th>\n",
       "      <th>reported_issues</th>\n",
       "      <th>vehicle_age</th>\n",
       "      <th>fuel_type</th>\n",
       "      <th>transmission_type</th>\n",
       "      <th>engine_size</th>\n",
       "      <th>odometer_reading</th>\n",
       "      <th>last_service_date</th>\n",
       "      <th>warranty_expiry_date</th>\n",
       "      <th>owner_type</th>\n",
       "      <th>insurance_premium</th>\n",
       "      <th>service_history</th>\n",
       "      <th>accident_history</th>\n",
       "      <th>fuel_efficiency</th>\n",
       "      <th>tire_condition</th>\n",
       "      <th>brake_condition</th>\n",
       "      <th>battery_status</th>\n",
       "      <th>need_maintenance</th>\n",
       "    </tr>\n",
       "  </thead>\n",
       "  <tbody>\n",
       "    <tr>\n",
       "      <th>0</th>\n",
       "      <td>Truck</td>\n",
       "      <td>58765</td>\n",
       "      <td>Good</td>\n",
       "      <td>0</td>\n",
       "      <td>4</td>\n",
       "      <td>Electric</td>\n",
       "      <td>Automatic</td>\n",
       "      <td>2000</td>\n",
       "      <td>28524</td>\n",
       "      <td>2023-11-23</td>\n",
       "      <td>2025-06-24</td>\n",
       "      <td>Second</td>\n",
       "      <td>20782.0</td>\n",
       "      <td>6</td>\n",
       "      <td>3</td>\n",
       "      <td>13.622204</td>\n",
       "      <td>New</td>\n",
       "      <td>New</td>\n",
       "      <td>Weak</td>\n",
       "      <td>1</td>\n",
       "    </tr>\n",
       "    <tr>\n",
       "      <th>1</th>\n",
       "      <td>Van</td>\n",
       "      <td>60353</td>\n",
       "      <td>Average</td>\n",
       "      <td>1</td>\n",
       "      <td>7</td>\n",
       "      <td>Electric</td>\n",
       "      <td>Automatic</td>\n",
       "      <td>2500</td>\n",
       "      <td>133630</td>\n",
       "      <td>2023-09-21</td>\n",
       "      <td>2025-06-04</td>\n",
       "      <td>Second</td>\n",
       "      <td>23489.0</td>\n",
       "      <td>7</td>\n",
       "      <td>0</td>\n",
       "      <td>13.625307</td>\n",
       "      <td>New</td>\n",
       "      <td>New</td>\n",
       "      <td>Weak</td>\n",
       "      <td>1</td>\n",
       "    </tr>\n",
       "    <tr>\n",
       "      <th>2</th>\n",
       "      <td>Bus</td>\n",
       "      <td>68072</td>\n",
       "      <td>Poor</td>\n",
       "      <td>0</td>\n",
       "      <td>2</td>\n",
       "      <td>Electric</td>\n",
       "      <td>Automatic</td>\n",
       "      <td>1500</td>\n",
       "      <td>34022</td>\n",
       "      <td>2023-06-27</td>\n",
       "      <td>2025-04-27</td>\n",
       "      <td>First</td>\n",
       "      <td>17979.0</td>\n",
       "      <td>7</td>\n",
       "      <td>0</td>\n",
       "      <td>14.306302</td>\n",
       "      <td>New</td>\n",
       "      <td>Good</td>\n",
       "      <td>Weak</td>\n",
       "      <td>1</td>\n",
       "    </tr>\n",
       "    <tr>\n",
       "      <th>3</th>\n",
       "      <td>Bus</td>\n",
       "      <td>60849</td>\n",
       "      <td>Average</td>\n",
       "      <td>4</td>\n",
       "      <td>5</td>\n",
       "      <td>Petrol</td>\n",
       "      <td>Automatic</td>\n",
       "      <td>2500</td>\n",
       "      <td>81636</td>\n",
       "      <td>2023-08-24</td>\n",
       "      <td>2025-11-05</td>\n",
       "      <td>Second</td>\n",
       "      <td>6220.0</td>\n",
       "      <td>7</td>\n",
       "      <td>3</td>\n",
       "      <td>18.709467</td>\n",
       "      <td>New</td>\n",
       "      <td>Worn Out</td>\n",
       "      <td>New</td>\n",
       "      <td>1</td>\n",
       "    </tr>\n",
       "    <tr>\n",
       "      <th>4</th>\n",
       "      <td>Bus</td>\n",
       "      <td>45742</td>\n",
       "      <td>Poor</td>\n",
       "      <td>5</td>\n",
       "      <td>1</td>\n",
       "      <td>Petrol</td>\n",
       "      <td>Manual</td>\n",
       "      <td>2000</td>\n",
       "      <td>97162</td>\n",
       "      <td>2023-05-25</td>\n",
       "      <td>2025-09-14</td>\n",
       "      <td>Third</td>\n",
       "      <td>16446.0</td>\n",
       "      <td>6</td>\n",
       "      <td>2</td>\n",
       "      <td>16.977483</td>\n",
       "      <td>Good</td>\n",
       "      <td>Good</td>\n",
       "      <td>Weak</td>\n",
       "      <td>1</td>\n",
       "    </tr>\n",
       "    <tr>\n",
       "      <th>...</th>\n",
       "      <td>...</td>\n",
       "      <td>...</td>\n",
       "      <td>...</td>\n",
       "      <td>...</td>\n",
       "      <td>...</td>\n",
       "      <td>...</td>\n",
       "      <td>...</td>\n",
       "      <td>...</td>\n",
       "      <td>...</td>\n",
       "      <td>...</td>\n",
       "      <td>...</td>\n",
       "      <td>...</td>\n",
       "      <td>...</td>\n",
       "      <td>...</td>\n",
       "      <td>...</td>\n",
       "      <td>...</td>\n",
       "      <td>...</td>\n",
       "      <td>...</td>\n",
       "      <td>...</td>\n",
       "      <td>...</td>\n",
       "    </tr>\n",
       "    <tr>\n",
       "      <th>49995</th>\n",
       "      <td>Car</td>\n",
       "      <td>77229</td>\n",
       "      <td>Good</td>\n",
       "      <td>3</td>\n",
       "      <td>6</td>\n",
       "      <td>Diesel</td>\n",
       "      <td>Automatic</td>\n",
       "      <td>2500</td>\n",
       "      <td>97404</td>\n",
       "      <td>2023-11-24</td>\n",
       "      <td>2025-09-15</td>\n",
       "      <td>Third</td>\n",
       "      <td>5217.0</td>\n",
       "      <td>4</td>\n",
       "      <td>1</td>\n",
       "      <td>10.357298</td>\n",
       "      <td>New</td>\n",
       "      <td>Good</td>\n",
       "      <td>Weak</td>\n",
       "      <td>1</td>\n",
       "    </tr>\n",
       "    <tr>\n",
       "      <th>49996</th>\n",
       "      <td>Truck</td>\n",
       "      <td>54742</td>\n",
       "      <td>Good</td>\n",
       "      <td>4</td>\n",
       "      <td>4</td>\n",
       "      <td>Diesel</td>\n",
       "      <td>Manual</td>\n",
       "      <td>800</td>\n",
       "      <td>13421</td>\n",
       "      <td>2023-07-14</td>\n",
       "      <td>2025-01-21</td>\n",
       "      <td>Second</td>\n",
       "      <td>15856.0</td>\n",
       "      <td>4</td>\n",
       "      <td>1</td>\n",
       "      <td>14.924022</td>\n",
       "      <td>Worn Out</td>\n",
       "      <td>New</td>\n",
       "      <td>Good</td>\n",
       "      <td>1</td>\n",
       "    </tr>\n",
       "    <tr>\n",
       "      <th>49997</th>\n",
       "      <td>Van</td>\n",
       "      <td>75601</td>\n",
       "      <td>Poor</td>\n",
       "      <td>0</td>\n",
       "      <td>4</td>\n",
       "      <td>Electric</td>\n",
       "      <td>Automatic</td>\n",
       "      <td>1500</td>\n",
       "      <td>124851</td>\n",
       "      <td>2023-09-09</td>\n",
       "      <td>2024-11-09</td>\n",
       "      <td>First</td>\n",
       "      <td>6019.0</td>\n",
       "      <td>10</td>\n",
       "      <td>0</td>\n",
       "      <td>19.859243</td>\n",
       "      <td>Worn Out</td>\n",
       "      <td>Worn Out</td>\n",
       "      <td>Weak</td>\n",
       "      <td>1</td>\n",
       "    </tr>\n",
       "    <tr>\n",
       "      <th>49998</th>\n",
       "      <td>Car</td>\n",
       "      <td>66181</td>\n",
       "      <td>Good</td>\n",
       "      <td>1</td>\n",
       "      <td>7</td>\n",
       "      <td>Electric</td>\n",
       "      <td>Manual</td>\n",
       "      <td>2500</td>\n",
       "      <td>103182</td>\n",
       "      <td>2023-08-26</td>\n",
       "      <td>2025-05-22</td>\n",
       "      <td>Third</td>\n",
       "      <td>5030.0</td>\n",
       "      <td>4</td>\n",
       "      <td>3</td>\n",
       "      <td>10.720555</td>\n",
       "      <td>New</td>\n",
       "      <td>Good</td>\n",
       "      <td>Weak</td>\n",
       "      <td>1</td>\n",
       "    </tr>\n",
       "    <tr>\n",
       "      <th>49999</th>\n",
       "      <td>Car</td>\n",
       "      <td>71605</td>\n",
       "      <td>Poor</td>\n",
       "      <td>0</td>\n",
       "      <td>10</td>\n",
       "      <td>Petrol</td>\n",
       "      <td>Manual</td>\n",
       "      <td>2000</td>\n",
       "      <td>65721</td>\n",
       "      <td>2023-07-25</td>\n",
       "      <td>2024-06-06</td>\n",
       "      <td>Third</td>\n",
       "      <td>9171.0</td>\n",
       "      <td>6</td>\n",
       "      <td>3</td>\n",
       "      <td>16.328945</td>\n",
       "      <td>Good</td>\n",
       "      <td>New</td>\n",
       "      <td>Good</td>\n",
       "      <td>0</td>\n",
       "    </tr>\n",
       "  </tbody>\n",
       "</table>\n",
       "<p>50000 rows × 20 columns</p>\n",
       "</div>"
      ],
      "text/plain": [
       "      vehicle_model  mileage maintenance_history  reported_issues  \\\n",
       "0             Truck    58765                Good                0   \n",
       "1               Van    60353             Average                1   \n",
       "2               Bus    68072                Poor                0   \n",
       "3               Bus    60849             Average                4   \n",
       "4               Bus    45742                Poor                5   \n",
       "...             ...      ...                 ...              ...   \n",
       "49995           Car    77229                Good                3   \n",
       "49996         Truck    54742                Good                4   \n",
       "49997           Van    75601                Poor                0   \n",
       "49998           Car    66181                Good                1   \n",
       "49999           Car    71605                Poor                0   \n",
       "\n",
       "       vehicle_age fuel_type transmission_type  engine_size  odometer_reading  \\\n",
       "0                4  Electric         Automatic         2000             28524   \n",
       "1                7  Electric         Automatic         2500            133630   \n",
       "2                2  Electric         Automatic         1500             34022   \n",
       "3                5    Petrol         Automatic         2500             81636   \n",
       "4                1    Petrol            Manual         2000             97162   \n",
       "...            ...       ...               ...          ...               ...   \n",
       "49995            6    Diesel         Automatic         2500             97404   \n",
       "49996            4    Diesel            Manual          800             13421   \n",
       "49997            4  Electric         Automatic         1500            124851   \n",
       "49998            7  Electric            Manual         2500            103182   \n",
       "49999           10    Petrol            Manual         2000             65721   \n",
       "\n",
       "      last_service_date warranty_expiry_date owner_type  insurance_premium  \\\n",
       "0            2023-11-23           2025-06-24     Second            20782.0   \n",
       "1            2023-09-21           2025-06-04     Second            23489.0   \n",
       "2            2023-06-27           2025-04-27      First            17979.0   \n",
       "3            2023-08-24           2025-11-05     Second             6220.0   \n",
       "4            2023-05-25           2025-09-14      Third            16446.0   \n",
       "...                 ...                  ...        ...                ...   \n",
       "49995        2023-11-24           2025-09-15      Third             5217.0   \n",
       "49996        2023-07-14           2025-01-21     Second            15856.0   \n",
       "49997        2023-09-09           2024-11-09      First             6019.0   \n",
       "49998        2023-08-26           2025-05-22      Third             5030.0   \n",
       "49999        2023-07-25           2024-06-06      Third             9171.0   \n",
       "\n",
       "       service_history  accident_history  fuel_efficiency tire_condition  \\\n",
       "0                    6                 3        13.622204            New   \n",
       "1                    7                 0        13.625307            New   \n",
       "2                    7                 0        14.306302            New   \n",
       "3                    7                 3        18.709467            New   \n",
       "4                    6                 2        16.977483           Good   \n",
       "...                ...               ...              ...            ...   \n",
       "49995                4                 1        10.357298            New   \n",
       "49996                4                 1        14.924022       Worn Out   \n",
       "49997               10                 0        19.859243       Worn Out   \n",
       "49998                4                 3        10.720555            New   \n",
       "49999                6                 3        16.328945           Good   \n",
       "\n",
       "      brake_condition battery_status  need_maintenance  \n",
       "0                 New           Weak                 1  \n",
       "1                 New           Weak                 1  \n",
       "2                Good           Weak                 1  \n",
       "3            Worn Out            New                 1  \n",
       "4                Good           Weak                 1  \n",
       "...               ...            ...               ...  \n",
       "49995            Good           Weak                 1  \n",
       "49996             New           Good                 1  \n",
       "49997        Worn Out           Weak                 1  \n",
       "49998            Good           Weak                 1  \n",
       "49999             New           Good                 0  \n",
       "\n",
       "[50000 rows x 20 columns]"
      ]
     },
     "execution_count": 8,
     "metadata": {},
     "output_type": "execute_result"
    }
   ],
   "source": [
    "df.dropna()"
   ]
  },
  {
   "cell_type": "code",
   "execution_count": 14,
   "metadata": {},
   "outputs": [],
   "source": [
    "schema = read_yaml_file('config/schema.yaml')"
   ]
  },
  {
   "cell_type": "code",
   "execution_count": 22,
   "metadata": {},
   "outputs": [
    {
     "data": {
      "text/plain": [
       "str"
      ]
     },
     "execution_count": 22,
     "metadata": {},
     "output_type": "execute_result"
    }
   ],
   "source": [
    "type(schema['target_column'][0])"
   ]
  },
  {
   "cell_type": "code",
   "execution_count": null,
   "metadata": {},
   "outputs": [
    {
     "ename": "AttributeError",
     "evalue": "'dict' object has no attribute 'target_column'",
     "output_type": "error",
     "traceback": [
      "\u001b[1;31m---------------------------------------------------------------------------\u001b[0m",
      "\u001b[1;31mAttributeError\u001b[0m                            Traceback (most recent call last)",
      "\u001b[1;32m<ipython-input-19-465d9ee17bce>\u001b[0m in \u001b[0;36m<module>\u001b[1;34m\u001b[0m\n\u001b[1;32m----> 1\u001b[1;33m \u001b[0mschema\u001b[0m\u001b[1;33m.\u001b[0m\u001b[0mtarget_column\u001b[0m\u001b[1;33m\u001b[0m\u001b[1;33m\u001b[0m\u001b[0m\n\u001b[0m",
      "\u001b[1;31mAttributeError\u001b[0m: 'dict' object has no attribute 'target_column'"
     ]
    }
   ],
   "source": [
    "schema[]"
   ]
  },
  {
   "cell_type": "code",
   "execution_count": 23,
   "metadata": {},
   "outputs": [
    {
     "data": {
      "text/html": [
       "<div>\n",
       "<style scoped>\n",
       "    .dataframe tbody tr th:only-of-type {\n",
       "        vertical-align: middle;\n",
       "    }\n",
       "\n",
       "    .dataframe tbody tr th {\n",
       "        vertical-align: top;\n",
       "    }\n",
       "\n",
       "    .dataframe thead th {\n",
       "        text-align: right;\n",
       "    }\n",
       "</style>\n",
       "<table border=\"1\" class=\"dataframe\">\n",
       "  <thead>\n",
       "    <tr style=\"text-align: right;\">\n",
       "      <th></th>\n",
       "      <th>vehicle_model</th>\n",
       "      <th>mileage</th>\n",
       "      <th>maintenance_history</th>\n",
       "      <th>reported_issues</th>\n",
       "      <th>vehicle_age</th>\n",
       "      <th>fuel_type</th>\n",
       "      <th>transmission_type</th>\n",
       "      <th>engine_size</th>\n",
       "      <th>odometer_reading</th>\n",
       "      <th>last_service_date</th>\n",
       "      <th>warranty_expiry_date</th>\n",
       "      <th>owner_type</th>\n",
       "      <th>insurance_premium</th>\n",
       "      <th>service_history</th>\n",
       "      <th>accident_history</th>\n",
       "      <th>fuel_efficiency</th>\n",
       "      <th>tire_condition</th>\n",
       "      <th>brake_condition</th>\n",
       "      <th>battery_status</th>\n",
       "      <th>need_maintenance</th>\n",
       "    </tr>\n",
       "  </thead>\n",
       "  <tbody>\n",
       "    <tr>\n",
       "      <th>0</th>\n",
       "      <td>Truck</td>\n",
       "      <td>58765</td>\n",
       "      <td>Good</td>\n",
       "      <td>0</td>\n",
       "      <td>4</td>\n",
       "      <td>Electric</td>\n",
       "      <td>Automatic</td>\n",
       "      <td>2000</td>\n",
       "      <td>28524</td>\n",
       "      <td>2023-11-23</td>\n",
       "      <td>2025-06-24</td>\n",
       "      <td>Second</td>\n",
       "      <td>20782.0</td>\n",
       "      <td>6</td>\n",
       "      <td>3</td>\n",
       "      <td>13.622204</td>\n",
       "      <td>New</td>\n",
       "      <td>New</td>\n",
       "      <td>Weak</td>\n",
       "      <td>1</td>\n",
       "    </tr>\n",
       "    <tr>\n",
       "      <th>1</th>\n",
       "      <td>Van</td>\n",
       "      <td>60353</td>\n",
       "      <td>Average</td>\n",
       "      <td>1</td>\n",
       "      <td>7</td>\n",
       "      <td>Electric</td>\n",
       "      <td>Automatic</td>\n",
       "      <td>2500</td>\n",
       "      <td>133630</td>\n",
       "      <td>2023-09-21</td>\n",
       "      <td>2025-06-04</td>\n",
       "      <td>Second</td>\n",
       "      <td>23489.0</td>\n",
       "      <td>7</td>\n",
       "      <td>0</td>\n",
       "      <td>13.625307</td>\n",
       "      <td>New</td>\n",
       "      <td>New</td>\n",
       "      <td>Weak</td>\n",
       "      <td>1</td>\n",
       "    </tr>\n",
       "    <tr>\n",
       "      <th>2</th>\n",
       "      <td>Bus</td>\n",
       "      <td>68072</td>\n",
       "      <td>Poor</td>\n",
       "      <td>0</td>\n",
       "      <td>2</td>\n",
       "      <td>Electric</td>\n",
       "      <td>Automatic</td>\n",
       "      <td>1500</td>\n",
       "      <td>34022</td>\n",
       "      <td>2023-06-27</td>\n",
       "      <td>2025-04-27</td>\n",
       "      <td>First</td>\n",
       "      <td>17979.0</td>\n",
       "      <td>7</td>\n",
       "      <td>0</td>\n",
       "      <td>14.306302</td>\n",
       "      <td>New</td>\n",
       "      <td>Good</td>\n",
       "      <td>Weak</td>\n",
       "      <td>1</td>\n",
       "    </tr>\n",
       "    <tr>\n",
       "      <th>3</th>\n",
       "      <td>Bus</td>\n",
       "      <td>60849</td>\n",
       "      <td>Average</td>\n",
       "      <td>4</td>\n",
       "      <td>5</td>\n",
       "      <td>Petrol</td>\n",
       "      <td>Automatic</td>\n",
       "      <td>2500</td>\n",
       "      <td>81636</td>\n",
       "      <td>2023-08-24</td>\n",
       "      <td>2025-11-05</td>\n",
       "      <td>Second</td>\n",
       "      <td>6220.0</td>\n",
       "      <td>7</td>\n",
       "      <td>3</td>\n",
       "      <td>18.709467</td>\n",
       "      <td>New</td>\n",
       "      <td>Worn Out</td>\n",
       "      <td>New</td>\n",
       "      <td>1</td>\n",
       "    </tr>\n",
       "    <tr>\n",
       "      <th>4</th>\n",
       "      <td>Bus</td>\n",
       "      <td>45742</td>\n",
       "      <td>Poor</td>\n",
       "      <td>5</td>\n",
       "      <td>1</td>\n",
       "      <td>Petrol</td>\n",
       "      <td>Manual</td>\n",
       "      <td>2000</td>\n",
       "      <td>97162</td>\n",
       "      <td>2023-05-25</td>\n",
       "      <td>2025-09-14</td>\n",
       "      <td>Third</td>\n",
       "      <td>16446.0</td>\n",
       "      <td>6</td>\n",
       "      <td>2</td>\n",
       "      <td>16.977483</td>\n",
       "      <td>Good</td>\n",
       "      <td>Good</td>\n",
       "      <td>Weak</td>\n",
       "      <td>1</td>\n",
       "    </tr>\n",
       "    <tr>\n",
       "      <th>...</th>\n",
       "      <td>...</td>\n",
       "      <td>...</td>\n",
       "      <td>...</td>\n",
       "      <td>...</td>\n",
       "      <td>...</td>\n",
       "      <td>...</td>\n",
       "      <td>...</td>\n",
       "      <td>...</td>\n",
       "      <td>...</td>\n",
       "      <td>...</td>\n",
       "      <td>...</td>\n",
       "      <td>...</td>\n",
       "      <td>...</td>\n",
       "      <td>...</td>\n",
       "      <td>...</td>\n",
       "      <td>...</td>\n",
       "      <td>...</td>\n",
       "      <td>...</td>\n",
       "      <td>...</td>\n",
       "      <td>...</td>\n",
       "    </tr>\n",
       "    <tr>\n",
       "      <th>49995</th>\n",
       "      <td>Car</td>\n",
       "      <td>77229</td>\n",
       "      <td>Good</td>\n",
       "      <td>3</td>\n",
       "      <td>6</td>\n",
       "      <td>Diesel</td>\n",
       "      <td>Automatic</td>\n",
       "      <td>2500</td>\n",
       "      <td>97404</td>\n",
       "      <td>2023-11-24</td>\n",
       "      <td>2025-09-15</td>\n",
       "      <td>Third</td>\n",
       "      <td>5217.0</td>\n",
       "      <td>4</td>\n",
       "      <td>1</td>\n",
       "      <td>10.357298</td>\n",
       "      <td>New</td>\n",
       "      <td>Good</td>\n",
       "      <td>Weak</td>\n",
       "      <td>1</td>\n",
       "    </tr>\n",
       "    <tr>\n",
       "      <th>49996</th>\n",
       "      <td>Truck</td>\n",
       "      <td>54742</td>\n",
       "      <td>Good</td>\n",
       "      <td>4</td>\n",
       "      <td>4</td>\n",
       "      <td>Diesel</td>\n",
       "      <td>Manual</td>\n",
       "      <td>800</td>\n",
       "      <td>13421</td>\n",
       "      <td>2023-07-14</td>\n",
       "      <td>2025-01-21</td>\n",
       "      <td>Second</td>\n",
       "      <td>15856.0</td>\n",
       "      <td>4</td>\n",
       "      <td>1</td>\n",
       "      <td>14.924022</td>\n",
       "      <td>Worn Out</td>\n",
       "      <td>New</td>\n",
       "      <td>Good</td>\n",
       "      <td>1</td>\n",
       "    </tr>\n",
       "    <tr>\n",
       "      <th>49997</th>\n",
       "      <td>Van</td>\n",
       "      <td>75601</td>\n",
       "      <td>Poor</td>\n",
       "      <td>0</td>\n",
       "      <td>4</td>\n",
       "      <td>Electric</td>\n",
       "      <td>Automatic</td>\n",
       "      <td>1500</td>\n",
       "      <td>124851</td>\n",
       "      <td>2023-09-09</td>\n",
       "      <td>2024-11-09</td>\n",
       "      <td>First</td>\n",
       "      <td>6019.0</td>\n",
       "      <td>10</td>\n",
       "      <td>0</td>\n",
       "      <td>19.859243</td>\n",
       "      <td>Worn Out</td>\n",
       "      <td>Worn Out</td>\n",
       "      <td>Weak</td>\n",
       "      <td>1</td>\n",
       "    </tr>\n",
       "    <tr>\n",
       "      <th>49998</th>\n",
       "      <td>Car</td>\n",
       "      <td>66181</td>\n",
       "      <td>Good</td>\n",
       "      <td>1</td>\n",
       "      <td>7</td>\n",
       "      <td>Electric</td>\n",
       "      <td>Manual</td>\n",
       "      <td>2500</td>\n",
       "      <td>103182</td>\n",
       "      <td>2023-08-26</td>\n",
       "      <td>2025-05-22</td>\n",
       "      <td>Third</td>\n",
       "      <td>5030.0</td>\n",
       "      <td>4</td>\n",
       "      <td>3</td>\n",
       "      <td>10.720555</td>\n",
       "      <td>New</td>\n",
       "      <td>Good</td>\n",
       "      <td>Weak</td>\n",
       "      <td>1</td>\n",
       "    </tr>\n",
       "    <tr>\n",
       "      <th>49999</th>\n",
       "      <td>Car</td>\n",
       "      <td>71605</td>\n",
       "      <td>Poor</td>\n",
       "      <td>0</td>\n",
       "      <td>10</td>\n",
       "      <td>Petrol</td>\n",
       "      <td>Manual</td>\n",
       "      <td>2000</td>\n",
       "      <td>65721</td>\n",
       "      <td>2023-07-25</td>\n",
       "      <td>2024-06-06</td>\n",
       "      <td>Third</td>\n",
       "      <td>9171.0</td>\n",
       "      <td>6</td>\n",
       "      <td>3</td>\n",
       "      <td>16.328945</td>\n",
       "      <td>Good</td>\n",
       "      <td>New</td>\n",
       "      <td>Good</td>\n",
       "      <td>0</td>\n",
       "    </tr>\n",
       "  </tbody>\n",
       "</table>\n",
       "<p>50000 rows × 20 columns</p>\n",
       "</div>"
      ],
      "text/plain": [
       "      vehicle_model  mileage maintenance_history  reported_issues  \\\n",
       "0             Truck    58765                Good                0   \n",
       "1               Van    60353             Average                1   \n",
       "2               Bus    68072                Poor                0   \n",
       "3               Bus    60849             Average                4   \n",
       "4               Bus    45742                Poor                5   \n",
       "...             ...      ...                 ...              ...   \n",
       "49995           Car    77229                Good                3   \n",
       "49996         Truck    54742                Good                4   \n",
       "49997           Van    75601                Poor                0   \n",
       "49998           Car    66181                Good                1   \n",
       "49999           Car    71605                Poor                0   \n",
       "\n",
       "       vehicle_age fuel_type transmission_type  engine_size  odometer_reading  \\\n",
       "0                4  Electric         Automatic         2000             28524   \n",
       "1                7  Electric         Automatic         2500            133630   \n",
       "2                2  Electric         Automatic         1500             34022   \n",
       "3                5    Petrol         Automatic         2500             81636   \n",
       "4                1    Petrol            Manual         2000             97162   \n",
       "...            ...       ...               ...          ...               ...   \n",
       "49995            6    Diesel         Automatic         2500             97404   \n",
       "49996            4    Diesel            Manual          800             13421   \n",
       "49997            4  Electric         Automatic         1500            124851   \n",
       "49998            7  Electric            Manual         2500            103182   \n",
       "49999           10    Petrol            Manual         2000             65721   \n",
       "\n",
       "      last_service_date warranty_expiry_date owner_type  insurance_premium  \\\n",
       "0            2023-11-23           2025-06-24     Second            20782.0   \n",
       "1            2023-09-21           2025-06-04     Second            23489.0   \n",
       "2            2023-06-27           2025-04-27      First            17979.0   \n",
       "3            2023-08-24           2025-11-05     Second             6220.0   \n",
       "4            2023-05-25           2025-09-14      Third            16446.0   \n",
       "...                 ...                  ...        ...                ...   \n",
       "49995        2023-11-24           2025-09-15      Third             5217.0   \n",
       "49996        2023-07-14           2025-01-21     Second            15856.0   \n",
       "49997        2023-09-09           2024-11-09      First             6019.0   \n",
       "49998        2023-08-26           2025-05-22      Third             5030.0   \n",
       "49999        2023-07-25           2024-06-06      Third             9171.0   \n",
       "\n",
       "       service_history  accident_history  fuel_efficiency tire_condition  \\\n",
       "0                    6                 3        13.622204            New   \n",
       "1                    7                 0        13.625307            New   \n",
       "2                    7                 0        14.306302            New   \n",
       "3                    7                 3        18.709467            New   \n",
       "4                    6                 2        16.977483           Good   \n",
       "...                ...               ...              ...            ...   \n",
       "49995                4                 1        10.357298            New   \n",
       "49996                4                 1        14.924022       Worn Out   \n",
       "49997               10                 0        19.859243       Worn Out   \n",
       "49998                4                 3        10.720555            New   \n",
       "49999                6                 3        16.328945           Good   \n",
       "\n",
       "      brake_condition battery_status  need_maintenance  \n",
       "0                 New           Weak                 1  \n",
       "1                 New           Weak                 1  \n",
       "2                Good           Weak                 1  \n",
       "3            Worn Out            New                 1  \n",
       "4                Good           Weak                 1  \n",
       "...               ...            ...               ...  \n",
       "49995            Good           Weak                 1  \n",
       "49996             New           Good                 1  \n",
       "49997        Worn Out           Weak                 1  \n",
       "49998            Good           Weak                 1  \n",
       "49999             New           Good                 0  \n",
       "\n",
       "[50000 rows x 20 columns]"
      ]
     },
     "execution_count": 23,
     "metadata": {},
     "output_type": "execute_result"
    }
   ],
   "source": [
    "df"
   ]
  },
  {
   "cell_type": "code",
   "execution_count": 24,
   "metadata": {},
   "outputs": [],
   "source": [
    "TARGET_VARIABLE = schema['target_column'][0]\n",
    "y = df[TARGET_VARIABLE]\n",
    "X = df.drop(TARGET_VARIABLE, axis=1)"
   ]
  },
  {
   "cell_type": "code",
   "execution_count": 29,
   "metadata": {},
   "outputs": [],
   "source": [
    "from sklearn.preprocessing import StandardScaler, OneHotEncoder\n",
    "from sklearn.compose import ColumnTransformer"
   ]
  },
  {
   "cell_type": "code",
   "execution_count": 32,
   "metadata": {},
   "outputs": [],
   "source": [
    "# Identify numerical and categorical features\n",
    "numerical_cols = X.select_dtypes(include=np.number).columns\n",
    "categorical_cols = X.select_dtypes(include=['category']).columns\n",
    "\n",
    "# Create a column transformer\n",
    "preprocessor = ColumnTransformer(\n",
    "    transformers=[\n",
    "        ('num', StandardScaler(), numerical_cols),\n",
    "        ('cat', OneHotEncoder(handle_unknown='ignore', sparse_output=False), categorical_cols)\n",
    "    ])\n",
    "\n",
    "# Apply transformations\n",
    "X_processed = preprocessor.fit_transform(X)\n",
    "\n",
    "#Get feature names for OneHotEncoder\n",
    "encoded_feature_names = list(preprocessor.named_transformers_['cat'].get_feature_names_out(categorical_cols))\n",
    "\n",
    "#Combine feature names\n",
    "feature_names = list(numerical_cols) + encoded_feature_names\n",
    "\n",
    "#Create DataFrame with preserved column names\n",
    "X_processed = pd.DataFrame(X_processed, columns=feature_names)"
   ]
  },
  {
   "cell_type": "code",
   "execution_count": 35,
   "metadata": {},
   "outputs": [
    {
     "data": {
      "text/html": [
       "<div>\n",
       "<style scoped>\n",
       "    .dataframe tbody tr th:only-of-type {\n",
       "        vertical-align: middle;\n",
       "    }\n",
       "\n",
       "    .dataframe tbody tr th {\n",
       "        vertical-align: top;\n",
       "    }\n",
       "\n",
       "    .dataframe thead th {\n",
       "        text-align: right;\n",
       "    }\n",
       "</style>\n",
       "<table border=\"1\" class=\"dataframe\">\n",
       "  <thead>\n",
       "    <tr style=\"text-align: right;\">\n",
       "      <th></th>\n",
       "      <th>mileage</th>\n",
       "      <th>reported_issues</th>\n",
       "      <th>vehicle_age</th>\n",
       "      <th>engine_size</th>\n",
       "      <th>odometer_reading</th>\n",
       "      <th>insurance_premium</th>\n",
       "      <th>service_history</th>\n",
       "      <th>accident_history</th>\n",
       "      <th>fuel_efficiency</th>\n",
       "      <th>vehicle_model_Bus</th>\n",
       "      <th>vehicle_model_Car</th>\n",
       "      <th>vehicle_model_Motorcycle</th>\n",
       "      <th>vehicle_model_SUV</th>\n",
       "      <th>vehicle_model_Truck</th>\n",
       "      <th>vehicle_model_Van</th>\n",
       "      <th>maintenance_history_Average</th>\n",
       "      <th>maintenance_history_Good</th>\n",
       "      <th>maintenance_history_Poor</th>\n",
       "      <th>fuel_type_Diesel</th>\n",
       "      <th>fuel_type_Electric</th>\n",
       "      <th>fuel_type_Petrol</th>\n",
       "      <th>transmission_type_Automatic</th>\n",
       "      <th>transmission_type_Manual</th>\n",
       "      <th>owner_type_First</th>\n",
       "      <th>owner_type_Second</th>\n",
       "      <th>owner_type_Third</th>\n",
       "      <th>tire_condition_Good</th>\n",
       "      <th>tire_condition_New</th>\n",
       "      <th>tire_condition_Worn Out</th>\n",
       "      <th>brake_condition_Good</th>\n",
       "      <th>brake_condition_New</th>\n",
       "      <th>brake_condition_Worn Out</th>\n",
       "      <th>battery_status_Good</th>\n",
       "      <th>battery_status_New</th>\n",
       "      <th>battery_status_Weak</th>\n",
       "    </tr>\n",
       "  </thead>\n",
       "  <tbody>\n",
       "    <tr>\n",
       "      <th>0</th>\n",
       "      <td>0.266201</td>\n",
       "      <td>-1.461536</td>\n",
       "      <td>-0.518929</td>\n",
       "      <td>0.706912</td>\n",
       "      <td>-1.091430</td>\n",
       "      <td>0.459160</td>\n",
       "      <td>0.168508</td>\n",
       "      <td>1.338492</td>\n",
       "      <td>-0.474127</td>\n",
       "      <td>0.0</td>\n",
       "      <td>0.0</td>\n",
       "      <td>0.0</td>\n",
       "      <td>0.0</td>\n",
       "      <td>1.0</td>\n",
       "      <td>0.0</td>\n",
       "      <td>0.0</td>\n",
       "      <td>1.0</td>\n",
       "      <td>0.0</td>\n",
       "      <td>0.0</td>\n",
       "      <td>1.0</td>\n",
       "      <td>0.0</td>\n",
       "      <td>1.0</td>\n",
       "      <td>0.0</td>\n",
       "      <td>0.0</td>\n",
       "      <td>1.0</td>\n",
       "      <td>0.0</td>\n",
       "      <td>0.0</td>\n",
       "      <td>1.0</td>\n",
       "      <td>0.0</td>\n",
       "      <td>0.0</td>\n",
       "      <td>1.0</td>\n",
       "      <td>0.0</td>\n",
       "      <td>0.0</td>\n",
       "      <td>0.0</td>\n",
       "      <td>1.0</td>\n",
       "    </tr>\n",
       "    <tr>\n",
       "      <th>1</th>\n",
       "      <td>0.376465</td>\n",
       "      <td>-0.876318</td>\n",
       "      <td>0.524312</td>\n",
       "      <td>1.503508</td>\n",
       "      <td>1.347922</td>\n",
       "      <td>0.833918</td>\n",
       "      <td>0.516350</td>\n",
       "      <td>-1.341279</td>\n",
       "      <td>-0.473052</td>\n",
       "      <td>0.0</td>\n",
       "      <td>0.0</td>\n",
       "      <td>0.0</td>\n",
       "      <td>0.0</td>\n",
       "      <td>0.0</td>\n",
       "      <td>1.0</td>\n",
       "      <td>1.0</td>\n",
       "      <td>0.0</td>\n",
       "      <td>0.0</td>\n",
       "      <td>0.0</td>\n",
       "      <td>1.0</td>\n",
       "      <td>0.0</td>\n",
       "      <td>1.0</td>\n",
       "      <td>0.0</td>\n",
       "      <td>0.0</td>\n",
       "      <td>1.0</td>\n",
       "      <td>0.0</td>\n",
       "      <td>0.0</td>\n",
       "      <td>1.0</td>\n",
       "      <td>0.0</td>\n",
       "      <td>0.0</td>\n",
       "      <td>1.0</td>\n",
       "      <td>0.0</td>\n",
       "      <td>0.0</td>\n",
       "      <td>0.0</td>\n",
       "      <td>1.0</td>\n",
       "    </tr>\n",
       "    <tr>\n",
       "      <th>2</th>\n",
       "      <td>0.912441</td>\n",
       "      <td>-1.461536</td>\n",
       "      <td>-1.214423</td>\n",
       "      <td>-0.089684</td>\n",
       "      <td>-0.963830</td>\n",
       "      <td>0.071111</td>\n",
       "      <td>0.516350</td>\n",
       "      <td>-1.341279</td>\n",
       "      <td>-0.237050</td>\n",
       "      <td>1.0</td>\n",
       "      <td>0.0</td>\n",
       "      <td>0.0</td>\n",
       "      <td>0.0</td>\n",
       "      <td>0.0</td>\n",
       "      <td>0.0</td>\n",
       "      <td>0.0</td>\n",
       "      <td>0.0</td>\n",
       "      <td>1.0</td>\n",
       "      <td>0.0</td>\n",
       "      <td>1.0</td>\n",
       "      <td>0.0</td>\n",
       "      <td>1.0</td>\n",
       "      <td>0.0</td>\n",
       "      <td>1.0</td>\n",
       "      <td>0.0</td>\n",
       "      <td>0.0</td>\n",
       "      <td>0.0</td>\n",
       "      <td>1.0</td>\n",
       "      <td>0.0</td>\n",
       "      <td>1.0</td>\n",
       "      <td>0.0</td>\n",
       "      <td>0.0</td>\n",
       "      <td>0.0</td>\n",
       "      <td>0.0</td>\n",
       "      <td>1.0</td>\n",
       "    </tr>\n",
       "    <tr>\n",
       "      <th>3</th>\n",
       "      <td>0.410906</td>\n",
       "      <td>0.879338</td>\n",
       "      <td>-0.171182</td>\n",
       "      <td>1.503508</td>\n",
       "      <td>0.141219</td>\n",
       "      <td>-1.556810</td>\n",
       "      <td>0.516350</td>\n",
       "      <td>1.338492</td>\n",
       "      <td>1.288884</td>\n",
       "      <td>1.0</td>\n",
       "      <td>0.0</td>\n",
       "      <td>0.0</td>\n",
       "      <td>0.0</td>\n",
       "      <td>0.0</td>\n",
       "      <td>0.0</td>\n",
       "      <td>1.0</td>\n",
       "      <td>0.0</td>\n",
       "      <td>0.0</td>\n",
       "      <td>0.0</td>\n",
       "      <td>0.0</td>\n",
       "      <td>1.0</td>\n",
       "      <td>1.0</td>\n",
       "      <td>0.0</td>\n",
       "      <td>0.0</td>\n",
       "      <td>1.0</td>\n",
       "      <td>0.0</td>\n",
       "      <td>0.0</td>\n",
       "      <td>1.0</td>\n",
       "      <td>0.0</td>\n",
       "      <td>0.0</td>\n",
       "      <td>0.0</td>\n",
       "      <td>1.0</td>\n",
       "      <td>0.0</td>\n",
       "      <td>1.0</td>\n",
       "      <td>0.0</td>\n",
       "    </tr>\n",
       "    <tr>\n",
       "      <th>4</th>\n",
       "      <td>-0.638063</td>\n",
       "      <td>1.464556</td>\n",
       "      <td>-1.562170</td>\n",
       "      <td>0.706912</td>\n",
       "      <td>0.501554</td>\n",
       "      <td>-0.141118</td>\n",
       "      <td>0.168508</td>\n",
       "      <td>0.445235</td>\n",
       "      <td>0.688658</td>\n",
       "      <td>1.0</td>\n",
       "      <td>0.0</td>\n",
       "      <td>0.0</td>\n",
       "      <td>0.0</td>\n",
       "      <td>0.0</td>\n",
       "      <td>0.0</td>\n",
       "      <td>0.0</td>\n",
       "      <td>0.0</td>\n",
       "      <td>1.0</td>\n",
       "      <td>0.0</td>\n",
       "      <td>0.0</td>\n",
       "      <td>1.0</td>\n",
       "      <td>0.0</td>\n",
       "      <td>1.0</td>\n",
       "      <td>0.0</td>\n",
       "      <td>0.0</td>\n",
       "      <td>1.0</td>\n",
       "      <td>1.0</td>\n",
       "      <td>0.0</td>\n",
       "      <td>0.0</td>\n",
       "      <td>1.0</td>\n",
       "      <td>0.0</td>\n",
       "      <td>0.0</td>\n",
       "      <td>0.0</td>\n",
       "      <td>0.0</td>\n",
       "      <td>1.0</td>\n",
       "    </tr>\n",
       "    <tr>\n",
       "      <th>...</th>\n",
       "      <td>...</td>\n",
       "      <td>...</td>\n",
       "      <td>...</td>\n",
       "      <td>...</td>\n",
       "      <td>...</td>\n",
       "      <td>...</td>\n",
       "      <td>...</td>\n",
       "      <td>...</td>\n",
       "      <td>...</td>\n",
       "      <td>...</td>\n",
       "      <td>...</td>\n",
       "      <td>...</td>\n",
       "      <td>...</td>\n",
       "      <td>...</td>\n",
       "      <td>...</td>\n",
       "      <td>...</td>\n",
       "      <td>...</td>\n",
       "      <td>...</td>\n",
       "      <td>...</td>\n",
       "      <td>...</td>\n",
       "      <td>...</td>\n",
       "      <td>...</td>\n",
       "      <td>...</td>\n",
       "      <td>...</td>\n",
       "      <td>...</td>\n",
       "      <td>...</td>\n",
       "      <td>...</td>\n",
       "      <td>...</td>\n",
       "      <td>...</td>\n",
       "      <td>...</td>\n",
       "      <td>...</td>\n",
       "      <td>...</td>\n",
       "      <td>...</td>\n",
       "      <td>...</td>\n",
       "      <td>...</td>\n",
       "    </tr>\n",
       "    <tr>\n",
       "      <th>49995</th>\n",
       "      <td>1.548266</td>\n",
       "      <td>0.294119</td>\n",
       "      <td>0.176565</td>\n",
       "      <td>1.503508</td>\n",
       "      <td>0.507171</td>\n",
       "      <td>-1.695666</td>\n",
       "      <td>-0.527175</td>\n",
       "      <td>-0.448022</td>\n",
       "      <td>-1.605593</td>\n",
       "      <td>0.0</td>\n",
       "      <td>1.0</td>\n",
       "      <td>0.0</td>\n",
       "      <td>0.0</td>\n",
       "      <td>0.0</td>\n",
       "      <td>0.0</td>\n",
       "      <td>0.0</td>\n",
       "      <td>1.0</td>\n",
       "      <td>0.0</td>\n",
       "      <td>1.0</td>\n",
       "      <td>0.0</td>\n",
       "      <td>0.0</td>\n",
       "      <td>1.0</td>\n",
       "      <td>0.0</td>\n",
       "      <td>0.0</td>\n",
       "      <td>0.0</td>\n",
       "      <td>1.0</td>\n",
       "      <td>0.0</td>\n",
       "      <td>1.0</td>\n",
       "      <td>0.0</td>\n",
       "      <td>1.0</td>\n",
       "      <td>0.0</td>\n",
       "      <td>0.0</td>\n",
       "      <td>0.0</td>\n",
       "      <td>0.0</td>\n",
       "      <td>1.0</td>\n",
       "    </tr>\n",
       "    <tr>\n",
       "      <th>49996</th>\n",
       "      <td>-0.013140</td>\n",
       "      <td>0.879338</td>\n",
       "      <td>-0.518929</td>\n",
       "      <td>-1.204918</td>\n",
       "      <td>-1.441948</td>\n",
       "      <td>-0.222798</td>\n",
       "      <td>-0.527175</td>\n",
       "      <td>-0.448022</td>\n",
       "      <td>-0.022977</td>\n",
       "      <td>0.0</td>\n",
       "      <td>0.0</td>\n",
       "      <td>0.0</td>\n",
       "      <td>0.0</td>\n",
       "      <td>1.0</td>\n",
       "      <td>0.0</td>\n",
       "      <td>0.0</td>\n",
       "      <td>1.0</td>\n",
       "      <td>0.0</td>\n",
       "      <td>1.0</td>\n",
       "      <td>0.0</td>\n",
       "      <td>0.0</td>\n",
       "      <td>0.0</td>\n",
       "      <td>1.0</td>\n",
       "      <td>0.0</td>\n",
       "      <td>1.0</td>\n",
       "      <td>0.0</td>\n",
       "      <td>0.0</td>\n",
       "      <td>0.0</td>\n",
       "      <td>1.0</td>\n",
       "      <td>0.0</td>\n",
       "      <td>1.0</td>\n",
       "      <td>0.0</td>\n",
       "      <td>1.0</td>\n",
       "      <td>0.0</td>\n",
       "      <td>0.0</td>\n",
       "    </tr>\n",
       "    <tr>\n",
       "      <th>49997</th>\n",
       "      <td>1.435224</td>\n",
       "      <td>-1.461536</td>\n",
       "      <td>-0.518929</td>\n",
       "      <td>-0.089684</td>\n",
       "      <td>1.144174</td>\n",
       "      <td>-1.584637</td>\n",
       "      <td>1.559876</td>\n",
       "      <td>-1.341279</td>\n",
       "      <td>1.687343</td>\n",
       "      <td>0.0</td>\n",
       "      <td>0.0</td>\n",
       "      <td>0.0</td>\n",
       "      <td>0.0</td>\n",
       "      <td>0.0</td>\n",
       "      <td>1.0</td>\n",
       "      <td>0.0</td>\n",
       "      <td>0.0</td>\n",
       "      <td>1.0</td>\n",
       "      <td>0.0</td>\n",
       "      <td>1.0</td>\n",
       "      <td>0.0</td>\n",
       "      <td>1.0</td>\n",
       "      <td>0.0</td>\n",
       "      <td>1.0</td>\n",
       "      <td>0.0</td>\n",
       "      <td>0.0</td>\n",
       "      <td>0.0</td>\n",
       "      <td>0.0</td>\n",
       "      <td>1.0</td>\n",
       "      <td>0.0</td>\n",
       "      <td>0.0</td>\n",
       "      <td>1.0</td>\n",
       "      <td>0.0</td>\n",
       "      <td>0.0</td>\n",
       "      <td>1.0</td>\n",
       "    </tr>\n",
       "    <tr>\n",
       "      <th>49998</th>\n",
       "      <td>0.781138</td>\n",
       "      <td>-0.876318</td>\n",
       "      <td>0.524312</td>\n",
       "      <td>1.503508</td>\n",
       "      <td>0.641270</td>\n",
       "      <td>-1.721554</td>\n",
       "      <td>-0.527175</td>\n",
       "      <td>1.338492</td>\n",
       "      <td>-1.479705</td>\n",
       "      <td>0.0</td>\n",
       "      <td>1.0</td>\n",
       "      <td>0.0</td>\n",
       "      <td>0.0</td>\n",
       "      <td>0.0</td>\n",
       "      <td>0.0</td>\n",
       "      <td>0.0</td>\n",
       "      <td>1.0</td>\n",
       "      <td>0.0</td>\n",
       "      <td>0.0</td>\n",
       "      <td>1.0</td>\n",
       "      <td>0.0</td>\n",
       "      <td>0.0</td>\n",
       "      <td>1.0</td>\n",
       "      <td>0.0</td>\n",
       "      <td>0.0</td>\n",
       "      <td>1.0</td>\n",
       "      <td>0.0</td>\n",
       "      <td>1.0</td>\n",
       "      <td>0.0</td>\n",
       "      <td>1.0</td>\n",
       "      <td>0.0</td>\n",
       "      <td>0.0</td>\n",
       "      <td>0.0</td>\n",
       "      <td>0.0</td>\n",
       "      <td>1.0</td>\n",
       "    </tr>\n",
       "    <tr>\n",
       "      <th>49999</th>\n",
       "      <td>1.157758</td>\n",
       "      <td>-1.461536</td>\n",
       "      <td>1.567554</td>\n",
       "      <td>0.706912</td>\n",
       "      <td>-0.228144</td>\n",
       "      <td>-1.148272</td>\n",
       "      <td>0.168508</td>\n",
       "      <td>1.338492</td>\n",
       "      <td>0.463905</td>\n",
       "      <td>0.0</td>\n",
       "      <td>1.0</td>\n",
       "      <td>0.0</td>\n",
       "      <td>0.0</td>\n",
       "      <td>0.0</td>\n",
       "      <td>0.0</td>\n",
       "      <td>0.0</td>\n",
       "      <td>0.0</td>\n",
       "      <td>1.0</td>\n",
       "      <td>0.0</td>\n",
       "      <td>0.0</td>\n",
       "      <td>1.0</td>\n",
       "      <td>0.0</td>\n",
       "      <td>1.0</td>\n",
       "      <td>0.0</td>\n",
       "      <td>0.0</td>\n",
       "      <td>1.0</td>\n",
       "      <td>1.0</td>\n",
       "      <td>0.0</td>\n",
       "      <td>0.0</td>\n",
       "      <td>0.0</td>\n",
       "      <td>1.0</td>\n",
       "      <td>0.0</td>\n",
       "      <td>1.0</td>\n",
       "      <td>0.0</td>\n",
       "      <td>0.0</td>\n",
       "    </tr>\n",
       "  </tbody>\n",
       "</table>\n",
       "<p>50000 rows × 35 columns</p>\n",
       "</div>"
      ],
      "text/plain": [
       "        mileage  reported_issues  vehicle_age  engine_size  odometer_reading  \\\n",
       "0      0.266201        -1.461536    -0.518929     0.706912         -1.091430   \n",
       "1      0.376465        -0.876318     0.524312     1.503508          1.347922   \n",
       "2      0.912441        -1.461536    -1.214423    -0.089684         -0.963830   \n",
       "3      0.410906         0.879338    -0.171182     1.503508          0.141219   \n",
       "4     -0.638063         1.464556    -1.562170     0.706912          0.501554   \n",
       "...         ...              ...          ...          ...               ...   \n",
       "49995  1.548266         0.294119     0.176565     1.503508          0.507171   \n",
       "49996 -0.013140         0.879338    -0.518929    -1.204918         -1.441948   \n",
       "49997  1.435224        -1.461536    -0.518929    -0.089684          1.144174   \n",
       "49998  0.781138        -0.876318     0.524312     1.503508          0.641270   \n",
       "49999  1.157758        -1.461536     1.567554     0.706912         -0.228144   \n",
       "\n",
       "       insurance_premium  service_history  accident_history  fuel_efficiency  \\\n",
       "0               0.459160         0.168508          1.338492        -0.474127   \n",
       "1               0.833918         0.516350         -1.341279        -0.473052   \n",
       "2               0.071111         0.516350         -1.341279        -0.237050   \n",
       "3              -1.556810         0.516350          1.338492         1.288884   \n",
       "4              -0.141118         0.168508          0.445235         0.688658   \n",
       "...                  ...              ...               ...              ...   \n",
       "49995          -1.695666        -0.527175         -0.448022        -1.605593   \n",
       "49996          -0.222798        -0.527175         -0.448022        -0.022977   \n",
       "49997          -1.584637         1.559876         -1.341279         1.687343   \n",
       "49998          -1.721554        -0.527175          1.338492        -1.479705   \n",
       "49999          -1.148272         0.168508          1.338492         0.463905   \n",
       "\n",
       "       vehicle_model_Bus  vehicle_model_Car  vehicle_model_Motorcycle  \\\n",
       "0                    0.0                0.0                       0.0   \n",
       "1                    0.0                0.0                       0.0   \n",
       "2                    1.0                0.0                       0.0   \n",
       "3                    1.0                0.0                       0.0   \n",
       "4                    1.0                0.0                       0.0   \n",
       "...                  ...                ...                       ...   \n",
       "49995                0.0                1.0                       0.0   \n",
       "49996                0.0                0.0                       0.0   \n",
       "49997                0.0                0.0                       0.0   \n",
       "49998                0.0                1.0                       0.0   \n",
       "49999                0.0                1.0                       0.0   \n",
       "\n",
       "       vehicle_model_SUV  vehicle_model_Truck  vehicle_model_Van  \\\n",
       "0                    0.0                  1.0                0.0   \n",
       "1                    0.0                  0.0                1.0   \n",
       "2                    0.0                  0.0                0.0   \n",
       "3                    0.0                  0.0                0.0   \n",
       "4                    0.0                  0.0                0.0   \n",
       "...                  ...                  ...                ...   \n",
       "49995                0.0                  0.0                0.0   \n",
       "49996                0.0                  1.0                0.0   \n",
       "49997                0.0                  0.0                1.0   \n",
       "49998                0.0                  0.0                0.0   \n",
       "49999                0.0                  0.0                0.0   \n",
       "\n",
       "       maintenance_history_Average  maintenance_history_Good  \\\n",
       "0                              0.0                       1.0   \n",
       "1                              1.0                       0.0   \n",
       "2                              0.0                       0.0   \n",
       "3                              1.0                       0.0   \n",
       "4                              0.0                       0.0   \n",
       "...                            ...                       ...   \n",
       "49995                          0.0                       1.0   \n",
       "49996                          0.0                       1.0   \n",
       "49997                          0.0                       0.0   \n",
       "49998                          0.0                       1.0   \n",
       "49999                          0.0                       0.0   \n",
       "\n",
       "       maintenance_history_Poor  fuel_type_Diesel  fuel_type_Electric  \\\n",
       "0                           0.0               0.0                 1.0   \n",
       "1                           0.0               0.0                 1.0   \n",
       "2                           1.0               0.0                 1.0   \n",
       "3                           0.0               0.0                 0.0   \n",
       "4                           1.0               0.0                 0.0   \n",
       "...                         ...               ...                 ...   \n",
       "49995                       0.0               1.0                 0.0   \n",
       "49996                       0.0               1.0                 0.0   \n",
       "49997                       1.0               0.0                 1.0   \n",
       "49998                       0.0               0.0                 1.0   \n",
       "49999                       1.0               0.0                 0.0   \n",
       "\n",
       "       fuel_type_Petrol  transmission_type_Automatic  \\\n",
       "0                   0.0                          1.0   \n",
       "1                   0.0                          1.0   \n",
       "2                   0.0                          1.0   \n",
       "3                   1.0                          1.0   \n",
       "4                   1.0                          0.0   \n",
       "...                 ...                          ...   \n",
       "49995               0.0                          1.0   \n",
       "49996               0.0                          0.0   \n",
       "49997               0.0                          1.0   \n",
       "49998               0.0                          0.0   \n",
       "49999               1.0                          0.0   \n",
       "\n",
       "       transmission_type_Manual  owner_type_First  owner_type_Second  \\\n",
       "0                           0.0               0.0                1.0   \n",
       "1                           0.0               0.0                1.0   \n",
       "2                           0.0               1.0                0.0   \n",
       "3                           0.0               0.0                1.0   \n",
       "4                           1.0               0.0                0.0   \n",
       "...                         ...               ...                ...   \n",
       "49995                       0.0               0.0                0.0   \n",
       "49996                       1.0               0.0                1.0   \n",
       "49997                       0.0               1.0                0.0   \n",
       "49998                       1.0               0.0                0.0   \n",
       "49999                       1.0               0.0                0.0   \n",
       "\n",
       "       owner_type_Third  tire_condition_Good  tire_condition_New  \\\n",
       "0                   0.0                  0.0                 1.0   \n",
       "1                   0.0                  0.0                 1.0   \n",
       "2                   0.0                  0.0                 1.0   \n",
       "3                   0.0                  0.0                 1.0   \n",
       "4                   1.0                  1.0                 0.0   \n",
       "...                 ...                  ...                 ...   \n",
       "49995               1.0                  0.0                 1.0   \n",
       "49996               0.0                  0.0                 0.0   \n",
       "49997               0.0                  0.0                 0.0   \n",
       "49998               1.0                  0.0                 1.0   \n",
       "49999               1.0                  1.0                 0.0   \n",
       "\n",
       "       tire_condition_Worn Out  brake_condition_Good  brake_condition_New  \\\n",
       "0                          0.0                   0.0                  1.0   \n",
       "1                          0.0                   0.0                  1.0   \n",
       "2                          0.0                   1.0                  0.0   \n",
       "3                          0.0                   0.0                  0.0   \n",
       "4                          0.0                   1.0                  0.0   \n",
       "...                        ...                   ...                  ...   \n",
       "49995                      0.0                   1.0                  0.0   \n",
       "49996                      1.0                   0.0                  1.0   \n",
       "49997                      1.0                   0.0                  0.0   \n",
       "49998                      0.0                   1.0                  0.0   \n",
       "49999                      0.0                   0.0                  1.0   \n",
       "\n",
       "       brake_condition_Worn Out  battery_status_Good  battery_status_New  \\\n",
       "0                           0.0                  0.0                 0.0   \n",
       "1                           0.0                  0.0                 0.0   \n",
       "2                           0.0                  0.0                 0.0   \n",
       "3                           1.0                  0.0                 1.0   \n",
       "4                           0.0                  0.0                 0.0   \n",
       "...                         ...                  ...                 ...   \n",
       "49995                       0.0                  0.0                 0.0   \n",
       "49996                       0.0                  1.0                 0.0   \n",
       "49997                       1.0                  0.0                 0.0   \n",
       "49998                       0.0                  0.0                 0.0   \n",
       "49999                       0.0                  1.0                 0.0   \n",
       "\n",
       "       battery_status_Weak  \n",
       "0                      1.0  \n",
       "1                      1.0  \n",
       "2                      1.0  \n",
       "3                      0.0  \n",
       "4                      1.0  \n",
       "...                    ...  \n",
       "49995                  1.0  \n",
       "49996                  0.0  \n",
       "49997                  1.0  \n",
       "49998                  1.0  \n",
       "49999                  0.0  \n",
       "\n",
       "[50000 rows x 35 columns]"
      ]
     },
     "execution_count": 35,
     "metadata": {},
     "output_type": "execute_result"
    }
   ],
   "source": [
    "X_processed"
   ]
  },
  {
   "cell_type": "code",
   "execution_count": 36,
   "metadata": {},
   "outputs": [],
   "source": [
    "X_processed[TARGET_VARIABLE] = y"
   ]
  },
  {
   "cell_type": "code",
   "execution_count": 37,
   "metadata": {},
   "outputs": [
    {
     "data": {
      "text/html": [
       "<div>\n",
       "<style scoped>\n",
       "    .dataframe tbody tr th:only-of-type {\n",
       "        vertical-align: middle;\n",
       "    }\n",
       "\n",
       "    .dataframe tbody tr th {\n",
       "        vertical-align: top;\n",
       "    }\n",
       "\n",
       "    .dataframe thead th {\n",
       "        text-align: right;\n",
       "    }\n",
       "</style>\n",
       "<table border=\"1\" class=\"dataframe\">\n",
       "  <thead>\n",
       "    <tr style=\"text-align: right;\">\n",
       "      <th></th>\n",
       "      <th>mileage</th>\n",
       "      <th>reported_issues</th>\n",
       "      <th>vehicle_age</th>\n",
       "      <th>engine_size</th>\n",
       "      <th>odometer_reading</th>\n",
       "      <th>insurance_premium</th>\n",
       "      <th>service_history</th>\n",
       "      <th>accident_history</th>\n",
       "      <th>fuel_efficiency</th>\n",
       "      <th>vehicle_model_Bus</th>\n",
       "      <th>vehicle_model_Car</th>\n",
       "      <th>vehicle_model_Motorcycle</th>\n",
       "      <th>vehicle_model_SUV</th>\n",
       "      <th>vehicle_model_Truck</th>\n",
       "      <th>vehicle_model_Van</th>\n",
       "      <th>maintenance_history_Average</th>\n",
       "      <th>maintenance_history_Good</th>\n",
       "      <th>maintenance_history_Poor</th>\n",
       "      <th>fuel_type_Diesel</th>\n",
       "      <th>fuel_type_Electric</th>\n",
       "      <th>fuel_type_Petrol</th>\n",
       "      <th>transmission_type_Automatic</th>\n",
       "      <th>transmission_type_Manual</th>\n",
       "      <th>owner_type_First</th>\n",
       "      <th>owner_type_Second</th>\n",
       "      <th>owner_type_Third</th>\n",
       "      <th>tire_condition_Good</th>\n",
       "      <th>tire_condition_New</th>\n",
       "      <th>tire_condition_Worn Out</th>\n",
       "      <th>brake_condition_Good</th>\n",
       "      <th>brake_condition_New</th>\n",
       "      <th>brake_condition_Worn Out</th>\n",
       "      <th>battery_status_Good</th>\n",
       "      <th>battery_status_New</th>\n",
       "      <th>battery_status_Weak</th>\n",
       "      <th>need_maintenance</th>\n",
       "    </tr>\n",
       "  </thead>\n",
       "  <tbody>\n",
       "    <tr>\n",
       "      <th>0</th>\n",
       "      <td>0.266201</td>\n",
       "      <td>-1.461536</td>\n",
       "      <td>-0.518929</td>\n",
       "      <td>0.706912</td>\n",
       "      <td>-1.091430</td>\n",
       "      <td>0.459160</td>\n",
       "      <td>0.168508</td>\n",
       "      <td>1.338492</td>\n",
       "      <td>-0.474127</td>\n",
       "      <td>0.0</td>\n",
       "      <td>0.0</td>\n",
       "      <td>0.0</td>\n",
       "      <td>0.0</td>\n",
       "      <td>1.0</td>\n",
       "      <td>0.0</td>\n",
       "      <td>0.0</td>\n",
       "      <td>1.0</td>\n",
       "      <td>0.0</td>\n",
       "      <td>0.0</td>\n",
       "      <td>1.0</td>\n",
       "      <td>0.0</td>\n",
       "      <td>1.0</td>\n",
       "      <td>0.0</td>\n",
       "      <td>0.0</td>\n",
       "      <td>1.0</td>\n",
       "      <td>0.0</td>\n",
       "      <td>0.0</td>\n",
       "      <td>1.0</td>\n",
       "      <td>0.0</td>\n",
       "      <td>0.0</td>\n",
       "      <td>1.0</td>\n",
       "      <td>0.0</td>\n",
       "      <td>0.0</td>\n",
       "      <td>0.0</td>\n",
       "      <td>1.0</td>\n",
       "      <td>1</td>\n",
       "    </tr>\n",
       "    <tr>\n",
       "      <th>1</th>\n",
       "      <td>0.376465</td>\n",
       "      <td>-0.876318</td>\n",
       "      <td>0.524312</td>\n",
       "      <td>1.503508</td>\n",
       "      <td>1.347922</td>\n",
       "      <td>0.833918</td>\n",
       "      <td>0.516350</td>\n",
       "      <td>-1.341279</td>\n",
       "      <td>-0.473052</td>\n",
       "      <td>0.0</td>\n",
       "      <td>0.0</td>\n",
       "      <td>0.0</td>\n",
       "      <td>0.0</td>\n",
       "      <td>0.0</td>\n",
       "      <td>1.0</td>\n",
       "      <td>1.0</td>\n",
       "      <td>0.0</td>\n",
       "      <td>0.0</td>\n",
       "      <td>0.0</td>\n",
       "      <td>1.0</td>\n",
       "      <td>0.0</td>\n",
       "      <td>1.0</td>\n",
       "      <td>0.0</td>\n",
       "      <td>0.0</td>\n",
       "      <td>1.0</td>\n",
       "      <td>0.0</td>\n",
       "      <td>0.0</td>\n",
       "      <td>1.0</td>\n",
       "      <td>0.0</td>\n",
       "      <td>0.0</td>\n",
       "      <td>1.0</td>\n",
       "      <td>0.0</td>\n",
       "      <td>0.0</td>\n",
       "      <td>0.0</td>\n",
       "      <td>1.0</td>\n",
       "      <td>1</td>\n",
       "    </tr>\n",
       "    <tr>\n",
       "      <th>2</th>\n",
       "      <td>0.912441</td>\n",
       "      <td>-1.461536</td>\n",
       "      <td>-1.214423</td>\n",
       "      <td>-0.089684</td>\n",
       "      <td>-0.963830</td>\n",
       "      <td>0.071111</td>\n",
       "      <td>0.516350</td>\n",
       "      <td>-1.341279</td>\n",
       "      <td>-0.237050</td>\n",
       "      <td>1.0</td>\n",
       "      <td>0.0</td>\n",
       "      <td>0.0</td>\n",
       "      <td>0.0</td>\n",
       "      <td>0.0</td>\n",
       "      <td>0.0</td>\n",
       "      <td>0.0</td>\n",
       "      <td>0.0</td>\n",
       "      <td>1.0</td>\n",
       "      <td>0.0</td>\n",
       "      <td>1.0</td>\n",
       "      <td>0.0</td>\n",
       "      <td>1.0</td>\n",
       "      <td>0.0</td>\n",
       "      <td>1.0</td>\n",
       "      <td>0.0</td>\n",
       "      <td>0.0</td>\n",
       "      <td>0.0</td>\n",
       "      <td>1.0</td>\n",
       "      <td>0.0</td>\n",
       "      <td>1.0</td>\n",
       "      <td>0.0</td>\n",
       "      <td>0.0</td>\n",
       "      <td>0.0</td>\n",
       "      <td>0.0</td>\n",
       "      <td>1.0</td>\n",
       "      <td>1</td>\n",
       "    </tr>\n",
       "    <tr>\n",
       "      <th>3</th>\n",
       "      <td>0.410906</td>\n",
       "      <td>0.879338</td>\n",
       "      <td>-0.171182</td>\n",
       "      <td>1.503508</td>\n",
       "      <td>0.141219</td>\n",
       "      <td>-1.556810</td>\n",
       "      <td>0.516350</td>\n",
       "      <td>1.338492</td>\n",
       "      <td>1.288884</td>\n",
       "      <td>1.0</td>\n",
       "      <td>0.0</td>\n",
       "      <td>0.0</td>\n",
       "      <td>0.0</td>\n",
       "      <td>0.0</td>\n",
       "      <td>0.0</td>\n",
       "      <td>1.0</td>\n",
       "      <td>0.0</td>\n",
       "      <td>0.0</td>\n",
       "      <td>0.0</td>\n",
       "      <td>0.0</td>\n",
       "      <td>1.0</td>\n",
       "      <td>1.0</td>\n",
       "      <td>0.0</td>\n",
       "      <td>0.0</td>\n",
       "      <td>1.0</td>\n",
       "      <td>0.0</td>\n",
       "      <td>0.0</td>\n",
       "      <td>1.0</td>\n",
       "      <td>0.0</td>\n",
       "      <td>0.0</td>\n",
       "      <td>0.0</td>\n",
       "      <td>1.0</td>\n",
       "      <td>0.0</td>\n",
       "      <td>1.0</td>\n",
       "      <td>0.0</td>\n",
       "      <td>1</td>\n",
       "    </tr>\n",
       "    <tr>\n",
       "      <th>4</th>\n",
       "      <td>-0.638063</td>\n",
       "      <td>1.464556</td>\n",
       "      <td>-1.562170</td>\n",
       "      <td>0.706912</td>\n",
       "      <td>0.501554</td>\n",
       "      <td>-0.141118</td>\n",
       "      <td>0.168508</td>\n",
       "      <td>0.445235</td>\n",
       "      <td>0.688658</td>\n",
       "      <td>1.0</td>\n",
       "      <td>0.0</td>\n",
       "      <td>0.0</td>\n",
       "      <td>0.0</td>\n",
       "      <td>0.0</td>\n",
       "      <td>0.0</td>\n",
       "      <td>0.0</td>\n",
       "      <td>0.0</td>\n",
       "      <td>1.0</td>\n",
       "      <td>0.0</td>\n",
       "      <td>0.0</td>\n",
       "      <td>1.0</td>\n",
       "      <td>0.0</td>\n",
       "      <td>1.0</td>\n",
       "      <td>0.0</td>\n",
       "      <td>0.0</td>\n",
       "      <td>1.0</td>\n",
       "      <td>1.0</td>\n",
       "      <td>0.0</td>\n",
       "      <td>0.0</td>\n",
       "      <td>1.0</td>\n",
       "      <td>0.0</td>\n",
       "      <td>0.0</td>\n",
       "      <td>0.0</td>\n",
       "      <td>0.0</td>\n",
       "      <td>1.0</td>\n",
       "      <td>1</td>\n",
       "    </tr>\n",
       "    <tr>\n",
       "      <th>...</th>\n",
       "      <td>...</td>\n",
       "      <td>...</td>\n",
       "      <td>...</td>\n",
       "      <td>...</td>\n",
       "      <td>...</td>\n",
       "      <td>...</td>\n",
       "      <td>...</td>\n",
       "      <td>...</td>\n",
       "      <td>...</td>\n",
       "      <td>...</td>\n",
       "      <td>...</td>\n",
       "      <td>...</td>\n",
       "      <td>...</td>\n",
       "      <td>...</td>\n",
       "      <td>...</td>\n",
       "      <td>...</td>\n",
       "      <td>...</td>\n",
       "      <td>...</td>\n",
       "      <td>...</td>\n",
       "      <td>...</td>\n",
       "      <td>...</td>\n",
       "      <td>...</td>\n",
       "      <td>...</td>\n",
       "      <td>...</td>\n",
       "      <td>...</td>\n",
       "      <td>...</td>\n",
       "      <td>...</td>\n",
       "      <td>...</td>\n",
       "      <td>...</td>\n",
       "      <td>...</td>\n",
       "      <td>...</td>\n",
       "      <td>...</td>\n",
       "      <td>...</td>\n",
       "      <td>...</td>\n",
       "      <td>...</td>\n",
       "      <td>...</td>\n",
       "    </tr>\n",
       "    <tr>\n",
       "      <th>49995</th>\n",
       "      <td>1.548266</td>\n",
       "      <td>0.294119</td>\n",
       "      <td>0.176565</td>\n",
       "      <td>1.503508</td>\n",
       "      <td>0.507171</td>\n",
       "      <td>-1.695666</td>\n",
       "      <td>-0.527175</td>\n",
       "      <td>-0.448022</td>\n",
       "      <td>-1.605593</td>\n",
       "      <td>0.0</td>\n",
       "      <td>1.0</td>\n",
       "      <td>0.0</td>\n",
       "      <td>0.0</td>\n",
       "      <td>0.0</td>\n",
       "      <td>0.0</td>\n",
       "      <td>0.0</td>\n",
       "      <td>1.0</td>\n",
       "      <td>0.0</td>\n",
       "      <td>1.0</td>\n",
       "      <td>0.0</td>\n",
       "      <td>0.0</td>\n",
       "      <td>1.0</td>\n",
       "      <td>0.0</td>\n",
       "      <td>0.0</td>\n",
       "      <td>0.0</td>\n",
       "      <td>1.0</td>\n",
       "      <td>0.0</td>\n",
       "      <td>1.0</td>\n",
       "      <td>0.0</td>\n",
       "      <td>1.0</td>\n",
       "      <td>0.0</td>\n",
       "      <td>0.0</td>\n",
       "      <td>0.0</td>\n",
       "      <td>0.0</td>\n",
       "      <td>1.0</td>\n",
       "      <td>1</td>\n",
       "    </tr>\n",
       "    <tr>\n",
       "      <th>49996</th>\n",
       "      <td>-0.013140</td>\n",
       "      <td>0.879338</td>\n",
       "      <td>-0.518929</td>\n",
       "      <td>-1.204918</td>\n",
       "      <td>-1.441948</td>\n",
       "      <td>-0.222798</td>\n",
       "      <td>-0.527175</td>\n",
       "      <td>-0.448022</td>\n",
       "      <td>-0.022977</td>\n",
       "      <td>0.0</td>\n",
       "      <td>0.0</td>\n",
       "      <td>0.0</td>\n",
       "      <td>0.0</td>\n",
       "      <td>1.0</td>\n",
       "      <td>0.0</td>\n",
       "      <td>0.0</td>\n",
       "      <td>1.0</td>\n",
       "      <td>0.0</td>\n",
       "      <td>1.0</td>\n",
       "      <td>0.0</td>\n",
       "      <td>0.0</td>\n",
       "      <td>0.0</td>\n",
       "      <td>1.0</td>\n",
       "      <td>0.0</td>\n",
       "      <td>1.0</td>\n",
       "      <td>0.0</td>\n",
       "      <td>0.0</td>\n",
       "      <td>0.0</td>\n",
       "      <td>1.0</td>\n",
       "      <td>0.0</td>\n",
       "      <td>1.0</td>\n",
       "      <td>0.0</td>\n",
       "      <td>1.0</td>\n",
       "      <td>0.0</td>\n",
       "      <td>0.0</td>\n",
       "      <td>1</td>\n",
       "    </tr>\n",
       "    <tr>\n",
       "      <th>49997</th>\n",
       "      <td>1.435224</td>\n",
       "      <td>-1.461536</td>\n",
       "      <td>-0.518929</td>\n",
       "      <td>-0.089684</td>\n",
       "      <td>1.144174</td>\n",
       "      <td>-1.584637</td>\n",
       "      <td>1.559876</td>\n",
       "      <td>-1.341279</td>\n",
       "      <td>1.687343</td>\n",
       "      <td>0.0</td>\n",
       "      <td>0.0</td>\n",
       "      <td>0.0</td>\n",
       "      <td>0.0</td>\n",
       "      <td>0.0</td>\n",
       "      <td>1.0</td>\n",
       "      <td>0.0</td>\n",
       "      <td>0.0</td>\n",
       "      <td>1.0</td>\n",
       "      <td>0.0</td>\n",
       "      <td>1.0</td>\n",
       "      <td>0.0</td>\n",
       "      <td>1.0</td>\n",
       "      <td>0.0</td>\n",
       "      <td>1.0</td>\n",
       "      <td>0.0</td>\n",
       "      <td>0.0</td>\n",
       "      <td>0.0</td>\n",
       "      <td>0.0</td>\n",
       "      <td>1.0</td>\n",
       "      <td>0.0</td>\n",
       "      <td>0.0</td>\n",
       "      <td>1.0</td>\n",
       "      <td>0.0</td>\n",
       "      <td>0.0</td>\n",
       "      <td>1.0</td>\n",
       "      <td>1</td>\n",
       "    </tr>\n",
       "    <tr>\n",
       "      <th>49998</th>\n",
       "      <td>0.781138</td>\n",
       "      <td>-0.876318</td>\n",
       "      <td>0.524312</td>\n",
       "      <td>1.503508</td>\n",
       "      <td>0.641270</td>\n",
       "      <td>-1.721554</td>\n",
       "      <td>-0.527175</td>\n",
       "      <td>1.338492</td>\n",
       "      <td>-1.479705</td>\n",
       "      <td>0.0</td>\n",
       "      <td>1.0</td>\n",
       "      <td>0.0</td>\n",
       "      <td>0.0</td>\n",
       "      <td>0.0</td>\n",
       "      <td>0.0</td>\n",
       "      <td>0.0</td>\n",
       "      <td>1.0</td>\n",
       "      <td>0.0</td>\n",
       "      <td>0.0</td>\n",
       "      <td>1.0</td>\n",
       "      <td>0.0</td>\n",
       "      <td>0.0</td>\n",
       "      <td>1.0</td>\n",
       "      <td>0.0</td>\n",
       "      <td>0.0</td>\n",
       "      <td>1.0</td>\n",
       "      <td>0.0</td>\n",
       "      <td>1.0</td>\n",
       "      <td>0.0</td>\n",
       "      <td>1.0</td>\n",
       "      <td>0.0</td>\n",
       "      <td>0.0</td>\n",
       "      <td>0.0</td>\n",
       "      <td>0.0</td>\n",
       "      <td>1.0</td>\n",
       "      <td>1</td>\n",
       "    </tr>\n",
       "    <tr>\n",
       "      <th>49999</th>\n",
       "      <td>1.157758</td>\n",
       "      <td>-1.461536</td>\n",
       "      <td>1.567554</td>\n",
       "      <td>0.706912</td>\n",
       "      <td>-0.228144</td>\n",
       "      <td>-1.148272</td>\n",
       "      <td>0.168508</td>\n",
       "      <td>1.338492</td>\n",
       "      <td>0.463905</td>\n",
       "      <td>0.0</td>\n",
       "      <td>1.0</td>\n",
       "      <td>0.0</td>\n",
       "      <td>0.0</td>\n",
       "      <td>0.0</td>\n",
       "      <td>0.0</td>\n",
       "      <td>0.0</td>\n",
       "      <td>0.0</td>\n",
       "      <td>1.0</td>\n",
       "      <td>0.0</td>\n",
       "      <td>0.0</td>\n",
       "      <td>1.0</td>\n",
       "      <td>0.0</td>\n",
       "      <td>1.0</td>\n",
       "      <td>0.0</td>\n",
       "      <td>0.0</td>\n",
       "      <td>1.0</td>\n",
       "      <td>1.0</td>\n",
       "      <td>0.0</td>\n",
       "      <td>0.0</td>\n",
       "      <td>0.0</td>\n",
       "      <td>1.0</td>\n",
       "      <td>0.0</td>\n",
       "      <td>1.0</td>\n",
       "      <td>0.0</td>\n",
       "      <td>0.0</td>\n",
       "      <td>0</td>\n",
       "    </tr>\n",
       "  </tbody>\n",
       "</table>\n",
       "<p>50000 rows × 36 columns</p>\n",
       "</div>"
      ],
      "text/plain": [
       "        mileage  reported_issues  vehicle_age  engine_size  odometer_reading  \\\n",
       "0      0.266201        -1.461536    -0.518929     0.706912         -1.091430   \n",
       "1      0.376465        -0.876318     0.524312     1.503508          1.347922   \n",
       "2      0.912441        -1.461536    -1.214423    -0.089684         -0.963830   \n",
       "3      0.410906         0.879338    -0.171182     1.503508          0.141219   \n",
       "4     -0.638063         1.464556    -1.562170     0.706912          0.501554   \n",
       "...         ...              ...          ...          ...               ...   \n",
       "49995  1.548266         0.294119     0.176565     1.503508          0.507171   \n",
       "49996 -0.013140         0.879338    -0.518929    -1.204918         -1.441948   \n",
       "49997  1.435224        -1.461536    -0.518929    -0.089684          1.144174   \n",
       "49998  0.781138        -0.876318     0.524312     1.503508          0.641270   \n",
       "49999  1.157758        -1.461536     1.567554     0.706912         -0.228144   \n",
       "\n",
       "       insurance_premium  service_history  accident_history  fuel_efficiency  \\\n",
       "0               0.459160         0.168508          1.338492        -0.474127   \n",
       "1               0.833918         0.516350         -1.341279        -0.473052   \n",
       "2               0.071111         0.516350         -1.341279        -0.237050   \n",
       "3              -1.556810         0.516350          1.338492         1.288884   \n",
       "4              -0.141118         0.168508          0.445235         0.688658   \n",
       "...                  ...              ...               ...              ...   \n",
       "49995          -1.695666        -0.527175         -0.448022        -1.605593   \n",
       "49996          -0.222798        -0.527175         -0.448022        -0.022977   \n",
       "49997          -1.584637         1.559876         -1.341279         1.687343   \n",
       "49998          -1.721554        -0.527175          1.338492        -1.479705   \n",
       "49999          -1.148272         0.168508          1.338492         0.463905   \n",
       "\n",
       "       vehicle_model_Bus  vehicle_model_Car  vehicle_model_Motorcycle  \\\n",
       "0                    0.0                0.0                       0.0   \n",
       "1                    0.0                0.0                       0.0   \n",
       "2                    1.0                0.0                       0.0   \n",
       "3                    1.0                0.0                       0.0   \n",
       "4                    1.0                0.0                       0.0   \n",
       "...                  ...                ...                       ...   \n",
       "49995                0.0                1.0                       0.0   \n",
       "49996                0.0                0.0                       0.0   \n",
       "49997                0.0                0.0                       0.0   \n",
       "49998                0.0                1.0                       0.0   \n",
       "49999                0.0                1.0                       0.0   \n",
       "\n",
       "       vehicle_model_SUV  vehicle_model_Truck  vehicle_model_Van  \\\n",
       "0                    0.0                  1.0                0.0   \n",
       "1                    0.0                  0.0                1.0   \n",
       "2                    0.0                  0.0                0.0   \n",
       "3                    0.0                  0.0                0.0   \n",
       "4                    0.0                  0.0                0.0   \n",
       "...                  ...                  ...                ...   \n",
       "49995                0.0                  0.0                0.0   \n",
       "49996                0.0                  1.0                0.0   \n",
       "49997                0.0                  0.0                1.0   \n",
       "49998                0.0                  0.0                0.0   \n",
       "49999                0.0                  0.0                0.0   \n",
       "\n",
       "       maintenance_history_Average  maintenance_history_Good  \\\n",
       "0                              0.0                       1.0   \n",
       "1                              1.0                       0.0   \n",
       "2                              0.0                       0.0   \n",
       "3                              1.0                       0.0   \n",
       "4                              0.0                       0.0   \n",
       "...                            ...                       ...   \n",
       "49995                          0.0                       1.0   \n",
       "49996                          0.0                       1.0   \n",
       "49997                          0.0                       0.0   \n",
       "49998                          0.0                       1.0   \n",
       "49999                          0.0                       0.0   \n",
       "\n",
       "       maintenance_history_Poor  fuel_type_Diesel  fuel_type_Electric  \\\n",
       "0                           0.0               0.0                 1.0   \n",
       "1                           0.0               0.0                 1.0   \n",
       "2                           1.0               0.0                 1.0   \n",
       "3                           0.0               0.0                 0.0   \n",
       "4                           1.0               0.0                 0.0   \n",
       "...                         ...               ...                 ...   \n",
       "49995                       0.0               1.0                 0.0   \n",
       "49996                       0.0               1.0                 0.0   \n",
       "49997                       1.0               0.0                 1.0   \n",
       "49998                       0.0               0.0                 1.0   \n",
       "49999                       1.0               0.0                 0.0   \n",
       "\n",
       "       fuel_type_Petrol  transmission_type_Automatic  \\\n",
       "0                   0.0                          1.0   \n",
       "1                   0.0                          1.0   \n",
       "2                   0.0                          1.0   \n",
       "3                   1.0                          1.0   \n",
       "4                   1.0                          0.0   \n",
       "...                 ...                          ...   \n",
       "49995               0.0                          1.0   \n",
       "49996               0.0                          0.0   \n",
       "49997               0.0                          1.0   \n",
       "49998               0.0                          0.0   \n",
       "49999               1.0                          0.0   \n",
       "\n",
       "       transmission_type_Manual  owner_type_First  owner_type_Second  \\\n",
       "0                           0.0               0.0                1.0   \n",
       "1                           0.0               0.0                1.0   \n",
       "2                           0.0               1.0                0.0   \n",
       "3                           0.0               0.0                1.0   \n",
       "4                           1.0               0.0                0.0   \n",
       "...                         ...               ...                ...   \n",
       "49995                       0.0               0.0                0.0   \n",
       "49996                       1.0               0.0                1.0   \n",
       "49997                       0.0               1.0                0.0   \n",
       "49998                       1.0               0.0                0.0   \n",
       "49999                       1.0               0.0                0.0   \n",
       "\n",
       "       owner_type_Third  tire_condition_Good  tire_condition_New  \\\n",
       "0                   0.0                  0.0                 1.0   \n",
       "1                   0.0                  0.0                 1.0   \n",
       "2                   0.0                  0.0                 1.0   \n",
       "3                   0.0                  0.0                 1.0   \n",
       "4                   1.0                  1.0                 0.0   \n",
       "...                 ...                  ...                 ...   \n",
       "49995               1.0                  0.0                 1.0   \n",
       "49996               0.0                  0.0                 0.0   \n",
       "49997               0.0                  0.0                 0.0   \n",
       "49998               1.0                  0.0                 1.0   \n",
       "49999               1.0                  1.0                 0.0   \n",
       "\n",
       "       tire_condition_Worn Out  brake_condition_Good  brake_condition_New  \\\n",
       "0                          0.0                   0.0                  1.0   \n",
       "1                          0.0                   0.0                  1.0   \n",
       "2                          0.0                   1.0                  0.0   \n",
       "3                          0.0                   0.0                  0.0   \n",
       "4                          0.0                   1.0                  0.0   \n",
       "...                        ...                   ...                  ...   \n",
       "49995                      0.0                   1.0                  0.0   \n",
       "49996                      1.0                   0.0                  1.0   \n",
       "49997                      1.0                   0.0                  0.0   \n",
       "49998                      0.0                   1.0                  0.0   \n",
       "49999                      0.0                   0.0                  1.0   \n",
       "\n",
       "       brake_condition_Worn Out  battery_status_Good  battery_status_New  \\\n",
       "0                           0.0                  0.0                 0.0   \n",
       "1                           0.0                  0.0                 0.0   \n",
       "2                           0.0                  0.0                 0.0   \n",
       "3                           1.0                  0.0                 1.0   \n",
       "4                           0.0                  0.0                 0.0   \n",
       "...                         ...                  ...                 ...   \n",
       "49995                       0.0                  0.0                 0.0   \n",
       "49996                       0.0                  1.0                 0.0   \n",
       "49997                       1.0                  0.0                 0.0   \n",
       "49998                       0.0                  0.0                 0.0   \n",
       "49999                       0.0                  1.0                 0.0   \n",
       "\n",
       "       battery_status_Weak  need_maintenance  \n",
       "0                      1.0                 1  \n",
       "1                      1.0                 1  \n",
       "2                      1.0                 1  \n",
       "3                      0.0                 1  \n",
       "4                      1.0                 1  \n",
       "...                    ...               ...  \n",
       "49995                  1.0                 1  \n",
       "49996                  0.0                 1  \n",
       "49997                  1.0                 1  \n",
       "49998                  1.0                 1  \n",
       "49999                  0.0                 0  \n",
       "\n",
       "[50000 rows x 36 columns]"
      ]
     },
     "execution_count": 37,
     "metadata": {},
     "output_type": "execute_result"
    }
   ],
   "source": [
    "X_processed"
   ]
  },
  {
   "cell_type": "code",
   "execution_count": 28,
   "metadata": {},
   "outputs": [
    {
     "name": "stdout",
     "output_type": "stream",
     "text": [
      "<class 'pandas.core.frame.DataFrame'>\n",
      "RangeIndex: 50000 entries, 0 to 49999\n",
      "Data columns (total 20 columns):\n",
      " #   Column                Non-Null Count  Dtype         \n",
      "---  ------                --------------  -----         \n",
      " 0   vehicle_model         50000 non-null  category      \n",
      " 1   mileage               50000 non-null  Int64         \n",
      " 2   maintenance_history   50000 non-null  category      \n",
      " 3   reported_issues       50000 non-null  Int64         \n",
      " 4   vehicle_age           50000 non-null  Int64         \n",
      " 5   fuel_type             50000 non-null  category      \n",
      " 6   transmission_type     50000 non-null  category      \n",
      " 7   engine_size           50000 non-null  Int64         \n",
      " 8   odometer_reading      50000 non-null  Int64         \n",
      " 9   last_service_date     50000 non-null  datetime64[ns]\n",
      " 10  warranty_expiry_date  50000 non-null  datetime64[ns]\n",
      " 11  owner_type            50000 non-null  category      \n",
      " 12  insurance_premium     50000 non-null  float64       \n",
      " 13  service_history       50000 non-null  Int64         \n",
      " 14  accident_history      50000 non-null  Int64         \n",
      " 15  fuel_efficiency       50000 non-null  float64       \n",
      " 16  tire_condition        50000 non-null  category      \n",
      " 17  brake_condition       50000 non-null  category      \n",
      " 18  battery_status        50000 non-null  category      \n",
      " 19  need_maintenance      50000 non-null  Int64         \n",
      "dtypes: Int64(8), category(8), datetime64[ns](2), float64(2)\n",
      "memory usage: 5.3 MB\n"
     ]
    }
   ],
   "source": [
    "df.info()"
   ]
  },
  {
   "cell_type": "code",
   "execution_count": 26,
   "metadata": {},
   "outputs": [
    {
     "data": {
      "text/html": [
       "<div>\n",
       "<style scoped>\n",
       "    .dataframe tbody tr th:only-of-type {\n",
       "        vertical-align: middle;\n",
       "    }\n",
       "\n",
       "    .dataframe tbody tr th {\n",
       "        vertical-align: top;\n",
       "    }\n",
       "\n",
       "    .dataframe thead th {\n",
       "        text-align: right;\n",
       "    }\n",
       "</style>\n",
       "<table border=\"1\" class=\"dataframe\">\n",
       "  <thead>\n",
       "    <tr style=\"text-align: right;\">\n",
       "      <th></th>\n",
       "      <th>vehicle_model</th>\n",
       "      <th>mileage</th>\n",
       "      <th>maintenance_history</th>\n",
       "      <th>reported_issues</th>\n",
       "      <th>vehicle_age</th>\n",
       "      <th>fuel_type</th>\n",
       "      <th>transmission_type</th>\n",
       "      <th>engine_size</th>\n",
       "      <th>odometer_reading</th>\n",
       "      <th>last_service_date</th>\n",
       "      <th>warranty_expiry_date</th>\n",
       "      <th>owner_type</th>\n",
       "      <th>insurance_premium</th>\n",
       "      <th>service_history</th>\n",
       "      <th>accident_history</th>\n",
       "      <th>fuel_efficiency</th>\n",
       "      <th>tire_condition</th>\n",
       "      <th>brake_condition</th>\n",
       "      <th>battery_status</th>\n",
       "    </tr>\n",
       "  </thead>\n",
       "  <tbody>\n",
       "    <tr>\n",
       "      <th>0</th>\n",
       "      <td>Truck</td>\n",
       "      <td>58765</td>\n",
       "      <td>Good</td>\n",
       "      <td>0</td>\n",
       "      <td>4</td>\n",
       "      <td>Electric</td>\n",
       "      <td>Automatic</td>\n",
       "      <td>2000</td>\n",
       "      <td>28524</td>\n",
       "      <td>2023-11-23</td>\n",
       "      <td>2025-06-24</td>\n",
       "      <td>Second</td>\n",
       "      <td>20782.0</td>\n",
       "      <td>6</td>\n",
       "      <td>3</td>\n",
       "      <td>13.622204</td>\n",
       "      <td>New</td>\n",
       "      <td>New</td>\n",
       "      <td>Weak</td>\n",
       "    </tr>\n",
       "    <tr>\n",
       "      <th>1</th>\n",
       "      <td>Van</td>\n",
       "      <td>60353</td>\n",
       "      <td>Average</td>\n",
       "      <td>1</td>\n",
       "      <td>7</td>\n",
       "      <td>Electric</td>\n",
       "      <td>Automatic</td>\n",
       "      <td>2500</td>\n",
       "      <td>133630</td>\n",
       "      <td>2023-09-21</td>\n",
       "      <td>2025-06-04</td>\n",
       "      <td>Second</td>\n",
       "      <td>23489.0</td>\n",
       "      <td>7</td>\n",
       "      <td>0</td>\n",
       "      <td>13.625307</td>\n",
       "      <td>New</td>\n",
       "      <td>New</td>\n",
       "      <td>Weak</td>\n",
       "    </tr>\n",
       "    <tr>\n",
       "      <th>2</th>\n",
       "      <td>Bus</td>\n",
       "      <td>68072</td>\n",
       "      <td>Poor</td>\n",
       "      <td>0</td>\n",
       "      <td>2</td>\n",
       "      <td>Electric</td>\n",
       "      <td>Automatic</td>\n",
       "      <td>1500</td>\n",
       "      <td>34022</td>\n",
       "      <td>2023-06-27</td>\n",
       "      <td>2025-04-27</td>\n",
       "      <td>First</td>\n",
       "      <td>17979.0</td>\n",
       "      <td>7</td>\n",
       "      <td>0</td>\n",
       "      <td>14.306302</td>\n",
       "      <td>New</td>\n",
       "      <td>Good</td>\n",
       "      <td>Weak</td>\n",
       "    </tr>\n",
       "    <tr>\n",
       "      <th>3</th>\n",
       "      <td>Bus</td>\n",
       "      <td>60849</td>\n",
       "      <td>Average</td>\n",
       "      <td>4</td>\n",
       "      <td>5</td>\n",
       "      <td>Petrol</td>\n",
       "      <td>Automatic</td>\n",
       "      <td>2500</td>\n",
       "      <td>81636</td>\n",
       "      <td>2023-08-24</td>\n",
       "      <td>2025-11-05</td>\n",
       "      <td>Second</td>\n",
       "      <td>6220.0</td>\n",
       "      <td>7</td>\n",
       "      <td>3</td>\n",
       "      <td>18.709467</td>\n",
       "      <td>New</td>\n",
       "      <td>Worn Out</td>\n",
       "      <td>New</td>\n",
       "    </tr>\n",
       "    <tr>\n",
       "      <th>4</th>\n",
       "      <td>Bus</td>\n",
       "      <td>45742</td>\n",
       "      <td>Poor</td>\n",
       "      <td>5</td>\n",
       "      <td>1</td>\n",
       "      <td>Petrol</td>\n",
       "      <td>Manual</td>\n",
       "      <td>2000</td>\n",
       "      <td>97162</td>\n",
       "      <td>2023-05-25</td>\n",
       "      <td>2025-09-14</td>\n",
       "      <td>Third</td>\n",
       "      <td>16446.0</td>\n",
       "      <td>6</td>\n",
       "      <td>2</td>\n",
       "      <td>16.977483</td>\n",
       "      <td>Good</td>\n",
       "      <td>Good</td>\n",
       "      <td>Weak</td>\n",
       "    </tr>\n",
       "    <tr>\n",
       "      <th>...</th>\n",
       "      <td>...</td>\n",
       "      <td>...</td>\n",
       "      <td>...</td>\n",
       "      <td>...</td>\n",
       "      <td>...</td>\n",
       "      <td>...</td>\n",
       "      <td>...</td>\n",
       "      <td>...</td>\n",
       "      <td>...</td>\n",
       "      <td>...</td>\n",
       "      <td>...</td>\n",
       "      <td>...</td>\n",
       "      <td>...</td>\n",
       "      <td>...</td>\n",
       "      <td>...</td>\n",
       "      <td>...</td>\n",
       "      <td>...</td>\n",
       "      <td>...</td>\n",
       "      <td>...</td>\n",
       "    </tr>\n",
       "    <tr>\n",
       "      <th>49995</th>\n",
       "      <td>Car</td>\n",
       "      <td>77229</td>\n",
       "      <td>Good</td>\n",
       "      <td>3</td>\n",
       "      <td>6</td>\n",
       "      <td>Diesel</td>\n",
       "      <td>Automatic</td>\n",
       "      <td>2500</td>\n",
       "      <td>97404</td>\n",
       "      <td>2023-11-24</td>\n",
       "      <td>2025-09-15</td>\n",
       "      <td>Third</td>\n",
       "      <td>5217.0</td>\n",
       "      <td>4</td>\n",
       "      <td>1</td>\n",
       "      <td>10.357298</td>\n",
       "      <td>New</td>\n",
       "      <td>Good</td>\n",
       "      <td>Weak</td>\n",
       "    </tr>\n",
       "    <tr>\n",
       "      <th>49996</th>\n",
       "      <td>Truck</td>\n",
       "      <td>54742</td>\n",
       "      <td>Good</td>\n",
       "      <td>4</td>\n",
       "      <td>4</td>\n",
       "      <td>Diesel</td>\n",
       "      <td>Manual</td>\n",
       "      <td>800</td>\n",
       "      <td>13421</td>\n",
       "      <td>2023-07-14</td>\n",
       "      <td>2025-01-21</td>\n",
       "      <td>Second</td>\n",
       "      <td>15856.0</td>\n",
       "      <td>4</td>\n",
       "      <td>1</td>\n",
       "      <td>14.924022</td>\n",
       "      <td>Worn Out</td>\n",
       "      <td>New</td>\n",
       "      <td>Good</td>\n",
       "    </tr>\n",
       "    <tr>\n",
       "      <th>49997</th>\n",
       "      <td>Van</td>\n",
       "      <td>75601</td>\n",
       "      <td>Poor</td>\n",
       "      <td>0</td>\n",
       "      <td>4</td>\n",
       "      <td>Electric</td>\n",
       "      <td>Automatic</td>\n",
       "      <td>1500</td>\n",
       "      <td>124851</td>\n",
       "      <td>2023-09-09</td>\n",
       "      <td>2024-11-09</td>\n",
       "      <td>First</td>\n",
       "      <td>6019.0</td>\n",
       "      <td>10</td>\n",
       "      <td>0</td>\n",
       "      <td>19.859243</td>\n",
       "      <td>Worn Out</td>\n",
       "      <td>Worn Out</td>\n",
       "      <td>Weak</td>\n",
       "    </tr>\n",
       "    <tr>\n",
       "      <th>49998</th>\n",
       "      <td>Car</td>\n",
       "      <td>66181</td>\n",
       "      <td>Good</td>\n",
       "      <td>1</td>\n",
       "      <td>7</td>\n",
       "      <td>Electric</td>\n",
       "      <td>Manual</td>\n",
       "      <td>2500</td>\n",
       "      <td>103182</td>\n",
       "      <td>2023-08-26</td>\n",
       "      <td>2025-05-22</td>\n",
       "      <td>Third</td>\n",
       "      <td>5030.0</td>\n",
       "      <td>4</td>\n",
       "      <td>3</td>\n",
       "      <td>10.720555</td>\n",
       "      <td>New</td>\n",
       "      <td>Good</td>\n",
       "      <td>Weak</td>\n",
       "    </tr>\n",
       "    <tr>\n",
       "      <th>49999</th>\n",
       "      <td>Car</td>\n",
       "      <td>71605</td>\n",
       "      <td>Poor</td>\n",
       "      <td>0</td>\n",
       "      <td>10</td>\n",
       "      <td>Petrol</td>\n",
       "      <td>Manual</td>\n",
       "      <td>2000</td>\n",
       "      <td>65721</td>\n",
       "      <td>2023-07-25</td>\n",
       "      <td>2024-06-06</td>\n",
       "      <td>Third</td>\n",
       "      <td>9171.0</td>\n",
       "      <td>6</td>\n",
       "      <td>3</td>\n",
       "      <td>16.328945</td>\n",
       "      <td>Good</td>\n",
       "      <td>New</td>\n",
       "      <td>Good</td>\n",
       "    </tr>\n",
       "  </tbody>\n",
       "</table>\n",
       "<p>50000 rows × 19 columns</p>\n",
       "</div>"
      ],
      "text/plain": [
       "      vehicle_model  mileage maintenance_history  reported_issues  \\\n",
       "0             Truck    58765                Good                0   \n",
       "1               Van    60353             Average                1   \n",
       "2               Bus    68072                Poor                0   \n",
       "3               Bus    60849             Average                4   \n",
       "4               Bus    45742                Poor                5   \n",
       "...             ...      ...                 ...              ...   \n",
       "49995           Car    77229                Good                3   \n",
       "49996         Truck    54742                Good                4   \n",
       "49997           Van    75601                Poor                0   \n",
       "49998           Car    66181                Good                1   \n",
       "49999           Car    71605                Poor                0   \n",
       "\n",
       "       vehicle_age fuel_type transmission_type  engine_size  odometer_reading  \\\n",
       "0                4  Electric         Automatic         2000             28524   \n",
       "1                7  Electric         Automatic         2500            133630   \n",
       "2                2  Electric         Automatic         1500             34022   \n",
       "3                5    Petrol         Automatic         2500             81636   \n",
       "4                1    Petrol            Manual         2000             97162   \n",
       "...            ...       ...               ...          ...               ...   \n",
       "49995            6    Diesel         Automatic         2500             97404   \n",
       "49996            4    Diesel            Manual          800             13421   \n",
       "49997            4  Electric         Automatic         1500            124851   \n",
       "49998            7  Electric            Manual         2500            103182   \n",
       "49999           10    Petrol            Manual         2000             65721   \n",
       "\n",
       "      last_service_date warranty_expiry_date owner_type  insurance_premium  \\\n",
       "0            2023-11-23           2025-06-24     Second            20782.0   \n",
       "1            2023-09-21           2025-06-04     Second            23489.0   \n",
       "2            2023-06-27           2025-04-27      First            17979.0   \n",
       "3            2023-08-24           2025-11-05     Second             6220.0   \n",
       "4            2023-05-25           2025-09-14      Third            16446.0   \n",
       "...                 ...                  ...        ...                ...   \n",
       "49995        2023-11-24           2025-09-15      Third             5217.0   \n",
       "49996        2023-07-14           2025-01-21     Second            15856.0   \n",
       "49997        2023-09-09           2024-11-09      First             6019.0   \n",
       "49998        2023-08-26           2025-05-22      Third             5030.0   \n",
       "49999        2023-07-25           2024-06-06      Third             9171.0   \n",
       "\n",
       "       service_history  accident_history  fuel_efficiency tire_condition  \\\n",
       "0                    6                 3        13.622204            New   \n",
       "1                    7                 0        13.625307            New   \n",
       "2                    7                 0        14.306302            New   \n",
       "3                    7                 3        18.709467            New   \n",
       "4                    6                 2        16.977483           Good   \n",
       "...                ...               ...              ...            ...   \n",
       "49995                4                 1        10.357298            New   \n",
       "49996                4                 1        14.924022       Worn Out   \n",
       "49997               10                 0        19.859243       Worn Out   \n",
       "49998                4                 3        10.720555            New   \n",
       "49999                6                 3        16.328945           Good   \n",
       "\n",
       "      brake_condition battery_status  \n",
       "0                 New           Weak  \n",
       "1                 New           Weak  \n",
       "2                Good           Weak  \n",
       "3            Worn Out            New  \n",
       "4                Good           Weak  \n",
       "...               ...            ...  \n",
       "49995            Good           Weak  \n",
       "49996             New           Good  \n",
       "49997        Worn Out           Weak  \n",
       "49998            Good           Weak  \n",
       "49999             New           Good  \n",
       "\n",
       "[50000 rows x 19 columns]"
      ]
     },
     "execution_count": 26,
     "metadata": {},
     "output_type": "execute_result"
    }
   ],
   "source": [
    "X"
   ]
  },
  {
   "cell_type": "code",
   "execution_count": 38,
   "metadata": {},
   "outputs": [
    {
     "data": {
      "text/html": [
       "<div>\n",
       "<style scoped>\n",
       "    .dataframe tbody tr th:only-of-type {\n",
       "        vertical-align: middle;\n",
       "    }\n",
       "\n",
       "    .dataframe tbody tr th {\n",
       "        vertical-align: top;\n",
       "    }\n",
       "\n",
       "    .dataframe thead th {\n",
       "        text-align: right;\n",
       "    }\n",
       "</style>\n",
       "<table border=\"1\" class=\"dataframe\">\n",
       "  <thead>\n",
       "    <tr style=\"text-align: right;\">\n",
       "      <th></th>\n",
       "      <th>vehicle_model</th>\n",
       "      <th>mileage</th>\n",
       "      <th>maintenance_history</th>\n",
       "      <th>reported_issues</th>\n",
       "      <th>vehicle_age</th>\n",
       "      <th>fuel_type</th>\n",
       "      <th>transmission_type</th>\n",
       "      <th>engine_size</th>\n",
       "      <th>odometer_reading</th>\n",
       "      <th>last_service_date</th>\n",
       "      <th>warranty_expiry_date</th>\n",
       "      <th>owner_type</th>\n",
       "      <th>insurance_premium</th>\n",
       "      <th>service_history</th>\n",
       "      <th>accident_history</th>\n",
       "      <th>fuel_efficiency</th>\n",
       "      <th>tire_condition</th>\n",
       "      <th>brake_condition</th>\n",
       "      <th>battery_status</th>\n",
       "      <th>need_maintenance</th>\n",
       "    </tr>\n",
       "  </thead>\n",
       "  <tbody>\n",
       "    <tr>\n",
       "      <th>0</th>\n",
       "      <td>Truck</td>\n",
       "      <td>58765</td>\n",
       "      <td>Good</td>\n",
       "      <td>0</td>\n",
       "      <td>4</td>\n",
       "      <td>Electric</td>\n",
       "      <td>Automatic</td>\n",
       "      <td>2000</td>\n",
       "      <td>28524</td>\n",
       "      <td>2023-11-23</td>\n",
       "      <td>2025-06-24</td>\n",
       "      <td>Second</td>\n",
       "      <td>20782.0</td>\n",
       "      <td>6</td>\n",
       "      <td>3</td>\n",
       "      <td>13.622204</td>\n",
       "      <td>New</td>\n",
       "      <td>New</td>\n",
       "      <td>Weak</td>\n",
       "      <td>1</td>\n",
       "    </tr>\n",
       "    <tr>\n",
       "      <th>1</th>\n",
       "      <td>Van</td>\n",
       "      <td>60353</td>\n",
       "      <td>Average</td>\n",
       "      <td>1</td>\n",
       "      <td>7</td>\n",
       "      <td>Electric</td>\n",
       "      <td>Automatic</td>\n",
       "      <td>2500</td>\n",
       "      <td>133630</td>\n",
       "      <td>2023-09-21</td>\n",
       "      <td>2025-06-04</td>\n",
       "      <td>Second</td>\n",
       "      <td>23489.0</td>\n",
       "      <td>7</td>\n",
       "      <td>0</td>\n",
       "      <td>13.625307</td>\n",
       "      <td>New</td>\n",
       "      <td>New</td>\n",
       "      <td>Weak</td>\n",
       "      <td>1</td>\n",
       "    </tr>\n",
       "    <tr>\n",
       "      <th>2</th>\n",
       "      <td>Bus</td>\n",
       "      <td>68072</td>\n",
       "      <td>Poor</td>\n",
       "      <td>0</td>\n",
       "      <td>2</td>\n",
       "      <td>Electric</td>\n",
       "      <td>Automatic</td>\n",
       "      <td>1500</td>\n",
       "      <td>34022</td>\n",
       "      <td>2023-06-27</td>\n",
       "      <td>2025-04-27</td>\n",
       "      <td>First</td>\n",
       "      <td>17979.0</td>\n",
       "      <td>7</td>\n",
       "      <td>0</td>\n",
       "      <td>14.306302</td>\n",
       "      <td>New</td>\n",
       "      <td>Good</td>\n",
       "      <td>Weak</td>\n",
       "      <td>1</td>\n",
       "    </tr>\n",
       "    <tr>\n",
       "      <th>3</th>\n",
       "      <td>Bus</td>\n",
       "      <td>60849</td>\n",
       "      <td>Average</td>\n",
       "      <td>4</td>\n",
       "      <td>5</td>\n",
       "      <td>Petrol</td>\n",
       "      <td>Automatic</td>\n",
       "      <td>2500</td>\n",
       "      <td>81636</td>\n",
       "      <td>2023-08-24</td>\n",
       "      <td>2025-11-05</td>\n",
       "      <td>Second</td>\n",
       "      <td>6220.0</td>\n",
       "      <td>7</td>\n",
       "      <td>3</td>\n",
       "      <td>18.709467</td>\n",
       "      <td>New</td>\n",
       "      <td>Worn Out</td>\n",
       "      <td>New</td>\n",
       "      <td>1</td>\n",
       "    </tr>\n",
       "    <tr>\n",
       "      <th>4</th>\n",
       "      <td>Bus</td>\n",
       "      <td>45742</td>\n",
       "      <td>Poor</td>\n",
       "      <td>5</td>\n",
       "      <td>1</td>\n",
       "      <td>Petrol</td>\n",
       "      <td>Manual</td>\n",
       "      <td>2000</td>\n",
       "      <td>97162</td>\n",
       "      <td>2023-05-25</td>\n",
       "      <td>2025-09-14</td>\n",
       "      <td>Third</td>\n",
       "      <td>16446.0</td>\n",
       "      <td>6</td>\n",
       "      <td>2</td>\n",
       "      <td>16.977483</td>\n",
       "      <td>Good</td>\n",
       "      <td>Good</td>\n",
       "      <td>Weak</td>\n",
       "      <td>1</td>\n",
       "    </tr>\n",
       "    <tr>\n",
       "      <th>...</th>\n",
       "      <td>...</td>\n",
       "      <td>...</td>\n",
       "      <td>...</td>\n",
       "      <td>...</td>\n",
       "      <td>...</td>\n",
       "      <td>...</td>\n",
       "      <td>...</td>\n",
       "      <td>...</td>\n",
       "      <td>...</td>\n",
       "      <td>...</td>\n",
       "      <td>...</td>\n",
       "      <td>...</td>\n",
       "      <td>...</td>\n",
       "      <td>...</td>\n",
       "      <td>...</td>\n",
       "      <td>...</td>\n",
       "      <td>...</td>\n",
       "      <td>...</td>\n",
       "      <td>...</td>\n",
       "      <td>...</td>\n",
       "    </tr>\n",
       "    <tr>\n",
       "      <th>49995</th>\n",
       "      <td>Car</td>\n",
       "      <td>77229</td>\n",
       "      <td>Good</td>\n",
       "      <td>3</td>\n",
       "      <td>6</td>\n",
       "      <td>Diesel</td>\n",
       "      <td>Automatic</td>\n",
       "      <td>2500</td>\n",
       "      <td>97404</td>\n",
       "      <td>2023-11-24</td>\n",
       "      <td>2025-09-15</td>\n",
       "      <td>Third</td>\n",
       "      <td>5217.0</td>\n",
       "      <td>4</td>\n",
       "      <td>1</td>\n",
       "      <td>10.357298</td>\n",
       "      <td>New</td>\n",
       "      <td>Good</td>\n",
       "      <td>Weak</td>\n",
       "      <td>1</td>\n",
       "    </tr>\n",
       "    <tr>\n",
       "      <th>49996</th>\n",
       "      <td>Truck</td>\n",
       "      <td>54742</td>\n",
       "      <td>Good</td>\n",
       "      <td>4</td>\n",
       "      <td>4</td>\n",
       "      <td>Diesel</td>\n",
       "      <td>Manual</td>\n",
       "      <td>800</td>\n",
       "      <td>13421</td>\n",
       "      <td>2023-07-14</td>\n",
       "      <td>2025-01-21</td>\n",
       "      <td>Second</td>\n",
       "      <td>15856.0</td>\n",
       "      <td>4</td>\n",
       "      <td>1</td>\n",
       "      <td>14.924022</td>\n",
       "      <td>Worn Out</td>\n",
       "      <td>New</td>\n",
       "      <td>Good</td>\n",
       "      <td>1</td>\n",
       "    </tr>\n",
       "    <tr>\n",
       "      <th>49997</th>\n",
       "      <td>Van</td>\n",
       "      <td>75601</td>\n",
       "      <td>Poor</td>\n",
       "      <td>0</td>\n",
       "      <td>4</td>\n",
       "      <td>Electric</td>\n",
       "      <td>Automatic</td>\n",
       "      <td>1500</td>\n",
       "      <td>124851</td>\n",
       "      <td>2023-09-09</td>\n",
       "      <td>2024-11-09</td>\n",
       "      <td>First</td>\n",
       "      <td>6019.0</td>\n",
       "      <td>10</td>\n",
       "      <td>0</td>\n",
       "      <td>19.859243</td>\n",
       "      <td>Worn Out</td>\n",
       "      <td>Worn Out</td>\n",
       "      <td>Weak</td>\n",
       "      <td>1</td>\n",
       "    </tr>\n",
       "    <tr>\n",
       "      <th>49998</th>\n",
       "      <td>Car</td>\n",
       "      <td>66181</td>\n",
       "      <td>Good</td>\n",
       "      <td>1</td>\n",
       "      <td>7</td>\n",
       "      <td>Electric</td>\n",
       "      <td>Manual</td>\n",
       "      <td>2500</td>\n",
       "      <td>103182</td>\n",
       "      <td>2023-08-26</td>\n",
       "      <td>2025-05-22</td>\n",
       "      <td>Third</td>\n",
       "      <td>5030.0</td>\n",
       "      <td>4</td>\n",
       "      <td>3</td>\n",
       "      <td>10.720555</td>\n",
       "      <td>New</td>\n",
       "      <td>Good</td>\n",
       "      <td>Weak</td>\n",
       "      <td>1</td>\n",
       "    </tr>\n",
       "    <tr>\n",
       "      <th>49999</th>\n",
       "      <td>Car</td>\n",
       "      <td>71605</td>\n",
       "      <td>Poor</td>\n",
       "      <td>0</td>\n",
       "      <td>10</td>\n",
       "      <td>Petrol</td>\n",
       "      <td>Manual</td>\n",
       "      <td>2000</td>\n",
       "      <td>65721</td>\n",
       "      <td>2023-07-25</td>\n",
       "      <td>2024-06-06</td>\n",
       "      <td>Third</td>\n",
       "      <td>9171.0</td>\n",
       "      <td>6</td>\n",
       "      <td>3</td>\n",
       "      <td>16.328945</td>\n",
       "      <td>Good</td>\n",
       "      <td>New</td>\n",
       "      <td>Good</td>\n",
       "      <td>0</td>\n",
       "    </tr>\n",
       "  </tbody>\n",
       "</table>\n",
       "<p>50000 rows × 20 columns</p>\n",
       "</div>"
      ],
      "text/plain": [
       "      vehicle_model  mileage maintenance_history  reported_issues  \\\n",
       "0             Truck    58765                Good                0   \n",
       "1               Van    60353             Average                1   \n",
       "2               Bus    68072                Poor                0   \n",
       "3               Bus    60849             Average                4   \n",
       "4               Bus    45742                Poor                5   \n",
       "...             ...      ...                 ...              ...   \n",
       "49995           Car    77229                Good                3   \n",
       "49996         Truck    54742                Good                4   \n",
       "49997           Van    75601                Poor                0   \n",
       "49998           Car    66181                Good                1   \n",
       "49999           Car    71605                Poor                0   \n",
       "\n",
       "       vehicle_age fuel_type transmission_type  engine_size  odometer_reading  \\\n",
       "0                4  Electric         Automatic         2000             28524   \n",
       "1                7  Electric         Automatic         2500            133630   \n",
       "2                2  Electric         Automatic         1500             34022   \n",
       "3                5    Petrol         Automatic         2500             81636   \n",
       "4                1    Petrol            Manual         2000             97162   \n",
       "...            ...       ...               ...          ...               ...   \n",
       "49995            6    Diesel         Automatic         2500             97404   \n",
       "49996            4    Diesel            Manual          800             13421   \n",
       "49997            4  Electric         Automatic         1500            124851   \n",
       "49998            7  Electric            Manual         2500            103182   \n",
       "49999           10    Petrol            Manual         2000             65721   \n",
       "\n",
       "      last_service_date warranty_expiry_date owner_type  insurance_premium  \\\n",
       "0            2023-11-23           2025-06-24     Second            20782.0   \n",
       "1            2023-09-21           2025-06-04     Second            23489.0   \n",
       "2            2023-06-27           2025-04-27      First            17979.0   \n",
       "3            2023-08-24           2025-11-05     Second             6220.0   \n",
       "4            2023-05-25           2025-09-14      Third            16446.0   \n",
       "...                 ...                  ...        ...                ...   \n",
       "49995        2023-11-24           2025-09-15      Third             5217.0   \n",
       "49996        2023-07-14           2025-01-21     Second            15856.0   \n",
       "49997        2023-09-09           2024-11-09      First             6019.0   \n",
       "49998        2023-08-26           2025-05-22      Third             5030.0   \n",
       "49999        2023-07-25           2024-06-06      Third             9171.0   \n",
       "\n",
       "       service_history  accident_history  fuel_efficiency tire_condition  \\\n",
       "0                    6                 3        13.622204            New   \n",
       "1                    7                 0        13.625307            New   \n",
       "2                    7                 0        14.306302            New   \n",
       "3                    7                 3        18.709467            New   \n",
       "4                    6                 2        16.977483           Good   \n",
       "...                ...               ...              ...            ...   \n",
       "49995                4                 1        10.357298            New   \n",
       "49996                4                 1        14.924022       Worn Out   \n",
       "49997               10                 0        19.859243       Worn Out   \n",
       "49998                4                 3        10.720555            New   \n",
       "49999                6                 3        16.328945           Good   \n",
       "\n",
       "      brake_condition battery_status  need_maintenance  \n",
       "0                 New           Weak                 1  \n",
       "1                 New           Weak                 1  \n",
       "2                Good           Weak                 1  \n",
       "3            Worn Out            New                 1  \n",
       "4                Good           Weak                 1  \n",
       "...               ...            ...               ...  \n",
       "49995            Good           Weak                 1  \n",
       "49996             New           Good                 1  \n",
       "49997        Worn Out           Weak                 1  \n",
       "49998            Good           Weak                 1  \n",
       "49999             New           Good                 0  \n",
       "\n",
       "[50000 rows x 20 columns]"
      ]
     },
     "execution_count": 38,
     "metadata": {},
     "output_type": "execute_result"
    }
   ],
   "source": [
    "df"
   ]
  },
  {
   "cell_type": "code",
   "execution_count": 39,
   "metadata": {},
   "outputs": [],
   "source": [
    "from sklearn.model_selection import StratifiedShuffleSplit\n",
    "\n",
    "split = StratifiedShuffleSplit(n_splits=1, test_size=0.25, random_state=42)\n",
    "\n",
    "for train_index, test_index in split.split(df, df['need_maintenance']):\n",
    "    strat_train_set = df.iloc[train_index]\n",
    "    strat_test_set = df.iloc[test_index]"
   ]
  },
  {
   "cell_type": "code",
   "execution_count": 41,
   "metadata": {},
   "outputs": [
    {
     "data": {
      "text/plain": [
       "pandas.core.frame.DataFrame"
      ]
     },
     "execution_count": 41,
     "metadata": {},
     "output_type": "execute_result"
    }
   ],
   "source": [
    "type(strat_train_set)"
   ]
  },
  {
   "cell_type": "code",
   "execution_count": 4,
   "metadata": {},
   "outputs": [],
   "source": [
    "import os\n",
    "train_path = os.path.join('data\\\\transformedData\\\\trainData','train_data.parquet')"
   ]
  },
  {
   "cell_type": "code",
   "execution_count": 5,
   "metadata": {},
   "outputs": [
    {
     "data": {
      "text/plain": [
       "'data\\\\transformedData\\\\trainData\\\\train_data.parquet'"
      ]
     },
     "execution_count": 5,
     "metadata": {},
     "output_type": "execute_result"
    }
   ],
   "source": [
    "train_path"
   ]
  },
  {
   "cell_type": "code",
   "execution_count": 7,
   "metadata": {},
   "outputs": [],
   "source": [
    "import pandas as pd\n",
    "df3 = pd.read_parquet(train_path, engine='pyarrow')"
   ]
  },
  {
   "cell_type": "code",
   "execution_count": 8,
   "metadata": {},
   "outputs": [
    {
     "data": {
      "text/html": [
       "<div>\n",
       "<style scoped>\n",
       "    .dataframe tbody tr th:only-of-type {\n",
       "        vertical-align: middle;\n",
       "    }\n",
       "\n",
       "    .dataframe tbody tr th {\n",
       "        vertical-align: top;\n",
       "    }\n",
       "\n",
       "    .dataframe thead th {\n",
       "        text-align: right;\n",
       "    }\n",
       "</style>\n",
       "<table border=\"1\" class=\"dataframe\">\n",
       "  <thead>\n",
       "    <tr style=\"text-align: right;\">\n",
       "      <th></th>\n",
       "      <th>mileage</th>\n",
       "      <th>reported_issues</th>\n",
       "      <th>vehicle_age</th>\n",
       "      <th>engine_size</th>\n",
       "      <th>odometer_reading</th>\n",
       "      <th>insurance_premium</th>\n",
       "      <th>service_history</th>\n",
       "      <th>accident_history</th>\n",
       "      <th>fuel_efficiency</th>\n",
       "      <th>time_since_last_service</th>\n",
       "      <th>...</th>\n",
       "      <th>tire_condition_1</th>\n",
       "      <th>tire_condition_2</th>\n",
       "      <th>tire_condition_3</th>\n",
       "      <th>brake_condition_1</th>\n",
       "      <th>brake_condition_2</th>\n",
       "      <th>brake_condition_3</th>\n",
       "      <th>battery_status_1</th>\n",
       "      <th>battery_status_2</th>\n",
       "      <th>battery_status_3</th>\n",
       "      <th>need_maintenance</th>\n",
       "    </tr>\n",
       "  </thead>\n",
       "  <tbody>\n",
       "    <tr>\n",
       "      <th>17481</th>\n",
       "      <td>0.045950</td>\n",
       "      <td>-0.876318</td>\n",
       "      <td>0.176565</td>\n",
       "      <td>-0.886280</td>\n",
       "      <td>0.609636</td>\n",
       "      <td>1.537473</td>\n",
       "      <td>-0.179333</td>\n",
       "      <td>-0.448022</td>\n",
       "      <td>-0.529043</td>\n",
       "      <td>-1.666642</td>\n",
       "      <td>...</td>\n",
       "      <td>0.0</td>\n",
       "      <td>0.0</td>\n",
       "      <td>1.0</td>\n",
       "      <td>0.0</td>\n",
       "      <td>0.0</td>\n",
       "      <td>1.0</td>\n",
       "      <td>0.0</td>\n",
       "      <td>0.0</td>\n",
       "      <td>1.0</td>\n",
       "      <td>0</td>\n",
       "    </tr>\n",
       "    <tr>\n",
       "      <th>7663</th>\n",
       "      <td>-1.521149</td>\n",
       "      <td>-0.876318</td>\n",
       "      <td>1.567554</td>\n",
       "      <td>1.503508</td>\n",
       "      <td>-0.934610</td>\n",
       "      <td>0.372496</td>\n",
       "      <td>-0.875017</td>\n",
       "      <td>-0.448022</td>\n",
       "      <td>-0.460301</td>\n",
       "      <td>0.004540</td>\n",
       "      <td>...</td>\n",
       "      <td>0.0</td>\n",
       "      <td>1.0</td>\n",
       "      <td>0.0</td>\n",
       "      <td>0.0</td>\n",
       "      <td>0.0</td>\n",
       "      <td>1.0</td>\n",
       "      <td>1.0</td>\n",
       "      <td>0.0</td>\n",
       "      <td>0.0</td>\n",
       "      <td>1</td>\n",
       "    </tr>\n",
       "    <tr>\n",
       "      <th>28828</th>\n",
       "      <td>-0.143054</td>\n",
       "      <td>-0.291099</td>\n",
       "      <td>1.219806</td>\n",
       "      <td>-0.886280</td>\n",
       "      <td>-1.527819</td>\n",
       "      <td>0.762068</td>\n",
       "      <td>0.516350</td>\n",
       "      <td>0.445235</td>\n",
       "      <td>0.259993</td>\n",
       "      <td>-1.346848</td>\n",
       "      <td>...</td>\n",
       "      <td>1.0</td>\n",
       "      <td>0.0</td>\n",
       "      <td>0.0</td>\n",
       "      <td>0.0</td>\n",
       "      <td>1.0</td>\n",
       "      <td>0.0</td>\n",
       "      <td>0.0</td>\n",
       "      <td>0.0</td>\n",
       "      <td>1.0</td>\n",
       "      <td>1</td>\n",
       "    </tr>\n",
       "    <tr>\n",
       "      <th>17722</th>\n",
       "      <td>1.608397</td>\n",
       "      <td>0.879338</td>\n",
       "      <td>-0.518929</td>\n",
       "      <td>1.503508</td>\n",
       "      <td>0.700915</td>\n",
       "      <td>-0.027458</td>\n",
       "      <td>-1.222859</td>\n",
       "      <td>-0.448022</td>\n",
       "      <td>-1.701939</td>\n",
       "      <td>-0.439045</td>\n",
       "      <td>...</td>\n",
       "      <td>0.0</td>\n",
       "      <td>0.0</td>\n",
       "      <td>1.0</td>\n",
       "      <td>0.0</td>\n",
       "      <td>0.0</td>\n",
       "      <td>1.0</td>\n",
       "      <td>0.0</td>\n",
       "      <td>1.0</td>\n",
       "      <td>0.0</td>\n",
       "      <td>1</td>\n",
       "    </tr>\n",
       "    <tr>\n",
       "      <th>20318</th>\n",
       "      <td>1.656516</td>\n",
       "      <td>-1.461536</td>\n",
       "      <td>1.219806</td>\n",
       "      <td>-1.204918</td>\n",
       "      <td>0.183087</td>\n",
       "      <td>-0.161884</td>\n",
       "      <td>0.168508</td>\n",
       "      <td>-1.341279</td>\n",
       "      <td>0.986257</td>\n",
       "      <td>-0.016091</td>\n",
       "      <td>...</td>\n",
       "      <td>0.0</td>\n",
       "      <td>1.0</td>\n",
       "      <td>0.0</td>\n",
       "      <td>0.0</td>\n",
       "      <td>1.0</td>\n",
       "      <td>0.0</td>\n",
       "      <td>0.0</td>\n",
       "      <td>1.0</td>\n",
       "      <td>0.0</td>\n",
       "      <td>0</td>\n",
       "    </tr>\n",
       "    <tr>\n",
       "      <th>...</th>\n",
       "      <td>...</td>\n",
       "      <td>...</td>\n",
       "      <td>...</td>\n",
       "      <td>...</td>\n",
       "      <td>...</td>\n",
       "      <td>...</td>\n",
       "      <td>...</td>\n",
       "      <td>...</td>\n",
       "      <td>...</td>\n",
       "      <td>...</td>\n",
       "      <td>...</td>\n",
       "      <td>...</td>\n",
       "      <td>...</td>\n",
       "      <td>...</td>\n",
       "      <td>...</td>\n",
       "      <td>...</td>\n",
       "      <td>...</td>\n",
       "      <td>...</td>\n",
       "      <td>...</td>\n",
       "      <td>...</td>\n",
       "      <td>...</td>\n",
       "    </tr>\n",
       "    <tr>\n",
       "      <th>3384</th>\n",
       "      <td>0.112331</td>\n",
       "      <td>-1.461536</td>\n",
       "      <td>0.524312</td>\n",
       "      <td>0.706912</td>\n",
       "      <td>0.827773</td>\n",
       "      <td>-1.030044</td>\n",
       "      <td>-1.222859</td>\n",
       "      <td>-1.341279</td>\n",
       "      <td>0.003356</td>\n",
       "      <td>-1.068317</td>\n",
       "      <td>...</td>\n",
       "      <td>1.0</td>\n",
       "      <td>0.0</td>\n",
       "      <td>0.0</td>\n",
       "      <td>1.0</td>\n",
       "      <td>0.0</td>\n",
       "      <td>0.0</td>\n",
       "      <td>1.0</td>\n",
       "      <td>0.0</td>\n",
       "      <td>0.0</td>\n",
       "      <td>1</td>\n",
       "    </tr>\n",
       "    <tr>\n",
       "      <th>9803</th>\n",
       "      <td>-0.363930</td>\n",
       "      <td>-1.461536</td>\n",
       "      <td>-1.562170</td>\n",
       "      <td>-1.204918</td>\n",
       "      <td>-0.644643</td>\n",
       "      <td>-1.388605</td>\n",
       "      <td>-0.179333</td>\n",
       "      <td>0.445235</td>\n",
       "      <td>-1.471188</td>\n",
       "      <td>0.344966</td>\n",
       "      <td>...</td>\n",
       "      <td>1.0</td>\n",
       "      <td>0.0</td>\n",
       "      <td>0.0</td>\n",
       "      <td>0.0</td>\n",
       "      <td>1.0</td>\n",
       "      <td>0.0</td>\n",
       "      <td>0.0</td>\n",
       "      <td>0.0</td>\n",
       "      <td>1.0</td>\n",
       "      <td>0</td>\n",
       "    </tr>\n",
       "    <tr>\n",
       "      <th>14544</th>\n",
       "      <td>-1.639884</td>\n",
       "      <td>-0.291099</td>\n",
       "      <td>-0.171182</td>\n",
       "      <td>1.503508</td>\n",
       "      <td>0.697550</td>\n",
       "      <td>0.441993</td>\n",
       "      <td>-0.527175</td>\n",
       "      <td>-1.341279</td>\n",
       "      <td>-0.643030</td>\n",
       "      <td>-0.779471</td>\n",
       "      <td>...</td>\n",
       "      <td>0.0</td>\n",
       "      <td>0.0</td>\n",
       "      <td>1.0</td>\n",
       "      <td>1.0</td>\n",
       "      <td>0.0</td>\n",
       "      <td>0.0</td>\n",
       "      <td>0.0</td>\n",
       "      <td>0.0</td>\n",
       "      <td>1.0</td>\n",
       "      <td>1</td>\n",
       "    </tr>\n",
       "    <tr>\n",
       "      <th>30244</th>\n",
       "      <td>1.440640</td>\n",
       "      <td>-0.876318</td>\n",
       "      <td>0.176565</td>\n",
       "      <td>-0.886280</td>\n",
       "      <td>-1.462882</td>\n",
       "      <td>-0.765761</td>\n",
       "      <td>-0.527175</td>\n",
       "      <td>-1.341279</td>\n",
       "      <td>-0.032234</td>\n",
       "      <td>1.314665</td>\n",
       "      <td>...</td>\n",
       "      <td>0.0</td>\n",
       "      <td>0.0</td>\n",
       "      <td>1.0</td>\n",
       "      <td>0.0</td>\n",
       "      <td>0.0</td>\n",
       "      <td>1.0</td>\n",
       "      <td>0.0</td>\n",
       "      <td>1.0</td>\n",
       "      <td>0.0</td>\n",
       "      <td>0</td>\n",
       "    </tr>\n",
       "    <tr>\n",
       "      <th>24519</th>\n",
       "      <td>-1.204590</td>\n",
       "      <td>-0.291099</td>\n",
       "      <td>0.872059</td>\n",
       "      <td>-1.204918</td>\n",
       "      <td>-1.698750</td>\n",
       "      <td>0.642317</td>\n",
       "      <td>0.864192</td>\n",
       "      <td>-0.448022</td>\n",
       "      <td>1.403169</td>\n",
       "      <td>-1.088949</td>\n",
       "      <td>...</td>\n",
       "      <td>1.0</td>\n",
       "      <td>0.0</td>\n",
       "      <td>0.0</td>\n",
       "      <td>1.0</td>\n",
       "      <td>0.0</td>\n",
       "      <td>0.0</td>\n",
       "      <td>0.0</td>\n",
       "      <td>0.0</td>\n",
       "      <td>1.0</td>\n",
       "      <td>1</td>\n",
       "    </tr>\n",
       "  </tbody>\n",
       "</table>\n",
       "<p>37500 rows × 41 columns</p>\n",
       "</div>"
      ],
      "text/plain": [
       "        mileage  reported_issues  vehicle_age  engine_size  odometer_reading  \\\n",
       "17481  0.045950        -0.876318     0.176565    -0.886280          0.609636   \n",
       "7663  -1.521149        -0.876318     1.567554     1.503508         -0.934610   \n",
       "28828 -0.143054        -0.291099     1.219806    -0.886280         -1.527819   \n",
       "17722  1.608397         0.879338    -0.518929     1.503508          0.700915   \n",
       "20318  1.656516        -1.461536     1.219806    -1.204918          0.183087   \n",
       "...         ...              ...          ...          ...               ...   \n",
       "3384   0.112331        -1.461536     0.524312     0.706912          0.827773   \n",
       "9803  -0.363930        -1.461536    -1.562170    -1.204918         -0.644643   \n",
       "14544 -1.639884        -0.291099    -0.171182     1.503508          0.697550   \n",
       "30244  1.440640        -0.876318     0.176565    -0.886280         -1.462882   \n",
       "24519 -1.204590        -0.291099     0.872059    -1.204918         -1.698750   \n",
       "\n",
       "       insurance_premium  service_history  accident_history  fuel_efficiency  \\\n",
       "17481           1.537473        -0.179333         -0.448022        -0.529043   \n",
       "7663            0.372496        -0.875017         -0.448022        -0.460301   \n",
       "28828           0.762068         0.516350          0.445235         0.259993   \n",
       "17722          -0.027458        -1.222859         -0.448022        -1.701939   \n",
       "20318          -0.161884         0.168508         -1.341279         0.986257   \n",
       "...                  ...              ...               ...              ...   \n",
       "3384           -1.030044        -1.222859         -1.341279         0.003356   \n",
       "9803           -1.388605        -0.179333          0.445235        -1.471188   \n",
       "14544           0.441993        -0.527175         -1.341279        -0.643030   \n",
       "30244          -0.765761        -0.527175         -1.341279        -0.032234   \n",
       "24519           0.642317         0.864192         -0.448022         1.403169   \n",
       "\n",
       "       time_since_last_service  ...  tire_condition_1  tire_condition_2  \\\n",
       "17481                -1.666642  ...               0.0               0.0   \n",
       "7663                  0.004540  ...               0.0               1.0   \n",
       "28828                -1.346848  ...               1.0               0.0   \n",
       "17722                -0.439045  ...               0.0               0.0   \n",
       "20318                -0.016091  ...               0.0               1.0   \n",
       "...                        ...  ...               ...               ...   \n",
       "3384                 -1.068317  ...               1.0               0.0   \n",
       "9803                  0.344966  ...               1.0               0.0   \n",
       "14544                -0.779471  ...               0.0               0.0   \n",
       "30244                 1.314665  ...               0.0               0.0   \n",
       "24519                -1.088949  ...               1.0               0.0   \n",
       "\n",
       "       tire_condition_3  brake_condition_1  brake_condition_2  \\\n",
       "17481               1.0                0.0                0.0   \n",
       "7663                0.0                0.0                0.0   \n",
       "28828               0.0                0.0                1.0   \n",
       "17722               1.0                0.0                0.0   \n",
       "20318               0.0                0.0                1.0   \n",
       "...                 ...                ...                ...   \n",
       "3384                0.0                1.0                0.0   \n",
       "9803                0.0                0.0                1.0   \n",
       "14544               1.0                1.0                0.0   \n",
       "30244               1.0                0.0                0.0   \n",
       "24519               0.0                1.0                0.0   \n",
       "\n",
       "       brake_condition_3  battery_status_1  battery_status_2  \\\n",
       "17481                1.0               0.0               0.0   \n",
       "7663                 1.0               1.0               0.0   \n",
       "28828                0.0               0.0               0.0   \n",
       "17722                1.0               0.0               1.0   \n",
       "20318                0.0               0.0               1.0   \n",
       "...                  ...               ...               ...   \n",
       "3384                 0.0               1.0               0.0   \n",
       "9803                 0.0               0.0               0.0   \n",
       "14544                0.0               0.0               0.0   \n",
       "30244                1.0               0.0               1.0   \n",
       "24519                0.0               0.0               0.0   \n",
       "\n",
       "       battery_status_3  need_maintenance  \n",
       "17481               1.0                 0  \n",
       "7663                0.0                 1  \n",
       "28828               1.0                 1  \n",
       "17722               0.0                 1  \n",
       "20318               0.0                 0  \n",
       "...                 ...               ...  \n",
       "3384                0.0                 1  \n",
       "9803                1.0                 0  \n",
       "14544               1.0                 1  \n",
       "30244               0.0                 0  \n",
       "24519               1.0                 1  \n",
       "\n",
       "[37500 rows x 41 columns]"
      ]
     },
     "execution_count": 8,
     "metadata": {},
     "output_type": "execute_result"
    }
   ],
   "source": [
    "df3"
   ]
  },
  {
   "cell_type": "code",
   "execution_count": 9,
   "metadata": {},
   "outputs": [
    {
     "data": {
      "text/html": [
       "<div>\n",
       "<style scoped>\n",
       "    .dataframe tbody tr th:only-of-type {\n",
       "        vertical-align: middle;\n",
       "    }\n",
       "\n",
       "    .dataframe tbody tr th {\n",
       "        vertical-align: top;\n",
       "    }\n",
       "\n",
       "    .dataframe thead th {\n",
       "        text-align: right;\n",
       "    }\n",
       "</style>\n",
       "<table border=\"1\" class=\"dataframe\">\n",
       "  <thead>\n",
       "    <tr style=\"text-align: right;\">\n",
       "      <th></th>\n",
       "      <th>mileage</th>\n",
       "      <th>reported_issues</th>\n",
       "      <th>vehicle_age</th>\n",
       "      <th>engine_size</th>\n",
       "      <th>odometer_reading</th>\n",
       "      <th>insurance_premium</th>\n",
       "      <th>service_history</th>\n",
       "      <th>accident_history</th>\n",
       "      <th>fuel_efficiency</th>\n",
       "      <th>time_since_last_service</th>\n",
       "      <th>...</th>\n",
       "      <th>tire_condition_1</th>\n",
       "      <th>tire_condition_2</th>\n",
       "      <th>tire_condition_3</th>\n",
       "      <th>brake_condition_1</th>\n",
       "      <th>brake_condition_2</th>\n",
       "      <th>brake_condition_3</th>\n",
       "      <th>battery_status_1</th>\n",
       "      <th>battery_status_2</th>\n",
       "      <th>battery_status_3</th>\n",
       "      <th>need_maintenance</th>\n",
       "    </tr>\n",
       "  </thead>\n",
       "  <tbody>\n",
       "    <tr>\n",
       "      <th>17481</th>\n",
       "      <td>0.045950</td>\n",
       "      <td>-0.876318</td>\n",
       "      <td>0.176565</td>\n",
       "      <td>-0.886280</td>\n",
       "      <td>0.609636</td>\n",
       "      <td>1.537473</td>\n",
       "      <td>-0.179333</td>\n",
       "      <td>-0.448022</td>\n",
       "      <td>-0.529043</td>\n",
       "      <td>-1.666642</td>\n",
       "      <td>...</td>\n",
       "      <td>0.0</td>\n",
       "      <td>0.0</td>\n",
       "      <td>1.0</td>\n",
       "      <td>0.0</td>\n",
       "      <td>0.0</td>\n",
       "      <td>1.0</td>\n",
       "      <td>0.0</td>\n",
       "      <td>0.0</td>\n",
       "      <td>1.0</td>\n",
       "      <td>0</td>\n",
       "    </tr>\n",
       "    <tr>\n",
       "      <th>7663</th>\n",
       "      <td>-1.521149</td>\n",
       "      <td>-0.876318</td>\n",
       "      <td>1.567554</td>\n",
       "      <td>1.503508</td>\n",
       "      <td>-0.934610</td>\n",
       "      <td>0.372496</td>\n",
       "      <td>-0.875017</td>\n",
       "      <td>-0.448022</td>\n",
       "      <td>-0.460301</td>\n",
       "      <td>0.004540</td>\n",
       "      <td>...</td>\n",
       "      <td>0.0</td>\n",
       "      <td>1.0</td>\n",
       "      <td>0.0</td>\n",
       "      <td>0.0</td>\n",
       "      <td>0.0</td>\n",
       "      <td>1.0</td>\n",
       "      <td>1.0</td>\n",
       "      <td>0.0</td>\n",
       "      <td>0.0</td>\n",
       "      <td>1</td>\n",
       "    </tr>\n",
       "    <tr>\n",
       "      <th>28828</th>\n",
       "      <td>-0.143054</td>\n",
       "      <td>-0.291099</td>\n",
       "      <td>1.219806</td>\n",
       "      <td>-0.886280</td>\n",
       "      <td>-1.527819</td>\n",
       "      <td>0.762068</td>\n",
       "      <td>0.516350</td>\n",
       "      <td>0.445235</td>\n",
       "      <td>0.259993</td>\n",
       "      <td>-1.346848</td>\n",
       "      <td>...</td>\n",
       "      <td>1.0</td>\n",
       "      <td>0.0</td>\n",
       "      <td>0.0</td>\n",
       "      <td>0.0</td>\n",
       "      <td>1.0</td>\n",
       "      <td>0.0</td>\n",
       "      <td>0.0</td>\n",
       "      <td>0.0</td>\n",
       "      <td>1.0</td>\n",
       "      <td>1</td>\n",
       "    </tr>\n",
       "    <tr>\n",
       "      <th>17722</th>\n",
       "      <td>1.608397</td>\n",
       "      <td>0.879338</td>\n",
       "      <td>-0.518929</td>\n",
       "      <td>1.503508</td>\n",
       "      <td>0.700915</td>\n",
       "      <td>-0.027458</td>\n",
       "      <td>-1.222859</td>\n",
       "      <td>-0.448022</td>\n",
       "      <td>-1.701939</td>\n",
       "      <td>-0.439045</td>\n",
       "      <td>...</td>\n",
       "      <td>0.0</td>\n",
       "      <td>0.0</td>\n",
       "      <td>1.0</td>\n",
       "      <td>0.0</td>\n",
       "      <td>0.0</td>\n",
       "      <td>1.0</td>\n",
       "      <td>0.0</td>\n",
       "      <td>1.0</td>\n",
       "      <td>0.0</td>\n",
       "      <td>1</td>\n",
       "    </tr>\n",
       "    <tr>\n",
       "      <th>20318</th>\n",
       "      <td>1.656516</td>\n",
       "      <td>-1.461536</td>\n",
       "      <td>1.219806</td>\n",
       "      <td>-1.204918</td>\n",
       "      <td>0.183087</td>\n",
       "      <td>-0.161884</td>\n",
       "      <td>0.168508</td>\n",
       "      <td>-1.341279</td>\n",
       "      <td>0.986257</td>\n",
       "      <td>-0.016091</td>\n",
       "      <td>...</td>\n",
       "      <td>0.0</td>\n",
       "      <td>1.0</td>\n",
       "      <td>0.0</td>\n",
       "      <td>0.0</td>\n",
       "      <td>1.0</td>\n",
       "      <td>0.0</td>\n",
       "      <td>0.0</td>\n",
       "      <td>1.0</td>\n",
       "      <td>0.0</td>\n",
       "      <td>0</td>\n",
       "    </tr>\n",
       "    <tr>\n",
       "      <th>...</th>\n",
       "      <td>...</td>\n",
       "      <td>...</td>\n",
       "      <td>...</td>\n",
       "      <td>...</td>\n",
       "      <td>...</td>\n",
       "      <td>...</td>\n",
       "      <td>...</td>\n",
       "      <td>...</td>\n",
       "      <td>...</td>\n",
       "      <td>...</td>\n",
       "      <td>...</td>\n",
       "      <td>...</td>\n",
       "      <td>...</td>\n",
       "      <td>...</td>\n",
       "      <td>...</td>\n",
       "      <td>...</td>\n",
       "      <td>...</td>\n",
       "      <td>...</td>\n",
       "      <td>...</td>\n",
       "      <td>...</td>\n",
       "      <td>...</td>\n",
       "    </tr>\n",
       "    <tr>\n",
       "      <th>3384</th>\n",
       "      <td>0.112331</td>\n",
       "      <td>-1.461536</td>\n",
       "      <td>0.524312</td>\n",
       "      <td>0.706912</td>\n",
       "      <td>0.827773</td>\n",
       "      <td>-1.030044</td>\n",
       "      <td>-1.222859</td>\n",
       "      <td>-1.341279</td>\n",
       "      <td>0.003356</td>\n",
       "      <td>-1.068317</td>\n",
       "      <td>...</td>\n",
       "      <td>1.0</td>\n",
       "      <td>0.0</td>\n",
       "      <td>0.0</td>\n",
       "      <td>1.0</td>\n",
       "      <td>0.0</td>\n",
       "      <td>0.0</td>\n",
       "      <td>1.0</td>\n",
       "      <td>0.0</td>\n",
       "      <td>0.0</td>\n",
       "      <td>1</td>\n",
       "    </tr>\n",
       "    <tr>\n",
       "      <th>9803</th>\n",
       "      <td>-0.363930</td>\n",
       "      <td>-1.461536</td>\n",
       "      <td>-1.562170</td>\n",
       "      <td>-1.204918</td>\n",
       "      <td>-0.644643</td>\n",
       "      <td>-1.388605</td>\n",
       "      <td>-0.179333</td>\n",
       "      <td>0.445235</td>\n",
       "      <td>-1.471188</td>\n",
       "      <td>0.344966</td>\n",
       "      <td>...</td>\n",
       "      <td>1.0</td>\n",
       "      <td>0.0</td>\n",
       "      <td>0.0</td>\n",
       "      <td>0.0</td>\n",
       "      <td>1.0</td>\n",
       "      <td>0.0</td>\n",
       "      <td>0.0</td>\n",
       "      <td>0.0</td>\n",
       "      <td>1.0</td>\n",
       "      <td>0</td>\n",
       "    </tr>\n",
       "    <tr>\n",
       "      <th>14544</th>\n",
       "      <td>-1.639884</td>\n",
       "      <td>-0.291099</td>\n",
       "      <td>-0.171182</td>\n",
       "      <td>1.503508</td>\n",
       "      <td>0.697550</td>\n",
       "      <td>0.441993</td>\n",
       "      <td>-0.527175</td>\n",
       "      <td>-1.341279</td>\n",
       "      <td>-0.643030</td>\n",
       "      <td>-0.779471</td>\n",
       "      <td>...</td>\n",
       "      <td>0.0</td>\n",
       "      <td>0.0</td>\n",
       "      <td>1.0</td>\n",
       "      <td>1.0</td>\n",
       "      <td>0.0</td>\n",
       "      <td>0.0</td>\n",
       "      <td>0.0</td>\n",
       "      <td>0.0</td>\n",
       "      <td>1.0</td>\n",
       "      <td>1</td>\n",
       "    </tr>\n",
       "    <tr>\n",
       "      <th>30244</th>\n",
       "      <td>1.440640</td>\n",
       "      <td>-0.876318</td>\n",
       "      <td>0.176565</td>\n",
       "      <td>-0.886280</td>\n",
       "      <td>-1.462882</td>\n",
       "      <td>-0.765761</td>\n",
       "      <td>-0.527175</td>\n",
       "      <td>-1.341279</td>\n",
       "      <td>-0.032234</td>\n",
       "      <td>1.314665</td>\n",
       "      <td>...</td>\n",
       "      <td>0.0</td>\n",
       "      <td>0.0</td>\n",
       "      <td>1.0</td>\n",
       "      <td>0.0</td>\n",
       "      <td>0.0</td>\n",
       "      <td>1.0</td>\n",
       "      <td>0.0</td>\n",
       "      <td>1.0</td>\n",
       "      <td>0.0</td>\n",
       "      <td>0</td>\n",
       "    </tr>\n",
       "    <tr>\n",
       "      <th>24519</th>\n",
       "      <td>-1.204590</td>\n",
       "      <td>-0.291099</td>\n",
       "      <td>0.872059</td>\n",
       "      <td>-1.204918</td>\n",
       "      <td>-1.698750</td>\n",
       "      <td>0.642317</td>\n",
       "      <td>0.864192</td>\n",
       "      <td>-0.448022</td>\n",
       "      <td>1.403169</td>\n",
       "      <td>-1.088949</td>\n",
       "      <td>...</td>\n",
       "      <td>1.0</td>\n",
       "      <td>0.0</td>\n",
       "      <td>0.0</td>\n",
       "      <td>1.0</td>\n",
       "      <td>0.0</td>\n",
       "      <td>0.0</td>\n",
       "      <td>0.0</td>\n",
       "      <td>0.0</td>\n",
       "      <td>1.0</td>\n",
       "      <td>1</td>\n",
       "    </tr>\n",
       "  </tbody>\n",
       "</table>\n",
       "<p>37500 rows × 41 columns</p>\n",
       "</div>"
      ],
      "text/plain": [
       "        mileage  reported_issues  vehicle_age  engine_size  odometer_reading  \\\n",
       "17481  0.045950        -0.876318     0.176565    -0.886280          0.609636   \n",
       "7663  -1.521149        -0.876318     1.567554     1.503508         -0.934610   \n",
       "28828 -0.143054        -0.291099     1.219806    -0.886280         -1.527819   \n",
       "17722  1.608397         0.879338    -0.518929     1.503508          0.700915   \n",
       "20318  1.656516        -1.461536     1.219806    -1.204918          0.183087   \n",
       "...         ...              ...          ...          ...               ...   \n",
       "3384   0.112331        -1.461536     0.524312     0.706912          0.827773   \n",
       "9803  -0.363930        -1.461536    -1.562170    -1.204918         -0.644643   \n",
       "14544 -1.639884        -0.291099    -0.171182     1.503508          0.697550   \n",
       "30244  1.440640        -0.876318     0.176565    -0.886280         -1.462882   \n",
       "24519 -1.204590        -0.291099     0.872059    -1.204918         -1.698750   \n",
       "\n",
       "       insurance_premium  service_history  accident_history  fuel_efficiency  \\\n",
       "17481           1.537473        -0.179333         -0.448022        -0.529043   \n",
       "7663            0.372496        -0.875017         -0.448022        -0.460301   \n",
       "28828           0.762068         0.516350          0.445235         0.259993   \n",
       "17722          -0.027458        -1.222859         -0.448022        -1.701939   \n",
       "20318          -0.161884         0.168508         -1.341279         0.986257   \n",
       "...                  ...              ...               ...              ...   \n",
       "3384           -1.030044        -1.222859         -1.341279         0.003356   \n",
       "9803           -1.388605        -0.179333          0.445235        -1.471188   \n",
       "14544           0.441993        -0.527175         -1.341279        -0.643030   \n",
       "30244          -0.765761        -0.527175         -1.341279        -0.032234   \n",
       "24519           0.642317         0.864192         -0.448022         1.403169   \n",
       "\n",
       "       time_since_last_service  ...  tire_condition_1  tire_condition_2  \\\n",
       "17481                -1.666642  ...               0.0               0.0   \n",
       "7663                  0.004540  ...               0.0               1.0   \n",
       "28828                -1.346848  ...               1.0               0.0   \n",
       "17722                -0.439045  ...               0.0               0.0   \n",
       "20318                -0.016091  ...               0.0               1.0   \n",
       "...                        ...  ...               ...               ...   \n",
       "3384                 -1.068317  ...               1.0               0.0   \n",
       "9803                  0.344966  ...               1.0               0.0   \n",
       "14544                -0.779471  ...               0.0               0.0   \n",
       "30244                 1.314665  ...               0.0               0.0   \n",
       "24519                -1.088949  ...               1.0               0.0   \n",
       "\n",
       "       tire_condition_3  brake_condition_1  brake_condition_2  \\\n",
       "17481               1.0                0.0                0.0   \n",
       "7663                0.0                0.0                0.0   \n",
       "28828               0.0                0.0                1.0   \n",
       "17722               1.0                0.0                0.0   \n",
       "20318               0.0                0.0                1.0   \n",
       "...                 ...                ...                ...   \n",
       "3384                0.0                1.0                0.0   \n",
       "9803                0.0                0.0                1.0   \n",
       "14544               1.0                1.0                0.0   \n",
       "30244               1.0                0.0                0.0   \n",
       "24519               0.0                1.0                0.0   \n",
       "\n",
       "       brake_condition_3  battery_status_1  battery_status_2  \\\n",
       "17481                1.0               0.0               0.0   \n",
       "7663                 1.0               1.0               0.0   \n",
       "28828                0.0               0.0               0.0   \n",
       "17722                1.0               0.0               1.0   \n",
       "20318                0.0               0.0               1.0   \n",
       "...                  ...               ...               ...   \n",
       "3384                 0.0               1.0               0.0   \n",
       "9803                 0.0               0.0               0.0   \n",
       "14544                0.0               0.0               0.0   \n",
       "30244                1.0               0.0               1.0   \n",
       "24519                0.0               0.0               0.0   \n",
       "\n",
       "       battery_status_3  need_maintenance  \n",
       "17481               1.0                 0  \n",
       "7663                0.0                 1  \n",
       "28828               1.0                 1  \n",
       "17722               0.0                 1  \n",
       "20318               0.0                 0  \n",
       "...                 ...               ...  \n",
       "3384                0.0                 1  \n",
       "9803                1.0                 0  \n",
       "14544               1.0                 1  \n",
       "30244               0.0                 0  \n",
       "24519               1.0                 1  \n",
       "\n",
       "[37500 rows x 41 columns]"
      ]
     },
     "execution_count": 9,
     "metadata": {},
     "output_type": "execute_result"
    }
   ],
   "source": [
    "df = pd.read_parquet('data/transformedData/trainData/train_data.parquet', engine='pyarrow')\n",
    "df "
   ]
  },
  {
   "cell_type": "code",
   "execution_count": 10,
   "metadata": {},
   "outputs": [],
   "source": [
    "y = df['need_maintenance']\n",
    "X = df.drop('need_maintenance', axis=1)"
   ]
  },
  {
   "cell_type": "code",
   "execution_count": 11,
   "metadata": {},
   "outputs": [
    {
     "data": {
      "text/html": [
       "<div>\n",
       "<style scoped>\n",
       "    .dataframe tbody tr th:only-of-type {\n",
       "        vertical-align: middle;\n",
       "    }\n",
       "\n",
       "    .dataframe tbody tr th {\n",
       "        vertical-align: top;\n",
       "    }\n",
       "\n",
       "    .dataframe thead th {\n",
       "        text-align: right;\n",
       "    }\n",
       "</style>\n",
       "<table border=\"1\" class=\"dataframe\">\n",
       "  <thead>\n",
       "    <tr style=\"text-align: right;\">\n",
       "      <th></th>\n",
       "      <th>mileage</th>\n",
       "      <th>reported_issues</th>\n",
       "      <th>vehicle_age</th>\n",
       "      <th>engine_size</th>\n",
       "      <th>odometer_reading</th>\n",
       "      <th>insurance_premium</th>\n",
       "      <th>service_history</th>\n",
       "      <th>accident_history</th>\n",
       "      <th>fuel_efficiency</th>\n",
       "      <th>time_since_last_service</th>\n",
       "      <th>...</th>\n",
       "      <th>owner_type_Third</th>\n",
       "      <th>tire_condition_1</th>\n",
       "      <th>tire_condition_2</th>\n",
       "      <th>tire_condition_3</th>\n",
       "      <th>brake_condition_1</th>\n",
       "      <th>brake_condition_2</th>\n",
       "      <th>brake_condition_3</th>\n",
       "      <th>battery_status_1</th>\n",
       "      <th>battery_status_2</th>\n",
       "      <th>battery_status_3</th>\n",
       "    </tr>\n",
       "  </thead>\n",
       "  <tbody>\n",
       "    <tr>\n",
       "      <th>17481</th>\n",
       "      <td>0.045950</td>\n",
       "      <td>-0.876318</td>\n",
       "      <td>0.176565</td>\n",
       "      <td>-0.886280</td>\n",
       "      <td>0.609636</td>\n",
       "      <td>1.537473</td>\n",
       "      <td>-0.179333</td>\n",
       "      <td>-0.448022</td>\n",
       "      <td>-0.529043</td>\n",
       "      <td>-1.666642</td>\n",
       "      <td>...</td>\n",
       "      <td>1.0</td>\n",
       "      <td>0.0</td>\n",
       "      <td>0.0</td>\n",
       "      <td>1.0</td>\n",
       "      <td>0.0</td>\n",
       "      <td>0.0</td>\n",
       "      <td>1.0</td>\n",
       "      <td>0.0</td>\n",
       "      <td>0.0</td>\n",
       "      <td>1.0</td>\n",
       "    </tr>\n",
       "    <tr>\n",
       "      <th>7663</th>\n",
       "      <td>-1.521149</td>\n",
       "      <td>-0.876318</td>\n",
       "      <td>1.567554</td>\n",
       "      <td>1.503508</td>\n",
       "      <td>-0.934610</td>\n",
       "      <td>0.372496</td>\n",
       "      <td>-0.875017</td>\n",
       "      <td>-0.448022</td>\n",
       "      <td>-0.460301</td>\n",
       "      <td>0.004540</td>\n",
       "      <td>...</td>\n",
       "      <td>0.0</td>\n",
       "      <td>0.0</td>\n",
       "      <td>1.0</td>\n",
       "      <td>0.0</td>\n",
       "      <td>0.0</td>\n",
       "      <td>0.0</td>\n",
       "      <td>1.0</td>\n",
       "      <td>1.0</td>\n",
       "      <td>0.0</td>\n",
       "      <td>0.0</td>\n",
       "    </tr>\n",
       "    <tr>\n",
       "      <th>28828</th>\n",
       "      <td>-0.143054</td>\n",
       "      <td>-0.291099</td>\n",
       "      <td>1.219806</td>\n",
       "      <td>-0.886280</td>\n",
       "      <td>-1.527819</td>\n",
       "      <td>0.762068</td>\n",
       "      <td>0.516350</td>\n",
       "      <td>0.445235</td>\n",
       "      <td>0.259993</td>\n",
       "      <td>-1.346848</td>\n",
       "      <td>...</td>\n",
       "      <td>1.0</td>\n",
       "      <td>1.0</td>\n",
       "      <td>0.0</td>\n",
       "      <td>0.0</td>\n",
       "      <td>0.0</td>\n",
       "      <td>1.0</td>\n",
       "      <td>0.0</td>\n",
       "      <td>0.0</td>\n",
       "      <td>0.0</td>\n",
       "      <td>1.0</td>\n",
       "    </tr>\n",
       "    <tr>\n",
       "      <th>17722</th>\n",
       "      <td>1.608397</td>\n",
       "      <td>0.879338</td>\n",
       "      <td>-0.518929</td>\n",
       "      <td>1.503508</td>\n",
       "      <td>0.700915</td>\n",
       "      <td>-0.027458</td>\n",
       "      <td>-1.222859</td>\n",
       "      <td>-0.448022</td>\n",
       "      <td>-1.701939</td>\n",
       "      <td>-0.439045</td>\n",
       "      <td>...</td>\n",
       "      <td>0.0</td>\n",
       "      <td>0.0</td>\n",
       "      <td>0.0</td>\n",
       "      <td>1.0</td>\n",
       "      <td>0.0</td>\n",
       "      <td>0.0</td>\n",
       "      <td>1.0</td>\n",
       "      <td>0.0</td>\n",
       "      <td>1.0</td>\n",
       "      <td>0.0</td>\n",
       "    </tr>\n",
       "    <tr>\n",
       "      <th>20318</th>\n",
       "      <td>1.656516</td>\n",
       "      <td>-1.461536</td>\n",
       "      <td>1.219806</td>\n",
       "      <td>-1.204918</td>\n",
       "      <td>0.183087</td>\n",
       "      <td>-0.161884</td>\n",
       "      <td>0.168508</td>\n",
       "      <td>-1.341279</td>\n",
       "      <td>0.986257</td>\n",
       "      <td>-0.016091</td>\n",
       "      <td>...</td>\n",
       "      <td>0.0</td>\n",
       "      <td>0.0</td>\n",
       "      <td>1.0</td>\n",
       "      <td>0.0</td>\n",
       "      <td>0.0</td>\n",
       "      <td>1.0</td>\n",
       "      <td>0.0</td>\n",
       "      <td>0.0</td>\n",
       "      <td>1.0</td>\n",
       "      <td>0.0</td>\n",
       "    </tr>\n",
       "    <tr>\n",
       "      <th>...</th>\n",
       "      <td>...</td>\n",
       "      <td>...</td>\n",
       "      <td>...</td>\n",
       "      <td>...</td>\n",
       "      <td>...</td>\n",
       "      <td>...</td>\n",
       "      <td>...</td>\n",
       "      <td>...</td>\n",
       "      <td>...</td>\n",
       "      <td>...</td>\n",
       "      <td>...</td>\n",
       "      <td>...</td>\n",
       "      <td>...</td>\n",
       "      <td>...</td>\n",
       "      <td>...</td>\n",
       "      <td>...</td>\n",
       "      <td>...</td>\n",
       "      <td>...</td>\n",
       "      <td>...</td>\n",
       "      <td>...</td>\n",
       "      <td>...</td>\n",
       "    </tr>\n",
       "    <tr>\n",
       "      <th>3384</th>\n",
       "      <td>0.112331</td>\n",
       "      <td>-1.461536</td>\n",
       "      <td>0.524312</td>\n",
       "      <td>0.706912</td>\n",
       "      <td>0.827773</td>\n",
       "      <td>-1.030044</td>\n",
       "      <td>-1.222859</td>\n",
       "      <td>-1.341279</td>\n",
       "      <td>0.003356</td>\n",
       "      <td>-1.068317</td>\n",
       "      <td>...</td>\n",
       "      <td>0.0</td>\n",
       "      <td>1.0</td>\n",
       "      <td>0.0</td>\n",
       "      <td>0.0</td>\n",
       "      <td>1.0</td>\n",
       "      <td>0.0</td>\n",
       "      <td>0.0</td>\n",
       "      <td>1.0</td>\n",
       "      <td>0.0</td>\n",
       "      <td>0.0</td>\n",
       "    </tr>\n",
       "    <tr>\n",
       "      <th>9803</th>\n",
       "      <td>-0.363930</td>\n",
       "      <td>-1.461536</td>\n",
       "      <td>-1.562170</td>\n",
       "      <td>-1.204918</td>\n",
       "      <td>-0.644643</td>\n",
       "      <td>-1.388605</td>\n",
       "      <td>-0.179333</td>\n",
       "      <td>0.445235</td>\n",
       "      <td>-1.471188</td>\n",
       "      <td>0.344966</td>\n",
       "      <td>...</td>\n",
       "      <td>1.0</td>\n",
       "      <td>1.0</td>\n",
       "      <td>0.0</td>\n",
       "      <td>0.0</td>\n",
       "      <td>0.0</td>\n",
       "      <td>1.0</td>\n",
       "      <td>0.0</td>\n",
       "      <td>0.0</td>\n",
       "      <td>0.0</td>\n",
       "      <td>1.0</td>\n",
       "    </tr>\n",
       "    <tr>\n",
       "      <th>14544</th>\n",
       "      <td>-1.639884</td>\n",
       "      <td>-0.291099</td>\n",
       "      <td>-0.171182</td>\n",
       "      <td>1.503508</td>\n",
       "      <td>0.697550</td>\n",
       "      <td>0.441993</td>\n",
       "      <td>-0.527175</td>\n",
       "      <td>-1.341279</td>\n",
       "      <td>-0.643030</td>\n",
       "      <td>-0.779471</td>\n",
       "      <td>...</td>\n",
       "      <td>0.0</td>\n",
       "      <td>0.0</td>\n",
       "      <td>0.0</td>\n",
       "      <td>1.0</td>\n",
       "      <td>1.0</td>\n",
       "      <td>0.0</td>\n",
       "      <td>0.0</td>\n",
       "      <td>0.0</td>\n",
       "      <td>0.0</td>\n",
       "      <td>1.0</td>\n",
       "    </tr>\n",
       "    <tr>\n",
       "      <th>30244</th>\n",
       "      <td>1.440640</td>\n",
       "      <td>-0.876318</td>\n",
       "      <td>0.176565</td>\n",
       "      <td>-0.886280</td>\n",
       "      <td>-1.462882</td>\n",
       "      <td>-0.765761</td>\n",
       "      <td>-0.527175</td>\n",
       "      <td>-1.341279</td>\n",
       "      <td>-0.032234</td>\n",
       "      <td>1.314665</td>\n",
       "      <td>...</td>\n",
       "      <td>0.0</td>\n",
       "      <td>0.0</td>\n",
       "      <td>0.0</td>\n",
       "      <td>1.0</td>\n",
       "      <td>0.0</td>\n",
       "      <td>0.0</td>\n",
       "      <td>1.0</td>\n",
       "      <td>0.0</td>\n",
       "      <td>1.0</td>\n",
       "      <td>0.0</td>\n",
       "    </tr>\n",
       "    <tr>\n",
       "      <th>24519</th>\n",
       "      <td>-1.204590</td>\n",
       "      <td>-0.291099</td>\n",
       "      <td>0.872059</td>\n",
       "      <td>-1.204918</td>\n",
       "      <td>-1.698750</td>\n",
       "      <td>0.642317</td>\n",
       "      <td>0.864192</td>\n",
       "      <td>-0.448022</td>\n",
       "      <td>1.403169</td>\n",
       "      <td>-1.088949</td>\n",
       "      <td>...</td>\n",
       "      <td>0.0</td>\n",
       "      <td>1.0</td>\n",
       "      <td>0.0</td>\n",
       "      <td>0.0</td>\n",
       "      <td>1.0</td>\n",
       "      <td>0.0</td>\n",
       "      <td>0.0</td>\n",
       "      <td>0.0</td>\n",
       "      <td>0.0</td>\n",
       "      <td>1.0</td>\n",
       "    </tr>\n",
       "  </tbody>\n",
       "</table>\n",
       "<p>37500 rows × 40 columns</p>\n",
       "</div>"
      ],
      "text/plain": [
       "        mileage  reported_issues  vehicle_age  engine_size  odometer_reading  \\\n",
       "17481  0.045950        -0.876318     0.176565    -0.886280          0.609636   \n",
       "7663  -1.521149        -0.876318     1.567554     1.503508         -0.934610   \n",
       "28828 -0.143054        -0.291099     1.219806    -0.886280         -1.527819   \n",
       "17722  1.608397         0.879338    -0.518929     1.503508          0.700915   \n",
       "20318  1.656516        -1.461536     1.219806    -1.204918          0.183087   \n",
       "...         ...              ...          ...          ...               ...   \n",
       "3384   0.112331        -1.461536     0.524312     0.706912          0.827773   \n",
       "9803  -0.363930        -1.461536    -1.562170    -1.204918         -0.644643   \n",
       "14544 -1.639884        -0.291099    -0.171182     1.503508          0.697550   \n",
       "30244  1.440640        -0.876318     0.176565    -0.886280         -1.462882   \n",
       "24519 -1.204590        -0.291099     0.872059    -1.204918         -1.698750   \n",
       "\n",
       "       insurance_premium  service_history  accident_history  fuel_efficiency  \\\n",
       "17481           1.537473        -0.179333         -0.448022        -0.529043   \n",
       "7663            0.372496        -0.875017         -0.448022        -0.460301   \n",
       "28828           0.762068         0.516350          0.445235         0.259993   \n",
       "17722          -0.027458        -1.222859         -0.448022        -1.701939   \n",
       "20318          -0.161884         0.168508         -1.341279         0.986257   \n",
       "...                  ...              ...               ...              ...   \n",
       "3384           -1.030044        -1.222859         -1.341279         0.003356   \n",
       "9803           -1.388605        -0.179333          0.445235        -1.471188   \n",
       "14544           0.441993        -0.527175         -1.341279        -0.643030   \n",
       "30244          -0.765761        -0.527175         -1.341279        -0.032234   \n",
       "24519           0.642317         0.864192         -0.448022         1.403169   \n",
       "\n",
       "       time_since_last_service  ...  owner_type_Third  tire_condition_1  \\\n",
       "17481                -1.666642  ...               1.0               0.0   \n",
       "7663                  0.004540  ...               0.0               0.0   \n",
       "28828                -1.346848  ...               1.0               1.0   \n",
       "17722                -0.439045  ...               0.0               0.0   \n",
       "20318                -0.016091  ...               0.0               0.0   \n",
       "...                        ...  ...               ...               ...   \n",
       "3384                 -1.068317  ...               0.0               1.0   \n",
       "9803                  0.344966  ...               1.0               1.0   \n",
       "14544                -0.779471  ...               0.0               0.0   \n",
       "30244                 1.314665  ...               0.0               0.0   \n",
       "24519                -1.088949  ...               0.0               1.0   \n",
       "\n",
       "       tire_condition_2  tire_condition_3  brake_condition_1  \\\n",
       "17481               0.0               1.0                0.0   \n",
       "7663                1.0               0.0                0.0   \n",
       "28828               0.0               0.0                0.0   \n",
       "17722               0.0               1.0                0.0   \n",
       "20318               1.0               0.0                0.0   \n",
       "...                 ...               ...                ...   \n",
       "3384                0.0               0.0                1.0   \n",
       "9803                0.0               0.0                0.0   \n",
       "14544               0.0               1.0                1.0   \n",
       "30244               0.0               1.0                0.0   \n",
       "24519               0.0               0.0                1.0   \n",
       "\n",
       "       brake_condition_2  brake_condition_3  battery_status_1  \\\n",
       "17481                0.0                1.0               0.0   \n",
       "7663                 0.0                1.0               1.0   \n",
       "28828                1.0                0.0               0.0   \n",
       "17722                0.0                1.0               0.0   \n",
       "20318                1.0                0.0               0.0   \n",
       "...                  ...                ...               ...   \n",
       "3384                 0.0                0.0               1.0   \n",
       "9803                 1.0                0.0               0.0   \n",
       "14544                0.0                0.0               0.0   \n",
       "30244                0.0                1.0               0.0   \n",
       "24519                0.0                0.0               0.0   \n",
       "\n",
       "       battery_status_2  battery_status_3  \n",
       "17481               0.0               1.0  \n",
       "7663                0.0               0.0  \n",
       "28828               0.0               1.0  \n",
       "17722               1.0               0.0  \n",
       "20318               1.0               0.0  \n",
       "...                 ...               ...  \n",
       "3384                0.0               0.0  \n",
       "9803                0.0               1.0  \n",
       "14544               0.0               1.0  \n",
       "30244               1.0               0.0  \n",
       "24519               0.0               1.0  \n",
       "\n",
       "[37500 rows x 40 columns]"
      ]
     },
     "execution_count": 11,
     "metadata": {},
     "output_type": "execute_result"
    }
   ],
   "source": [
    "X"
   ]
  },
  {
   "cell_type": "code",
   "execution_count": 12,
   "metadata": {},
   "outputs": [],
   "source": [
    "from sklearn.model_selection import GridSearchCV, train_test_split"
   ]
  },
  {
   "cell_type": "code",
   "execution_count": 19,
   "metadata": {},
   "outputs": [],
   "source": [
    "X_train, X_test, y_train, y_test = train_test_split(X, y, test_size=0.25, random_state=42)"
   ]
  },
  {
   "cell_type": "code",
   "execution_count": 20,
   "metadata": {},
   "outputs": [
    {
     "data": {
      "text/html": [
       "<div>\n",
       "<style scoped>\n",
       "    .dataframe tbody tr th:only-of-type {\n",
       "        vertical-align: middle;\n",
       "    }\n",
       "\n",
       "    .dataframe tbody tr th {\n",
       "        vertical-align: top;\n",
       "    }\n",
       "\n",
       "    .dataframe thead th {\n",
       "        text-align: right;\n",
       "    }\n",
       "</style>\n",
       "<table border=\"1\" class=\"dataframe\">\n",
       "  <thead>\n",
       "    <tr style=\"text-align: right;\">\n",
       "      <th></th>\n",
       "      <th>mileage</th>\n",
       "      <th>reported_issues</th>\n",
       "      <th>vehicle_age</th>\n",
       "      <th>engine_size</th>\n",
       "      <th>odometer_reading</th>\n",
       "      <th>insurance_premium</th>\n",
       "      <th>service_history</th>\n",
       "      <th>accident_history</th>\n",
       "      <th>fuel_efficiency</th>\n",
       "      <th>time_since_last_service</th>\n",
       "      <th>...</th>\n",
       "      <th>owner_type_Third</th>\n",
       "      <th>tire_condition_1</th>\n",
       "      <th>tire_condition_2</th>\n",
       "      <th>tire_condition_3</th>\n",
       "      <th>brake_condition_1</th>\n",
       "      <th>brake_condition_2</th>\n",
       "      <th>brake_condition_3</th>\n",
       "      <th>battery_status_1</th>\n",
       "      <th>battery_status_2</th>\n",
       "      <th>battery_status_3</th>\n",
       "    </tr>\n",
       "  </thead>\n",
       "  <tbody>\n",
       "    <tr>\n",
       "      <th>38509</th>\n",
       "      <td>-0.013348</td>\n",
       "      <td>0.879338</td>\n",
       "      <td>1.567554</td>\n",
       "      <td>-0.886280</td>\n",
       "      <td>1.396311</td>\n",
       "      <td>-0.271252</td>\n",
       "      <td>-1.570701</td>\n",
       "      <td>-1.341279</td>\n",
       "      <td>1.503667</td>\n",
       "      <td>0.551285</td>\n",
       "      <td>...</td>\n",
       "      <td>0.0</td>\n",
       "      <td>0.0</td>\n",
       "      <td>0.0</td>\n",
       "      <td>1.0</td>\n",
       "      <td>1.0</td>\n",
       "      <td>0.0</td>\n",
       "      <td>0.0</td>\n",
       "      <td>1.0</td>\n",
       "      <td>0.0</td>\n",
       "      <td>0.0</td>\n",
       "    </tr>\n",
       "    <tr>\n",
       "      <th>16837</th>\n",
       "      <td>-0.752771</td>\n",
       "      <td>-0.291099</td>\n",
       "      <td>-0.518929</td>\n",
       "      <td>-0.089684</td>\n",
       "      <td>-1.587442</td>\n",
       "      <td>-1.357733</td>\n",
       "      <td>-0.527175</td>\n",
       "      <td>1.338492</td>\n",
       "      <td>0.585543</td>\n",
       "      <td>1.696355</td>\n",
       "      <td>...</td>\n",
       "      <td>0.0</td>\n",
       "      <td>0.0</td>\n",
       "      <td>1.0</td>\n",
       "      <td>0.0</td>\n",
       "      <td>0.0</td>\n",
       "      <td>0.0</td>\n",
       "      <td>1.0</td>\n",
       "      <td>0.0</td>\n",
       "      <td>1.0</td>\n",
       "      <td>0.0</td>\n",
       "    </tr>\n",
       "    <tr>\n",
       "      <th>5164</th>\n",
       "      <td>1.139844</td>\n",
       "      <td>-1.461536</td>\n",
       "      <td>0.524312</td>\n",
       "      <td>-0.089684</td>\n",
       "      <td>1.570723</td>\n",
       "      <td>0.481864</td>\n",
       "      <td>-1.222859</td>\n",
       "      <td>-0.448022</td>\n",
       "      <td>1.305592</td>\n",
       "      <td>-1.707906</td>\n",
       "      <td>...</td>\n",
       "      <td>0.0</td>\n",
       "      <td>0.0</td>\n",
       "      <td>0.0</td>\n",
       "      <td>1.0</td>\n",
       "      <td>1.0</td>\n",
       "      <td>0.0</td>\n",
       "      <td>0.0</td>\n",
       "      <td>1.0</td>\n",
       "      <td>0.0</td>\n",
       "      <td>0.0</td>\n",
       "    </tr>\n",
       "    <tr>\n",
       "      <th>11763</th>\n",
       "      <td>1.158036</td>\n",
       "      <td>-1.461536</td>\n",
       "      <td>-0.518929</td>\n",
       "      <td>-0.089684</td>\n",
       "      <td>-1.149057</td>\n",
       "      <td>0.080387</td>\n",
       "      <td>1.559876</td>\n",
       "      <td>-0.448022</td>\n",
       "      <td>-1.324582</td>\n",
       "      <td>-1.068317</td>\n",
       "      <td>...</td>\n",
       "      <td>0.0</td>\n",
       "      <td>0.0</td>\n",
       "      <td>1.0</td>\n",
       "      <td>0.0</td>\n",
       "      <td>0.0</td>\n",
       "      <td>0.0</td>\n",
       "      <td>1.0</td>\n",
       "      <td>1.0</td>\n",
       "      <td>0.0</td>\n",
       "      <td>0.0</td>\n",
       "    </tr>\n",
       "    <tr>\n",
       "      <th>5312</th>\n",
       "      <td>-1.066066</td>\n",
       "      <td>1.464556</td>\n",
       "      <td>0.176565</td>\n",
       "      <td>-1.204918</td>\n",
       "      <td>-0.680222</td>\n",
       "      <td>1.607524</td>\n",
       "      <td>-0.179333</td>\n",
       "      <td>-1.341279</td>\n",
       "      <td>0.302598</td>\n",
       "      <td>0.324335</td>\n",
       "      <td>...</td>\n",
       "      <td>0.0</td>\n",
       "      <td>1.0</td>\n",
       "      <td>0.0</td>\n",
       "      <td>0.0</td>\n",
       "      <td>0.0</td>\n",
       "      <td>0.0</td>\n",
       "      <td>1.0</td>\n",
       "      <td>0.0</td>\n",
       "      <td>0.0</td>\n",
       "      <td>1.0</td>\n",
       "    </tr>\n",
       "    <tr>\n",
       "      <th>...</th>\n",
       "      <td>...</td>\n",
       "      <td>...</td>\n",
       "      <td>...</td>\n",
       "      <td>...</td>\n",
       "      <td>...</td>\n",
       "      <td>...</td>\n",
       "      <td>...</td>\n",
       "      <td>...</td>\n",
       "      <td>...</td>\n",
       "      <td>...</td>\n",
       "      <td>...</td>\n",
       "      <td>...</td>\n",
       "      <td>...</td>\n",
       "      <td>...</td>\n",
       "      <td>...</td>\n",
       "      <td>...</td>\n",
       "      <td>...</td>\n",
       "      <td>...</td>\n",
       "      <td>...</td>\n",
       "      <td>...</td>\n",
       "      <td>...</td>\n",
       "    </tr>\n",
       "    <tr>\n",
       "      <th>43731</th>\n",
       "      <td>-0.337961</td>\n",
       "      <td>-1.461536</td>\n",
       "      <td>1.567554</td>\n",
       "      <td>-0.089684</td>\n",
       "      <td>-0.074898</td>\n",
       "      <td>-0.095710</td>\n",
       "      <td>-0.875017</td>\n",
       "      <td>-0.448022</td>\n",
       "      <td>-1.382693</td>\n",
       "      <td>-1.553167</td>\n",
       "      <td>...</td>\n",
       "      <td>0.0</td>\n",
       "      <td>0.0</td>\n",
       "      <td>1.0</td>\n",
       "      <td>0.0</td>\n",
       "      <td>0.0</td>\n",
       "      <td>0.0</td>\n",
       "      <td>1.0</td>\n",
       "      <td>0.0</td>\n",
       "      <td>0.0</td>\n",
       "      <td>1.0</td>\n",
       "    </tr>\n",
       "    <tr>\n",
       "      <th>25304</th>\n",
       "      <td>1.336347</td>\n",
       "      <td>-0.876318</td>\n",
       "      <td>-0.866676</td>\n",
       "      <td>1.503508</td>\n",
       "      <td>-0.517879</td>\n",
       "      <td>-1.447027</td>\n",
       "      <td>-1.570701</td>\n",
       "      <td>1.338492</td>\n",
       "      <td>1.440711</td>\n",
       "      <td>-0.139883</td>\n",
       "      <td>...</td>\n",
       "      <td>0.0</td>\n",
       "      <td>1.0</td>\n",
       "      <td>0.0</td>\n",
       "      <td>0.0</td>\n",
       "      <td>0.0</td>\n",
       "      <td>1.0</td>\n",
       "      <td>0.0</td>\n",
       "      <td>0.0</td>\n",
       "      <td>0.0</td>\n",
       "      <td>1.0</td>\n",
       "    </tr>\n",
       "    <tr>\n",
       "      <th>27435</th>\n",
       "      <td>-1.124322</td>\n",
       "      <td>0.879338</td>\n",
       "      <td>-1.562170</td>\n",
       "      <td>0.706912</td>\n",
       "      <td>1.497060</td>\n",
       "      <td>0.414444</td>\n",
       "      <td>-1.222859</td>\n",
       "      <td>0.445235</td>\n",
       "      <td>0.409443</td>\n",
       "      <td>-0.284306</td>\n",
       "      <td>...</td>\n",
       "      <td>1.0</td>\n",
       "      <td>1.0</td>\n",
       "      <td>0.0</td>\n",
       "      <td>0.0</td>\n",
       "      <td>1.0</td>\n",
       "      <td>0.0</td>\n",
       "      <td>0.0</td>\n",
       "      <td>0.0</td>\n",
       "      <td>1.0</td>\n",
       "      <td>0.0</td>\n",
       "    </tr>\n",
       "    <tr>\n",
       "      <th>42373</th>\n",
       "      <td>1.456541</td>\n",
       "      <td>-0.876318</td>\n",
       "      <td>-0.171182</td>\n",
       "      <td>-0.886280</td>\n",
       "      <td>-0.097132</td>\n",
       "      <td>-0.339365</td>\n",
       "      <td>1.212034</td>\n",
       "      <td>-0.448022</td>\n",
       "      <td>-0.396216</td>\n",
       "      <td>-1.604746</td>\n",
       "      <td>...</td>\n",
       "      <td>0.0</td>\n",
       "      <td>1.0</td>\n",
       "      <td>0.0</td>\n",
       "      <td>0.0</td>\n",
       "      <td>0.0</td>\n",
       "      <td>1.0</td>\n",
       "      <td>0.0</td>\n",
       "      <td>0.0</td>\n",
       "      <td>1.0</td>\n",
       "      <td>0.0</td>\n",
       "    </tr>\n",
       "    <tr>\n",
       "      <th>22021</th>\n",
       "      <td>-1.357488</td>\n",
       "      <td>1.464556</td>\n",
       "      <td>1.567554</td>\n",
       "      <td>-0.886280</td>\n",
       "      <td>-1.362621</td>\n",
       "      <td>-0.338396</td>\n",
       "      <td>0.168508</td>\n",
       "      <td>0.445235</td>\n",
       "      <td>-0.054262</td>\n",
       "      <td>1.056766</td>\n",
       "      <td>...</td>\n",
       "      <td>1.0</td>\n",
       "      <td>0.0</td>\n",
       "      <td>1.0</td>\n",
       "      <td>0.0</td>\n",
       "      <td>1.0</td>\n",
       "      <td>0.0</td>\n",
       "      <td>0.0</td>\n",
       "      <td>1.0</td>\n",
       "      <td>0.0</td>\n",
       "      <td>0.0</td>\n",
       "    </tr>\n",
       "  </tbody>\n",
       "</table>\n",
       "<p>28125 rows × 40 columns</p>\n",
       "</div>"
      ],
      "text/plain": [
       "        mileage  reported_issues  vehicle_age  engine_size  odometer_reading  \\\n",
       "38509 -0.013348         0.879338     1.567554    -0.886280          1.396311   \n",
       "16837 -0.752771        -0.291099    -0.518929    -0.089684         -1.587442   \n",
       "5164   1.139844        -1.461536     0.524312    -0.089684          1.570723   \n",
       "11763  1.158036        -1.461536    -0.518929    -0.089684         -1.149057   \n",
       "5312  -1.066066         1.464556     0.176565    -1.204918         -0.680222   \n",
       "...         ...              ...          ...          ...               ...   \n",
       "43731 -0.337961        -1.461536     1.567554    -0.089684         -0.074898   \n",
       "25304  1.336347        -0.876318    -0.866676     1.503508         -0.517879   \n",
       "27435 -1.124322         0.879338    -1.562170     0.706912          1.497060   \n",
       "42373  1.456541        -0.876318    -0.171182    -0.886280         -0.097132   \n",
       "22021 -1.357488         1.464556     1.567554    -0.886280         -1.362621   \n",
       "\n",
       "       insurance_premium  service_history  accident_history  fuel_efficiency  \\\n",
       "38509          -0.271252        -1.570701         -1.341279         1.503667   \n",
       "16837          -1.357733        -0.527175          1.338492         0.585543   \n",
       "5164            0.481864        -1.222859         -0.448022         1.305592   \n",
       "11763           0.080387         1.559876         -0.448022        -1.324582   \n",
       "5312            1.607524        -0.179333         -1.341279         0.302598   \n",
       "...                  ...              ...               ...              ...   \n",
       "43731          -0.095710        -0.875017         -0.448022        -1.382693   \n",
       "25304          -1.447027        -1.570701          1.338492         1.440711   \n",
       "27435           0.414444        -1.222859          0.445235         0.409443   \n",
       "42373          -0.339365         1.212034         -0.448022        -0.396216   \n",
       "22021          -0.338396         0.168508          0.445235        -0.054262   \n",
       "\n",
       "       time_since_last_service  ...  owner_type_Third  tire_condition_1  \\\n",
       "38509                 0.551285  ...               0.0               0.0   \n",
       "16837                 1.696355  ...               0.0               0.0   \n",
       "5164                 -1.707906  ...               0.0               0.0   \n",
       "11763                -1.068317  ...               0.0               0.0   \n",
       "5312                  0.324335  ...               0.0               1.0   \n",
       "...                        ...  ...               ...               ...   \n",
       "43731                -1.553167  ...               0.0               0.0   \n",
       "25304                -0.139883  ...               0.0               1.0   \n",
       "27435                -0.284306  ...               1.0               1.0   \n",
       "42373                -1.604746  ...               0.0               1.0   \n",
       "22021                 1.056766  ...               1.0               0.0   \n",
       "\n",
       "       tire_condition_2  tire_condition_3  brake_condition_1  \\\n",
       "38509               0.0               1.0                1.0   \n",
       "16837               1.0               0.0                0.0   \n",
       "5164                0.0               1.0                1.0   \n",
       "11763               1.0               0.0                0.0   \n",
       "5312                0.0               0.0                0.0   \n",
       "...                 ...               ...                ...   \n",
       "43731               1.0               0.0                0.0   \n",
       "25304               0.0               0.0                0.0   \n",
       "27435               0.0               0.0                1.0   \n",
       "42373               0.0               0.0                0.0   \n",
       "22021               1.0               0.0                1.0   \n",
       "\n",
       "       brake_condition_2  brake_condition_3  battery_status_1  \\\n",
       "38509                0.0                0.0               1.0   \n",
       "16837                0.0                1.0               0.0   \n",
       "5164                 0.0                0.0               1.0   \n",
       "11763                0.0                1.0               1.0   \n",
       "5312                 0.0                1.0               0.0   \n",
       "...                  ...                ...               ...   \n",
       "43731                0.0                1.0               0.0   \n",
       "25304                1.0                0.0               0.0   \n",
       "27435                0.0                0.0               0.0   \n",
       "42373                1.0                0.0               0.0   \n",
       "22021                0.0                0.0               1.0   \n",
       "\n",
       "       battery_status_2  battery_status_3  \n",
       "38509               0.0               0.0  \n",
       "16837               1.0               0.0  \n",
       "5164                0.0               0.0  \n",
       "11763               0.0               0.0  \n",
       "5312                0.0               1.0  \n",
       "...                 ...               ...  \n",
       "43731               0.0               1.0  \n",
       "25304               0.0               1.0  \n",
       "27435               1.0               0.0  \n",
       "42373               1.0               0.0  \n",
       "22021               0.0               0.0  \n",
       "\n",
       "[28125 rows x 40 columns]"
      ]
     },
     "execution_count": 20,
     "metadata": {},
     "output_type": "execute_result"
    }
   ],
   "source": [
    "X_train"
   ]
  },
  {
   "cell_type": "code",
   "execution_count": 21,
   "metadata": {},
   "outputs": [
    {
     "data": {
      "text/plain": [
       "38509    1\n",
       "16837    0\n",
       "5164     1\n",
       "11763    1\n",
       "5312     1\n",
       "        ..\n",
       "43731    0\n",
       "25304    0\n",
       "27435    1\n",
       "42373    0\n",
       "22021    1\n",
       "Name: need_maintenance, Length: 28125, dtype: Int64"
      ]
     },
     "execution_count": 21,
     "metadata": {},
     "output_type": "execute_result"
    }
   ],
   "source": [
    "y_train"
   ]
  },
  {
   "cell_type": "code",
   "execution_count": 22,
   "metadata": {},
   "outputs": [
    {
     "data": {
      "text/html": [
       "<div>\n",
       "<style scoped>\n",
       "    .dataframe tbody tr th:only-of-type {\n",
       "        vertical-align: middle;\n",
       "    }\n",
       "\n",
       "    .dataframe tbody tr th {\n",
       "        vertical-align: top;\n",
       "    }\n",
       "\n",
       "    .dataframe thead th {\n",
       "        text-align: right;\n",
       "    }\n",
       "</style>\n",
       "<table border=\"1\" class=\"dataframe\">\n",
       "  <thead>\n",
       "    <tr style=\"text-align: right;\">\n",
       "      <th></th>\n",
       "      <th>mileage</th>\n",
       "      <th>reported_issues</th>\n",
       "      <th>vehicle_age</th>\n",
       "      <th>engine_size</th>\n",
       "      <th>odometer_reading</th>\n",
       "      <th>insurance_premium</th>\n",
       "      <th>service_history</th>\n",
       "      <th>accident_history</th>\n",
       "      <th>fuel_efficiency</th>\n",
       "      <th>time_since_last_service</th>\n",
       "      <th>...</th>\n",
       "      <th>owner_type_Third</th>\n",
       "      <th>tire_condition_1</th>\n",
       "      <th>tire_condition_2</th>\n",
       "      <th>tire_condition_3</th>\n",
       "      <th>brake_condition_1</th>\n",
       "      <th>brake_condition_2</th>\n",
       "      <th>brake_condition_3</th>\n",
       "      <th>battery_status_1</th>\n",
       "      <th>battery_status_2</th>\n",
       "      <th>battery_status_3</th>\n",
       "    </tr>\n",
       "  </thead>\n",
       "  <tbody>\n",
       "    <tr>\n",
       "      <th>17094</th>\n",
       "      <td>-0.213532</td>\n",
       "      <td>-0.876318</td>\n",
       "      <td>1.219806</td>\n",
       "      <td>-0.886280</td>\n",
       "      <td>0.287433</td>\n",
       "      <td>-0.550486</td>\n",
       "      <td>-0.875017</td>\n",
       "      <td>0.445235</td>\n",
       "      <td>-1.657535</td>\n",
       "      <td>-1.150845</td>\n",
       "      <td>...</td>\n",
       "      <td>0.0</td>\n",
       "      <td>0.0</td>\n",
       "      <td>0.0</td>\n",
       "      <td>1.0</td>\n",
       "      <td>0.0</td>\n",
       "      <td>0.0</td>\n",
       "      <td>1.0</td>\n",
       "      <td>0.0</td>\n",
       "      <td>0.0</td>\n",
       "      <td>1.0</td>\n",
       "    </tr>\n",
       "    <tr>\n",
       "      <th>46977</th>\n",
       "      <td>0.283213</td>\n",
       "      <td>0.294119</td>\n",
       "      <td>-0.171182</td>\n",
       "      <td>0.706912</td>\n",
       "      <td>-1.001567</td>\n",
       "      <td>0.595801</td>\n",
       "      <td>-0.527175</td>\n",
       "      <td>0.445235</td>\n",
       "      <td>0.964776</td>\n",
       "      <td>1.386876</td>\n",
       "      <td>...</td>\n",
       "      <td>1.0</td>\n",
       "      <td>1.0</td>\n",
       "      <td>0.0</td>\n",
       "      <td>0.0</td>\n",
       "      <td>0.0</td>\n",
       "      <td>0.0</td>\n",
       "      <td>1.0</td>\n",
       "      <td>0.0</td>\n",
       "      <td>1.0</td>\n",
       "      <td>0.0</td>\n",
       "    </tr>\n",
       "    <tr>\n",
       "      <th>517</th>\n",
       "      <td>-1.460601</td>\n",
       "      <td>0.294119</td>\n",
       "      <td>-1.562170</td>\n",
       "      <td>1.503508</td>\n",
       "      <td>-1.264844</td>\n",
       "      <td>-0.977714</td>\n",
       "      <td>-0.179333</td>\n",
       "      <td>1.338492</td>\n",
       "      <td>1.035619</td>\n",
       "      <td>1.304349</td>\n",
       "      <td>...</td>\n",
       "      <td>0.0</td>\n",
       "      <td>0.0</td>\n",
       "      <td>0.0</td>\n",
       "      <td>1.0</td>\n",
       "      <td>0.0</td>\n",
       "      <td>1.0</td>\n",
       "      <td>0.0</td>\n",
       "      <td>0.0</td>\n",
       "      <td>1.0</td>\n",
       "      <td>0.0</td>\n",
       "    </tr>\n",
       "    <tr>\n",
       "      <th>36000</th>\n",
       "      <td>-1.309994</td>\n",
       "      <td>0.879338</td>\n",
       "      <td>-1.214423</td>\n",
       "      <td>-1.204918</td>\n",
       "      <td>0.036874</td>\n",
       "      <td>0.938164</td>\n",
       "      <td>0.516350</td>\n",
       "      <td>-0.448022</td>\n",
       "      <td>1.017318</td>\n",
       "      <td>0.819500</td>\n",
       "      <td>...</td>\n",
       "      <td>0.0</td>\n",
       "      <td>0.0</td>\n",
       "      <td>1.0</td>\n",
       "      <td>0.0</td>\n",
       "      <td>0.0</td>\n",
       "      <td>1.0</td>\n",
       "      <td>0.0</td>\n",
       "      <td>1.0</td>\n",
       "      <td>0.0</td>\n",
       "      <td>0.0</td>\n",
       "    </tr>\n",
       "    <tr>\n",
       "      <th>4030</th>\n",
       "      <td>0.368411</td>\n",
       "      <td>0.879338</td>\n",
       "      <td>0.176565</td>\n",
       "      <td>-1.204918</td>\n",
       "      <td>-1.624924</td>\n",
       "      <td>1.666638</td>\n",
       "      <td>0.168508</td>\n",
       "      <td>-0.448022</td>\n",
       "      <td>-1.145257</td>\n",
       "      <td>0.994871</td>\n",
       "      <td>...</td>\n",
       "      <td>0.0</td>\n",
       "      <td>0.0</td>\n",
       "      <td>0.0</td>\n",
       "      <td>1.0</td>\n",
       "      <td>1.0</td>\n",
       "      <td>0.0</td>\n",
       "      <td>0.0</td>\n",
       "      <td>0.0</td>\n",
       "      <td>1.0</td>\n",
       "      <td>0.0</td>\n",
       "    </tr>\n",
       "    <tr>\n",
       "      <th>...</th>\n",
       "      <td>...</td>\n",
       "      <td>...</td>\n",
       "      <td>...</td>\n",
       "      <td>...</td>\n",
       "      <td>...</td>\n",
       "      <td>...</td>\n",
       "      <td>...</td>\n",
       "      <td>...</td>\n",
       "      <td>...</td>\n",
       "      <td>...</td>\n",
       "      <td>...</td>\n",
       "      <td>...</td>\n",
       "      <td>...</td>\n",
       "      <td>...</td>\n",
       "      <td>...</td>\n",
       "      <td>...</td>\n",
       "      <td>...</td>\n",
       "      <td>...</td>\n",
       "      <td>...</td>\n",
       "      <td>...</td>\n",
       "      <td>...</td>\n",
       "    </tr>\n",
       "    <tr>\n",
       "      <th>34318</th>\n",
       "      <td>-0.532034</td>\n",
       "      <td>0.879338</td>\n",
       "      <td>0.524312</td>\n",
       "      <td>-1.204918</td>\n",
       "      <td>-0.706703</td>\n",
       "      <td>-0.190680</td>\n",
       "      <td>-0.527175</td>\n",
       "      <td>0.445235</td>\n",
       "      <td>-0.777671</td>\n",
       "      <td>-1.047685</td>\n",
       "      <td>...</td>\n",
       "      <td>0.0</td>\n",
       "      <td>0.0</td>\n",
       "      <td>0.0</td>\n",
       "      <td>1.0</td>\n",
       "      <td>0.0</td>\n",
       "      <td>1.0</td>\n",
       "      <td>0.0</td>\n",
       "      <td>0.0</td>\n",
       "      <td>0.0</td>\n",
       "      <td>1.0</td>\n",
       "    </tr>\n",
       "    <tr>\n",
       "      <th>47523</th>\n",
       "      <td>-1.718208</td>\n",
       "      <td>-0.291099</td>\n",
       "      <td>0.872059</td>\n",
       "      <td>-0.089684</td>\n",
       "      <td>1.220066</td>\n",
       "      <td>1.096540</td>\n",
       "      <td>-1.222859</td>\n",
       "      <td>1.338492</td>\n",
       "      <td>-1.171532</td>\n",
       "      <td>0.943291</td>\n",
       "      <td>...</td>\n",
       "      <td>0.0</td>\n",
       "      <td>0.0</td>\n",
       "      <td>1.0</td>\n",
       "      <td>0.0</td>\n",
       "      <td>0.0</td>\n",
       "      <td>1.0</td>\n",
       "      <td>0.0</td>\n",
       "      <td>0.0</td>\n",
       "      <td>0.0</td>\n",
       "      <td>1.0</td>\n",
       "    </tr>\n",
       "    <tr>\n",
       "      <th>36859</th>\n",
       "      <td>0.122608</td>\n",
       "      <td>0.294119</td>\n",
       "      <td>-1.214423</td>\n",
       "      <td>-0.089684</td>\n",
       "      <td>0.024527</td>\n",
       "      <td>-0.084219</td>\n",
       "      <td>0.168508</td>\n",
       "      <td>1.338492</td>\n",
       "      <td>-0.034176</td>\n",
       "      <td>-0.676312</td>\n",
       "      <td>...</td>\n",
       "      <td>0.0</td>\n",
       "      <td>0.0</td>\n",
       "      <td>0.0</td>\n",
       "      <td>1.0</td>\n",
       "      <td>0.0</td>\n",
       "      <td>0.0</td>\n",
       "      <td>1.0</td>\n",
       "      <td>1.0</td>\n",
       "      <td>0.0</td>\n",
       "      <td>0.0</td>\n",
       "    </tr>\n",
       "    <tr>\n",
       "      <th>35727</th>\n",
       "      <td>-0.789294</td>\n",
       "      <td>-0.876318</td>\n",
       "      <td>-1.214423</td>\n",
       "      <td>-1.204918</td>\n",
       "      <td>-1.068477</td>\n",
       "      <td>-1.576330</td>\n",
       "      <td>0.168508</td>\n",
       "      <td>-0.448022</td>\n",
       "      <td>-1.045357</td>\n",
       "      <td>1.438456</td>\n",
       "      <td>...</td>\n",
       "      <td>0.0</td>\n",
       "      <td>1.0</td>\n",
       "      <td>0.0</td>\n",
       "      <td>0.0</td>\n",
       "      <td>1.0</td>\n",
       "      <td>0.0</td>\n",
       "      <td>0.0</td>\n",
       "      <td>0.0</td>\n",
       "      <td>1.0</td>\n",
       "      <td>0.0</td>\n",
       "    </tr>\n",
       "    <tr>\n",
       "      <th>21607</th>\n",
       "      <td>0.583940</td>\n",
       "      <td>0.879338</td>\n",
       "      <td>1.567554</td>\n",
       "      <td>-1.204918</td>\n",
       "      <td>0.364369</td>\n",
       "      <td>1.470329</td>\n",
       "      <td>1.559876</td>\n",
       "      <td>1.338492</td>\n",
       "      <td>1.058973</td>\n",
       "      <td>-1.470639</td>\n",
       "      <td>...</td>\n",
       "      <td>1.0</td>\n",
       "      <td>1.0</td>\n",
       "      <td>0.0</td>\n",
       "      <td>0.0</td>\n",
       "      <td>0.0</td>\n",
       "      <td>0.0</td>\n",
       "      <td>1.0</td>\n",
       "      <td>1.0</td>\n",
       "      <td>0.0</td>\n",
       "      <td>0.0</td>\n",
       "    </tr>\n",
       "  </tbody>\n",
       "</table>\n",
       "<p>9375 rows × 40 columns</p>\n",
       "</div>"
      ],
      "text/plain": [
       "        mileage  reported_issues  vehicle_age  engine_size  odometer_reading  \\\n",
       "17094 -0.213532        -0.876318     1.219806    -0.886280          0.287433   \n",
       "46977  0.283213         0.294119    -0.171182     0.706912         -1.001567   \n",
       "517   -1.460601         0.294119    -1.562170     1.503508         -1.264844   \n",
       "36000 -1.309994         0.879338    -1.214423    -1.204918          0.036874   \n",
       "4030   0.368411         0.879338     0.176565    -1.204918         -1.624924   \n",
       "...         ...              ...          ...          ...               ...   \n",
       "34318 -0.532034         0.879338     0.524312    -1.204918         -0.706703   \n",
       "47523 -1.718208        -0.291099     0.872059    -0.089684          1.220066   \n",
       "36859  0.122608         0.294119    -1.214423    -0.089684          0.024527   \n",
       "35727 -0.789294        -0.876318    -1.214423    -1.204918         -1.068477   \n",
       "21607  0.583940         0.879338     1.567554    -1.204918          0.364369   \n",
       "\n",
       "       insurance_premium  service_history  accident_history  fuel_efficiency  \\\n",
       "17094          -0.550486        -0.875017          0.445235        -1.657535   \n",
       "46977           0.595801        -0.527175          0.445235         0.964776   \n",
       "517            -0.977714        -0.179333          1.338492         1.035619   \n",
       "36000           0.938164         0.516350         -0.448022         1.017318   \n",
       "4030            1.666638         0.168508         -0.448022        -1.145257   \n",
       "...                  ...              ...               ...              ...   \n",
       "34318          -0.190680        -0.527175          0.445235        -0.777671   \n",
       "47523           1.096540        -1.222859          1.338492        -1.171532   \n",
       "36859          -0.084219         0.168508          1.338492        -0.034176   \n",
       "35727          -1.576330         0.168508         -0.448022        -1.045357   \n",
       "21607           1.470329         1.559876          1.338492         1.058973   \n",
       "\n",
       "       time_since_last_service  ...  owner_type_Third  tire_condition_1  \\\n",
       "17094                -1.150845  ...               0.0               0.0   \n",
       "46977                 1.386876  ...               1.0               1.0   \n",
       "517                   1.304349  ...               0.0               0.0   \n",
       "36000                 0.819500  ...               0.0               0.0   \n",
       "4030                  0.994871  ...               0.0               0.0   \n",
       "...                        ...  ...               ...               ...   \n",
       "34318                -1.047685  ...               0.0               0.0   \n",
       "47523                 0.943291  ...               0.0               0.0   \n",
       "36859                -0.676312  ...               0.0               0.0   \n",
       "35727                 1.438456  ...               0.0               1.0   \n",
       "21607                -1.470639  ...               1.0               1.0   \n",
       "\n",
       "       tire_condition_2  tire_condition_3  brake_condition_1  \\\n",
       "17094               0.0               1.0                0.0   \n",
       "46977               0.0               0.0                0.0   \n",
       "517                 0.0               1.0                0.0   \n",
       "36000               1.0               0.0                0.0   \n",
       "4030                0.0               1.0                1.0   \n",
       "...                 ...               ...                ...   \n",
       "34318               0.0               1.0                0.0   \n",
       "47523               1.0               0.0                0.0   \n",
       "36859               0.0               1.0                0.0   \n",
       "35727               0.0               0.0                1.0   \n",
       "21607               0.0               0.0                0.0   \n",
       "\n",
       "       brake_condition_2  brake_condition_3  battery_status_1  \\\n",
       "17094                0.0                1.0               0.0   \n",
       "46977                0.0                1.0               0.0   \n",
       "517                  1.0                0.0               0.0   \n",
       "36000                1.0                0.0               1.0   \n",
       "4030                 0.0                0.0               0.0   \n",
       "...                  ...                ...               ...   \n",
       "34318                1.0                0.0               0.0   \n",
       "47523                1.0                0.0               0.0   \n",
       "36859                0.0                1.0               1.0   \n",
       "35727                0.0                0.0               0.0   \n",
       "21607                0.0                1.0               1.0   \n",
       "\n",
       "       battery_status_2  battery_status_3  \n",
       "17094               0.0               1.0  \n",
       "46977               1.0               0.0  \n",
       "517                 1.0               0.0  \n",
       "36000               0.0               0.0  \n",
       "4030                1.0               0.0  \n",
       "...                 ...               ...  \n",
       "34318               0.0               1.0  \n",
       "47523               0.0               1.0  \n",
       "36859               0.0               0.0  \n",
       "35727               1.0               0.0  \n",
       "21607               0.0               0.0  \n",
       "\n",
       "[9375 rows x 40 columns]"
      ]
     },
     "execution_count": 22,
     "metadata": {},
     "output_type": "execute_result"
    }
   ],
   "source": [
    "X_test"
   ]
  },
  {
   "cell_type": "code",
   "execution_count": 23,
   "metadata": {},
   "outputs": [
    {
     "data": {
      "text/plain": [
       "17094    0\n",
       "46977    1\n",
       "517      1\n",
       "36000    1\n",
       "4030     1\n",
       "        ..\n",
       "34318    1\n",
       "47523    0\n",
       "36859    1\n",
       "35727    1\n",
       "21607    1\n",
       "Name: need_maintenance, Length: 9375, dtype: Int64"
      ]
     },
     "execution_count": 23,
     "metadata": {},
     "output_type": "execute_result"
    }
   ],
   "source": [
    "y_test"
   ]
  },
  {
   "cell_type": "code",
   "execution_count": 1,
   "metadata": {},
   "outputs": [],
   "source": [
    "import pandas as pd\n",
    "import numpy as np\n",
    "\n",
    "# Create a sample dataset with 50,000 rows and 20 columns\n",
    "\n",
    "df = pd.read_csv('rawData/vehicle_maintenance_data.csv')\n"
   ]
  },
  {
   "cell_type": "code",
   "execution_count": 2,
   "metadata": {},
   "outputs": [],
   "source": [
    "df.columns = map(str.lower, df.columns)"
   ]
  },
  {
   "cell_type": "code",
   "execution_count": 3,
   "metadata": {},
   "outputs": [
    {
     "data": {
      "text/html": [
       "<div>\n",
       "<style scoped>\n",
       "    .dataframe tbody tr th:only-of-type {\n",
       "        vertical-align: middle;\n",
       "    }\n",
       "\n",
       "    .dataframe tbody tr th {\n",
       "        vertical-align: top;\n",
       "    }\n",
       "\n",
       "    .dataframe thead th {\n",
       "        text-align: right;\n",
       "    }\n",
       "</style>\n",
       "<table border=\"1\" class=\"dataframe\">\n",
       "  <thead>\n",
       "    <tr style=\"text-align: right;\">\n",
       "      <th></th>\n",
       "      <th>vehicle_model</th>\n",
       "      <th>mileage</th>\n",
       "      <th>maintenance_history</th>\n",
       "      <th>reported_issues</th>\n",
       "      <th>vehicle_age</th>\n",
       "      <th>fuel_type</th>\n",
       "      <th>transmission_type</th>\n",
       "      <th>engine_size</th>\n",
       "      <th>odometer_reading</th>\n",
       "      <th>last_service_date</th>\n",
       "      <th>warranty_expiry_date</th>\n",
       "      <th>owner_type</th>\n",
       "      <th>insurance_premium</th>\n",
       "      <th>service_history</th>\n",
       "      <th>accident_history</th>\n",
       "      <th>fuel_efficiency</th>\n",
       "      <th>tire_condition</th>\n",
       "      <th>brake_condition</th>\n",
       "      <th>battery_status</th>\n",
       "      <th>need_maintenance</th>\n",
       "    </tr>\n",
       "  </thead>\n",
       "  <tbody>\n",
       "    <tr>\n",
       "      <th>0</th>\n",
       "      <td>Truck</td>\n",
       "      <td>58765</td>\n",
       "      <td>Good</td>\n",
       "      <td>0</td>\n",
       "      <td>4</td>\n",
       "      <td>Electric</td>\n",
       "      <td>Automatic</td>\n",
       "      <td>2000</td>\n",
       "      <td>28524</td>\n",
       "      <td>23-11-2023</td>\n",
       "      <td>24-06-2025</td>\n",
       "      <td>Second</td>\n",
       "      <td>20782</td>\n",
       "      <td>6</td>\n",
       "      <td>3</td>\n",
       "      <td>13.622204</td>\n",
       "      <td>New</td>\n",
       "      <td>New</td>\n",
       "      <td>Weak</td>\n",
       "      <td>1</td>\n",
       "    </tr>\n",
       "    <tr>\n",
       "      <th>1</th>\n",
       "      <td>Van</td>\n",
       "      <td>60353</td>\n",
       "      <td>Average</td>\n",
       "      <td>1</td>\n",
       "      <td>7</td>\n",
       "      <td>Electric</td>\n",
       "      <td>Automatic</td>\n",
       "      <td>2500</td>\n",
       "      <td>133630</td>\n",
       "      <td>21-09-2023</td>\n",
       "      <td>04-06-2025</td>\n",
       "      <td>Second</td>\n",
       "      <td>23489</td>\n",
       "      <td>7</td>\n",
       "      <td>0</td>\n",
       "      <td>13.625307</td>\n",
       "      <td>New</td>\n",
       "      <td>New</td>\n",
       "      <td>Weak</td>\n",
       "      <td>1</td>\n",
       "    </tr>\n",
       "    <tr>\n",
       "      <th>2</th>\n",
       "      <td>Bus</td>\n",
       "      <td>68072</td>\n",
       "      <td>Poor</td>\n",
       "      <td>0</td>\n",
       "      <td>2</td>\n",
       "      <td>Electric</td>\n",
       "      <td>Automatic</td>\n",
       "      <td>1500</td>\n",
       "      <td>34022</td>\n",
       "      <td>27-06-2023</td>\n",
       "      <td>27-04-2025</td>\n",
       "      <td>First</td>\n",
       "      <td>17979</td>\n",
       "      <td>7</td>\n",
       "      <td>0</td>\n",
       "      <td>14.306302</td>\n",
       "      <td>New</td>\n",
       "      <td>Good</td>\n",
       "      <td>Weak</td>\n",
       "      <td>1</td>\n",
       "    </tr>\n",
       "    <tr>\n",
       "      <th>3</th>\n",
       "      <td>Bus</td>\n",
       "      <td>60849</td>\n",
       "      <td>Average</td>\n",
       "      <td>4</td>\n",
       "      <td>5</td>\n",
       "      <td>Petrol</td>\n",
       "      <td>Automatic</td>\n",
       "      <td>2500</td>\n",
       "      <td>81636</td>\n",
       "      <td>24-08-2023</td>\n",
       "      <td>05-11-2025</td>\n",
       "      <td>Second</td>\n",
       "      <td>6220</td>\n",
       "      <td>7</td>\n",
       "      <td>3</td>\n",
       "      <td>18.709467</td>\n",
       "      <td>New</td>\n",
       "      <td>Worn Out</td>\n",
       "      <td>New</td>\n",
       "      <td>1</td>\n",
       "    </tr>\n",
       "    <tr>\n",
       "      <th>4</th>\n",
       "      <td>Bus</td>\n",
       "      <td>45742</td>\n",
       "      <td>Poor</td>\n",
       "      <td>5</td>\n",
       "      <td>1</td>\n",
       "      <td>Petrol</td>\n",
       "      <td>Manual</td>\n",
       "      <td>2000</td>\n",
       "      <td>97162</td>\n",
       "      <td>25-05-2023</td>\n",
       "      <td>14-09-2025</td>\n",
       "      <td>Third</td>\n",
       "      <td>16446</td>\n",
       "      <td>6</td>\n",
       "      <td>2</td>\n",
       "      <td>16.977483</td>\n",
       "      <td>Good</td>\n",
       "      <td>Good</td>\n",
       "      <td>Weak</td>\n",
       "      <td>1</td>\n",
       "    </tr>\n",
       "    <tr>\n",
       "      <th>...</th>\n",
       "      <td>...</td>\n",
       "      <td>...</td>\n",
       "      <td>...</td>\n",
       "      <td>...</td>\n",
       "      <td>...</td>\n",
       "      <td>...</td>\n",
       "      <td>...</td>\n",
       "      <td>...</td>\n",
       "      <td>...</td>\n",
       "      <td>...</td>\n",
       "      <td>...</td>\n",
       "      <td>...</td>\n",
       "      <td>...</td>\n",
       "      <td>...</td>\n",
       "      <td>...</td>\n",
       "      <td>...</td>\n",
       "      <td>...</td>\n",
       "      <td>...</td>\n",
       "      <td>...</td>\n",
       "      <td>...</td>\n",
       "    </tr>\n",
       "    <tr>\n",
       "      <th>49995</th>\n",
       "      <td>Car</td>\n",
       "      <td>77229</td>\n",
       "      <td>Good</td>\n",
       "      <td>3</td>\n",
       "      <td>6</td>\n",
       "      <td>Diesel</td>\n",
       "      <td>Automatic</td>\n",
       "      <td>2500</td>\n",
       "      <td>97404</td>\n",
       "      <td>24-11-2023</td>\n",
       "      <td>15-09-2025</td>\n",
       "      <td>Third</td>\n",
       "      <td>5217</td>\n",
       "      <td>4</td>\n",
       "      <td>1</td>\n",
       "      <td>10.357298</td>\n",
       "      <td>New</td>\n",
       "      <td>Good</td>\n",
       "      <td>Weak</td>\n",
       "      <td>1</td>\n",
       "    </tr>\n",
       "    <tr>\n",
       "      <th>49996</th>\n",
       "      <td>Truck</td>\n",
       "      <td>54742</td>\n",
       "      <td>Good</td>\n",
       "      <td>4</td>\n",
       "      <td>4</td>\n",
       "      <td>Diesel</td>\n",
       "      <td>Manual</td>\n",
       "      <td>800</td>\n",
       "      <td>13421</td>\n",
       "      <td>14-07-2023</td>\n",
       "      <td>21-01-2025</td>\n",
       "      <td>Second</td>\n",
       "      <td>15856</td>\n",
       "      <td>4</td>\n",
       "      <td>1</td>\n",
       "      <td>14.924022</td>\n",
       "      <td>Worn Out</td>\n",
       "      <td>New</td>\n",
       "      <td>Good</td>\n",
       "      <td>1</td>\n",
       "    </tr>\n",
       "    <tr>\n",
       "      <th>49997</th>\n",
       "      <td>Van</td>\n",
       "      <td>75601</td>\n",
       "      <td>Poor</td>\n",
       "      <td>0</td>\n",
       "      <td>4</td>\n",
       "      <td>Electric</td>\n",
       "      <td>Automatic</td>\n",
       "      <td>1500</td>\n",
       "      <td>124851</td>\n",
       "      <td>09-09-2023</td>\n",
       "      <td>09-11-2024</td>\n",
       "      <td>First</td>\n",
       "      <td>6019</td>\n",
       "      <td>10</td>\n",
       "      <td>0</td>\n",
       "      <td>19.859243</td>\n",
       "      <td>Worn Out</td>\n",
       "      <td>Worn Out</td>\n",
       "      <td>Weak</td>\n",
       "      <td>1</td>\n",
       "    </tr>\n",
       "    <tr>\n",
       "      <th>49998</th>\n",
       "      <td>Car</td>\n",
       "      <td>66181</td>\n",
       "      <td>Good</td>\n",
       "      <td>1</td>\n",
       "      <td>7</td>\n",
       "      <td>Electric</td>\n",
       "      <td>Manual</td>\n",
       "      <td>2500</td>\n",
       "      <td>103182</td>\n",
       "      <td>26-08-2023</td>\n",
       "      <td>22-05-2025</td>\n",
       "      <td>Third</td>\n",
       "      <td>5030</td>\n",
       "      <td>4</td>\n",
       "      <td>3</td>\n",
       "      <td>10.720555</td>\n",
       "      <td>New</td>\n",
       "      <td>Good</td>\n",
       "      <td>Weak</td>\n",
       "      <td>1</td>\n",
       "    </tr>\n",
       "    <tr>\n",
       "      <th>49999</th>\n",
       "      <td>Car</td>\n",
       "      <td>71605</td>\n",
       "      <td>Poor</td>\n",
       "      <td>0</td>\n",
       "      <td>10</td>\n",
       "      <td>Petrol</td>\n",
       "      <td>Manual</td>\n",
       "      <td>2000</td>\n",
       "      <td>65721</td>\n",
       "      <td>25-07-2023</td>\n",
       "      <td>06-06-2024</td>\n",
       "      <td>Third</td>\n",
       "      <td>9171</td>\n",
       "      <td>6</td>\n",
       "      <td>3</td>\n",
       "      <td>16.328945</td>\n",
       "      <td>Good</td>\n",
       "      <td>New</td>\n",
       "      <td>Good</td>\n",
       "      <td>0</td>\n",
       "    </tr>\n",
       "  </tbody>\n",
       "</table>\n",
       "<p>50000 rows × 20 columns</p>\n",
       "</div>"
      ],
      "text/plain": [
       "      vehicle_model  mileage maintenance_history  reported_issues  \\\n",
       "0             Truck    58765                Good                0   \n",
       "1               Van    60353             Average                1   \n",
       "2               Bus    68072                Poor                0   \n",
       "3               Bus    60849             Average                4   \n",
       "4               Bus    45742                Poor                5   \n",
       "...             ...      ...                 ...              ...   \n",
       "49995           Car    77229                Good                3   \n",
       "49996         Truck    54742                Good                4   \n",
       "49997           Van    75601                Poor                0   \n",
       "49998           Car    66181                Good                1   \n",
       "49999           Car    71605                Poor                0   \n",
       "\n",
       "       vehicle_age fuel_type transmission_type  engine_size  odometer_reading  \\\n",
       "0                4  Electric         Automatic         2000             28524   \n",
       "1                7  Electric         Automatic         2500            133630   \n",
       "2                2  Electric         Automatic         1500             34022   \n",
       "3                5    Petrol         Automatic         2500             81636   \n",
       "4                1    Petrol            Manual         2000             97162   \n",
       "...            ...       ...               ...          ...               ...   \n",
       "49995            6    Diesel         Automatic         2500             97404   \n",
       "49996            4    Diesel            Manual          800             13421   \n",
       "49997            4  Electric         Automatic         1500            124851   \n",
       "49998            7  Electric            Manual         2500            103182   \n",
       "49999           10    Petrol            Manual         2000             65721   \n",
       "\n",
       "      last_service_date warranty_expiry_date owner_type  insurance_premium  \\\n",
       "0            23-11-2023           24-06-2025     Second              20782   \n",
       "1            21-09-2023           04-06-2025     Second              23489   \n",
       "2            27-06-2023           27-04-2025      First              17979   \n",
       "3            24-08-2023           05-11-2025     Second               6220   \n",
       "4            25-05-2023           14-09-2025      Third              16446   \n",
       "...                 ...                  ...        ...                ...   \n",
       "49995        24-11-2023           15-09-2025      Third               5217   \n",
       "49996        14-07-2023           21-01-2025     Second              15856   \n",
       "49997        09-09-2023           09-11-2024      First               6019   \n",
       "49998        26-08-2023           22-05-2025      Third               5030   \n",
       "49999        25-07-2023           06-06-2024      Third               9171   \n",
       "\n",
       "       service_history  accident_history  fuel_efficiency tire_condition  \\\n",
       "0                    6                 3        13.622204            New   \n",
       "1                    7                 0        13.625307            New   \n",
       "2                    7                 0        14.306302            New   \n",
       "3                    7                 3        18.709467            New   \n",
       "4                    6                 2        16.977483           Good   \n",
       "...                ...               ...              ...            ...   \n",
       "49995                4                 1        10.357298            New   \n",
       "49996                4                 1        14.924022       Worn Out   \n",
       "49997               10                 0        19.859243       Worn Out   \n",
       "49998                4                 3        10.720555            New   \n",
       "49999                6                 3        16.328945           Good   \n",
       "\n",
       "      brake_condition battery_status  need_maintenance  \n",
       "0                 New           Weak                 1  \n",
       "1                 New           Weak                 1  \n",
       "2                Good           Weak                 1  \n",
       "3            Worn Out            New                 1  \n",
       "4                Good           Weak                 1  \n",
       "...               ...            ...               ...  \n",
       "49995            Good           Weak                 1  \n",
       "49996             New           Good                 1  \n",
       "49997        Worn Out           Weak                 1  \n",
       "49998            Good           Weak                 1  \n",
       "49999             New           Good                 0  \n",
       "\n",
       "[50000 rows x 20 columns]"
      ]
     },
     "execution_count": 3,
     "metadata": {},
     "output_type": "execute_result"
    }
   ],
   "source": [
    "df"
   ]
  },
  {
   "cell_type": "code",
   "execution_count": 4,
   "metadata": {},
   "outputs": [],
   "source": [
    "car_indices = df[df['vehicle_model'] != 'Car'].sample(n=min(7000, len(df[df['vehicle_model'] != 'Car'])), replace=False).index # handle case where less rows available\n",
    "df.loc[car_indices, 'vehicle_model'] = 'Car'\n",
    "\n",
    "truck_indices = df[df['vehicle_model'] != 'Truck'].sample(n=min(4983, len(df[df['vehicle_model'] != 'Truck'])), replace=False).index\n",
    "df.loc[truck_indices, 'vehicle_model'] = 'Truck'\n",
    "\n",
    "\n",
    "bus_indices = df[df['vehicle_model'] != 'Bus'].sample(n=min(389, len(df[df['vehicle_model'] != 'Bus'])), replace=False).index\n",
    "df.loc[bus_indices, 'vehicle_model'] = 'Bus'"
   ]
  },
  {
   "cell_type": "code",
   "execution_count": 5,
   "metadata": {},
   "outputs": [
    {
     "data": {
      "text/html": [
       "<div>\n",
       "<style scoped>\n",
       "    .dataframe tbody tr th:only-of-type {\n",
       "        vertical-align: middle;\n",
       "    }\n",
       "\n",
       "    .dataframe tbody tr th {\n",
       "        vertical-align: top;\n",
       "    }\n",
       "\n",
       "    .dataframe thead th {\n",
       "        text-align: right;\n",
       "    }\n",
       "</style>\n",
       "<table border=\"1\" class=\"dataframe\">\n",
       "  <thead>\n",
       "    <tr style=\"text-align: right;\">\n",
       "      <th></th>\n",
       "      <th>vehicle_model</th>\n",
       "      <th>mileage</th>\n",
       "      <th>maintenance_history</th>\n",
       "      <th>reported_issues</th>\n",
       "      <th>vehicle_age</th>\n",
       "      <th>fuel_type</th>\n",
       "      <th>transmission_type</th>\n",
       "      <th>engine_size</th>\n",
       "      <th>odometer_reading</th>\n",
       "      <th>last_service_date</th>\n",
       "      <th>warranty_expiry_date</th>\n",
       "      <th>owner_type</th>\n",
       "      <th>insurance_premium</th>\n",
       "      <th>service_history</th>\n",
       "      <th>accident_history</th>\n",
       "      <th>fuel_efficiency</th>\n",
       "      <th>tire_condition</th>\n",
       "      <th>brake_condition</th>\n",
       "      <th>battery_status</th>\n",
       "      <th>need_maintenance</th>\n",
       "    </tr>\n",
       "  </thead>\n",
       "  <tbody>\n",
       "    <tr>\n",
       "      <th>0</th>\n",
       "      <td>Truck</td>\n",
       "      <td>58765</td>\n",
       "      <td>Good</td>\n",
       "      <td>0</td>\n",
       "      <td>4</td>\n",
       "      <td>Electric</td>\n",
       "      <td>Automatic</td>\n",
       "      <td>2000</td>\n",
       "      <td>28524</td>\n",
       "      <td>23-11-2023</td>\n",
       "      <td>24-06-2025</td>\n",
       "      <td>Second</td>\n",
       "      <td>20782</td>\n",
       "      <td>6</td>\n",
       "      <td>3</td>\n",
       "      <td>13.622204</td>\n",
       "      <td>New</td>\n",
       "      <td>New</td>\n",
       "      <td>Weak</td>\n",
       "      <td>1</td>\n",
       "    </tr>\n",
       "    <tr>\n",
       "      <th>1</th>\n",
       "      <td>Truck</td>\n",
       "      <td>60353</td>\n",
       "      <td>Average</td>\n",
       "      <td>1</td>\n",
       "      <td>7</td>\n",
       "      <td>Electric</td>\n",
       "      <td>Automatic</td>\n",
       "      <td>2500</td>\n",
       "      <td>133630</td>\n",
       "      <td>21-09-2023</td>\n",
       "      <td>04-06-2025</td>\n",
       "      <td>Second</td>\n",
       "      <td>23489</td>\n",
       "      <td>7</td>\n",
       "      <td>0</td>\n",
       "      <td>13.625307</td>\n",
       "      <td>New</td>\n",
       "      <td>New</td>\n",
       "      <td>Weak</td>\n",
       "      <td>1</td>\n",
       "    </tr>\n",
       "    <tr>\n",
       "      <th>2</th>\n",
       "      <td>Bus</td>\n",
       "      <td>68072</td>\n",
       "      <td>Poor</td>\n",
       "      <td>0</td>\n",
       "      <td>2</td>\n",
       "      <td>Electric</td>\n",
       "      <td>Automatic</td>\n",
       "      <td>1500</td>\n",
       "      <td>34022</td>\n",
       "      <td>27-06-2023</td>\n",
       "      <td>27-04-2025</td>\n",
       "      <td>First</td>\n",
       "      <td>17979</td>\n",
       "      <td>7</td>\n",
       "      <td>0</td>\n",
       "      <td>14.306302</td>\n",
       "      <td>New</td>\n",
       "      <td>Good</td>\n",
       "      <td>Weak</td>\n",
       "      <td>1</td>\n",
       "    </tr>\n",
       "    <tr>\n",
       "      <th>3</th>\n",
       "      <td>Truck</td>\n",
       "      <td>60849</td>\n",
       "      <td>Average</td>\n",
       "      <td>4</td>\n",
       "      <td>5</td>\n",
       "      <td>Petrol</td>\n",
       "      <td>Automatic</td>\n",
       "      <td>2500</td>\n",
       "      <td>81636</td>\n",
       "      <td>24-08-2023</td>\n",
       "      <td>05-11-2025</td>\n",
       "      <td>Second</td>\n",
       "      <td>6220</td>\n",
       "      <td>7</td>\n",
       "      <td>3</td>\n",
       "      <td>18.709467</td>\n",
       "      <td>New</td>\n",
       "      <td>Worn Out</td>\n",
       "      <td>New</td>\n",
       "      <td>1</td>\n",
       "    </tr>\n",
       "    <tr>\n",
       "      <th>4</th>\n",
       "      <td>Car</td>\n",
       "      <td>45742</td>\n",
       "      <td>Poor</td>\n",
       "      <td>5</td>\n",
       "      <td>1</td>\n",
       "      <td>Petrol</td>\n",
       "      <td>Manual</td>\n",
       "      <td>2000</td>\n",
       "      <td>97162</td>\n",
       "      <td>25-05-2023</td>\n",
       "      <td>14-09-2025</td>\n",
       "      <td>Third</td>\n",
       "      <td>16446</td>\n",
       "      <td>6</td>\n",
       "      <td>2</td>\n",
       "      <td>16.977483</td>\n",
       "      <td>Good</td>\n",
       "      <td>Good</td>\n",
       "      <td>Weak</td>\n",
       "      <td>1</td>\n",
       "    </tr>\n",
       "    <tr>\n",
       "      <th>...</th>\n",
       "      <td>...</td>\n",
       "      <td>...</td>\n",
       "      <td>...</td>\n",
       "      <td>...</td>\n",
       "      <td>...</td>\n",
       "      <td>...</td>\n",
       "      <td>...</td>\n",
       "      <td>...</td>\n",
       "      <td>...</td>\n",
       "      <td>...</td>\n",
       "      <td>...</td>\n",
       "      <td>...</td>\n",
       "      <td>...</td>\n",
       "      <td>...</td>\n",
       "      <td>...</td>\n",
       "      <td>...</td>\n",
       "      <td>...</td>\n",
       "      <td>...</td>\n",
       "      <td>...</td>\n",
       "      <td>...</td>\n",
       "    </tr>\n",
       "    <tr>\n",
       "      <th>49995</th>\n",
       "      <td>Car</td>\n",
       "      <td>77229</td>\n",
       "      <td>Good</td>\n",
       "      <td>3</td>\n",
       "      <td>6</td>\n",
       "      <td>Diesel</td>\n",
       "      <td>Automatic</td>\n",
       "      <td>2500</td>\n",
       "      <td>97404</td>\n",
       "      <td>24-11-2023</td>\n",
       "      <td>15-09-2025</td>\n",
       "      <td>Third</td>\n",
       "      <td>5217</td>\n",
       "      <td>4</td>\n",
       "      <td>1</td>\n",
       "      <td>10.357298</td>\n",
       "      <td>New</td>\n",
       "      <td>Good</td>\n",
       "      <td>Weak</td>\n",
       "      <td>1</td>\n",
       "    </tr>\n",
       "    <tr>\n",
       "      <th>49996</th>\n",
       "      <td>Truck</td>\n",
       "      <td>54742</td>\n",
       "      <td>Good</td>\n",
       "      <td>4</td>\n",
       "      <td>4</td>\n",
       "      <td>Diesel</td>\n",
       "      <td>Manual</td>\n",
       "      <td>800</td>\n",
       "      <td>13421</td>\n",
       "      <td>14-07-2023</td>\n",
       "      <td>21-01-2025</td>\n",
       "      <td>Second</td>\n",
       "      <td>15856</td>\n",
       "      <td>4</td>\n",
       "      <td>1</td>\n",
       "      <td>14.924022</td>\n",
       "      <td>Worn Out</td>\n",
       "      <td>New</td>\n",
       "      <td>Good</td>\n",
       "      <td>1</td>\n",
       "    </tr>\n",
       "    <tr>\n",
       "      <th>49997</th>\n",
       "      <td>Van</td>\n",
       "      <td>75601</td>\n",
       "      <td>Poor</td>\n",
       "      <td>0</td>\n",
       "      <td>4</td>\n",
       "      <td>Electric</td>\n",
       "      <td>Automatic</td>\n",
       "      <td>1500</td>\n",
       "      <td>124851</td>\n",
       "      <td>09-09-2023</td>\n",
       "      <td>09-11-2024</td>\n",
       "      <td>First</td>\n",
       "      <td>6019</td>\n",
       "      <td>10</td>\n",
       "      <td>0</td>\n",
       "      <td>19.859243</td>\n",
       "      <td>Worn Out</td>\n",
       "      <td>Worn Out</td>\n",
       "      <td>Weak</td>\n",
       "      <td>1</td>\n",
       "    </tr>\n",
       "    <tr>\n",
       "      <th>49998</th>\n",
       "      <td>Car</td>\n",
       "      <td>66181</td>\n",
       "      <td>Good</td>\n",
       "      <td>1</td>\n",
       "      <td>7</td>\n",
       "      <td>Electric</td>\n",
       "      <td>Manual</td>\n",
       "      <td>2500</td>\n",
       "      <td>103182</td>\n",
       "      <td>26-08-2023</td>\n",
       "      <td>22-05-2025</td>\n",
       "      <td>Third</td>\n",
       "      <td>5030</td>\n",
       "      <td>4</td>\n",
       "      <td>3</td>\n",
       "      <td>10.720555</td>\n",
       "      <td>New</td>\n",
       "      <td>Good</td>\n",
       "      <td>Weak</td>\n",
       "      <td>1</td>\n",
       "    </tr>\n",
       "    <tr>\n",
       "      <th>49999</th>\n",
       "      <td>Car</td>\n",
       "      <td>71605</td>\n",
       "      <td>Poor</td>\n",
       "      <td>0</td>\n",
       "      <td>10</td>\n",
       "      <td>Petrol</td>\n",
       "      <td>Manual</td>\n",
       "      <td>2000</td>\n",
       "      <td>65721</td>\n",
       "      <td>25-07-2023</td>\n",
       "      <td>06-06-2024</td>\n",
       "      <td>Third</td>\n",
       "      <td>9171</td>\n",
       "      <td>6</td>\n",
       "      <td>3</td>\n",
       "      <td>16.328945</td>\n",
       "      <td>Good</td>\n",
       "      <td>New</td>\n",
       "      <td>Good</td>\n",
       "      <td>0</td>\n",
       "    </tr>\n",
       "  </tbody>\n",
       "</table>\n",
       "<p>50000 rows × 20 columns</p>\n",
       "</div>"
      ],
      "text/plain": [
       "      vehicle_model  mileage maintenance_history  reported_issues  \\\n",
       "0             Truck    58765                Good                0   \n",
       "1             Truck    60353             Average                1   \n",
       "2               Bus    68072                Poor                0   \n",
       "3             Truck    60849             Average                4   \n",
       "4               Car    45742                Poor                5   \n",
       "...             ...      ...                 ...              ...   \n",
       "49995           Car    77229                Good                3   \n",
       "49996         Truck    54742                Good                4   \n",
       "49997           Van    75601                Poor                0   \n",
       "49998           Car    66181                Good                1   \n",
       "49999           Car    71605                Poor                0   \n",
       "\n",
       "       vehicle_age fuel_type transmission_type  engine_size  odometer_reading  \\\n",
       "0                4  Electric         Automatic         2000             28524   \n",
       "1                7  Electric         Automatic         2500            133630   \n",
       "2                2  Electric         Automatic         1500             34022   \n",
       "3                5    Petrol         Automatic         2500             81636   \n",
       "4                1    Petrol            Manual         2000             97162   \n",
       "...            ...       ...               ...          ...               ...   \n",
       "49995            6    Diesel         Automatic         2500             97404   \n",
       "49996            4    Diesel            Manual          800             13421   \n",
       "49997            4  Electric         Automatic         1500            124851   \n",
       "49998            7  Electric            Manual         2500            103182   \n",
       "49999           10    Petrol            Manual         2000             65721   \n",
       "\n",
       "      last_service_date warranty_expiry_date owner_type  insurance_premium  \\\n",
       "0            23-11-2023           24-06-2025     Second              20782   \n",
       "1            21-09-2023           04-06-2025     Second              23489   \n",
       "2            27-06-2023           27-04-2025      First              17979   \n",
       "3            24-08-2023           05-11-2025     Second               6220   \n",
       "4            25-05-2023           14-09-2025      Third              16446   \n",
       "...                 ...                  ...        ...                ...   \n",
       "49995        24-11-2023           15-09-2025      Third               5217   \n",
       "49996        14-07-2023           21-01-2025     Second              15856   \n",
       "49997        09-09-2023           09-11-2024      First               6019   \n",
       "49998        26-08-2023           22-05-2025      Third               5030   \n",
       "49999        25-07-2023           06-06-2024      Third               9171   \n",
       "\n",
       "       service_history  accident_history  fuel_efficiency tire_condition  \\\n",
       "0                    6                 3        13.622204            New   \n",
       "1                    7                 0        13.625307            New   \n",
       "2                    7                 0        14.306302            New   \n",
       "3                    7                 3        18.709467            New   \n",
       "4                    6                 2        16.977483           Good   \n",
       "...                ...               ...              ...            ...   \n",
       "49995                4                 1        10.357298            New   \n",
       "49996                4                 1        14.924022       Worn Out   \n",
       "49997               10                 0        19.859243       Worn Out   \n",
       "49998                4                 3        10.720555            New   \n",
       "49999                6                 3        16.328945           Good   \n",
       "\n",
       "      brake_condition battery_status  need_maintenance  \n",
       "0                 New           Weak                 1  \n",
       "1                 New           Weak                 1  \n",
       "2                Good           Weak                 1  \n",
       "3            Worn Out            New                 1  \n",
       "4                Good           Weak                 1  \n",
       "...               ...            ...               ...  \n",
       "49995            Good           Weak                 1  \n",
       "49996             New           Good                 1  \n",
       "49997        Worn Out           Weak                 1  \n",
       "49998            Good           Weak                 1  \n",
       "49999             New           Good                 0  \n",
       "\n",
       "[50000 rows x 20 columns]"
      ]
     },
     "execution_count": 5,
     "metadata": {},
     "output_type": "execute_result"
    }
   ],
   "source": [
    "df"
   ]
  },
  {
   "cell_type": "code",
   "execution_count": 5,
   "metadata": {},
   "outputs": [],
   "source": [
    "def modify_distribution(df, column, distribution):\n",
    "    choices = list(distribution.keys())\n",
    "    probabilities = list(distribution.values())\n",
    "    df.loc[:, column] = np.random.choice(choices, size=len(df), p=probabilities)  # Modify in place\n",
    "    return df"
   ]
  },
  {
   "cell_type": "code",
   "execution_count": 6,
   "metadata": {},
   "outputs": [],
   "source": [
    "df = modify_distribution(df, 'maintenance_history', {'Poor': 0.4867, 'Average': 0.3187, 'Good': 1 - 0.4867 - 0.3187})\n",
    "df = modify_distribution(df, 'fuel_type', {'Diesel': 0.1273, 'Petrol': 0.6856, 'Electric': 1 - 0.1273 - 0.6856})\n",
    "df = modify_distribution(df, 'transmission_type', {'Automatic': 0.7949, 'Manual': 1 - 0.7949})\n",
    "df = modify_distribution(df, 'owner_type', {'First': 0.3721, 'Second': 0.5309, 'Third': 1 - 0.3721 - 0.5309})"
   ]
  },
  {
   "cell_type": "code",
   "execution_count": 13,
   "metadata": {},
   "outputs": [],
   "source": [
    "df = modify_distribution(df, 'need_maintenance', {0: 0.3114, 1: 1 - 0.3114})"
   ]
  },
  {
   "cell_type": "code",
   "execution_count": 10,
   "metadata": {},
   "outputs": [
    {
     "data": {
      "text/html": [
       "<div>\n",
       "<style scoped>\n",
       "    .dataframe tbody tr th:only-of-type {\n",
       "        vertical-align: middle;\n",
       "    }\n",
       "\n",
       "    .dataframe tbody tr th {\n",
       "        vertical-align: top;\n",
       "    }\n",
       "\n",
       "    .dataframe thead th {\n",
       "        text-align: right;\n",
       "    }\n",
       "</style>\n",
       "<table border=\"1\" class=\"dataframe\">\n",
       "  <thead>\n",
       "    <tr style=\"text-align: right;\">\n",
       "      <th></th>\n",
       "      <th>vehicle_model</th>\n",
       "      <th>mileage</th>\n",
       "      <th>maintenance_history</th>\n",
       "      <th>reported_issues</th>\n",
       "      <th>vehicle_age</th>\n",
       "      <th>fuel_type</th>\n",
       "      <th>transmission_type</th>\n",
       "      <th>engine_size</th>\n",
       "      <th>odometer_reading</th>\n",
       "      <th>last_service_date</th>\n",
       "      <th>warranty_expiry_date</th>\n",
       "      <th>owner_type</th>\n",
       "      <th>insurance_premium</th>\n",
       "      <th>service_history</th>\n",
       "      <th>accident_history</th>\n",
       "      <th>fuel_efficiency</th>\n",
       "      <th>tire_condition</th>\n",
       "      <th>brake_condition</th>\n",
       "      <th>battery_status</th>\n",
       "      <th>need_maintenance</th>\n",
       "    </tr>\n",
       "  </thead>\n",
       "  <tbody>\n",
       "    <tr>\n",
       "      <th>0</th>\n",
       "      <td>Truck</td>\n",
       "      <td>58765</td>\n",
       "      <td>Poor</td>\n",
       "      <td>0</td>\n",
       "      <td>4</td>\n",
       "      <td>Electric</td>\n",
       "      <td>Automatic</td>\n",
       "      <td>2000</td>\n",
       "      <td>28524</td>\n",
       "      <td>23-11-2023</td>\n",
       "      <td>24-06-2025</td>\n",
       "      <td>Second</td>\n",
       "      <td>20782</td>\n",
       "      <td>6</td>\n",
       "      <td>3</td>\n",
       "      <td>13.622204</td>\n",
       "      <td>New</td>\n",
       "      <td>New</td>\n",
       "      <td>Weak</td>\n",
       "      <td>1</td>\n",
       "    </tr>\n",
       "    <tr>\n",
       "      <th>1</th>\n",
       "      <td>Truck</td>\n",
       "      <td>60353</td>\n",
       "      <td>Good</td>\n",
       "      <td>1</td>\n",
       "      <td>7</td>\n",
       "      <td>Diesel</td>\n",
       "      <td>Automatic</td>\n",
       "      <td>2500</td>\n",
       "      <td>133630</td>\n",
       "      <td>21-09-2023</td>\n",
       "      <td>04-06-2025</td>\n",
       "      <td>First</td>\n",
       "      <td>23489</td>\n",
       "      <td>7</td>\n",
       "      <td>0</td>\n",
       "      <td>13.625307</td>\n",
       "      <td>New</td>\n",
       "      <td>New</td>\n",
       "      <td>Weak</td>\n",
       "      <td>1</td>\n",
       "    </tr>\n",
       "    <tr>\n",
       "      <th>2</th>\n",
       "      <td>Bus</td>\n",
       "      <td>68072</td>\n",
       "      <td>Poor</td>\n",
       "      <td>0</td>\n",
       "      <td>2</td>\n",
       "      <td>Diesel</td>\n",
       "      <td>Automatic</td>\n",
       "      <td>1500</td>\n",
       "      <td>34022</td>\n",
       "      <td>27-06-2023</td>\n",
       "      <td>27-04-2025</td>\n",
       "      <td>Second</td>\n",
       "      <td>17979</td>\n",
       "      <td>7</td>\n",
       "      <td>0</td>\n",
       "      <td>14.306302</td>\n",
       "      <td>New</td>\n",
       "      <td>Good</td>\n",
       "      <td>Weak</td>\n",
       "      <td>1</td>\n",
       "    </tr>\n",
       "    <tr>\n",
       "      <th>3</th>\n",
       "      <td>Truck</td>\n",
       "      <td>60849</td>\n",
       "      <td>Poor</td>\n",
       "      <td>4</td>\n",
       "      <td>5</td>\n",
       "      <td>Petrol</td>\n",
       "      <td>Automatic</td>\n",
       "      <td>2500</td>\n",
       "      <td>81636</td>\n",
       "      <td>24-08-2023</td>\n",
       "      <td>05-11-2025</td>\n",
       "      <td>Second</td>\n",
       "      <td>6220</td>\n",
       "      <td>7</td>\n",
       "      <td>3</td>\n",
       "      <td>18.709467</td>\n",
       "      <td>New</td>\n",
       "      <td>Worn Out</td>\n",
       "      <td>New</td>\n",
       "      <td>1</td>\n",
       "    </tr>\n",
       "    <tr>\n",
       "      <th>4</th>\n",
       "      <td>Car</td>\n",
       "      <td>45742</td>\n",
       "      <td>Poor</td>\n",
       "      <td>5</td>\n",
       "      <td>1</td>\n",
       "      <td>Petrol</td>\n",
       "      <td>Automatic</td>\n",
       "      <td>2000</td>\n",
       "      <td>97162</td>\n",
       "      <td>25-05-2023</td>\n",
       "      <td>14-09-2025</td>\n",
       "      <td>Second</td>\n",
       "      <td>16446</td>\n",
       "      <td>6</td>\n",
       "      <td>2</td>\n",
       "      <td>16.977483</td>\n",
       "      <td>Good</td>\n",
       "      <td>Good</td>\n",
       "      <td>Weak</td>\n",
       "      <td>1</td>\n",
       "    </tr>\n",
       "    <tr>\n",
       "      <th>...</th>\n",
       "      <td>...</td>\n",
       "      <td>...</td>\n",
       "      <td>...</td>\n",
       "      <td>...</td>\n",
       "      <td>...</td>\n",
       "      <td>...</td>\n",
       "      <td>...</td>\n",
       "      <td>...</td>\n",
       "      <td>...</td>\n",
       "      <td>...</td>\n",
       "      <td>...</td>\n",
       "      <td>...</td>\n",
       "      <td>...</td>\n",
       "      <td>...</td>\n",
       "      <td>...</td>\n",
       "      <td>...</td>\n",
       "      <td>...</td>\n",
       "      <td>...</td>\n",
       "      <td>...</td>\n",
       "      <td>...</td>\n",
       "    </tr>\n",
       "    <tr>\n",
       "      <th>49995</th>\n",
       "      <td>Car</td>\n",
       "      <td>77229</td>\n",
       "      <td>Poor</td>\n",
       "      <td>3</td>\n",
       "      <td>6</td>\n",
       "      <td>Petrol</td>\n",
       "      <td>Automatic</td>\n",
       "      <td>2500</td>\n",
       "      <td>97404</td>\n",
       "      <td>24-11-2023</td>\n",
       "      <td>15-09-2025</td>\n",
       "      <td>First</td>\n",
       "      <td>5217</td>\n",
       "      <td>4</td>\n",
       "      <td>1</td>\n",
       "      <td>10.357298</td>\n",
       "      <td>New</td>\n",
       "      <td>Good</td>\n",
       "      <td>Weak</td>\n",
       "      <td>1</td>\n",
       "    </tr>\n",
       "    <tr>\n",
       "      <th>49996</th>\n",
       "      <td>Truck</td>\n",
       "      <td>54742</td>\n",
       "      <td>Poor</td>\n",
       "      <td>4</td>\n",
       "      <td>4</td>\n",
       "      <td>Petrol</td>\n",
       "      <td>Automatic</td>\n",
       "      <td>800</td>\n",
       "      <td>13421</td>\n",
       "      <td>14-07-2023</td>\n",
       "      <td>21-01-2025</td>\n",
       "      <td>Third</td>\n",
       "      <td>15856</td>\n",
       "      <td>4</td>\n",
       "      <td>1</td>\n",
       "      <td>14.924022</td>\n",
       "      <td>Worn Out</td>\n",
       "      <td>New</td>\n",
       "      <td>Good</td>\n",
       "      <td>1</td>\n",
       "    </tr>\n",
       "    <tr>\n",
       "      <th>49997</th>\n",
       "      <td>Van</td>\n",
       "      <td>75601</td>\n",
       "      <td>Average</td>\n",
       "      <td>0</td>\n",
       "      <td>4</td>\n",
       "      <td>Diesel</td>\n",
       "      <td>Automatic</td>\n",
       "      <td>1500</td>\n",
       "      <td>124851</td>\n",
       "      <td>09-09-2023</td>\n",
       "      <td>09-11-2024</td>\n",
       "      <td>Third</td>\n",
       "      <td>6019</td>\n",
       "      <td>10</td>\n",
       "      <td>0</td>\n",
       "      <td>19.859243</td>\n",
       "      <td>Worn Out</td>\n",
       "      <td>Worn Out</td>\n",
       "      <td>Weak</td>\n",
       "      <td>1</td>\n",
       "    </tr>\n",
       "    <tr>\n",
       "      <th>49998</th>\n",
       "      <td>Car</td>\n",
       "      <td>66181</td>\n",
       "      <td>Poor</td>\n",
       "      <td>1</td>\n",
       "      <td>7</td>\n",
       "      <td>Petrol</td>\n",
       "      <td>Manual</td>\n",
       "      <td>2500</td>\n",
       "      <td>103182</td>\n",
       "      <td>26-08-2023</td>\n",
       "      <td>22-05-2025</td>\n",
       "      <td>Second</td>\n",
       "      <td>5030</td>\n",
       "      <td>4</td>\n",
       "      <td>3</td>\n",
       "      <td>10.720555</td>\n",
       "      <td>New</td>\n",
       "      <td>Good</td>\n",
       "      <td>Weak</td>\n",
       "      <td>1</td>\n",
       "    </tr>\n",
       "    <tr>\n",
       "      <th>49999</th>\n",
       "      <td>Car</td>\n",
       "      <td>71605</td>\n",
       "      <td>Poor</td>\n",
       "      <td>0</td>\n",
       "      <td>10</td>\n",
       "      <td>Diesel</td>\n",
       "      <td>Automatic</td>\n",
       "      <td>2000</td>\n",
       "      <td>65721</td>\n",
       "      <td>25-07-2023</td>\n",
       "      <td>06-06-2024</td>\n",
       "      <td>Second</td>\n",
       "      <td>9171</td>\n",
       "      <td>6</td>\n",
       "      <td>3</td>\n",
       "      <td>16.328945</td>\n",
       "      <td>Good</td>\n",
       "      <td>New</td>\n",
       "      <td>Good</td>\n",
       "      <td>0</td>\n",
       "    </tr>\n",
       "  </tbody>\n",
       "</table>\n",
       "<p>50000 rows × 20 columns</p>\n",
       "</div>"
      ],
      "text/plain": [
       "      vehicle_model  mileage maintenance_history  reported_issues  \\\n",
       "0             Truck    58765                Poor                0   \n",
       "1             Truck    60353                Good                1   \n",
       "2               Bus    68072                Poor                0   \n",
       "3             Truck    60849                Poor                4   \n",
       "4               Car    45742                Poor                5   \n",
       "...             ...      ...                 ...              ...   \n",
       "49995           Car    77229                Poor                3   \n",
       "49996         Truck    54742                Poor                4   \n",
       "49997           Van    75601             Average                0   \n",
       "49998           Car    66181                Poor                1   \n",
       "49999           Car    71605                Poor                0   \n",
       "\n",
       "       vehicle_age fuel_type transmission_type  engine_size  odometer_reading  \\\n",
       "0                4  Electric         Automatic         2000             28524   \n",
       "1                7    Diesel         Automatic         2500            133630   \n",
       "2                2    Diesel         Automatic         1500             34022   \n",
       "3                5    Petrol         Automatic         2500             81636   \n",
       "4                1    Petrol         Automatic         2000             97162   \n",
       "...            ...       ...               ...          ...               ...   \n",
       "49995            6    Petrol         Automatic         2500             97404   \n",
       "49996            4    Petrol         Automatic          800             13421   \n",
       "49997            4    Diesel         Automatic         1500            124851   \n",
       "49998            7    Petrol            Manual         2500            103182   \n",
       "49999           10    Diesel         Automatic         2000             65721   \n",
       "\n",
       "      last_service_date warranty_expiry_date owner_type  insurance_premium  \\\n",
       "0            23-11-2023           24-06-2025     Second              20782   \n",
       "1            21-09-2023           04-06-2025      First              23489   \n",
       "2            27-06-2023           27-04-2025     Second              17979   \n",
       "3            24-08-2023           05-11-2025     Second               6220   \n",
       "4            25-05-2023           14-09-2025     Second              16446   \n",
       "...                 ...                  ...        ...                ...   \n",
       "49995        24-11-2023           15-09-2025      First               5217   \n",
       "49996        14-07-2023           21-01-2025      Third              15856   \n",
       "49997        09-09-2023           09-11-2024      Third               6019   \n",
       "49998        26-08-2023           22-05-2025     Second               5030   \n",
       "49999        25-07-2023           06-06-2024     Second               9171   \n",
       "\n",
       "       service_history  accident_history  fuel_efficiency tire_condition  \\\n",
       "0                    6                 3        13.622204            New   \n",
       "1                    7                 0        13.625307            New   \n",
       "2                    7                 0        14.306302            New   \n",
       "3                    7                 3        18.709467            New   \n",
       "4                    6                 2        16.977483           Good   \n",
       "...                ...               ...              ...            ...   \n",
       "49995                4                 1        10.357298            New   \n",
       "49996                4                 1        14.924022       Worn Out   \n",
       "49997               10                 0        19.859243       Worn Out   \n",
       "49998                4                 3        10.720555            New   \n",
       "49999                6                 3        16.328945           Good   \n",
       "\n",
       "      brake_condition battery_status  need_maintenance  \n",
       "0                 New           Weak                 1  \n",
       "1                 New           Weak                 1  \n",
       "2                Good           Weak                 1  \n",
       "3            Worn Out            New                 1  \n",
       "4                Good           Weak                 1  \n",
       "...               ...            ...               ...  \n",
       "49995            Good           Weak                 1  \n",
       "49996             New           Good                 1  \n",
       "49997        Worn Out           Weak                 1  \n",
       "49998            Good           Weak                 1  \n",
       "49999             New           Good                 0  \n",
       "\n",
       "[50000 rows x 20 columns]"
      ]
     },
     "execution_count": 10,
     "metadata": {},
     "output_type": "execute_result"
    }
   ],
   "source": [
    "df"
   ]
  },
  {
   "cell_type": "code",
   "execution_count": 7,
   "metadata": {},
   "outputs": [],
   "source": [
    "df.to_csv(\"rawData/vehicle_maintenance_data.csv\", index=False) "
   ]
  },
  {
   "cell_type": "code",
   "execution_count": 11,
   "metadata": {},
   "outputs": [
    {
     "name": "stdout",
     "output_type": "stream",
     "text": [
      "Value Counts and Percentages for vehicle_model:\n",
      "vehicle_model\n",
      "Car           13300\n",
      "Truck         11852\n",
      "Bus            6565\n",
      "Van            6131\n",
      "SUV            6119\n",
      "Motorcycle     6033\n",
      "Name: count, dtype: int64\n",
      "vehicle_model\n",
      "Car           26.60\n",
      "Truck         23.70\n",
      "Bus           13.13\n",
      "Van           12.26\n",
      "SUV           12.24\n",
      "Motorcycle    12.07\n",
      "Name: count, dtype: float64\n",
      "\n"
     ]
    },
    {
     "data": {
      "application/vnd.plotly.v1+json": {
       "config": {
        "plotlyServerURL": "https://plot.ly"
       },
       "data": [
        {
         "alignmentgroup": "True",
         "hovertemplate": "vehicle_model=%{x}<br>Count=%{y}<br>text=%{text}<extra></extra>",
         "legendgroup": "",
         "marker": {
          "color": "#636efa",
          "pattern": {
           "shape": ""
          }
         },
         "name": "",
         "offsetgroup": "",
         "orientation": "v",
         "showlegend": false,
         "text": [
          "26.6%",
          "23.7%",
          "13.13%",
          "12.26%",
          "12.24%",
          "12.07%"
         ],
         "textposition": "outside",
         "type": "bar",
         "x": [
          "Car",
          "Truck",
          "Bus",
          "Van",
          "SUV",
          "Motorcycle"
         ],
         "xaxis": "x",
         "y": [
          13300,
          11852,
          6565,
          6131,
          6119,
          6033
         ],
         "yaxis": "y"
        }
       ],
       "layout": {
        "barmode": "relative",
        "legend": {
         "tracegroupgap": 0
        },
        "template": {
         "data": {
          "bar": [
           {
            "error_x": {
             "color": "#2a3f5f"
            },
            "error_y": {
             "color": "#2a3f5f"
            },
            "marker": {
             "line": {
              "color": "#E5ECF6",
              "width": 0.5
             },
             "pattern": {
              "fillmode": "overlay",
              "size": 10,
              "solidity": 0.2
             }
            },
            "type": "bar"
           }
          ],
          "barpolar": [
           {
            "marker": {
             "line": {
              "color": "#E5ECF6",
              "width": 0.5
             },
             "pattern": {
              "fillmode": "overlay",
              "size": 10,
              "solidity": 0.2
             }
            },
            "type": "barpolar"
           }
          ],
          "carpet": [
           {
            "aaxis": {
             "endlinecolor": "#2a3f5f",
             "gridcolor": "white",
             "linecolor": "white",
             "minorgridcolor": "white",
             "startlinecolor": "#2a3f5f"
            },
            "baxis": {
             "endlinecolor": "#2a3f5f",
             "gridcolor": "white",
             "linecolor": "white",
             "minorgridcolor": "white",
             "startlinecolor": "#2a3f5f"
            },
            "type": "carpet"
           }
          ],
          "choropleth": [
           {
            "colorbar": {
             "outlinewidth": 0,
             "ticks": ""
            },
            "type": "choropleth"
           }
          ],
          "contour": [
           {
            "colorbar": {
             "outlinewidth": 0,
             "ticks": ""
            },
            "colorscale": [
             [
              0,
              "#0d0887"
             ],
             [
              0.1111111111111111,
              "#46039f"
             ],
             [
              0.2222222222222222,
              "#7201a8"
             ],
             [
              0.3333333333333333,
              "#9c179e"
             ],
             [
              0.4444444444444444,
              "#bd3786"
             ],
             [
              0.5555555555555556,
              "#d8576b"
             ],
             [
              0.6666666666666666,
              "#ed7953"
             ],
             [
              0.7777777777777778,
              "#fb9f3a"
             ],
             [
              0.8888888888888888,
              "#fdca26"
             ],
             [
              1,
              "#f0f921"
             ]
            ],
            "type": "contour"
           }
          ],
          "contourcarpet": [
           {
            "colorbar": {
             "outlinewidth": 0,
             "ticks": ""
            },
            "type": "contourcarpet"
           }
          ],
          "heatmap": [
           {
            "colorbar": {
             "outlinewidth": 0,
             "ticks": ""
            },
            "colorscale": [
             [
              0,
              "#0d0887"
             ],
             [
              0.1111111111111111,
              "#46039f"
             ],
             [
              0.2222222222222222,
              "#7201a8"
             ],
             [
              0.3333333333333333,
              "#9c179e"
             ],
             [
              0.4444444444444444,
              "#bd3786"
             ],
             [
              0.5555555555555556,
              "#d8576b"
             ],
             [
              0.6666666666666666,
              "#ed7953"
             ],
             [
              0.7777777777777778,
              "#fb9f3a"
             ],
             [
              0.8888888888888888,
              "#fdca26"
             ],
             [
              1,
              "#f0f921"
             ]
            ],
            "type": "heatmap"
           }
          ],
          "heatmapgl": [
           {
            "colorbar": {
             "outlinewidth": 0,
             "ticks": ""
            },
            "colorscale": [
             [
              0,
              "#0d0887"
             ],
             [
              0.1111111111111111,
              "#46039f"
             ],
             [
              0.2222222222222222,
              "#7201a8"
             ],
             [
              0.3333333333333333,
              "#9c179e"
             ],
             [
              0.4444444444444444,
              "#bd3786"
             ],
             [
              0.5555555555555556,
              "#d8576b"
             ],
             [
              0.6666666666666666,
              "#ed7953"
             ],
             [
              0.7777777777777778,
              "#fb9f3a"
             ],
             [
              0.8888888888888888,
              "#fdca26"
             ],
             [
              1,
              "#f0f921"
             ]
            ],
            "type": "heatmapgl"
           }
          ],
          "histogram": [
           {
            "marker": {
             "pattern": {
              "fillmode": "overlay",
              "size": 10,
              "solidity": 0.2
             }
            },
            "type": "histogram"
           }
          ],
          "histogram2d": [
           {
            "colorbar": {
             "outlinewidth": 0,
             "ticks": ""
            },
            "colorscale": [
             [
              0,
              "#0d0887"
             ],
             [
              0.1111111111111111,
              "#46039f"
             ],
             [
              0.2222222222222222,
              "#7201a8"
             ],
             [
              0.3333333333333333,
              "#9c179e"
             ],
             [
              0.4444444444444444,
              "#bd3786"
             ],
             [
              0.5555555555555556,
              "#d8576b"
             ],
             [
              0.6666666666666666,
              "#ed7953"
             ],
             [
              0.7777777777777778,
              "#fb9f3a"
             ],
             [
              0.8888888888888888,
              "#fdca26"
             ],
             [
              1,
              "#f0f921"
             ]
            ],
            "type": "histogram2d"
           }
          ],
          "histogram2dcontour": [
           {
            "colorbar": {
             "outlinewidth": 0,
             "ticks": ""
            },
            "colorscale": [
             [
              0,
              "#0d0887"
             ],
             [
              0.1111111111111111,
              "#46039f"
             ],
             [
              0.2222222222222222,
              "#7201a8"
             ],
             [
              0.3333333333333333,
              "#9c179e"
             ],
             [
              0.4444444444444444,
              "#bd3786"
             ],
             [
              0.5555555555555556,
              "#d8576b"
             ],
             [
              0.6666666666666666,
              "#ed7953"
             ],
             [
              0.7777777777777778,
              "#fb9f3a"
             ],
             [
              0.8888888888888888,
              "#fdca26"
             ],
             [
              1,
              "#f0f921"
             ]
            ],
            "type": "histogram2dcontour"
           }
          ],
          "mesh3d": [
           {
            "colorbar": {
             "outlinewidth": 0,
             "ticks": ""
            },
            "type": "mesh3d"
           }
          ],
          "parcoords": [
           {
            "line": {
             "colorbar": {
              "outlinewidth": 0,
              "ticks": ""
             }
            },
            "type": "parcoords"
           }
          ],
          "pie": [
           {
            "automargin": true,
            "type": "pie"
           }
          ],
          "scatter": [
           {
            "fillpattern": {
             "fillmode": "overlay",
             "size": 10,
             "solidity": 0.2
            },
            "type": "scatter"
           }
          ],
          "scatter3d": [
           {
            "line": {
             "colorbar": {
              "outlinewidth": 0,
              "ticks": ""
             }
            },
            "marker": {
             "colorbar": {
              "outlinewidth": 0,
              "ticks": ""
             }
            },
            "type": "scatter3d"
           }
          ],
          "scattercarpet": [
           {
            "marker": {
             "colorbar": {
              "outlinewidth": 0,
              "ticks": ""
             }
            },
            "type": "scattercarpet"
           }
          ],
          "scattergeo": [
           {
            "marker": {
             "colorbar": {
              "outlinewidth": 0,
              "ticks": ""
             }
            },
            "type": "scattergeo"
           }
          ],
          "scattergl": [
           {
            "marker": {
             "colorbar": {
              "outlinewidth": 0,
              "ticks": ""
             }
            },
            "type": "scattergl"
           }
          ],
          "scattermapbox": [
           {
            "marker": {
             "colorbar": {
              "outlinewidth": 0,
              "ticks": ""
             }
            },
            "type": "scattermapbox"
           }
          ],
          "scatterpolar": [
           {
            "marker": {
             "colorbar": {
              "outlinewidth": 0,
              "ticks": ""
             }
            },
            "type": "scatterpolar"
           }
          ],
          "scatterpolargl": [
           {
            "marker": {
             "colorbar": {
              "outlinewidth": 0,
              "ticks": ""
             }
            },
            "type": "scatterpolargl"
           }
          ],
          "scatterternary": [
           {
            "marker": {
             "colorbar": {
              "outlinewidth": 0,
              "ticks": ""
             }
            },
            "type": "scatterternary"
           }
          ],
          "surface": [
           {
            "colorbar": {
             "outlinewidth": 0,
             "ticks": ""
            },
            "colorscale": [
             [
              0,
              "#0d0887"
             ],
             [
              0.1111111111111111,
              "#46039f"
             ],
             [
              0.2222222222222222,
              "#7201a8"
             ],
             [
              0.3333333333333333,
              "#9c179e"
             ],
             [
              0.4444444444444444,
              "#bd3786"
             ],
             [
              0.5555555555555556,
              "#d8576b"
             ],
             [
              0.6666666666666666,
              "#ed7953"
             ],
             [
              0.7777777777777778,
              "#fb9f3a"
             ],
             [
              0.8888888888888888,
              "#fdca26"
             ],
             [
              1,
              "#f0f921"
             ]
            ],
            "type": "surface"
           }
          ],
          "table": [
           {
            "cells": {
             "fill": {
              "color": "#EBF0F8"
             },
             "line": {
              "color": "white"
             }
            },
            "header": {
             "fill": {
              "color": "#C8D4E3"
             },
             "line": {
              "color": "white"
             }
            },
            "type": "table"
           }
          ]
         },
         "layout": {
          "annotationdefaults": {
           "arrowcolor": "#2a3f5f",
           "arrowhead": 0,
           "arrowwidth": 1
          },
          "autotypenumbers": "strict",
          "coloraxis": {
           "colorbar": {
            "outlinewidth": 0,
            "ticks": ""
           }
          },
          "colorscale": {
           "diverging": [
            [
             0,
             "#8e0152"
            ],
            [
             0.1,
             "#c51b7d"
            ],
            [
             0.2,
             "#de77ae"
            ],
            [
             0.3,
             "#f1b6da"
            ],
            [
             0.4,
             "#fde0ef"
            ],
            [
             0.5,
             "#f7f7f7"
            ],
            [
             0.6,
             "#e6f5d0"
            ],
            [
             0.7,
             "#b8e186"
            ],
            [
             0.8,
             "#7fbc41"
            ],
            [
             0.9,
             "#4d9221"
            ],
            [
             1,
             "#276419"
            ]
           ],
           "sequential": [
            [
             0,
             "#0d0887"
            ],
            [
             0.1111111111111111,
             "#46039f"
            ],
            [
             0.2222222222222222,
             "#7201a8"
            ],
            [
             0.3333333333333333,
             "#9c179e"
            ],
            [
             0.4444444444444444,
             "#bd3786"
            ],
            [
             0.5555555555555556,
             "#d8576b"
            ],
            [
             0.6666666666666666,
             "#ed7953"
            ],
            [
             0.7777777777777778,
             "#fb9f3a"
            ],
            [
             0.8888888888888888,
             "#fdca26"
            ],
            [
             1,
             "#f0f921"
            ]
           ],
           "sequentialminus": [
            [
             0,
             "#0d0887"
            ],
            [
             0.1111111111111111,
             "#46039f"
            ],
            [
             0.2222222222222222,
             "#7201a8"
            ],
            [
             0.3333333333333333,
             "#9c179e"
            ],
            [
             0.4444444444444444,
             "#bd3786"
            ],
            [
             0.5555555555555556,
             "#d8576b"
            ],
            [
             0.6666666666666666,
             "#ed7953"
            ],
            [
             0.7777777777777778,
             "#fb9f3a"
            ],
            [
             0.8888888888888888,
             "#fdca26"
            ],
            [
             1,
             "#f0f921"
            ]
           ]
          },
          "colorway": [
           "#636efa",
           "#EF553B",
           "#00cc96",
           "#ab63fa",
           "#FFA15A",
           "#19d3f3",
           "#FF6692",
           "#B6E880",
           "#FF97FF",
           "#FECB52"
          ],
          "font": {
           "color": "#2a3f5f"
          },
          "geo": {
           "bgcolor": "white",
           "lakecolor": "white",
           "landcolor": "#E5ECF6",
           "showlakes": true,
           "showland": true,
           "subunitcolor": "white"
          },
          "hoverlabel": {
           "align": "left"
          },
          "hovermode": "closest",
          "mapbox": {
           "style": "light"
          },
          "paper_bgcolor": "white",
          "plot_bgcolor": "#E5ECF6",
          "polar": {
           "angularaxis": {
            "gridcolor": "white",
            "linecolor": "white",
            "ticks": ""
           },
           "bgcolor": "#E5ECF6",
           "radialaxis": {
            "gridcolor": "white",
            "linecolor": "white",
            "ticks": ""
           }
          },
          "scene": {
           "xaxis": {
            "backgroundcolor": "#E5ECF6",
            "gridcolor": "white",
            "gridwidth": 2,
            "linecolor": "white",
            "showbackground": true,
            "ticks": "",
            "zerolinecolor": "white"
           },
           "yaxis": {
            "backgroundcolor": "#E5ECF6",
            "gridcolor": "white",
            "gridwidth": 2,
            "linecolor": "white",
            "showbackground": true,
            "ticks": "",
            "zerolinecolor": "white"
           },
           "zaxis": {
            "backgroundcolor": "#E5ECF6",
            "gridcolor": "white",
            "gridwidth": 2,
            "linecolor": "white",
            "showbackground": true,
            "ticks": "",
            "zerolinecolor": "white"
           }
          },
          "shapedefaults": {
           "line": {
            "color": "#2a3f5f"
           }
          },
          "ternary": {
           "aaxis": {
            "gridcolor": "white",
            "linecolor": "white",
            "ticks": ""
           },
           "baxis": {
            "gridcolor": "white",
            "linecolor": "white",
            "ticks": ""
           },
           "bgcolor": "#E5ECF6",
           "caxis": {
            "gridcolor": "white",
            "linecolor": "white",
            "ticks": ""
           }
          },
          "title": {
           "x": 0.05
          },
          "xaxis": {
           "automargin": true,
           "gridcolor": "white",
           "linecolor": "white",
           "ticks": "",
           "title": {
            "standoff": 15
           },
           "zerolinecolor": "white",
           "zerolinewidth": 2
          },
          "yaxis": {
           "automargin": true,
           "gridcolor": "white",
           "linecolor": "white",
           "ticks": "",
           "title": {
            "standoff": 15
           },
           "zerolinecolor": "white",
           "zerolinewidth": 2
          }
         }
        },
        "title": {
         "text": "Bar Plot of vehicle_model"
        },
        "xaxis": {
         "anchor": "y",
         "domain": [
          0,
          1
         ],
         "title": {
          "text": "vehicle_model"
         }
        },
        "yaxis": {
         "anchor": "x",
         "domain": [
          0,
          1
         ],
         "title": {
          "text": "Count"
         }
        }
       }
      }
     },
     "metadata": {},
     "output_type": "display_data"
    },
    {
     "name": "stdout",
     "output_type": "stream",
     "text": [
      "Value Counts and Percentages for maintenance_history:\n",
      "maintenance_history\n",
      "Poor       24467\n",
      "Average    15954\n",
      "Good        9579\n",
      "Name: count, dtype: int64\n",
      "maintenance_history\n",
      "Poor       48.93\n",
      "Average    31.91\n",
      "Good       19.16\n",
      "Name: count, dtype: float64\n",
      "\n"
     ]
    },
    {
     "data": {
      "application/vnd.plotly.v1+json": {
       "config": {
        "plotlyServerURL": "https://plot.ly"
       },
       "data": [
        {
         "alignmentgroup": "True",
         "hovertemplate": "maintenance_history=%{x}<br>Count=%{y}<br>text=%{text}<extra></extra>",
         "legendgroup": "",
         "marker": {
          "color": "#636efa",
          "pattern": {
           "shape": ""
          }
         },
         "name": "",
         "offsetgroup": "",
         "orientation": "v",
         "showlegend": false,
         "text": [
          "48.93%",
          "31.91%",
          "19.16%"
         ],
         "textposition": "outside",
         "type": "bar",
         "x": [
          "Poor",
          "Average",
          "Good"
         ],
         "xaxis": "x",
         "y": [
          24467,
          15954,
          9579
         ],
         "yaxis": "y"
        }
       ],
       "layout": {
        "barmode": "relative",
        "legend": {
         "tracegroupgap": 0
        },
        "template": {
         "data": {
          "bar": [
           {
            "error_x": {
             "color": "#2a3f5f"
            },
            "error_y": {
             "color": "#2a3f5f"
            },
            "marker": {
             "line": {
              "color": "#E5ECF6",
              "width": 0.5
             },
             "pattern": {
              "fillmode": "overlay",
              "size": 10,
              "solidity": 0.2
             }
            },
            "type": "bar"
           }
          ],
          "barpolar": [
           {
            "marker": {
             "line": {
              "color": "#E5ECF6",
              "width": 0.5
             },
             "pattern": {
              "fillmode": "overlay",
              "size": 10,
              "solidity": 0.2
             }
            },
            "type": "barpolar"
           }
          ],
          "carpet": [
           {
            "aaxis": {
             "endlinecolor": "#2a3f5f",
             "gridcolor": "white",
             "linecolor": "white",
             "minorgridcolor": "white",
             "startlinecolor": "#2a3f5f"
            },
            "baxis": {
             "endlinecolor": "#2a3f5f",
             "gridcolor": "white",
             "linecolor": "white",
             "minorgridcolor": "white",
             "startlinecolor": "#2a3f5f"
            },
            "type": "carpet"
           }
          ],
          "choropleth": [
           {
            "colorbar": {
             "outlinewidth": 0,
             "ticks": ""
            },
            "type": "choropleth"
           }
          ],
          "contour": [
           {
            "colorbar": {
             "outlinewidth": 0,
             "ticks": ""
            },
            "colorscale": [
             [
              0,
              "#0d0887"
             ],
             [
              0.1111111111111111,
              "#46039f"
             ],
             [
              0.2222222222222222,
              "#7201a8"
             ],
             [
              0.3333333333333333,
              "#9c179e"
             ],
             [
              0.4444444444444444,
              "#bd3786"
             ],
             [
              0.5555555555555556,
              "#d8576b"
             ],
             [
              0.6666666666666666,
              "#ed7953"
             ],
             [
              0.7777777777777778,
              "#fb9f3a"
             ],
             [
              0.8888888888888888,
              "#fdca26"
             ],
             [
              1,
              "#f0f921"
             ]
            ],
            "type": "contour"
           }
          ],
          "contourcarpet": [
           {
            "colorbar": {
             "outlinewidth": 0,
             "ticks": ""
            },
            "type": "contourcarpet"
           }
          ],
          "heatmap": [
           {
            "colorbar": {
             "outlinewidth": 0,
             "ticks": ""
            },
            "colorscale": [
             [
              0,
              "#0d0887"
             ],
             [
              0.1111111111111111,
              "#46039f"
             ],
             [
              0.2222222222222222,
              "#7201a8"
             ],
             [
              0.3333333333333333,
              "#9c179e"
             ],
             [
              0.4444444444444444,
              "#bd3786"
             ],
             [
              0.5555555555555556,
              "#d8576b"
             ],
             [
              0.6666666666666666,
              "#ed7953"
             ],
             [
              0.7777777777777778,
              "#fb9f3a"
             ],
             [
              0.8888888888888888,
              "#fdca26"
             ],
             [
              1,
              "#f0f921"
             ]
            ],
            "type": "heatmap"
           }
          ],
          "heatmapgl": [
           {
            "colorbar": {
             "outlinewidth": 0,
             "ticks": ""
            },
            "colorscale": [
             [
              0,
              "#0d0887"
             ],
             [
              0.1111111111111111,
              "#46039f"
             ],
             [
              0.2222222222222222,
              "#7201a8"
             ],
             [
              0.3333333333333333,
              "#9c179e"
             ],
             [
              0.4444444444444444,
              "#bd3786"
             ],
             [
              0.5555555555555556,
              "#d8576b"
             ],
             [
              0.6666666666666666,
              "#ed7953"
             ],
             [
              0.7777777777777778,
              "#fb9f3a"
             ],
             [
              0.8888888888888888,
              "#fdca26"
             ],
             [
              1,
              "#f0f921"
             ]
            ],
            "type": "heatmapgl"
           }
          ],
          "histogram": [
           {
            "marker": {
             "pattern": {
              "fillmode": "overlay",
              "size": 10,
              "solidity": 0.2
             }
            },
            "type": "histogram"
           }
          ],
          "histogram2d": [
           {
            "colorbar": {
             "outlinewidth": 0,
             "ticks": ""
            },
            "colorscale": [
             [
              0,
              "#0d0887"
             ],
             [
              0.1111111111111111,
              "#46039f"
             ],
             [
              0.2222222222222222,
              "#7201a8"
             ],
             [
              0.3333333333333333,
              "#9c179e"
             ],
             [
              0.4444444444444444,
              "#bd3786"
             ],
             [
              0.5555555555555556,
              "#d8576b"
             ],
             [
              0.6666666666666666,
              "#ed7953"
             ],
             [
              0.7777777777777778,
              "#fb9f3a"
             ],
             [
              0.8888888888888888,
              "#fdca26"
             ],
             [
              1,
              "#f0f921"
             ]
            ],
            "type": "histogram2d"
           }
          ],
          "histogram2dcontour": [
           {
            "colorbar": {
             "outlinewidth": 0,
             "ticks": ""
            },
            "colorscale": [
             [
              0,
              "#0d0887"
             ],
             [
              0.1111111111111111,
              "#46039f"
             ],
             [
              0.2222222222222222,
              "#7201a8"
             ],
             [
              0.3333333333333333,
              "#9c179e"
             ],
             [
              0.4444444444444444,
              "#bd3786"
             ],
             [
              0.5555555555555556,
              "#d8576b"
             ],
             [
              0.6666666666666666,
              "#ed7953"
             ],
             [
              0.7777777777777778,
              "#fb9f3a"
             ],
             [
              0.8888888888888888,
              "#fdca26"
             ],
             [
              1,
              "#f0f921"
             ]
            ],
            "type": "histogram2dcontour"
           }
          ],
          "mesh3d": [
           {
            "colorbar": {
             "outlinewidth": 0,
             "ticks": ""
            },
            "type": "mesh3d"
           }
          ],
          "parcoords": [
           {
            "line": {
             "colorbar": {
              "outlinewidth": 0,
              "ticks": ""
             }
            },
            "type": "parcoords"
           }
          ],
          "pie": [
           {
            "automargin": true,
            "type": "pie"
           }
          ],
          "scatter": [
           {
            "fillpattern": {
             "fillmode": "overlay",
             "size": 10,
             "solidity": 0.2
            },
            "type": "scatter"
           }
          ],
          "scatter3d": [
           {
            "line": {
             "colorbar": {
              "outlinewidth": 0,
              "ticks": ""
             }
            },
            "marker": {
             "colorbar": {
              "outlinewidth": 0,
              "ticks": ""
             }
            },
            "type": "scatter3d"
           }
          ],
          "scattercarpet": [
           {
            "marker": {
             "colorbar": {
              "outlinewidth": 0,
              "ticks": ""
             }
            },
            "type": "scattercarpet"
           }
          ],
          "scattergeo": [
           {
            "marker": {
             "colorbar": {
              "outlinewidth": 0,
              "ticks": ""
             }
            },
            "type": "scattergeo"
           }
          ],
          "scattergl": [
           {
            "marker": {
             "colorbar": {
              "outlinewidth": 0,
              "ticks": ""
             }
            },
            "type": "scattergl"
           }
          ],
          "scattermapbox": [
           {
            "marker": {
             "colorbar": {
              "outlinewidth": 0,
              "ticks": ""
             }
            },
            "type": "scattermapbox"
           }
          ],
          "scatterpolar": [
           {
            "marker": {
             "colorbar": {
              "outlinewidth": 0,
              "ticks": ""
             }
            },
            "type": "scatterpolar"
           }
          ],
          "scatterpolargl": [
           {
            "marker": {
             "colorbar": {
              "outlinewidth": 0,
              "ticks": ""
             }
            },
            "type": "scatterpolargl"
           }
          ],
          "scatterternary": [
           {
            "marker": {
             "colorbar": {
              "outlinewidth": 0,
              "ticks": ""
             }
            },
            "type": "scatterternary"
           }
          ],
          "surface": [
           {
            "colorbar": {
             "outlinewidth": 0,
             "ticks": ""
            },
            "colorscale": [
             [
              0,
              "#0d0887"
             ],
             [
              0.1111111111111111,
              "#46039f"
             ],
             [
              0.2222222222222222,
              "#7201a8"
             ],
             [
              0.3333333333333333,
              "#9c179e"
             ],
             [
              0.4444444444444444,
              "#bd3786"
             ],
             [
              0.5555555555555556,
              "#d8576b"
             ],
             [
              0.6666666666666666,
              "#ed7953"
             ],
             [
              0.7777777777777778,
              "#fb9f3a"
             ],
             [
              0.8888888888888888,
              "#fdca26"
             ],
             [
              1,
              "#f0f921"
             ]
            ],
            "type": "surface"
           }
          ],
          "table": [
           {
            "cells": {
             "fill": {
              "color": "#EBF0F8"
             },
             "line": {
              "color": "white"
             }
            },
            "header": {
             "fill": {
              "color": "#C8D4E3"
             },
             "line": {
              "color": "white"
             }
            },
            "type": "table"
           }
          ]
         },
         "layout": {
          "annotationdefaults": {
           "arrowcolor": "#2a3f5f",
           "arrowhead": 0,
           "arrowwidth": 1
          },
          "autotypenumbers": "strict",
          "coloraxis": {
           "colorbar": {
            "outlinewidth": 0,
            "ticks": ""
           }
          },
          "colorscale": {
           "diverging": [
            [
             0,
             "#8e0152"
            ],
            [
             0.1,
             "#c51b7d"
            ],
            [
             0.2,
             "#de77ae"
            ],
            [
             0.3,
             "#f1b6da"
            ],
            [
             0.4,
             "#fde0ef"
            ],
            [
             0.5,
             "#f7f7f7"
            ],
            [
             0.6,
             "#e6f5d0"
            ],
            [
             0.7,
             "#b8e186"
            ],
            [
             0.8,
             "#7fbc41"
            ],
            [
             0.9,
             "#4d9221"
            ],
            [
             1,
             "#276419"
            ]
           ],
           "sequential": [
            [
             0,
             "#0d0887"
            ],
            [
             0.1111111111111111,
             "#46039f"
            ],
            [
             0.2222222222222222,
             "#7201a8"
            ],
            [
             0.3333333333333333,
             "#9c179e"
            ],
            [
             0.4444444444444444,
             "#bd3786"
            ],
            [
             0.5555555555555556,
             "#d8576b"
            ],
            [
             0.6666666666666666,
             "#ed7953"
            ],
            [
             0.7777777777777778,
             "#fb9f3a"
            ],
            [
             0.8888888888888888,
             "#fdca26"
            ],
            [
             1,
             "#f0f921"
            ]
           ],
           "sequentialminus": [
            [
             0,
             "#0d0887"
            ],
            [
             0.1111111111111111,
             "#46039f"
            ],
            [
             0.2222222222222222,
             "#7201a8"
            ],
            [
             0.3333333333333333,
             "#9c179e"
            ],
            [
             0.4444444444444444,
             "#bd3786"
            ],
            [
             0.5555555555555556,
             "#d8576b"
            ],
            [
             0.6666666666666666,
             "#ed7953"
            ],
            [
             0.7777777777777778,
             "#fb9f3a"
            ],
            [
             0.8888888888888888,
             "#fdca26"
            ],
            [
             1,
             "#f0f921"
            ]
           ]
          },
          "colorway": [
           "#636efa",
           "#EF553B",
           "#00cc96",
           "#ab63fa",
           "#FFA15A",
           "#19d3f3",
           "#FF6692",
           "#B6E880",
           "#FF97FF",
           "#FECB52"
          ],
          "font": {
           "color": "#2a3f5f"
          },
          "geo": {
           "bgcolor": "white",
           "lakecolor": "white",
           "landcolor": "#E5ECF6",
           "showlakes": true,
           "showland": true,
           "subunitcolor": "white"
          },
          "hoverlabel": {
           "align": "left"
          },
          "hovermode": "closest",
          "mapbox": {
           "style": "light"
          },
          "paper_bgcolor": "white",
          "plot_bgcolor": "#E5ECF6",
          "polar": {
           "angularaxis": {
            "gridcolor": "white",
            "linecolor": "white",
            "ticks": ""
           },
           "bgcolor": "#E5ECF6",
           "radialaxis": {
            "gridcolor": "white",
            "linecolor": "white",
            "ticks": ""
           }
          },
          "scene": {
           "xaxis": {
            "backgroundcolor": "#E5ECF6",
            "gridcolor": "white",
            "gridwidth": 2,
            "linecolor": "white",
            "showbackground": true,
            "ticks": "",
            "zerolinecolor": "white"
           },
           "yaxis": {
            "backgroundcolor": "#E5ECF6",
            "gridcolor": "white",
            "gridwidth": 2,
            "linecolor": "white",
            "showbackground": true,
            "ticks": "",
            "zerolinecolor": "white"
           },
           "zaxis": {
            "backgroundcolor": "#E5ECF6",
            "gridcolor": "white",
            "gridwidth": 2,
            "linecolor": "white",
            "showbackground": true,
            "ticks": "",
            "zerolinecolor": "white"
           }
          },
          "shapedefaults": {
           "line": {
            "color": "#2a3f5f"
           }
          },
          "ternary": {
           "aaxis": {
            "gridcolor": "white",
            "linecolor": "white",
            "ticks": ""
           },
           "baxis": {
            "gridcolor": "white",
            "linecolor": "white",
            "ticks": ""
           },
           "bgcolor": "#E5ECF6",
           "caxis": {
            "gridcolor": "white",
            "linecolor": "white",
            "ticks": ""
           }
          },
          "title": {
           "x": 0.05
          },
          "xaxis": {
           "automargin": true,
           "gridcolor": "white",
           "linecolor": "white",
           "ticks": "",
           "title": {
            "standoff": 15
           },
           "zerolinecolor": "white",
           "zerolinewidth": 2
          },
          "yaxis": {
           "automargin": true,
           "gridcolor": "white",
           "linecolor": "white",
           "ticks": "",
           "title": {
            "standoff": 15
           },
           "zerolinecolor": "white",
           "zerolinewidth": 2
          }
         }
        },
        "title": {
         "text": "Bar Plot of maintenance_history"
        },
        "xaxis": {
         "anchor": "y",
         "domain": [
          0,
          1
         ],
         "title": {
          "text": "maintenance_history"
         }
        },
        "yaxis": {
         "anchor": "x",
         "domain": [
          0,
          1
         ],
         "title": {
          "text": "Count"
         }
        }
       }
      }
     },
     "metadata": {},
     "output_type": "display_data"
    },
    {
     "name": "stdout",
     "output_type": "stream",
     "text": [
      "Value Counts and Percentages for fuel_type:\n",
      "fuel_type\n",
      "Petrol      34259\n",
      "Electric     9399\n",
      "Diesel       6342\n",
      "Name: count, dtype: int64\n",
      "fuel_type\n",
      "Petrol      68.52\n",
      "Electric    18.80\n",
      "Diesel      12.68\n",
      "Name: count, dtype: float64\n",
      "\n"
     ]
    },
    {
     "data": {
      "application/vnd.plotly.v1+json": {
       "config": {
        "plotlyServerURL": "https://plot.ly"
       },
       "data": [
        {
         "alignmentgroup": "True",
         "hovertemplate": "fuel_type=%{x}<br>Count=%{y}<br>text=%{text}<extra></extra>",
         "legendgroup": "",
         "marker": {
          "color": "#636efa",
          "pattern": {
           "shape": ""
          }
         },
         "name": "",
         "offsetgroup": "",
         "orientation": "v",
         "showlegend": false,
         "text": [
          "68.52%",
          "18.8%",
          "12.68%"
         ],
         "textposition": "outside",
         "type": "bar",
         "x": [
          "Petrol",
          "Electric",
          "Diesel"
         ],
         "xaxis": "x",
         "y": [
          34259,
          9399,
          6342
         ],
         "yaxis": "y"
        }
       ],
       "layout": {
        "barmode": "relative",
        "legend": {
         "tracegroupgap": 0
        },
        "template": {
         "data": {
          "bar": [
           {
            "error_x": {
             "color": "#2a3f5f"
            },
            "error_y": {
             "color": "#2a3f5f"
            },
            "marker": {
             "line": {
              "color": "#E5ECF6",
              "width": 0.5
             },
             "pattern": {
              "fillmode": "overlay",
              "size": 10,
              "solidity": 0.2
             }
            },
            "type": "bar"
           }
          ],
          "barpolar": [
           {
            "marker": {
             "line": {
              "color": "#E5ECF6",
              "width": 0.5
             },
             "pattern": {
              "fillmode": "overlay",
              "size": 10,
              "solidity": 0.2
             }
            },
            "type": "barpolar"
           }
          ],
          "carpet": [
           {
            "aaxis": {
             "endlinecolor": "#2a3f5f",
             "gridcolor": "white",
             "linecolor": "white",
             "minorgridcolor": "white",
             "startlinecolor": "#2a3f5f"
            },
            "baxis": {
             "endlinecolor": "#2a3f5f",
             "gridcolor": "white",
             "linecolor": "white",
             "minorgridcolor": "white",
             "startlinecolor": "#2a3f5f"
            },
            "type": "carpet"
           }
          ],
          "choropleth": [
           {
            "colorbar": {
             "outlinewidth": 0,
             "ticks": ""
            },
            "type": "choropleth"
           }
          ],
          "contour": [
           {
            "colorbar": {
             "outlinewidth": 0,
             "ticks": ""
            },
            "colorscale": [
             [
              0,
              "#0d0887"
             ],
             [
              0.1111111111111111,
              "#46039f"
             ],
             [
              0.2222222222222222,
              "#7201a8"
             ],
             [
              0.3333333333333333,
              "#9c179e"
             ],
             [
              0.4444444444444444,
              "#bd3786"
             ],
             [
              0.5555555555555556,
              "#d8576b"
             ],
             [
              0.6666666666666666,
              "#ed7953"
             ],
             [
              0.7777777777777778,
              "#fb9f3a"
             ],
             [
              0.8888888888888888,
              "#fdca26"
             ],
             [
              1,
              "#f0f921"
             ]
            ],
            "type": "contour"
           }
          ],
          "contourcarpet": [
           {
            "colorbar": {
             "outlinewidth": 0,
             "ticks": ""
            },
            "type": "contourcarpet"
           }
          ],
          "heatmap": [
           {
            "colorbar": {
             "outlinewidth": 0,
             "ticks": ""
            },
            "colorscale": [
             [
              0,
              "#0d0887"
             ],
             [
              0.1111111111111111,
              "#46039f"
             ],
             [
              0.2222222222222222,
              "#7201a8"
             ],
             [
              0.3333333333333333,
              "#9c179e"
             ],
             [
              0.4444444444444444,
              "#bd3786"
             ],
             [
              0.5555555555555556,
              "#d8576b"
             ],
             [
              0.6666666666666666,
              "#ed7953"
             ],
             [
              0.7777777777777778,
              "#fb9f3a"
             ],
             [
              0.8888888888888888,
              "#fdca26"
             ],
             [
              1,
              "#f0f921"
             ]
            ],
            "type": "heatmap"
           }
          ],
          "heatmapgl": [
           {
            "colorbar": {
             "outlinewidth": 0,
             "ticks": ""
            },
            "colorscale": [
             [
              0,
              "#0d0887"
             ],
             [
              0.1111111111111111,
              "#46039f"
             ],
             [
              0.2222222222222222,
              "#7201a8"
             ],
             [
              0.3333333333333333,
              "#9c179e"
             ],
             [
              0.4444444444444444,
              "#bd3786"
             ],
             [
              0.5555555555555556,
              "#d8576b"
             ],
             [
              0.6666666666666666,
              "#ed7953"
             ],
             [
              0.7777777777777778,
              "#fb9f3a"
             ],
             [
              0.8888888888888888,
              "#fdca26"
             ],
             [
              1,
              "#f0f921"
             ]
            ],
            "type": "heatmapgl"
           }
          ],
          "histogram": [
           {
            "marker": {
             "pattern": {
              "fillmode": "overlay",
              "size": 10,
              "solidity": 0.2
             }
            },
            "type": "histogram"
           }
          ],
          "histogram2d": [
           {
            "colorbar": {
             "outlinewidth": 0,
             "ticks": ""
            },
            "colorscale": [
             [
              0,
              "#0d0887"
             ],
             [
              0.1111111111111111,
              "#46039f"
             ],
             [
              0.2222222222222222,
              "#7201a8"
             ],
             [
              0.3333333333333333,
              "#9c179e"
             ],
             [
              0.4444444444444444,
              "#bd3786"
             ],
             [
              0.5555555555555556,
              "#d8576b"
             ],
             [
              0.6666666666666666,
              "#ed7953"
             ],
             [
              0.7777777777777778,
              "#fb9f3a"
             ],
             [
              0.8888888888888888,
              "#fdca26"
             ],
             [
              1,
              "#f0f921"
             ]
            ],
            "type": "histogram2d"
           }
          ],
          "histogram2dcontour": [
           {
            "colorbar": {
             "outlinewidth": 0,
             "ticks": ""
            },
            "colorscale": [
             [
              0,
              "#0d0887"
             ],
             [
              0.1111111111111111,
              "#46039f"
             ],
             [
              0.2222222222222222,
              "#7201a8"
             ],
             [
              0.3333333333333333,
              "#9c179e"
             ],
             [
              0.4444444444444444,
              "#bd3786"
             ],
             [
              0.5555555555555556,
              "#d8576b"
             ],
             [
              0.6666666666666666,
              "#ed7953"
             ],
             [
              0.7777777777777778,
              "#fb9f3a"
             ],
             [
              0.8888888888888888,
              "#fdca26"
             ],
             [
              1,
              "#f0f921"
             ]
            ],
            "type": "histogram2dcontour"
           }
          ],
          "mesh3d": [
           {
            "colorbar": {
             "outlinewidth": 0,
             "ticks": ""
            },
            "type": "mesh3d"
           }
          ],
          "parcoords": [
           {
            "line": {
             "colorbar": {
              "outlinewidth": 0,
              "ticks": ""
             }
            },
            "type": "parcoords"
           }
          ],
          "pie": [
           {
            "automargin": true,
            "type": "pie"
           }
          ],
          "scatter": [
           {
            "fillpattern": {
             "fillmode": "overlay",
             "size": 10,
             "solidity": 0.2
            },
            "type": "scatter"
           }
          ],
          "scatter3d": [
           {
            "line": {
             "colorbar": {
              "outlinewidth": 0,
              "ticks": ""
             }
            },
            "marker": {
             "colorbar": {
              "outlinewidth": 0,
              "ticks": ""
             }
            },
            "type": "scatter3d"
           }
          ],
          "scattercarpet": [
           {
            "marker": {
             "colorbar": {
              "outlinewidth": 0,
              "ticks": ""
             }
            },
            "type": "scattercarpet"
           }
          ],
          "scattergeo": [
           {
            "marker": {
             "colorbar": {
              "outlinewidth": 0,
              "ticks": ""
             }
            },
            "type": "scattergeo"
           }
          ],
          "scattergl": [
           {
            "marker": {
             "colorbar": {
              "outlinewidth": 0,
              "ticks": ""
             }
            },
            "type": "scattergl"
           }
          ],
          "scattermapbox": [
           {
            "marker": {
             "colorbar": {
              "outlinewidth": 0,
              "ticks": ""
             }
            },
            "type": "scattermapbox"
           }
          ],
          "scatterpolar": [
           {
            "marker": {
             "colorbar": {
              "outlinewidth": 0,
              "ticks": ""
             }
            },
            "type": "scatterpolar"
           }
          ],
          "scatterpolargl": [
           {
            "marker": {
             "colorbar": {
              "outlinewidth": 0,
              "ticks": ""
             }
            },
            "type": "scatterpolargl"
           }
          ],
          "scatterternary": [
           {
            "marker": {
             "colorbar": {
              "outlinewidth": 0,
              "ticks": ""
             }
            },
            "type": "scatterternary"
           }
          ],
          "surface": [
           {
            "colorbar": {
             "outlinewidth": 0,
             "ticks": ""
            },
            "colorscale": [
             [
              0,
              "#0d0887"
             ],
             [
              0.1111111111111111,
              "#46039f"
             ],
             [
              0.2222222222222222,
              "#7201a8"
             ],
             [
              0.3333333333333333,
              "#9c179e"
             ],
             [
              0.4444444444444444,
              "#bd3786"
             ],
             [
              0.5555555555555556,
              "#d8576b"
             ],
             [
              0.6666666666666666,
              "#ed7953"
             ],
             [
              0.7777777777777778,
              "#fb9f3a"
             ],
             [
              0.8888888888888888,
              "#fdca26"
             ],
             [
              1,
              "#f0f921"
             ]
            ],
            "type": "surface"
           }
          ],
          "table": [
           {
            "cells": {
             "fill": {
              "color": "#EBF0F8"
             },
             "line": {
              "color": "white"
             }
            },
            "header": {
             "fill": {
              "color": "#C8D4E3"
             },
             "line": {
              "color": "white"
             }
            },
            "type": "table"
           }
          ]
         },
         "layout": {
          "annotationdefaults": {
           "arrowcolor": "#2a3f5f",
           "arrowhead": 0,
           "arrowwidth": 1
          },
          "autotypenumbers": "strict",
          "coloraxis": {
           "colorbar": {
            "outlinewidth": 0,
            "ticks": ""
           }
          },
          "colorscale": {
           "diverging": [
            [
             0,
             "#8e0152"
            ],
            [
             0.1,
             "#c51b7d"
            ],
            [
             0.2,
             "#de77ae"
            ],
            [
             0.3,
             "#f1b6da"
            ],
            [
             0.4,
             "#fde0ef"
            ],
            [
             0.5,
             "#f7f7f7"
            ],
            [
             0.6,
             "#e6f5d0"
            ],
            [
             0.7,
             "#b8e186"
            ],
            [
             0.8,
             "#7fbc41"
            ],
            [
             0.9,
             "#4d9221"
            ],
            [
             1,
             "#276419"
            ]
           ],
           "sequential": [
            [
             0,
             "#0d0887"
            ],
            [
             0.1111111111111111,
             "#46039f"
            ],
            [
             0.2222222222222222,
             "#7201a8"
            ],
            [
             0.3333333333333333,
             "#9c179e"
            ],
            [
             0.4444444444444444,
             "#bd3786"
            ],
            [
             0.5555555555555556,
             "#d8576b"
            ],
            [
             0.6666666666666666,
             "#ed7953"
            ],
            [
             0.7777777777777778,
             "#fb9f3a"
            ],
            [
             0.8888888888888888,
             "#fdca26"
            ],
            [
             1,
             "#f0f921"
            ]
           ],
           "sequentialminus": [
            [
             0,
             "#0d0887"
            ],
            [
             0.1111111111111111,
             "#46039f"
            ],
            [
             0.2222222222222222,
             "#7201a8"
            ],
            [
             0.3333333333333333,
             "#9c179e"
            ],
            [
             0.4444444444444444,
             "#bd3786"
            ],
            [
             0.5555555555555556,
             "#d8576b"
            ],
            [
             0.6666666666666666,
             "#ed7953"
            ],
            [
             0.7777777777777778,
             "#fb9f3a"
            ],
            [
             0.8888888888888888,
             "#fdca26"
            ],
            [
             1,
             "#f0f921"
            ]
           ]
          },
          "colorway": [
           "#636efa",
           "#EF553B",
           "#00cc96",
           "#ab63fa",
           "#FFA15A",
           "#19d3f3",
           "#FF6692",
           "#B6E880",
           "#FF97FF",
           "#FECB52"
          ],
          "font": {
           "color": "#2a3f5f"
          },
          "geo": {
           "bgcolor": "white",
           "lakecolor": "white",
           "landcolor": "#E5ECF6",
           "showlakes": true,
           "showland": true,
           "subunitcolor": "white"
          },
          "hoverlabel": {
           "align": "left"
          },
          "hovermode": "closest",
          "mapbox": {
           "style": "light"
          },
          "paper_bgcolor": "white",
          "plot_bgcolor": "#E5ECF6",
          "polar": {
           "angularaxis": {
            "gridcolor": "white",
            "linecolor": "white",
            "ticks": ""
           },
           "bgcolor": "#E5ECF6",
           "radialaxis": {
            "gridcolor": "white",
            "linecolor": "white",
            "ticks": ""
           }
          },
          "scene": {
           "xaxis": {
            "backgroundcolor": "#E5ECF6",
            "gridcolor": "white",
            "gridwidth": 2,
            "linecolor": "white",
            "showbackground": true,
            "ticks": "",
            "zerolinecolor": "white"
           },
           "yaxis": {
            "backgroundcolor": "#E5ECF6",
            "gridcolor": "white",
            "gridwidth": 2,
            "linecolor": "white",
            "showbackground": true,
            "ticks": "",
            "zerolinecolor": "white"
           },
           "zaxis": {
            "backgroundcolor": "#E5ECF6",
            "gridcolor": "white",
            "gridwidth": 2,
            "linecolor": "white",
            "showbackground": true,
            "ticks": "",
            "zerolinecolor": "white"
           }
          },
          "shapedefaults": {
           "line": {
            "color": "#2a3f5f"
           }
          },
          "ternary": {
           "aaxis": {
            "gridcolor": "white",
            "linecolor": "white",
            "ticks": ""
           },
           "baxis": {
            "gridcolor": "white",
            "linecolor": "white",
            "ticks": ""
           },
           "bgcolor": "#E5ECF6",
           "caxis": {
            "gridcolor": "white",
            "linecolor": "white",
            "ticks": ""
           }
          },
          "title": {
           "x": 0.05
          },
          "xaxis": {
           "automargin": true,
           "gridcolor": "white",
           "linecolor": "white",
           "ticks": "",
           "title": {
            "standoff": 15
           },
           "zerolinecolor": "white",
           "zerolinewidth": 2
          },
          "yaxis": {
           "automargin": true,
           "gridcolor": "white",
           "linecolor": "white",
           "ticks": "",
           "title": {
            "standoff": 15
           },
           "zerolinecolor": "white",
           "zerolinewidth": 2
          }
         }
        },
        "title": {
         "text": "Bar Plot of fuel_type"
        },
        "xaxis": {
         "anchor": "y",
         "domain": [
          0,
          1
         ],
         "title": {
          "text": "fuel_type"
         }
        },
        "yaxis": {
         "anchor": "x",
         "domain": [
          0,
          1
         ],
         "title": {
          "text": "Count"
         }
        }
       }
      }
     },
     "metadata": {},
     "output_type": "display_data"
    },
    {
     "name": "stdout",
     "output_type": "stream",
     "text": [
      "Value Counts and Percentages for transmission_type:\n",
      "transmission_type\n",
      "Automatic    39650\n",
      "Manual       10350\n",
      "Name: count, dtype: int64\n",
      "transmission_type\n",
      "Automatic    79.3\n",
      "Manual       20.7\n",
      "Name: count, dtype: float64\n",
      "\n"
     ]
    },
    {
     "data": {
      "application/vnd.plotly.v1+json": {
       "config": {
        "plotlyServerURL": "https://plot.ly"
       },
       "data": [
        {
         "alignmentgroup": "True",
         "hovertemplate": "transmission_type=%{x}<br>Count=%{y}<br>text=%{text}<extra></extra>",
         "legendgroup": "",
         "marker": {
          "color": "#636efa",
          "pattern": {
           "shape": ""
          }
         },
         "name": "",
         "offsetgroup": "",
         "orientation": "v",
         "showlegend": false,
         "text": [
          "79.3%",
          "20.7%"
         ],
         "textposition": "outside",
         "type": "bar",
         "x": [
          "Automatic",
          "Manual"
         ],
         "xaxis": "x",
         "y": [
          39650,
          10350
         ],
         "yaxis": "y"
        }
       ],
       "layout": {
        "barmode": "relative",
        "legend": {
         "tracegroupgap": 0
        },
        "template": {
         "data": {
          "bar": [
           {
            "error_x": {
             "color": "#2a3f5f"
            },
            "error_y": {
             "color": "#2a3f5f"
            },
            "marker": {
             "line": {
              "color": "#E5ECF6",
              "width": 0.5
             },
             "pattern": {
              "fillmode": "overlay",
              "size": 10,
              "solidity": 0.2
             }
            },
            "type": "bar"
           }
          ],
          "barpolar": [
           {
            "marker": {
             "line": {
              "color": "#E5ECF6",
              "width": 0.5
             },
             "pattern": {
              "fillmode": "overlay",
              "size": 10,
              "solidity": 0.2
             }
            },
            "type": "barpolar"
           }
          ],
          "carpet": [
           {
            "aaxis": {
             "endlinecolor": "#2a3f5f",
             "gridcolor": "white",
             "linecolor": "white",
             "minorgridcolor": "white",
             "startlinecolor": "#2a3f5f"
            },
            "baxis": {
             "endlinecolor": "#2a3f5f",
             "gridcolor": "white",
             "linecolor": "white",
             "minorgridcolor": "white",
             "startlinecolor": "#2a3f5f"
            },
            "type": "carpet"
           }
          ],
          "choropleth": [
           {
            "colorbar": {
             "outlinewidth": 0,
             "ticks": ""
            },
            "type": "choropleth"
           }
          ],
          "contour": [
           {
            "colorbar": {
             "outlinewidth": 0,
             "ticks": ""
            },
            "colorscale": [
             [
              0,
              "#0d0887"
             ],
             [
              0.1111111111111111,
              "#46039f"
             ],
             [
              0.2222222222222222,
              "#7201a8"
             ],
             [
              0.3333333333333333,
              "#9c179e"
             ],
             [
              0.4444444444444444,
              "#bd3786"
             ],
             [
              0.5555555555555556,
              "#d8576b"
             ],
             [
              0.6666666666666666,
              "#ed7953"
             ],
             [
              0.7777777777777778,
              "#fb9f3a"
             ],
             [
              0.8888888888888888,
              "#fdca26"
             ],
             [
              1,
              "#f0f921"
             ]
            ],
            "type": "contour"
           }
          ],
          "contourcarpet": [
           {
            "colorbar": {
             "outlinewidth": 0,
             "ticks": ""
            },
            "type": "contourcarpet"
           }
          ],
          "heatmap": [
           {
            "colorbar": {
             "outlinewidth": 0,
             "ticks": ""
            },
            "colorscale": [
             [
              0,
              "#0d0887"
             ],
             [
              0.1111111111111111,
              "#46039f"
             ],
             [
              0.2222222222222222,
              "#7201a8"
             ],
             [
              0.3333333333333333,
              "#9c179e"
             ],
             [
              0.4444444444444444,
              "#bd3786"
             ],
             [
              0.5555555555555556,
              "#d8576b"
             ],
             [
              0.6666666666666666,
              "#ed7953"
             ],
             [
              0.7777777777777778,
              "#fb9f3a"
             ],
             [
              0.8888888888888888,
              "#fdca26"
             ],
             [
              1,
              "#f0f921"
             ]
            ],
            "type": "heatmap"
           }
          ],
          "heatmapgl": [
           {
            "colorbar": {
             "outlinewidth": 0,
             "ticks": ""
            },
            "colorscale": [
             [
              0,
              "#0d0887"
             ],
             [
              0.1111111111111111,
              "#46039f"
             ],
             [
              0.2222222222222222,
              "#7201a8"
             ],
             [
              0.3333333333333333,
              "#9c179e"
             ],
             [
              0.4444444444444444,
              "#bd3786"
             ],
             [
              0.5555555555555556,
              "#d8576b"
             ],
             [
              0.6666666666666666,
              "#ed7953"
             ],
             [
              0.7777777777777778,
              "#fb9f3a"
             ],
             [
              0.8888888888888888,
              "#fdca26"
             ],
             [
              1,
              "#f0f921"
             ]
            ],
            "type": "heatmapgl"
           }
          ],
          "histogram": [
           {
            "marker": {
             "pattern": {
              "fillmode": "overlay",
              "size": 10,
              "solidity": 0.2
             }
            },
            "type": "histogram"
           }
          ],
          "histogram2d": [
           {
            "colorbar": {
             "outlinewidth": 0,
             "ticks": ""
            },
            "colorscale": [
             [
              0,
              "#0d0887"
             ],
             [
              0.1111111111111111,
              "#46039f"
             ],
             [
              0.2222222222222222,
              "#7201a8"
             ],
             [
              0.3333333333333333,
              "#9c179e"
             ],
             [
              0.4444444444444444,
              "#bd3786"
             ],
             [
              0.5555555555555556,
              "#d8576b"
             ],
             [
              0.6666666666666666,
              "#ed7953"
             ],
             [
              0.7777777777777778,
              "#fb9f3a"
             ],
             [
              0.8888888888888888,
              "#fdca26"
             ],
             [
              1,
              "#f0f921"
             ]
            ],
            "type": "histogram2d"
           }
          ],
          "histogram2dcontour": [
           {
            "colorbar": {
             "outlinewidth": 0,
             "ticks": ""
            },
            "colorscale": [
             [
              0,
              "#0d0887"
             ],
             [
              0.1111111111111111,
              "#46039f"
             ],
             [
              0.2222222222222222,
              "#7201a8"
             ],
             [
              0.3333333333333333,
              "#9c179e"
             ],
             [
              0.4444444444444444,
              "#bd3786"
             ],
             [
              0.5555555555555556,
              "#d8576b"
             ],
             [
              0.6666666666666666,
              "#ed7953"
             ],
             [
              0.7777777777777778,
              "#fb9f3a"
             ],
             [
              0.8888888888888888,
              "#fdca26"
             ],
             [
              1,
              "#f0f921"
             ]
            ],
            "type": "histogram2dcontour"
           }
          ],
          "mesh3d": [
           {
            "colorbar": {
             "outlinewidth": 0,
             "ticks": ""
            },
            "type": "mesh3d"
           }
          ],
          "parcoords": [
           {
            "line": {
             "colorbar": {
              "outlinewidth": 0,
              "ticks": ""
             }
            },
            "type": "parcoords"
           }
          ],
          "pie": [
           {
            "automargin": true,
            "type": "pie"
           }
          ],
          "scatter": [
           {
            "fillpattern": {
             "fillmode": "overlay",
             "size": 10,
             "solidity": 0.2
            },
            "type": "scatter"
           }
          ],
          "scatter3d": [
           {
            "line": {
             "colorbar": {
              "outlinewidth": 0,
              "ticks": ""
             }
            },
            "marker": {
             "colorbar": {
              "outlinewidth": 0,
              "ticks": ""
             }
            },
            "type": "scatter3d"
           }
          ],
          "scattercarpet": [
           {
            "marker": {
             "colorbar": {
              "outlinewidth": 0,
              "ticks": ""
             }
            },
            "type": "scattercarpet"
           }
          ],
          "scattergeo": [
           {
            "marker": {
             "colorbar": {
              "outlinewidth": 0,
              "ticks": ""
             }
            },
            "type": "scattergeo"
           }
          ],
          "scattergl": [
           {
            "marker": {
             "colorbar": {
              "outlinewidth": 0,
              "ticks": ""
             }
            },
            "type": "scattergl"
           }
          ],
          "scattermapbox": [
           {
            "marker": {
             "colorbar": {
              "outlinewidth": 0,
              "ticks": ""
             }
            },
            "type": "scattermapbox"
           }
          ],
          "scatterpolar": [
           {
            "marker": {
             "colorbar": {
              "outlinewidth": 0,
              "ticks": ""
             }
            },
            "type": "scatterpolar"
           }
          ],
          "scatterpolargl": [
           {
            "marker": {
             "colorbar": {
              "outlinewidth": 0,
              "ticks": ""
             }
            },
            "type": "scatterpolargl"
           }
          ],
          "scatterternary": [
           {
            "marker": {
             "colorbar": {
              "outlinewidth": 0,
              "ticks": ""
             }
            },
            "type": "scatterternary"
           }
          ],
          "surface": [
           {
            "colorbar": {
             "outlinewidth": 0,
             "ticks": ""
            },
            "colorscale": [
             [
              0,
              "#0d0887"
             ],
             [
              0.1111111111111111,
              "#46039f"
             ],
             [
              0.2222222222222222,
              "#7201a8"
             ],
             [
              0.3333333333333333,
              "#9c179e"
             ],
             [
              0.4444444444444444,
              "#bd3786"
             ],
             [
              0.5555555555555556,
              "#d8576b"
             ],
             [
              0.6666666666666666,
              "#ed7953"
             ],
             [
              0.7777777777777778,
              "#fb9f3a"
             ],
             [
              0.8888888888888888,
              "#fdca26"
             ],
             [
              1,
              "#f0f921"
             ]
            ],
            "type": "surface"
           }
          ],
          "table": [
           {
            "cells": {
             "fill": {
              "color": "#EBF0F8"
             },
             "line": {
              "color": "white"
             }
            },
            "header": {
             "fill": {
              "color": "#C8D4E3"
             },
             "line": {
              "color": "white"
             }
            },
            "type": "table"
           }
          ]
         },
         "layout": {
          "annotationdefaults": {
           "arrowcolor": "#2a3f5f",
           "arrowhead": 0,
           "arrowwidth": 1
          },
          "autotypenumbers": "strict",
          "coloraxis": {
           "colorbar": {
            "outlinewidth": 0,
            "ticks": ""
           }
          },
          "colorscale": {
           "diverging": [
            [
             0,
             "#8e0152"
            ],
            [
             0.1,
             "#c51b7d"
            ],
            [
             0.2,
             "#de77ae"
            ],
            [
             0.3,
             "#f1b6da"
            ],
            [
             0.4,
             "#fde0ef"
            ],
            [
             0.5,
             "#f7f7f7"
            ],
            [
             0.6,
             "#e6f5d0"
            ],
            [
             0.7,
             "#b8e186"
            ],
            [
             0.8,
             "#7fbc41"
            ],
            [
             0.9,
             "#4d9221"
            ],
            [
             1,
             "#276419"
            ]
           ],
           "sequential": [
            [
             0,
             "#0d0887"
            ],
            [
             0.1111111111111111,
             "#46039f"
            ],
            [
             0.2222222222222222,
             "#7201a8"
            ],
            [
             0.3333333333333333,
             "#9c179e"
            ],
            [
             0.4444444444444444,
             "#bd3786"
            ],
            [
             0.5555555555555556,
             "#d8576b"
            ],
            [
             0.6666666666666666,
             "#ed7953"
            ],
            [
             0.7777777777777778,
             "#fb9f3a"
            ],
            [
             0.8888888888888888,
             "#fdca26"
            ],
            [
             1,
             "#f0f921"
            ]
           ],
           "sequentialminus": [
            [
             0,
             "#0d0887"
            ],
            [
             0.1111111111111111,
             "#46039f"
            ],
            [
             0.2222222222222222,
             "#7201a8"
            ],
            [
             0.3333333333333333,
             "#9c179e"
            ],
            [
             0.4444444444444444,
             "#bd3786"
            ],
            [
             0.5555555555555556,
             "#d8576b"
            ],
            [
             0.6666666666666666,
             "#ed7953"
            ],
            [
             0.7777777777777778,
             "#fb9f3a"
            ],
            [
             0.8888888888888888,
             "#fdca26"
            ],
            [
             1,
             "#f0f921"
            ]
           ]
          },
          "colorway": [
           "#636efa",
           "#EF553B",
           "#00cc96",
           "#ab63fa",
           "#FFA15A",
           "#19d3f3",
           "#FF6692",
           "#B6E880",
           "#FF97FF",
           "#FECB52"
          ],
          "font": {
           "color": "#2a3f5f"
          },
          "geo": {
           "bgcolor": "white",
           "lakecolor": "white",
           "landcolor": "#E5ECF6",
           "showlakes": true,
           "showland": true,
           "subunitcolor": "white"
          },
          "hoverlabel": {
           "align": "left"
          },
          "hovermode": "closest",
          "mapbox": {
           "style": "light"
          },
          "paper_bgcolor": "white",
          "plot_bgcolor": "#E5ECF6",
          "polar": {
           "angularaxis": {
            "gridcolor": "white",
            "linecolor": "white",
            "ticks": ""
           },
           "bgcolor": "#E5ECF6",
           "radialaxis": {
            "gridcolor": "white",
            "linecolor": "white",
            "ticks": ""
           }
          },
          "scene": {
           "xaxis": {
            "backgroundcolor": "#E5ECF6",
            "gridcolor": "white",
            "gridwidth": 2,
            "linecolor": "white",
            "showbackground": true,
            "ticks": "",
            "zerolinecolor": "white"
           },
           "yaxis": {
            "backgroundcolor": "#E5ECF6",
            "gridcolor": "white",
            "gridwidth": 2,
            "linecolor": "white",
            "showbackground": true,
            "ticks": "",
            "zerolinecolor": "white"
           },
           "zaxis": {
            "backgroundcolor": "#E5ECF6",
            "gridcolor": "white",
            "gridwidth": 2,
            "linecolor": "white",
            "showbackground": true,
            "ticks": "",
            "zerolinecolor": "white"
           }
          },
          "shapedefaults": {
           "line": {
            "color": "#2a3f5f"
           }
          },
          "ternary": {
           "aaxis": {
            "gridcolor": "white",
            "linecolor": "white",
            "ticks": ""
           },
           "baxis": {
            "gridcolor": "white",
            "linecolor": "white",
            "ticks": ""
           },
           "bgcolor": "#E5ECF6",
           "caxis": {
            "gridcolor": "white",
            "linecolor": "white",
            "ticks": ""
           }
          },
          "title": {
           "x": 0.05
          },
          "xaxis": {
           "automargin": true,
           "gridcolor": "white",
           "linecolor": "white",
           "ticks": "",
           "title": {
            "standoff": 15
           },
           "zerolinecolor": "white",
           "zerolinewidth": 2
          },
          "yaxis": {
           "automargin": true,
           "gridcolor": "white",
           "linecolor": "white",
           "ticks": "",
           "title": {
            "standoff": 15
           },
           "zerolinecolor": "white",
           "zerolinewidth": 2
          }
         }
        },
        "title": {
         "text": "Bar Plot of transmission_type"
        },
        "xaxis": {
         "anchor": "y",
         "domain": [
          0,
          1
         ],
         "title": {
          "text": "transmission_type"
         }
        },
        "yaxis": {
         "anchor": "x",
         "domain": [
          0,
          1
         ],
         "title": {
          "text": "Count"
         }
        }
       }
      }
     },
     "metadata": {},
     "output_type": "display_data"
    },
    {
     "name": "stdout",
     "output_type": "stream",
     "text": [
      "Value Counts and Percentages for last_service_date:\n",
      "last_service_date\n",
      "25-11-2023    182\n",
      "08-08-2023    181\n",
      "14-11-2023    179\n",
      "03-10-2023    177\n",
      "11-12-2023    175\n",
      "             ... \n",
      "09-11-2023    122\n",
      "08-11-2023    122\n",
      "16-11-2023    121\n",
      "21-01-2024    120\n",
      "07-05-2023    116\n",
      "Name: count, Length: 336, dtype: int64\n",
      "last_service_date\n",
      "25-11-2023    0.36\n",
      "08-08-2023    0.36\n",
      "14-11-2023    0.36\n",
      "03-10-2023    0.35\n",
      "11-12-2023    0.35\n",
      "              ... \n",
      "09-11-2023    0.24\n",
      "08-11-2023    0.24\n",
      "16-11-2023    0.24\n",
      "21-01-2024    0.24\n",
      "07-05-2023    0.23\n",
      "Name: count, Length: 336, dtype: float64\n",
      "\n"
     ]
    },
    {
     "data": {
      "application/vnd.plotly.v1+json": {
       "config": {
        "plotlyServerURL": "https://plot.ly"
       },
       "data": [
        {
         "alignmentgroup": "True",
         "hovertemplate": "last_service_date=%{x}<br>Count=%{y}<br>text=%{text}<extra></extra>",
         "legendgroup": "",
         "marker": {
          "color": "#636efa",
          "pattern": {
           "shape": ""
          }
         },
         "name": "",
         "offsetgroup": "",
         "orientation": "v",
         "showlegend": false,
         "text": [
          "0.36%",
          "0.36%",
          "0.36%",
          "0.35%",
          "0.35%",
          "0.35%",
          "0.35%",
          "0.35%",
          "0.35%",
          "0.35%",
          "0.35%",
          "0.35%",
          "0.34%",
          "0.34%",
          "0.34%",
          "0.34%",
          "0.34%",
          "0.34%",
          "0.34%",
          "0.34%",
          "0.34%",
          "0.34%",
          "0.34%",
          "0.34%",
          "0.34%",
          "0.34%",
          "0.34%",
          "0.34%",
          "0.34%",
          "0.33%",
          "0.33%",
          "0.33%",
          "0.33%",
          "0.33%",
          "0.33%",
          "0.33%",
          "0.33%",
          "0.33%",
          "0.33%",
          "0.33%",
          "0.33%",
          "0.33%",
          "0.33%",
          "0.33%",
          "0.33%",
          "0.33%",
          "0.33%",
          "0.33%",
          "0.33%",
          "0.32%",
          "0.32%",
          "0.32%",
          "0.32%",
          "0.32%",
          "0.32%",
          "0.32%",
          "0.32%",
          "0.32%",
          "0.32%",
          "0.32%",
          "0.32%",
          "0.32%",
          "0.32%",
          "0.32%",
          "0.32%",
          "0.32%",
          "0.32%",
          "0.32%",
          "0.32%",
          "0.32%",
          "0.32%",
          "0.32%",
          "0.32%",
          "0.32%",
          "0.32%",
          "0.32%",
          "0.32%",
          "0.32%",
          "0.32%",
          "0.32%",
          "0.32%",
          "0.32%",
          "0.32%",
          "0.31%",
          "0.31%",
          "0.31%",
          "0.31%",
          "0.31%",
          "0.31%",
          "0.31%",
          "0.31%",
          "0.31%",
          "0.31%",
          "0.31%",
          "0.31%",
          "0.31%",
          "0.31%",
          "0.31%",
          "0.31%",
          "0.31%",
          "0.31%",
          "0.31%",
          "0.31%",
          "0.31%",
          "0.31%",
          "0.31%",
          "0.31%",
          "0.31%",
          "0.31%",
          "0.31%",
          "0.31%",
          "0.31%",
          "0.31%",
          "0.31%",
          "0.31%",
          "0.31%",
          "0.31%",
          "0.31%",
          "0.31%",
          "0.31%",
          "0.31%",
          "0.31%",
          "0.31%",
          "0.31%",
          "0.31%",
          "0.3%",
          "0.3%",
          "0.3%",
          "0.3%",
          "0.3%",
          "0.3%",
          "0.3%",
          "0.3%",
          "0.3%",
          "0.3%",
          "0.3%",
          "0.3%",
          "0.3%",
          "0.3%",
          "0.3%",
          "0.3%",
          "0.3%",
          "0.3%",
          "0.3%",
          "0.3%",
          "0.3%",
          "0.3%",
          "0.3%",
          "0.3%",
          "0.3%",
          "0.3%",
          "0.3%",
          "0.3%",
          "0.3%",
          "0.3%",
          "0.3%",
          "0.3%",
          "0.3%",
          "0.3%",
          "0.3%",
          "0.3%",
          "0.3%",
          "0.3%",
          "0.3%",
          "0.3%",
          "0.3%",
          "0.3%",
          "0.3%",
          "0.3%",
          "0.3%",
          "0.3%",
          "0.3%",
          "0.3%",
          "0.3%",
          "0.3%",
          "0.3%",
          "0.3%",
          "0.3%",
          "0.3%",
          "0.3%",
          "0.3%",
          "0.3%",
          "0.3%",
          "0.29%",
          "0.29%",
          "0.29%",
          "0.29%",
          "0.29%",
          "0.29%",
          "0.29%",
          "0.29%",
          "0.29%",
          "0.29%",
          "0.29%",
          "0.29%",
          "0.29%",
          "0.29%",
          "0.29%",
          "0.29%",
          "0.29%",
          "0.29%",
          "0.29%",
          "0.29%",
          "0.29%",
          "0.29%",
          "0.29%",
          "0.29%",
          "0.29%",
          "0.29%",
          "0.29%",
          "0.29%",
          "0.29%",
          "0.29%",
          "0.29%",
          "0.29%",
          "0.29%",
          "0.29%",
          "0.29%",
          "0.29%",
          "0.29%",
          "0.29%",
          "0.29%",
          "0.29%",
          "0.29%",
          "0.29%",
          "0.29%",
          "0.28%",
          "0.28%",
          "0.28%",
          "0.28%",
          "0.28%",
          "0.28%",
          "0.28%",
          "0.28%",
          "0.28%",
          "0.28%",
          "0.28%",
          "0.28%",
          "0.28%",
          "0.28%",
          "0.28%",
          "0.28%",
          "0.28%",
          "0.28%",
          "0.28%",
          "0.28%",
          "0.28%",
          "0.28%",
          "0.28%",
          "0.28%",
          "0.28%",
          "0.28%",
          "0.28%",
          "0.28%",
          "0.28%",
          "0.28%",
          "0.28%",
          "0.28%",
          "0.28%",
          "0.28%",
          "0.28%",
          "0.28%",
          "0.28%",
          "0.28%",
          "0.28%",
          "0.28%",
          "0.28%",
          "0.28%",
          "0.28%",
          "0.28%",
          "0.28%",
          "0.28%",
          "0.28%",
          "0.28%",
          "0.28%",
          "0.28%",
          "0.27%",
          "0.27%",
          "0.27%",
          "0.27%",
          "0.27%",
          "0.27%",
          "0.27%",
          "0.27%",
          "0.27%",
          "0.27%",
          "0.27%",
          "0.27%",
          "0.27%",
          "0.27%",
          "0.27%",
          "0.27%",
          "0.27%",
          "0.27%",
          "0.27%",
          "0.27%",
          "0.27%",
          "0.27%",
          "0.27%",
          "0.27%",
          "0.27%",
          "0.27%",
          "0.27%",
          "0.26%",
          "0.26%",
          "0.26%",
          "0.26%",
          "0.26%",
          "0.26%",
          "0.26%",
          "0.26%",
          "0.26%",
          "0.26%",
          "0.26%",
          "0.26%",
          "0.26%",
          "0.26%",
          "0.26%",
          "0.26%",
          "0.26%",
          "0.26%",
          "0.26%",
          "0.25%",
          "0.25%",
          "0.25%",
          "0.25%",
          "0.25%",
          "0.25%",
          "0.25%",
          "0.25%",
          "0.24%",
          "0.24%",
          "0.24%",
          "0.24%",
          "0.24%",
          "0.23%"
         ],
         "textposition": "outside",
         "type": "bar",
         "x": [
          "25-11-2023",
          "08-08-2023",
          "14-11-2023",
          "03-10-2023",
          "11-12-2023",
          "20-10-2023",
          "20-11-2023",
          "23-02-2024",
          "13-01-2024",
          "21-06-2023",
          "10-04-2023",
          "15-05-2023",
          "27-06-2023",
          "09-09-2023",
          "27-09-2023",
          "06-12-2023",
          "29-10-2023",
          "09-04-2023",
          "14-05-2023",
          "25-10-2023",
          "07-07-2023",
          "21-09-2023",
          "19-05-2023",
          "25-01-2024",
          "23-06-2023",
          "01-05-2023",
          "06-02-2024",
          "14-07-2023",
          "30-06-2023",
          "15-01-2024",
          "11-05-2023",
          "20-04-2023",
          "16-01-2024",
          "17-11-2023",
          "05-10-2023",
          "18-07-2023",
          "30-11-2023",
          "08-02-2024",
          "17-04-2023",
          "09-12-2023",
          "03-04-2023",
          "20-06-2023",
          "26-09-2023",
          "26-12-2023",
          "31-10-2023",
          "02-10-2023",
          "16-09-2023",
          "06-11-2023",
          "24-10-2023",
          "01-02-2024",
          "05-05-2023",
          "08-07-2023",
          "06-07-2023",
          "15-11-2023",
          "26-08-2023",
          "18-02-2024",
          "25-07-2023",
          "13-05-2023",
          "13-12-2023",
          "04-05-2023",
          "04-07-2023",
          "22-11-2023",
          "02-12-2023",
          "04-02-2024",
          "31-01-2024",
          "08-10-2023",
          "25-08-2023",
          "30-10-2023",
          "12-09-2023",
          "31-12-2023",
          "27-04-2023",
          "04-01-2024",
          "19-07-2023",
          "19-09-2023",
          "10-12-2023",
          "08-12-2023",
          "19-12-2023",
          "11-10-2023",
          "15-10-2023",
          "18-08-2023",
          "31-08-2023",
          "07-06-2023",
          "05-01-2024",
          "19-01-2024",
          "21-02-2024",
          "28-10-2023",
          "03-02-2024",
          "13-11-2023",
          "17-05-2023",
          "07-08-2023",
          "06-06-2023",
          "30-03-2023",
          "15-06-2023",
          "05-11-2023",
          "19-06-2023",
          "22-09-2023",
          "29-01-2024",
          "01-04-2023",
          "11-08-2023",
          "24-05-2023",
          "22-12-2023",
          "14-12-2023",
          "12-10-2023",
          "20-08-2023",
          "16-04-2023",
          "04-10-2023",
          "23-05-2023",
          "02-04-2023",
          "01-07-2023",
          "10-11-2023",
          "13-10-2023",
          "28-06-2023",
          "28-05-2023",
          "19-04-2023",
          "13-02-2024",
          "19-10-2023",
          "17-02-2024",
          "21-04-2023",
          "03-11-2023",
          "25-09-2023",
          "10-06-2023",
          "15-08-2023",
          "20-12-2023",
          "12-06-2023",
          "20-05-2023",
          "27-05-2023",
          "20-07-2023",
          "16-07-2023",
          "22-02-2024",
          "26-02-2024",
          "18-04-2023",
          "20-01-2024",
          "21-08-2023",
          "05-09-2023",
          "27-12-2023",
          "23-10-2023",
          "16-08-2023",
          "18-11-2023",
          "27-08-2023",
          "03-05-2023",
          "04-06-2023",
          "03-08-2023",
          "28-08-2023",
          "11-11-2023",
          "09-07-2023",
          "12-05-2023",
          "02-06-2023",
          "14-09-2023",
          "30-09-2023",
          "24-11-2023",
          "28-07-2023",
          "05-06-2023",
          "03-09-2023",
          "30-08-2023",
          "29-05-2023",
          "15-04-2023",
          "10-01-2024",
          "30-07-2023",
          "30-05-2023",
          "27-02-2024",
          "02-11-2023",
          "04-12-2023",
          "24-08-2023",
          "07-01-2024",
          "02-07-2023",
          "21-12-2023",
          "06-05-2023",
          "05-08-2023",
          "18-09-2023",
          "03-07-2023",
          "26-07-2023",
          "17-08-2023",
          "26-10-2023",
          "11-04-2023",
          "16-02-2024",
          "06-01-2024",
          "26-05-2023",
          "29-07-2023",
          "09-10-2023",
          "06-08-2023",
          "15-02-2024",
          "13-09-2023",
          "22-10-2023",
          "24-04-2023",
          "01-08-2023",
          "01-09-2023",
          "08-06-2023",
          "04-09-2023",
          "02-08-2023",
          "01-06-2023",
          "13-06-2023",
          "29-11-2023",
          "15-07-2023",
          "17-06-2023",
          "13-07-2023",
          "19-11-2023",
          "01-11-2023",
          "22-01-2024",
          "30-01-2024",
          "28-01-2024",
          "13-04-2023",
          "04-04-2023",
          "10-02-2024",
          "28-04-2023",
          "22-06-2023",
          "07-04-2023",
          "26-04-2023",
          "15-09-2023",
          "26-11-2023",
          "04-11-2023",
          "03-01-2024",
          "24-01-2024",
          "27-01-2024",
          "01-12-2023",
          "24-02-2024",
          "02-05-2023",
          "13-08-2023",
          "16-05-2023",
          "24-07-2023",
          "31-07-2023",
          "28-02-2024",
          "25-04-2023",
          "22-04-2023",
          "29-12-2023",
          "16-10-2023",
          "16-12-2023",
          "01-01-2024",
          "22-07-2023",
          "09-06-2023",
          "11-01-2024",
          "14-01-2024",
          "17-10-2023",
          "03-06-2023",
          "14-10-2023",
          "24-12-2023",
          "08-09-2023",
          "19-02-2024",
          "26-01-2024",
          "25-06-2023",
          "23-04-2023",
          "02-01-2024",
          "23-11-2023",
          "23-01-2024",
          "18-01-2024",
          "02-02-2024",
          "19-08-2023",
          "29-04-2023",
          "23-12-2023",
          "25-05-2023",
          "23-08-2023",
          "07-11-2023",
          "12-11-2023",
          "25-12-2023",
          "24-06-2023",
          "22-08-2023",
          "20-02-2024",
          "30-04-2023",
          "10-07-2023",
          "21-11-2023",
          "21-10-2023",
          "05-12-2023",
          "11-06-2023",
          "12-02-2024",
          "11-02-2024",
          "26-06-2023",
          "01-10-2023",
          "22-05-2023",
          "18-12-2023",
          "16-06-2023",
          "14-08-2023",
          "24-09-2023",
          "28-09-2023",
          "09-05-2023",
          "06-04-2023",
          "04-08-2023",
          "07-02-2024",
          "11-07-2023",
          "14-04-2023",
          "11-09-2023",
          "18-10-2023",
          "06-09-2023",
          "18-05-2023",
          "23-09-2023",
          "17-07-2023",
          "21-07-2023",
          "29-06-2023",
          "09-02-2024",
          "12-07-2023",
          "15-12-2023",
          "12-12-2023",
          "12-01-2024",
          "09-08-2023",
          "28-12-2023",
          "18-06-2023",
          "10-05-2023",
          "09-01-2024",
          "30-12-2023",
          "03-12-2023",
          "21-05-2023",
          "08-01-2024",
          "31-05-2023",
          "27-10-2023",
          "27-11-2023",
          "07-10-2023",
          "28-11-2023",
          "17-01-2024",
          "25-02-2024",
          "06-10-2023",
          "05-04-2023",
          "05-07-2023",
          "31-03-2023",
          "05-02-2024",
          "10-09-2023",
          "23-07-2023",
          "12-08-2023",
          "17-09-2023",
          "14-02-2024",
          "17-12-2023",
          "07-09-2023",
          "14-06-2023",
          "29-09-2023",
          "10-08-2023",
          "20-09-2023",
          "29-08-2023",
          "02-09-2023",
          "12-04-2023",
          "07-12-2023",
          "08-04-2023",
          "08-05-2023",
          "10-10-2023",
          "27-07-2023",
          "09-11-2023",
          "08-11-2023",
          "16-11-2023",
          "21-01-2024",
          "07-05-2023"
         ],
         "xaxis": "x",
         "y": [
          182,
          181,
          179,
          177,
          175,
          175,
          175,
          174,
          174,
          174,
          173,
          173,
          172,
          171,
          171,
          171,
          171,
          170,
          170,
          169,
          169,
          169,
          169,
          169,
          169,
          168,
          168,
          168,
          168,
          167,
          167,
          166,
          166,
          166,
          166,
          166,
          166,
          165,
          165,
          164,
          164,
          164,
          163,
          163,
          163,
          163,
          163,
          163,
          163,
          162,
          162,
          162,
          162,
          162,
          162,
          161,
          161,
          161,
          161,
          161,
          161,
          161,
          160,
          160,
          159,
          159,
          159,
          159,
          159,
          159,
          158,
          158,
          158,
          158,
          158,
          158,
          158,
          158,
          158,
          158,
          158,
          158,
          158,
          157,
          157,
          157,
          157,
          157,
          157,
          157,
          156,
          156,
          156,
          156,
          156,
          156,
          156,
          156,
          155,
          155,
          155,
          155,
          155,
          155,
          155,
          154,
          154,
          154,
          154,
          154,
          154,
          154,
          154,
          154,
          154,
          154,
          153,
          153,
          153,
          153,
          153,
          153,
          153,
          153,
          153,
          152,
          152,
          152,
          152,
          152,
          152,
          152,
          152,
          152,
          151,
          151,
          151,
          151,
          151,
          151,
          151,
          151,
          151,
          151,
          151,
          151,
          151,
          151,
          151,
          151,
          150,
          150,
          150,
          150,
          150,
          150,
          150,
          150,
          150,
          150,
          149,
          149,
          149,
          149,
          149,
          149,
          149,
          149,
          149,
          149,
          149,
          149,
          148,
          148,
          148,
          148,
          148,
          148,
          148,
          148,
          148,
          148,
          148,
          147,
          147,
          147,
          147,
          147,
          147,
          147,
          146,
          146,
          146,
          146,
          146,
          146,
          146,
          145,
          145,
          145,
          145,
          145,
          145,
          145,
          145,
          145,
          145,
          145,
          145,
          145,
          144,
          144,
          144,
          144,
          144,
          144,
          144,
          143,
          143,
          143,
          143,
          143,
          143,
          143,
          143,
          143,
          142,
          142,
          142,
          142,
          142,
          142,
          142,
          142,
          142,
          142,
          142,
          142,
          142,
          142,
          141,
          141,
          141,
          141,
          141,
          141,
          141,
          141,
          141,
          141,
          141,
          140,
          140,
          140,
          140,
          140,
          139,
          139,
          139,
          139,
          139,
          139,
          139,
          138,
          138,
          138,
          138,
          138,
          138,
          138,
          138,
          138,
          138,
          138,
          138,
          138,
          137,
          137,
          137,
          137,
          137,
          137,
          137,
          137,
          136,
          136,
          136,
          135,
          135,
          135,
          135,
          135,
          134,
          134,
          134,
          134,
          134,
          133,
          133,
          133,
          133,
          133,
          133,
          132,
          132,
          132,
          132,
          131,
          131,
          131,
          131,
          131,
          130,
          130,
          130,
          129,
          129,
          129,
          129,
          128,
          128,
          128,
          127,
          127,
          125,
          125,
          125,
          125,
          125,
          124,
          122,
          122,
          122,
          121,
          120,
          116
         ],
         "yaxis": "y"
        }
       ],
       "layout": {
        "barmode": "relative",
        "legend": {
         "tracegroupgap": 0
        },
        "template": {
         "data": {
          "bar": [
           {
            "error_x": {
             "color": "#2a3f5f"
            },
            "error_y": {
             "color": "#2a3f5f"
            },
            "marker": {
             "line": {
              "color": "#E5ECF6",
              "width": 0.5
             },
             "pattern": {
              "fillmode": "overlay",
              "size": 10,
              "solidity": 0.2
             }
            },
            "type": "bar"
           }
          ],
          "barpolar": [
           {
            "marker": {
             "line": {
              "color": "#E5ECF6",
              "width": 0.5
             },
             "pattern": {
              "fillmode": "overlay",
              "size": 10,
              "solidity": 0.2
             }
            },
            "type": "barpolar"
           }
          ],
          "carpet": [
           {
            "aaxis": {
             "endlinecolor": "#2a3f5f",
             "gridcolor": "white",
             "linecolor": "white",
             "minorgridcolor": "white",
             "startlinecolor": "#2a3f5f"
            },
            "baxis": {
             "endlinecolor": "#2a3f5f",
             "gridcolor": "white",
             "linecolor": "white",
             "minorgridcolor": "white",
             "startlinecolor": "#2a3f5f"
            },
            "type": "carpet"
           }
          ],
          "choropleth": [
           {
            "colorbar": {
             "outlinewidth": 0,
             "ticks": ""
            },
            "type": "choropleth"
           }
          ],
          "contour": [
           {
            "colorbar": {
             "outlinewidth": 0,
             "ticks": ""
            },
            "colorscale": [
             [
              0,
              "#0d0887"
             ],
             [
              0.1111111111111111,
              "#46039f"
             ],
             [
              0.2222222222222222,
              "#7201a8"
             ],
             [
              0.3333333333333333,
              "#9c179e"
             ],
             [
              0.4444444444444444,
              "#bd3786"
             ],
             [
              0.5555555555555556,
              "#d8576b"
             ],
             [
              0.6666666666666666,
              "#ed7953"
             ],
             [
              0.7777777777777778,
              "#fb9f3a"
             ],
             [
              0.8888888888888888,
              "#fdca26"
             ],
             [
              1,
              "#f0f921"
             ]
            ],
            "type": "contour"
           }
          ],
          "contourcarpet": [
           {
            "colorbar": {
             "outlinewidth": 0,
             "ticks": ""
            },
            "type": "contourcarpet"
           }
          ],
          "heatmap": [
           {
            "colorbar": {
             "outlinewidth": 0,
             "ticks": ""
            },
            "colorscale": [
             [
              0,
              "#0d0887"
             ],
             [
              0.1111111111111111,
              "#46039f"
             ],
             [
              0.2222222222222222,
              "#7201a8"
             ],
             [
              0.3333333333333333,
              "#9c179e"
             ],
             [
              0.4444444444444444,
              "#bd3786"
             ],
             [
              0.5555555555555556,
              "#d8576b"
             ],
             [
              0.6666666666666666,
              "#ed7953"
             ],
             [
              0.7777777777777778,
              "#fb9f3a"
             ],
             [
              0.8888888888888888,
              "#fdca26"
             ],
             [
              1,
              "#f0f921"
             ]
            ],
            "type": "heatmap"
           }
          ],
          "heatmapgl": [
           {
            "colorbar": {
             "outlinewidth": 0,
             "ticks": ""
            },
            "colorscale": [
             [
              0,
              "#0d0887"
             ],
             [
              0.1111111111111111,
              "#46039f"
             ],
             [
              0.2222222222222222,
              "#7201a8"
             ],
             [
              0.3333333333333333,
              "#9c179e"
             ],
             [
              0.4444444444444444,
              "#bd3786"
             ],
             [
              0.5555555555555556,
              "#d8576b"
             ],
             [
              0.6666666666666666,
              "#ed7953"
             ],
             [
              0.7777777777777778,
              "#fb9f3a"
             ],
             [
              0.8888888888888888,
              "#fdca26"
             ],
             [
              1,
              "#f0f921"
             ]
            ],
            "type": "heatmapgl"
           }
          ],
          "histogram": [
           {
            "marker": {
             "pattern": {
              "fillmode": "overlay",
              "size": 10,
              "solidity": 0.2
             }
            },
            "type": "histogram"
           }
          ],
          "histogram2d": [
           {
            "colorbar": {
             "outlinewidth": 0,
             "ticks": ""
            },
            "colorscale": [
             [
              0,
              "#0d0887"
             ],
             [
              0.1111111111111111,
              "#46039f"
             ],
             [
              0.2222222222222222,
              "#7201a8"
             ],
             [
              0.3333333333333333,
              "#9c179e"
             ],
             [
              0.4444444444444444,
              "#bd3786"
             ],
             [
              0.5555555555555556,
              "#d8576b"
             ],
             [
              0.6666666666666666,
              "#ed7953"
             ],
             [
              0.7777777777777778,
              "#fb9f3a"
             ],
             [
              0.8888888888888888,
              "#fdca26"
             ],
             [
              1,
              "#f0f921"
             ]
            ],
            "type": "histogram2d"
           }
          ],
          "histogram2dcontour": [
           {
            "colorbar": {
             "outlinewidth": 0,
             "ticks": ""
            },
            "colorscale": [
             [
              0,
              "#0d0887"
             ],
             [
              0.1111111111111111,
              "#46039f"
             ],
             [
              0.2222222222222222,
              "#7201a8"
             ],
             [
              0.3333333333333333,
              "#9c179e"
             ],
             [
              0.4444444444444444,
              "#bd3786"
             ],
             [
              0.5555555555555556,
              "#d8576b"
             ],
             [
              0.6666666666666666,
              "#ed7953"
             ],
             [
              0.7777777777777778,
              "#fb9f3a"
             ],
             [
              0.8888888888888888,
              "#fdca26"
             ],
             [
              1,
              "#f0f921"
             ]
            ],
            "type": "histogram2dcontour"
           }
          ],
          "mesh3d": [
           {
            "colorbar": {
             "outlinewidth": 0,
             "ticks": ""
            },
            "type": "mesh3d"
           }
          ],
          "parcoords": [
           {
            "line": {
             "colorbar": {
              "outlinewidth": 0,
              "ticks": ""
             }
            },
            "type": "parcoords"
           }
          ],
          "pie": [
           {
            "automargin": true,
            "type": "pie"
           }
          ],
          "scatter": [
           {
            "fillpattern": {
             "fillmode": "overlay",
             "size": 10,
             "solidity": 0.2
            },
            "type": "scatter"
           }
          ],
          "scatter3d": [
           {
            "line": {
             "colorbar": {
              "outlinewidth": 0,
              "ticks": ""
             }
            },
            "marker": {
             "colorbar": {
              "outlinewidth": 0,
              "ticks": ""
             }
            },
            "type": "scatter3d"
           }
          ],
          "scattercarpet": [
           {
            "marker": {
             "colorbar": {
              "outlinewidth": 0,
              "ticks": ""
             }
            },
            "type": "scattercarpet"
           }
          ],
          "scattergeo": [
           {
            "marker": {
             "colorbar": {
              "outlinewidth": 0,
              "ticks": ""
             }
            },
            "type": "scattergeo"
           }
          ],
          "scattergl": [
           {
            "marker": {
             "colorbar": {
              "outlinewidth": 0,
              "ticks": ""
             }
            },
            "type": "scattergl"
           }
          ],
          "scattermapbox": [
           {
            "marker": {
             "colorbar": {
              "outlinewidth": 0,
              "ticks": ""
             }
            },
            "type": "scattermapbox"
           }
          ],
          "scatterpolar": [
           {
            "marker": {
             "colorbar": {
              "outlinewidth": 0,
              "ticks": ""
             }
            },
            "type": "scatterpolar"
           }
          ],
          "scatterpolargl": [
           {
            "marker": {
             "colorbar": {
              "outlinewidth": 0,
              "ticks": ""
             }
            },
            "type": "scatterpolargl"
           }
          ],
          "scatterternary": [
           {
            "marker": {
             "colorbar": {
              "outlinewidth": 0,
              "ticks": ""
             }
            },
            "type": "scatterternary"
           }
          ],
          "surface": [
           {
            "colorbar": {
             "outlinewidth": 0,
             "ticks": ""
            },
            "colorscale": [
             [
              0,
              "#0d0887"
             ],
             [
              0.1111111111111111,
              "#46039f"
             ],
             [
              0.2222222222222222,
              "#7201a8"
             ],
             [
              0.3333333333333333,
              "#9c179e"
             ],
             [
              0.4444444444444444,
              "#bd3786"
             ],
             [
              0.5555555555555556,
              "#d8576b"
             ],
             [
              0.6666666666666666,
              "#ed7953"
             ],
             [
              0.7777777777777778,
              "#fb9f3a"
             ],
             [
              0.8888888888888888,
              "#fdca26"
             ],
             [
              1,
              "#f0f921"
             ]
            ],
            "type": "surface"
           }
          ],
          "table": [
           {
            "cells": {
             "fill": {
              "color": "#EBF0F8"
             },
             "line": {
              "color": "white"
             }
            },
            "header": {
             "fill": {
              "color": "#C8D4E3"
             },
             "line": {
              "color": "white"
             }
            },
            "type": "table"
           }
          ]
         },
         "layout": {
          "annotationdefaults": {
           "arrowcolor": "#2a3f5f",
           "arrowhead": 0,
           "arrowwidth": 1
          },
          "autotypenumbers": "strict",
          "coloraxis": {
           "colorbar": {
            "outlinewidth": 0,
            "ticks": ""
           }
          },
          "colorscale": {
           "diverging": [
            [
             0,
             "#8e0152"
            ],
            [
             0.1,
             "#c51b7d"
            ],
            [
             0.2,
             "#de77ae"
            ],
            [
             0.3,
             "#f1b6da"
            ],
            [
             0.4,
             "#fde0ef"
            ],
            [
             0.5,
             "#f7f7f7"
            ],
            [
             0.6,
             "#e6f5d0"
            ],
            [
             0.7,
             "#b8e186"
            ],
            [
             0.8,
             "#7fbc41"
            ],
            [
             0.9,
             "#4d9221"
            ],
            [
             1,
             "#276419"
            ]
           ],
           "sequential": [
            [
             0,
             "#0d0887"
            ],
            [
             0.1111111111111111,
             "#46039f"
            ],
            [
             0.2222222222222222,
             "#7201a8"
            ],
            [
             0.3333333333333333,
             "#9c179e"
            ],
            [
             0.4444444444444444,
             "#bd3786"
            ],
            [
             0.5555555555555556,
             "#d8576b"
            ],
            [
             0.6666666666666666,
             "#ed7953"
            ],
            [
             0.7777777777777778,
             "#fb9f3a"
            ],
            [
             0.8888888888888888,
             "#fdca26"
            ],
            [
             1,
             "#f0f921"
            ]
           ],
           "sequentialminus": [
            [
             0,
             "#0d0887"
            ],
            [
             0.1111111111111111,
             "#46039f"
            ],
            [
             0.2222222222222222,
             "#7201a8"
            ],
            [
             0.3333333333333333,
             "#9c179e"
            ],
            [
             0.4444444444444444,
             "#bd3786"
            ],
            [
             0.5555555555555556,
             "#d8576b"
            ],
            [
             0.6666666666666666,
             "#ed7953"
            ],
            [
             0.7777777777777778,
             "#fb9f3a"
            ],
            [
             0.8888888888888888,
             "#fdca26"
            ],
            [
             1,
             "#f0f921"
            ]
           ]
          },
          "colorway": [
           "#636efa",
           "#EF553B",
           "#00cc96",
           "#ab63fa",
           "#FFA15A",
           "#19d3f3",
           "#FF6692",
           "#B6E880",
           "#FF97FF",
           "#FECB52"
          ],
          "font": {
           "color": "#2a3f5f"
          },
          "geo": {
           "bgcolor": "white",
           "lakecolor": "white",
           "landcolor": "#E5ECF6",
           "showlakes": true,
           "showland": true,
           "subunitcolor": "white"
          },
          "hoverlabel": {
           "align": "left"
          },
          "hovermode": "closest",
          "mapbox": {
           "style": "light"
          },
          "paper_bgcolor": "white",
          "plot_bgcolor": "#E5ECF6",
          "polar": {
           "angularaxis": {
            "gridcolor": "white",
            "linecolor": "white",
            "ticks": ""
           },
           "bgcolor": "#E5ECF6",
           "radialaxis": {
            "gridcolor": "white",
            "linecolor": "white",
            "ticks": ""
           }
          },
          "scene": {
           "xaxis": {
            "backgroundcolor": "#E5ECF6",
            "gridcolor": "white",
            "gridwidth": 2,
            "linecolor": "white",
            "showbackground": true,
            "ticks": "",
            "zerolinecolor": "white"
           },
           "yaxis": {
            "backgroundcolor": "#E5ECF6",
            "gridcolor": "white",
            "gridwidth": 2,
            "linecolor": "white",
            "showbackground": true,
            "ticks": "",
            "zerolinecolor": "white"
           },
           "zaxis": {
            "backgroundcolor": "#E5ECF6",
            "gridcolor": "white",
            "gridwidth": 2,
            "linecolor": "white",
            "showbackground": true,
            "ticks": "",
            "zerolinecolor": "white"
           }
          },
          "shapedefaults": {
           "line": {
            "color": "#2a3f5f"
           }
          },
          "ternary": {
           "aaxis": {
            "gridcolor": "white",
            "linecolor": "white",
            "ticks": ""
           },
           "baxis": {
            "gridcolor": "white",
            "linecolor": "white",
            "ticks": ""
           },
           "bgcolor": "#E5ECF6",
           "caxis": {
            "gridcolor": "white",
            "linecolor": "white",
            "ticks": ""
           }
          },
          "title": {
           "x": 0.05
          },
          "xaxis": {
           "automargin": true,
           "gridcolor": "white",
           "linecolor": "white",
           "ticks": "",
           "title": {
            "standoff": 15
           },
           "zerolinecolor": "white",
           "zerolinewidth": 2
          },
          "yaxis": {
           "automargin": true,
           "gridcolor": "white",
           "linecolor": "white",
           "ticks": "",
           "title": {
            "standoff": 15
           },
           "zerolinecolor": "white",
           "zerolinewidth": 2
          }
         }
        },
        "title": {
         "text": "Bar Plot of last_service_date"
        },
        "xaxis": {
         "anchor": "y",
         "domain": [
          0,
          1
         ],
         "title": {
          "text": "last_service_date"
         }
        },
        "yaxis": {
         "anchor": "x",
         "domain": [
          0,
          1
         ],
         "title": {
          "text": "Count"
         }
        }
       }
      }
     },
     "metadata": {},
     "output_type": "display_data"
    },
    {
     "name": "stdout",
     "output_type": "stream",
     "text": [
      "Value Counts and Percentages for warranty_expiry_date:\n",
      "warranty_expiry_date\n",
      "16-09-2024    101\n",
      "13-05-2025     99\n",
      "06-06-2025     98\n",
      "17-05-2024     95\n",
      "31-07-2024     94\n",
      "             ... \n",
      "29-07-2025     50\n",
      "12-02-2025     49\n",
      "17-10-2025     48\n",
      "10-01-2026     47\n",
      "27-11-2025     44\n",
      "Name: count, Length: 701, dtype: int64\n",
      "warranty_expiry_date\n",
      "16-09-2024    0.20\n",
      "13-05-2025    0.20\n",
      "06-06-2025    0.20\n",
      "17-05-2024    0.19\n",
      "31-07-2024    0.19\n",
      "              ... \n",
      "29-07-2025    0.10\n",
      "12-02-2025    0.10\n",
      "17-10-2025    0.10\n",
      "10-01-2026    0.09\n",
      "27-11-2025    0.09\n",
      "Name: count, Length: 701, dtype: float64\n",
      "\n"
     ]
    },
    {
     "data": {
      "application/vnd.plotly.v1+json": {
       "config": {
        "plotlyServerURL": "https://plot.ly"
       },
       "data": [
        {
         "alignmentgroup": "True",
         "hovertemplate": "warranty_expiry_date=%{x}<br>Count=%{y}<br>text=%{text}<extra></extra>",
         "legendgroup": "",
         "marker": {
          "color": "#636efa",
          "pattern": {
           "shape": ""
          }
         },
         "name": "",
         "offsetgroup": "",
         "orientation": "v",
         "showlegend": false,
         "text": [
          "0.2%",
          "0.2%",
          "0.2%",
          "0.19%",
          "0.19%",
          "0.19%",
          "0.19%",
          "0.18%",
          "0.18%",
          "0.18%",
          "0.18%",
          "0.18%",
          "0.18%",
          "0.18%",
          "0.18%",
          "0.18%",
          "0.18%",
          "0.18%",
          "0.18%",
          "0.18%",
          "0.18%",
          "0.18%",
          "0.18%",
          "0.18%",
          "0.18%",
          "0.18%",
          "0.18%",
          "0.17%",
          "0.17%",
          "0.17%",
          "0.17%",
          "0.17%",
          "0.17%",
          "0.17%",
          "0.17%",
          "0.17%",
          "0.17%",
          "0.17%",
          "0.17%",
          "0.17%",
          "0.17%",
          "0.17%",
          "0.17%",
          "0.17%",
          "0.17%",
          "0.17%",
          "0.17%",
          "0.17%",
          "0.17%",
          "0.17%",
          "0.17%",
          "0.17%",
          "0.17%",
          "0.17%",
          "0.17%",
          "0.17%",
          "0.17%",
          "0.17%",
          "0.17%",
          "0.17%",
          "0.17%",
          "0.17%",
          "0.17%",
          "0.17%",
          "0.17%",
          "0.17%",
          "0.17%",
          "0.17%",
          "0.17%",
          "0.17%",
          "0.17%",
          "0.17%",
          "0.16%",
          "0.16%",
          "0.16%",
          "0.16%",
          "0.16%",
          "0.16%",
          "0.16%",
          "0.16%",
          "0.16%",
          "0.16%",
          "0.16%",
          "0.16%",
          "0.16%",
          "0.16%",
          "0.16%",
          "0.16%",
          "0.16%",
          "0.16%",
          "0.16%",
          "0.16%",
          "0.16%",
          "0.16%",
          "0.16%",
          "0.16%",
          "0.16%",
          "0.16%",
          "0.16%",
          "0.16%",
          "0.16%",
          "0.16%",
          "0.16%",
          "0.16%",
          "0.16%",
          "0.16%",
          "0.16%",
          "0.16%",
          "0.16%",
          "0.16%",
          "0.16%",
          "0.16%",
          "0.16%",
          "0.16%",
          "0.16%",
          "0.16%",
          "0.16%",
          "0.16%",
          "0.16%",
          "0.16%",
          "0.16%",
          "0.16%",
          "0.16%",
          "0.16%",
          "0.16%",
          "0.16%",
          "0.16%",
          "0.16%",
          "0.16%",
          "0.16%",
          "0.16%",
          "0.16%",
          "0.16%",
          "0.16%",
          "0.16%",
          "0.16%",
          "0.16%",
          "0.16%",
          "0.16%",
          "0.16%",
          "0.16%",
          "0.16%",
          "0.16%",
          "0.16%",
          "0.16%",
          "0.16%",
          "0.16%",
          "0.16%",
          "0.16%",
          "0.16%",
          "0.16%",
          "0.16%",
          "0.16%",
          "0.15%",
          "0.15%",
          "0.15%",
          "0.15%",
          "0.15%",
          "0.15%",
          "0.15%",
          "0.15%",
          "0.15%",
          "0.15%",
          "0.15%",
          "0.15%",
          "0.15%",
          "0.15%",
          "0.15%",
          "0.15%",
          "0.15%",
          "0.15%",
          "0.15%",
          "0.15%",
          "0.15%",
          "0.15%",
          "0.15%",
          "0.15%",
          "0.15%",
          "0.15%",
          "0.15%",
          "0.15%",
          "0.15%",
          "0.15%",
          "0.15%",
          "0.15%",
          "0.15%",
          "0.15%",
          "0.15%",
          "0.15%",
          "0.15%",
          "0.15%",
          "0.15%",
          "0.15%",
          "0.15%",
          "0.15%",
          "0.15%",
          "0.15%",
          "0.15%",
          "0.15%",
          "0.15%",
          "0.15%",
          "0.15%",
          "0.15%",
          "0.15%",
          "0.15%",
          "0.15%",
          "0.15%",
          "0.15%",
          "0.15%",
          "0.15%",
          "0.15%",
          "0.15%",
          "0.15%",
          "0.15%",
          "0.15%",
          "0.15%",
          "0.15%",
          "0.15%",
          "0.15%",
          "0.15%",
          "0.15%",
          "0.15%",
          "0.15%",
          "0.15%",
          "0.15%",
          "0.15%",
          "0.15%",
          "0.15%",
          "0.15%",
          "0.15%",
          "0.15%",
          "0.15%",
          "0.15%",
          "0.15%",
          "0.15%",
          "0.15%",
          "0.15%",
          "0.15%",
          "0.15%",
          "0.15%",
          "0.15%",
          "0.15%",
          "0.15%",
          "0.15%",
          "0.15%",
          "0.15%",
          "0.15%",
          "0.15%",
          "0.15%",
          "0.15%",
          "0.15%",
          "0.15%",
          "0.15%",
          "0.15%",
          "0.15%",
          "0.15%",
          "0.15%",
          "0.15%",
          "0.15%",
          "0.15%",
          "0.15%",
          "0.15%",
          "0.15%",
          "0.15%",
          "0.15%",
          "0.15%",
          "0.15%",
          "0.15%",
          "0.15%",
          "0.15%",
          "0.15%",
          "0.15%",
          "0.15%",
          "0.15%",
          "0.15%",
          "0.15%",
          "0.15%",
          "0.15%",
          "0.15%",
          "0.15%",
          "0.15%",
          "0.15%",
          "0.15%",
          "0.15%",
          "0.15%",
          "0.15%",
          "0.15%",
          "0.15%",
          "0.15%",
          "0.14%",
          "0.14%",
          "0.14%",
          "0.14%",
          "0.14%",
          "0.14%",
          "0.14%",
          "0.14%",
          "0.14%",
          "0.14%",
          "0.14%",
          "0.14%",
          "0.14%",
          "0.14%",
          "0.14%",
          "0.14%",
          "0.14%",
          "0.14%",
          "0.14%",
          "0.14%",
          "0.14%",
          "0.14%",
          "0.14%",
          "0.14%",
          "0.14%",
          "0.14%",
          "0.14%",
          "0.14%",
          "0.14%",
          "0.14%",
          "0.14%",
          "0.14%",
          "0.14%",
          "0.14%",
          "0.14%",
          "0.14%",
          "0.14%",
          "0.14%",
          "0.14%",
          "0.14%",
          "0.14%",
          "0.14%",
          "0.14%",
          "0.14%",
          "0.14%",
          "0.14%",
          "0.14%",
          "0.14%",
          "0.14%",
          "0.14%",
          "0.14%",
          "0.14%",
          "0.14%",
          "0.14%",
          "0.14%",
          "0.14%",
          "0.14%",
          "0.14%",
          "0.14%",
          "0.14%",
          "0.14%",
          "0.14%",
          "0.14%",
          "0.14%",
          "0.14%",
          "0.14%",
          "0.14%",
          "0.14%",
          "0.14%",
          "0.14%",
          "0.14%",
          "0.14%",
          "0.14%",
          "0.14%",
          "0.14%",
          "0.14%",
          "0.14%",
          "0.14%",
          "0.14%",
          "0.14%",
          "0.14%",
          "0.14%",
          "0.14%",
          "0.14%",
          "0.14%",
          "0.14%",
          "0.14%",
          "0.14%",
          "0.14%",
          "0.14%",
          "0.14%",
          "0.14%",
          "0.14%",
          "0.14%",
          "0.14%",
          "0.14%",
          "0.14%",
          "0.14%",
          "0.14%",
          "0.14%",
          "0.14%",
          "0.14%",
          "0.14%",
          "0.14%",
          "0.14%",
          "0.14%",
          "0.14%",
          "0.14%",
          "0.14%",
          "0.14%",
          "0.14%",
          "0.14%",
          "0.14%",
          "0.14%",
          "0.14%",
          "0.14%",
          "0.14%",
          "0.14%",
          "0.14%",
          "0.14%",
          "0.14%",
          "0.14%",
          "0.14%",
          "0.14%",
          "0.14%",
          "0.14%",
          "0.14%",
          "0.14%",
          "0.14%",
          "0.14%",
          "0.14%",
          "0.14%",
          "0.14%",
          "0.14%",
          "0.14%",
          "0.14%",
          "0.14%",
          "0.14%",
          "0.14%",
          "0.14%",
          "0.14%",
          "0.14%",
          "0.14%",
          "0.14%",
          "0.14%",
          "0.14%",
          "0.14%",
          "0.14%",
          "0.14%",
          "0.14%",
          "0.14%",
          "0.14%",
          "0.14%",
          "0.14%",
          "0.14%",
          "0.14%",
          "0.14%",
          "0.14%",
          "0.14%",
          "0.14%",
          "0.14%",
          "0.14%",
          "0.14%",
          "0.14%",
          "0.14%",
          "0.14%",
          "0.14%",
          "0.14%",
          "0.14%",
          "0.14%",
          "0.14%",
          "0.14%",
          "0.14%",
          "0.14%",
          "0.14%",
          "0.14%",
          "0.14%",
          "0.14%",
          "0.14%",
          "0.14%",
          "0.14%",
          "0.14%",
          "0.14%",
          "0.14%",
          "0.14%",
          "0.13%",
          "0.13%",
          "0.13%",
          "0.13%",
          "0.13%",
          "0.13%",
          "0.13%",
          "0.13%",
          "0.13%",
          "0.13%",
          "0.13%",
          "0.13%",
          "0.13%",
          "0.13%",
          "0.13%",
          "0.13%",
          "0.13%",
          "0.13%",
          "0.13%",
          "0.13%",
          "0.13%",
          "0.13%",
          "0.13%",
          "0.13%",
          "0.13%",
          "0.13%",
          "0.13%",
          "0.13%",
          "0.13%",
          "0.13%",
          "0.13%",
          "0.13%",
          "0.13%",
          "0.13%",
          "0.13%",
          "0.13%",
          "0.13%",
          "0.13%",
          "0.13%",
          "0.13%",
          "0.13%",
          "0.13%",
          "0.13%",
          "0.13%",
          "0.13%",
          "0.13%",
          "0.13%",
          "0.13%",
          "0.13%",
          "0.13%",
          "0.13%",
          "0.13%",
          "0.13%",
          "0.13%",
          "0.13%",
          "0.13%",
          "0.13%",
          "0.13%",
          "0.13%",
          "0.13%",
          "0.13%",
          "0.13%",
          "0.13%",
          "0.13%",
          "0.13%",
          "0.13%",
          "0.13%",
          "0.13%",
          "0.13%",
          "0.13%",
          "0.13%",
          "0.13%",
          "0.13%",
          "0.13%",
          "0.13%",
          "0.13%",
          "0.13%",
          "0.13%",
          "0.13%",
          "0.13%",
          "0.13%",
          "0.13%",
          "0.13%",
          "0.13%",
          "0.13%",
          "0.13%",
          "0.13%",
          "0.13%",
          "0.13%",
          "0.13%",
          "0.13%",
          "0.13%",
          "0.13%",
          "0.13%",
          "0.13%",
          "0.13%",
          "0.13%",
          "0.13%",
          "0.13%",
          "0.13%",
          "0.13%",
          "0.13%",
          "0.13%",
          "0.13%",
          "0.13%",
          "0.13%",
          "0.13%",
          "0.13%",
          "0.13%",
          "0.13%",
          "0.13%",
          "0.13%",
          "0.13%",
          "0.13%",
          "0.13%",
          "0.13%",
          "0.13%",
          "0.13%",
          "0.13%",
          "0.13%",
          "0.13%",
          "0.13%",
          "0.13%",
          "0.13%",
          "0.13%",
          "0.13%",
          "0.13%",
          "0.13%",
          "0.13%",
          "0.13%",
          "0.13%",
          "0.12%",
          "0.12%",
          "0.12%",
          "0.12%",
          "0.12%",
          "0.12%",
          "0.12%",
          "0.12%",
          "0.12%",
          "0.12%",
          "0.12%",
          "0.12%",
          "0.12%",
          "0.12%",
          "0.12%",
          "0.12%",
          "0.12%",
          "0.12%",
          "0.12%",
          "0.12%",
          "0.12%",
          "0.12%",
          "0.12%",
          "0.12%",
          "0.12%",
          "0.12%",
          "0.12%",
          "0.12%",
          "0.12%",
          "0.12%",
          "0.12%",
          "0.12%",
          "0.12%",
          "0.12%",
          "0.12%",
          "0.12%",
          "0.12%",
          "0.12%",
          "0.12%",
          "0.12%",
          "0.12%",
          "0.12%",
          "0.12%",
          "0.12%",
          "0.12%",
          "0.12%",
          "0.12%",
          "0.12%",
          "0.12%",
          "0.12%",
          "0.12%",
          "0.12%",
          "0.12%",
          "0.12%",
          "0.12%",
          "0.12%",
          "0.12%",
          "0.12%",
          "0.12%",
          "0.12%",
          "0.12%",
          "0.12%",
          "0.12%",
          "0.12%",
          "0.12%",
          "0.12%",
          "0.12%",
          "0.11%",
          "0.11%",
          "0.11%",
          "0.11%",
          "0.11%",
          "0.11%",
          "0.11%",
          "0.11%",
          "0.11%",
          "0.11%",
          "0.11%",
          "0.11%",
          "0.11%",
          "0.11%",
          "0.11%",
          "0.11%",
          "0.11%",
          "0.11%",
          "0.11%",
          "0.11%",
          "0.11%",
          "0.1%",
          "0.1%",
          "0.1%",
          "0.1%",
          "0.1%",
          "0.1%",
          "0.09%",
          "0.09%"
         ],
         "textposition": "outside",
         "type": "bar",
         "x": [
          "16-09-2024",
          "13-05-2025",
          "06-06-2025",
          "17-05-2024",
          "31-07-2024",
          "30-08-2024",
          "31-05-2025",
          "10-11-2024",
          "09-08-2024",
          "03-06-2024",
          "02-07-2024",
          "11-10-2024",
          "10-12-2024",
          "11-09-2025",
          "31-08-2024",
          "04-10-2025",
          "30-05-2025",
          "16-07-2025",
          "01-11-2025",
          "04-06-2025",
          "31-10-2024",
          "25-03-2026",
          "15-11-2025",
          "13-12-2024",
          "08-07-2024",
          "24-04-2025",
          "13-05-2024",
          "01-06-2025",
          "07-10-2025",
          "26-11-2025",
          "12-03-2026",
          "19-08-2024",
          "30-06-2025",
          "05-02-2025",
          "15-01-2025",
          "26-06-2025",
          "06-01-2026",
          "17-05-2025",
          "13-07-2025",
          "24-01-2025",
          "22-01-2026",
          "11-07-2024",
          "06-03-2025",
          "22-10-2025",
          "23-02-2026",
          "05-07-2024",
          "05-05-2025",
          "17-01-2025",
          "01-05-2025",
          "03-11-2025",
          "07-11-2024",
          "14-09-2024",
          "09-03-2025",
          "17-09-2025",
          "29-01-2026",
          "22-03-2026",
          "17-08-2024",
          "05-09-2024",
          "19-06-2024",
          "20-03-2025",
          "20-07-2024",
          "26-05-2024",
          "24-02-2025",
          "20-12-2024",
          "25-12-2025",
          "22-07-2024",
          "01-08-2025",
          "24-01-2026",
          "18-06-2025",
          "13-08-2025",
          "25-05-2024",
          "06-10-2025",
          "21-09-2025",
          "10-06-2025",
          "11-02-2025",
          "21-05-2025",
          "07-03-2026",
          "23-10-2024",
          "08-05-2024",
          "15-11-2024",
          "28-01-2026",
          "20-09-2024",
          "15-09-2025",
          "05-09-2025",
          "07-02-2026",
          "12-05-2024",
          "30-04-2024",
          "01-10-2025",
          "14-10-2024",
          "10-07-2025",
          "05-03-2025",
          "23-05-2025",
          "21-08-2025",
          "12-02-2026",
          "02-08-2024",
          "29-09-2024",
          "16-03-2026",
          "07-03-2025",
          "04-05-2024",
          "23-02-2025",
          "26-02-2026",
          "04-08-2024",
          "26-11-2024",
          "19-05-2025",
          "31-05-2024",
          "26-10-2025",
          "20-12-2025",
          "29-06-2025",
          "05-04-2025",
          "22-10-2024",
          "04-05-2025",
          "18-05-2025",
          "22-09-2024",
          "20-01-2025",
          "08-06-2025",
          "18-01-2025",
          "13-03-2026",
          "03-05-2025",
          "18-12-2025",
          "15-02-2026",
          "30-06-2024",
          "12-09-2024",
          "06-11-2025",
          "19-01-2026",
          "28-07-2025",
          "04-09-2024",
          "12-01-2025",
          "06-12-2025",
          "25-10-2024",
          "23-07-2025",
          "29-10-2025",
          "17-04-2025",
          "20-01-2026",
          "04-12-2024",
          "11-06-2024",
          "16-01-2025",
          "31-07-2025",
          "13-08-2024",
          "09-10-2024",
          "04-07-2024",
          "05-08-2025",
          "11-11-2024",
          "25-09-2025",
          "15-07-2024",
          "14-08-2024",
          "01-03-2025",
          "23-07-2024",
          "31-08-2025",
          "16-03-2025",
          "13-06-2024",
          "12-12-2024",
          "11-01-2026",
          "20-06-2024",
          "16-02-2025",
          "26-01-2025",
          "21-07-2024",
          "23-10-2025",
          "27-10-2025",
          "06-05-2025",
          "16-05-2024",
          "26-12-2024",
          "01-06-2024",
          "19-07-2025",
          "22-02-2025",
          "23-11-2024",
          "20-05-2024",
          "25-05-2025",
          "13-02-2025",
          "31-03-2025",
          "31-10-2025",
          "18-01-2026",
          "21-12-2025",
          "13-01-2026",
          "17-12-2024",
          "15-06-2024",
          "14-12-2024",
          "09-09-2024",
          "11-11-2025",
          "11-03-2026",
          "24-07-2024",
          "29-05-2024",
          "24-03-2026",
          "14-07-2025",
          "03-12-2025",
          "02-10-2024",
          "24-11-2024",
          "10-11-2025",
          "26-07-2024",
          "14-11-2025",
          "27-03-2025",
          "16-12-2025",
          "24-06-2025",
          "18-11-2025",
          "12-12-2025",
          "01-11-2024",
          "02-12-2025",
          "15-03-2026",
          "17-03-2026",
          "22-06-2024",
          "10-03-2025",
          "05-06-2024",
          "09-05-2024",
          "21-01-2025",
          "03-09-2024",
          "09-07-2024",
          "28-06-2024",
          "24-12-2025",
          "12-11-2024",
          "28-07-2024",
          "13-12-2025",
          "07-04-2025",
          "09-12-2024",
          "01-10-2024",
          "07-07-2025",
          "01-02-2026",
          "12-11-2025",
          "30-12-2025",
          "11-01-2025",
          "27-09-2025",
          "27-08-2025",
          "07-05-2024",
          "27-08-2024",
          "18-08-2025",
          "16-08-2025",
          "22-05-2025",
          "20-06-2025",
          "28-11-2025",
          "21-03-2025",
          "14-02-2026",
          "07-12-2025",
          "12-07-2024",
          "31-12-2024",
          "24-10-2025",
          "17-07-2025",
          "30-03-2025",
          "26-10-2024",
          "21-04-2025",
          "30-07-2024",
          "06-01-2025",
          "12-09-2025",
          "06-12-2024",
          "29-12-2025",
          "17-06-2024",
          "21-07-2025",
          "15-05-2025",
          "03-07-2025",
          "05-06-2025",
          "25-06-2025",
          "26-02-2025",
          "27-12-2024",
          "16-09-2025",
          "20-03-2026",
          "04-01-2025",
          "22-11-2024",
          "17-02-2025",
          "01-01-2025",
          "15-05-2024",
          "19-02-2026",
          "29-01-2025",
          "08-01-2025",
          "19-01-2025",
          "20-10-2025",
          "01-01-2026",
          "19-12-2025",
          "15-10-2025",
          "16-05-2025",
          "29-09-2025",
          "27-02-2025",
          "19-10-2025",
          "27-09-2024",
          "12-08-2024",
          "22-04-2025",
          "06-09-2025",
          "10-02-2026",
          "16-01-2026",
          "25-02-2025",
          "01-09-2025",
          "29-11-2024",
          "01-04-2025",
          "23-01-2026",
          "24-06-2024",
          "21-10-2025",
          "12-10-2024",
          "15-04-2025",
          "22-12-2024",
          "23-09-2025",
          "10-07-2024",
          "01-05-2024",
          "03-03-2025",
          "29-12-2024",
          "16-07-2024",
          "03-08-2025",
          "10-08-2024",
          "27-07-2024",
          "26-12-2025",
          "16-06-2025",
          "02-09-2025",
          "28-06-2025",
          "14-06-2024",
          "08-06-2024",
          "04-06-2024",
          "18-04-2025",
          "04-04-2025",
          "21-02-2025",
          "20-02-2025",
          "17-02-2026",
          "16-08-2024",
          "27-06-2024",
          "18-07-2025",
          "08-11-2024",
          "19-09-2025",
          "06-07-2025",
          "25-02-2026",
          "05-02-2026",
          "06-05-2024",
          "02-05-2025",
          "13-11-2025",
          "26-05-2025",
          "07-09-2024",
          "16-10-2024",
          "25-12-2024",
          "02-03-2025",
          "27-11-2024",
          "27-03-2026",
          "29-04-2024",
          "23-06-2024",
          "18-07-2024",
          "14-05-2024",
          "29-03-2025",
          "01-03-2026",
          "25-07-2025",
          "23-12-2025",
          "16-10-2025",
          "08-11-2025",
          "19-02-2025",
          "08-10-2025",
          "28-08-2025",
          "07-11-2025",
          "06-03-2026",
          "23-12-2024",
          "09-10-2025",
          "21-06-2025",
          "28-09-2025",
          "03-05-2024",
          "29-11-2025",
          "10-09-2024",
          "09-07-2025",
          "30-05-2024",
          "15-12-2025",
          "02-04-2025",
          "08-09-2024",
          "09-01-2025",
          "21-01-2026",
          "26-03-2026",
          "26-01-2026",
          "15-03-2025",
          "24-02-2026",
          "28-03-2026",
          "14-05-2025",
          "28-03-2025",
          "11-08-2025",
          "11-12-2025",
          "20-05-2025",
          "11-09-2024",
          "14-02-2025",
          "06-07-2024",
          "15-08-2025",
          "08-09-2025",
          "08-12-2024",
          "23-08-2024",
          "24-09-2025",
          "12-06-2025",
          "22-08-2024",
          "26-03-2025",
          "02-02-2025",
          "09-08-2025",
          "08-03-2025",
          "03-01-2026",
          "30-07-2025",
          "14-12-2025",
          "02-01-2025",
          "19-05-2024",
          "12-07-2025",
          "17-10-2024",
          "07-07-2024",
          "26-08-2025",
          "20-02-2026",
          "24-10-2024",
          "07-02-2025",
          "30-08-2025",
          "28-12-2024",
          "24-11-2025",
          "08-12-2025",
          "20-04-2025",
          "28-11-2024",
          "22-12-2025",
          "02-01-2026",
          "09-09-2025",
          "24-08-2025",
          "01-08-2024",
          "27-01-2025",
          "02-06-2024",
          "30-09-2024",
          "15-12-2024",
          "03-10-2025",
          "07-12-2024",
          "01-07-2024",
          "30-10-2024",
          "27-04-2025",
          "03-03-2026",
          "27-02-2026",
          "19-09-2024",
          "05-10-2025",
          "28-08-2024",
          "21-11-2024",
          "06-11-2024",
          "06-02-2025",
          "13-03-2025",
          "24-07-2025",
          "09-04-2025",
          "09-11-2024",
          "11-02-2026",
          "19-08-2025",
          "04-03-2025",
          "15-06-2025",
          "07-05-2025",
          "15-02-2025",
          "12-05-2025",
          "24-05-2025",
          "09-03-2026",
          "06-08-2025",
          "20-10-2024",
          "24-03-2025",
          "15-10-2024",
          "25-06-2024",
          "25-07-2024",
          "28-02-2026",
          "23-06-2025",
          "13-10-2025",
          "19-11-2024",
          "10-05-2025",
          "07-06-2025",
          "25-10-2025",
          "13-07-2024",
          "30-01-2026",
          "14-08-2025",
          "08-01-2026",
          "08-08-2025",
          "17-03-2025",
          "10-06-2024",
          "01-09-2024",
          "11-03-2025",
          "07-08-2025",
          "09-11-2025",
          "25-11-2024",
          "09-12-2025",
          "01-07-2025",
          "25-04-2025",
          "10-09-2025",
          "19-04-2025",
          "16-04-2025",
          "18-06-2024",
          "03-02-2025",
          "18-08-2024",
          "01-12-2024",
          "01-02-2025",
          "13-01-2025",
          "09-02-2026",
          "02-02-2026",
          "19-10-2024",
          "07-06-2024",
          "28-04-2025",
          "03-04-2025",
          "24-12-2024",
          "27-07-2025",
          "18-12-2024",
          "05-03-2026",
          "19-12-2024",
          "20-11-2025",
          "05-11-2025",
          "03-07-2024",
          "29-08-2025",
          "04-03-2026",
          "11-06-2025",
          "11-05-2025",
          "06-04-2025",
          "06-06-2024",
          "09-06-2024",
          "16-11-2024",
          "19-06-2025",
          "27-06-2025",
          "26-09-2024",
          "25-03-2025",
          "23-03-2025",
          "30-04-2025",
          "11-10-2025",
          "17-08-2025",
          "10-08-2025",
          "13-09-2024",
          "30-10-2025",
          "13-11-2024",
          "13-04-2025",
          "19-03-2025",
          "06-09-2024",
          "20-08-2024",
          "04-07-2025",
          "30-09-2025",
          "15-08-2024",
          "02-08-2025",
          "16-11-2025",
          "07-10-2024",
          "05-01-2025",
          "04-01-2026",
          "15-07-2025",
          "08-04-2025",
          "21-06-2024",
          "19-11-2025",
          "06-02-2026",
          "02-05-2024",
          "10-05-2024",
          "30-11-2025",
          "03-02-2026",
          "14-11-2024",
          "22-01-2025",
          "02-11-2025",
          "10-01-2025",
          "25-11-2025",
          "05-12-2024",
          "18-03-2026",
          "13-02-2026",
          "21-08-2024",
          "17-11-2024",
          "04-09-2025",
          "15-01-2026",
          "15-09-2024",
          "27-10-2024",
          "27-12-2025",
          "29-06-2024",
          "02-12-2024",
          "05-12-2025",
          "28-10-2025",
          "03-01-2025",
          "19-03-2026",
          "10-10-2025",
          "05-07-2025",
          "11-12-2024",
          "22-11-2025",
          "21-02-2026",
          "24-08-2024",
          "28-09-2024",
          "07-01-2025",
          "04-08-2025",
          "05-01-2026",
          "29-10-2024",
          "17-07-2024",
          "08-08-2024",
          "21-03-2026",
          "18-03-2025",
          "18-10-2024",
          "28-02-2025",
          "14-01-2025",
          "22-06-2025",
          "28-01-2025",
          "27-05-2025",
          "22-05-2024",
          "04-12-2025",
          "14-04-2025",
          "04-11-2025",
          "28-10-2024",
          "08-07-2025",
          "29-07-2024",
          "23-03-2026",
          "08-05-2025",
          "02-07-2025",
          "14-09-2025",
          "16-06-2024",
          "18-11-2024",
          "29-08-2024",
          "28-05-2025",
          "04-10-2024",
          "03-11-2024",
          "29-04-2025",
          "11-08-2024",
          "23-11-2025",
          "07-08-2024",
          "28-12-2025",
          "30-11-2024",
          "13-10-2024",
          "02-09-2024",
          "21-11-2025",
          "26-08-2024",
          "12-03-2025",
          "18-10-2025",
          "06-08-2024",
          "26-04-2025",
          "30-12-2024",
          "20-09-2025",
          "23-01-2025",
          "14-03-2026",
          "05-10-2024",
          "25-09-2024",
          "10-04-2025",
          "29-03-2026",
          "05-08-2024",
          "14-01-2026",
          "11-04-2025",
          "12-04-2025",
          "17-12-2025",
          "14-07-2024",
          "19-07-2024",
          "01-12-2025",
          "14-06-2025",
          "27-01-2026",
          "10-10-2024",
          "18-09-2024",
          "08-02-2026",
          "20-07-2025",
          "24-09-2024",
          "05-11-2024",
          "12-08-2025",
          "04-02-2025",
          "03-10-2024",
          "02-10-2025",
          "03-09-2025",
          "29-05-2025",
          "21-09-2024",
          "10-02-2025",
          "22-07-2025",
          "08-02-2025",
          "14-03-2025",
          "07-09-2025",
          "23-05-2024",
          "03-06-2025",
          "25-08-2024",
          "16-02-2026",
          "18-09-2025",
          "12-06-2024",
          "21-10-2024",
          "18-02-2025",
          "26-09-2025",
          "31-01-2026",
          "28-04-2024",
          "09-01-2026",
          "02-03-2026",
          "08-03-2026",
          "09-05-2025",
          "17-06-2025",
          "03-08-2024",
          "22-09-2025",
          "26-07-2025",
          "12-10-2025",
          "14-10-2025",
          "09-02-2025",
          "26-06-2024",
          "25-01-2026",
          "23-09-2024",
          "20-11-2024",
          "30-01-2025",
          "11-07-2025",
          "20-08-2025",
          "27-05-2024",
          "13-06-2025",
          "03-12-2024",
          "22-02-2026",
          "18-05-2024",
          "12-01-2026",
          "23-08-2025",
          "31-01-2025",
          "07-01-2026",
          "17-09-2024",
          "25-08-2025",
          "04-02-2026",
          "13-09-2025",
          "21-05-2024",
          "21-12-2024",
          "11-05-2024",
          "05-05-2024",
          "10-12-2025",
          "10-03-2026",
          "22-03-2025",
          "06-10-2024",
          "28-05-2024",
          "17-11-2025",
          "08-10-2024",
          "02-11-2024",
          "23-04-2025",
          "02-06-2025",
          "24-05-2024",
          "09-06-2025",
          "31-12-2025",
          "04-11-2024",
          "18-02-2026",
          "22-08-2025",
          "25-01-2025",
          "16-12-2024",
          "17-01-2026",
          "29-07-2025",
          "12-02-2025",
          "17-10-2025",
          "10-01-2026",
          "27-11-2025"
         ],
         "xaxis": "x",
         "y": [
          101,
          99,
          98,
          95,
          94,
          93,
          93,
          92,
          92,
          92,
          91,
          91,
          91,
          90,
          90,
          89,
          89,
          89,
          89,
          89,
          89,
          89,
          88,
          88,
          88,
          88,
          88,
          87,
          87,
          87,
          87,
          87,
          86,
          86,
          86,
          86,
          86,
          86,
          85,
          85,
          85,
          85,
          85,
          85,
          84,
          84,
          84,
          84,
          84,
          84,
          84,
          84,
          84,
          84,
          84,
          84,
          84,
          84,
          84,
          83,
          83,
          83,
          83,
          83,
          83,
          83,
          83,
          83,
          83,
          83,
          83,
          83,
          82,
          82,
          82,
          82,
          82,
          82,
          82,
          82,
          82,
          81,
          81,
          81,
          81,
          81,
          81,
          81,
          81,
          81,
          81,
          81,
          81,
          81,
          81,
          81,
          81,
          81,
          81,
          81,
          80,
          80,
          80,
          80,
          80,
          80,
          80,
          80,
          80,
          80,
          80,
          80,
          80,
          80,
          80,
          79,
          79,
          79,
          79,
          79,
          79,
          79,
          79,
          79,
          79,
          79,
          79,
          79,
          79,
          79,
          79,
          79,
          78,
          78,
          78,
          78,
          78,
          78,
          78,
          78,
          78,
          78,
          78,
          78,
          78,
          78,
          78,
          78,
          78,
          78,
          78,
          78,
          78,
          77,
          77,
          77,
          77,
          77,
          77,
          77,
          77,
          77,
          77,
          77,
          77,
          77,
          77,
          77,
          77,
          77,
          77,
          77,
          77,
          77,
          77,
          77,
          76,
          76,
          76,
          76,
          76,
          76,
          76,
          76,
          76,
          76,
          76,
          76,
          76,
          76,
          76,
          76,
          76,
          76,
          76,
          76,
          76,
          76,
          76,
          76,
          76,
          76,
          75,
          75,
          75,
          75,
          75,
          75,
          75,
          75,
          75,
          75,
          75,
          75,
          75,
          75,
          75,
          75,
          75,
          75,
          75,
          75,
          75,
          75,
          75,
          75,
          75,
          75,
          75,
          74,
          74,
          74,
          74,
          74,
          74,
          74,
          74,
          74,
          74,
          74,
          74,
          74,
          74,
          74,
          74,
          74,
          74,
          74,
          74,
          74,
          74,
          74,
          74,
          74,
          74,
          74,
          74,
          74,
          74,
          74,
          73,
          73,
          73,
          73,
          73,
          73,
          73,
          73,
          73,
          73,
          73,
          73,
          73,
          73,
          73,
          73,
          73,
          73,
          73,
          73,
          73,
          73,
          73,
          73,
          73,
          73,
          73,
          73,
          73,
          72,
          72,
          72,
          72,
          72,
          72,
          72,
          72,
          72,
          72,
          72,
          72,
          72,
          72,
          72,
          72,
          72,
          72,
          72,
          72,
          72,
          72,
          72,
          72,
          72,
          72,
          72,
          72,
          72,
          72,
          72,
          72,
          72,
          72,
          72,
          72,
          72,
          72,
          72,
          72,
          72,
          71,
          71,
          71,
          71,
          71,
          71,
          71,
          71,
          71,
          71,
          71,
          71,
          71,
          71,
          71,
          71,
          71,
          71,
          71,
          71,
          71,
          71,
          71,
          71,
          71,
          71,
          71,
          71,
          71,
          71,
          71,
          71,
          71,
          70,
          70,
          70,
          70,
          70,
          70,
          70,
          70,
          70,
          70,
          70,
          70,
          70,
          70,
          70,
          70,
          70,
          70,
          70,
          70,
          70,
          70,
          70,
          70,
          70,
          70,
          70,
          70,
          70,
          70,
          70,
          70,
          70,
          70,
          70,
          69,
          69,
          69,
          69,
          69,
          69,
          69,
          69,
          69,
          69,
          69,
          69,
          69,
          69,
          69,
          69,
          69,
          69,
          69,
          69,
          69,
          69,
          69,
          69,
          69,
          69,
          69,
          69,
          69,
          69,
          69,
          69,
          69,
          69,
          69,
          69,
          69,
          69,
          68,
          68,
          68,
          68,
          68,
          68,
          68,
          68,
          68,
          68,
          68,
          68,
          68,
          68,
          68,
          68,
          68,
          68,
          68,
          68,
          68,
          68,
          68,
          68,
          68,
          68,
          68,
          68,
          68,
          68,
          68,
          68,
          68,
          68,
          68,
          68,
          68,
          68,
          67,
          67,
          67,
          67,
          67,
          67,
          67,
          67,
          67,
          67,
          67,
          67,
          67,
          67,
          67,
          67,
          67,
          67,
          67,
          67,
          67,
          67,
          67,
          67,
          67,
          67,
          67,
          67,
          67,
          67,
          67,
          66,
          66,
          66,
          66,
          66,
          66,
          66,
          66,
          66,
          66,
          66,
          66,
          66,
          66,
          66,
          66,
          66,
          66,
          66,
          66,
          66,
          66,
          66,
          66,
          66,
          65,
          65,
          65,
          65,
          65,
          65,
          65,
          65,
          65,
          65,
          65,
          65,
          65,
          65,
          65,
          65,
          65,
          65,
          65,
          65,
          65,
          65,
          65,
          65,
          65,
          65,
          65,
          65,
          65,
          65,
          65,
          64,
          64,
          64,
          64,
          64,
          64,
          64,
          64,
          64,
          64,
          64,
          64,
          64,
          64,
          64,
          64,
          64,
          64,
          64,
          64,
          64,
          64,
          64,
          64,
          64,
          64,
          63,
          63,
          63,
          63,
          63,
          63,
          63,
          63,
          63,
          63,
          63,
          63,
          63,
          63,
          63,
          63,
          63,
          63,
          62,
          62,
          62,
          62,
          62,
          62,
          62,
          62,
          62,
          62,
          62,
          62,
          62,
          62,
          62,
          62,
          62,
          62,
          62,
          62,
          61,
          61,
          61,
          61,
          61,
          61,
          61,
          61,
          61,
          61,
          61,
          61,
          61,
          61,
          61,
          60,
          60,
          60,
          60,
          60,
          60,
          60,
          60,
          60,
          60,
          59,
          59,
          59,
          59,
          59,
          59,
          59,
          59,
          59,
          59,
          59,
          59,
          59,
          59,
          59,
          58,
          58,
          58,
          58,
          58,
          58,
          58,
          57,
          57,
          57,
          57,
          57,
          56,
          56,
          56,
          56,
          55,
          55,
          55,
          55,
          55,
          55,
          55,
          55,
          55,
          54,
          54,
          53,
          52,
          51,
          51,
          50,
          49,
          48,
          47,
          44
         ],
         "yaxis": "y"
        }
       ],
       "layout": {
        "barmode": "relative",
        "legend": {
         "tracegroupgap": 0
        },
        "template": {
         "data": {
          "bar": [
           {
            "error_x": {
             "color": "#2a3f5f"
            },
            "error_y": {
             "color": "#2a3f5f"
            },
            "marker": {
             "line": {
              "color": "#E5ECF6",
              "width": 0.5
             },
             "pattern": {
              "fillmode": "overlay",
              "size": 10,
              "solidity": 0.2
             }
            },
            "type": "bar"
           }
          ],
          "barpolar": [
           {
            "marker": {
             "line": {
              "color": "#E5ECF6",
              "width": 0.5
             },
             "pattern": {
              "fillmode": "overlay",
              "size": 10,
              "solidity": 0.2
             }
            },
            "type": "barpolar"
           }
          ],
          "carpet": [
           {
            "aaxis": {
             "endlinecolor": "#2a3f5f",
             "gridcolor": "white",
             "linecolor": "white",
             "minorgridcolor": "white",
             "startlinecolor": "#2a3f5f"
            },
            "baxis": {
             "endlinecolor": "#2a3f5f",
             "gridcolor": "white",
             "linecolor": "white",
             "minorgridcolor": "white",
             "startlinecolor": "#2a3f5f"
            },
            "type": "carpet"
           }
          ],
          "choropleth": [
           {
            "colorbar": {
             "outlinewidth": 0,
             "ticks": ""
            },
            "type": "choropleth"
           }
          ],
          "contour": [
           {
            "colorbar": {
             "outlinewidth": 0,
             "ticks": ""
            },
            "colorscale": [
             [
              0,
              "#0d0887"
             ],
             [
              0.1111111111111111,
              "#46039f"
             ],
             [
              0.2222222222222222,
              "#7201a8"
             ],
             [
              0.3333333333333333,
              "#9c179e"
             ],
             [
              0.4444444444444444,
              "#bd3786"
             ],
             [
              0.5555555555555556,
              "#d8576b"
             ],
             [
              0.6666666666666666,
              "#ed7953"
             ],
             [
              0.7777777777777778,
              "#fb9f3a"
             ],
             [
              0.8888888888888888,
              "#fdca26"
             ],
             [
              1,
              "#f0f921"
             ]
            ],
            "type": "contour"
           }
          ],
          "contourcarpet": [
           {
            "colorbar": {
             "outlinewidth": 0,
             "ticks": ""
            },
            "type": "contourcarpet"
           }
          ],
          "heatmap": [
           {
            "colorbar": {
             "outlinewidth": 0,
             "ticks": ""
            },
            "colorscale": [
             [
              0,
              "#0d0887"
             ],
             [
              0.1111111111111111,
              "#46039f"
             ],
             [
              0.2222222222222222,
              "#7201a8"
             ],
             [
              0.3333333333333333,
              "#9c179e"
             ],
             [
              0.4444444444444444,
              "#bd3786"
             ],
             [
              0.5555555555555556,
              "#d8576b"
             ],
             [
              0.6666666666666666,
              "#ed7953"
             ],
             [
              0.7777777777777778,
              "#fb9f3a"
             ],
             [
              0.8888888888888888,
              "#fdca26"
             ],
             [
              1,
              "#f0f921"
             ]
            ],
            "type": "heatmap"
           }
          ],
          "heatmapgl": [
           {
            "colorbar": {
             "outlinewidth": 0,
             "ticks": ""
            },
            "colorscale": [
             [
              0,
              "#0d0887"
             ],
             [
              0.1111111111111111,
              "#46039f"
             ],
             [
              0.2222222222222222,
              "#7201a8"
             ],
             [
              0.3333333333333333,
              "#9c179e"
             ],
             [
              0.4444444444444444,
              "#bd3786"
             ],
             [
              0.5555555555555556,
              "#d8576b"
             ],
             [
              0.6666666666666666,
              "#ed7953"
             ],
             [
              0.7777777777777778,
              "#fb9f3a"
             ],
             [
              0.8888888888888888,
              "#fdca26"
             ],
             [
              1,
              "#f0f921"
             ]
            ],
            "type": "heatmapgl"
           }
          ],
          "histogram": [
           {
            "marker": {
             "pattern": {
              "fillmode": "overlay",
              "size": 10,
              "solidity": 0.2
             }
            },
            "type": "histogram"
           }
          ],
          "histogram2d": [
           {
            "colorbar": {
             "outlinewidth": 0,
             "ticks": ""
            },
            "colorscale": [
             [
              0,
              "#0d0887"
             ],
             [
              0.1111111111111111,
              "#46039f"
             ],
             [
              0.2222222222222222,
              "#7201a8"
             ],
             [
              0.3333333333333333,
              "#9c179e"
             ],
             [
              0.4444444444444444,
              "#bd3786"
             ],
             [
              0.5555555555555556,
              "#d8576b"
             ],
             [
              0.6666666666666666,
              "#ed7953"
             ],
             [
              0.7777777777777778,
              "#fb9f3a"
             ],
             [
              0.8888888888888888,
              "#fdca26"
             ],
             [
              1,
              "#f0f921"
             ]
            ],
            "type": "histogram2d"
           }
          ],
          "histogram2dcontour": [
           {
            "colorbar": {
             "outlinewidth": 0,
             "ticks": ""
            },
            "colorscale": [
             [
              0,
              "#0d0887"
             ],
             [
              0.1111111111111111,
              "#46039f"
             ],
             [
              0.2222222222222222,
              "#7201a8"
             ],
             [
              0.3333333333333333,
              "#9c179e"
             ],
             [
              0.4444444444444444,
              "#bd3786"
             ],
             [
              0.5555555555555556,
              "#d8576b"
             ],
             [
              0.6666666666666666,
              "#ed7953"
             ],
             [
              0.7777777777777778,
              "#fb9f3a"
             ],
             [
              0.8888888888888888,
              "#fdca26"
             ],
             [
              1,
              "#f0f921"
             ]
            ],
            "type": "histogram2dcontour"
           }
          ],
          "mesh3d": [
           {
            "colorbar": {
             "outlinewidth": 0,
             "ticks": ""
            },
            "type": "mesh3d"
           }
          ],
          "parcoords": [
           {
            "line": {
             "colorbar": {
              "outlinewidth": 0,
              "ticks": ""
             }
            },
            "type": "parcoords"
           }
          ],
          "pie": [
           {
            "automargin": true,
            "type": "pie"
           }
          ],
          "scatter": [
           {
            "fillpattern": {
             "fillmode": "overlay",
             "size": 10,
             "solidity": 0.2
            },
            "type": "scatter"
           }
          ],
          "scatter3d": [
           {
            "line": {
             "colorbar": {
              "outlinewidth": 0,
              "ticks": ""
             }
            },
            "marker": {
             "colorbar": {
              "outlinewidth": 0,
              "ticks": ""
             }
            },
            "type": "scatter3d"
           }
          ],
          "scattercarpet": [
           {
            "marker": {
             "colorbar": {
              "outlinewidth": 0,
              "ticks": ""
             }
            },
            "type": "scattercarpet"
           }
          ],
          "scattergeo": [
           {
            "marker": {
             "colorbar": {
              "outlinewidth": 0,
              "ticks": ""
             }
            },
            "type": "scattergeo"
           }
          ],
          "scattergl": [
           {
            "marker": {
             "colorbar": {
              "outlinewidth": 0,
              "ticks": ""
             }
            },
            "type": "scattergl"
           }
          ],
          "scattermapbox": [
           {
            "marker": {
             "colorbar": {
              "outlinewidth": 0,
              "ticks": ""
             }
            },
            "type": "scattermapbox"
           }
          ],
          "scatterpolar": [
           {
            "marker": {
             "colorbar": {
              "outlinewidth": 0,
              "ticks": ""
             }
            },
            "type": "scatterpolar"
           }
          ],
          "scatterpolargl": [
           {
            "marker": {
             "colorbar": {
              "outlinewidth": 0,
              "ticks": ""
             }
            },
            "type": "scatterpolargl"
           }
          ],
          "scatterternary": [
           {
            "marker": {
             "colorbar": {
              "outlinewidth": 0,
              "ticks": ""
             }
            },
            "type": "scatterternary"
           }
          ],
          "surface": [
           {
            "colorbar": {
             "outlinewidth": 0,
             "ticks": ""
            },
            "colorscale": [
             [
              0,
              "#0d0887"
             ],
             [
              0.1111111111111111,
              "#46039f"
             ],
             [
              0.2222222222222222,
              "#7201a8"
             ],
             [
              0.3333333333333333,
              "#9c179e"
             ],
             [
              0.4444444444444444,
              "#bd3786"
             ],
             [
              0.5555555555555556,
              "#d8576b"
             ],
             [
              0.6666666666666666,
              "#ed7953"
             ],
             [
              0.7777777777777778,
              "#fb9f3a"
             ],
             [
              0.8888888888888888,
              "#fdca26"
             ],
             [
              1,
              "#f0f921"
             ]
            ],
            "type": "surface"
           }
          ],
          "table": [
           {
            "cells": {
             "fill": {
              "color": "#EBF0F8"
             },
             "line": {
              "color": "white"
             }
            },
            "header": {
             "fill": {
              "color": "#C8D4E3"
             },
             "line": {
              "color": "white"
             }
            },
            "type": "table"
           }
          ]
         },
         "layout": {
          "annotationdefaults": {
           "arrowcolor": "#2a3f5f",
           "arrowhead": 0,
           "arrowwidth": 1
          },
          "autotypenumbers": "strict",
          "coloraxis": {
           "colorbar": {
            "outlinewidth": 0,
            "ticks": ""
           }
          },
          "colorscale": {
           "diverging": [
            [
             0,
             "#8e0152"
            ],
            [
             0.1,
             "#c51b7d"
            ],
            [
             0.2,
             "#de77ae"
            ],
            [
             0.3,
             "#f1b6da"
            ],
            [
             0.4,
             "#fde0ef"
            ],
            [
             0.5,
             "#f7f7f7"
            ],
            [
             0.6,
             "#e6f5d0"
            ],
            [
             0.7,
             "#b8e186"
            ],
            [
             0.8,
             "#7fbc41"
            ],
            [
             0.9,
             "#4d9221"
            ],
            [
             1,
             "#276419"
            ]
           ],
           "sequential": [
            [
             0,
             "#0d0887"
            ],
            [
             0.1111111111111111,
             "#46039f"
            ],
            [
             0.2222222222222222,
             "#7201a8"
            ],
            [
             0.3333333333333333,
             "#9c179e"
            ],
            [
             0.4444444444444444,
             "#bd3786"
            ],
            [
             0.5555555555555556,
             "#d8576b"
            ],
            [
             0.6666666666666666,
             "#ed7953"
            ],
            [
             0.7777777777777778,
             "#fb9f3a"
            ],
            [
             0.8888888888888888,
             "#fdca26"
            ],
            [
             1,
             "#f0f921"
            ]
           ],
           "sequentialminus": [
            [
             0,
             "#0d0887"
            ],
            [
             0.1111111111111111,
             "#46039f"
            ],
            [
             0.2222222222222222,
             "#7201a8"
            ],
            [
             0.3333333333333333,
             "#9c179e"
            ],
            [
             0.4444444444444444,
             "#bd3786"
            ],
            [
             0.5555555555555556,
             "#d8576b"
            ],
            [
             0.6666666666666666,
             "#ed7953"
            ],
            [
             0.7777777777777778,
             "#fb9f3a"
            ],
            [
             0.8888888888888888,
             "#fdca26"
            ],
            [
             1,
             "#f0f921"
            ]
           ]
          },
          "colorway": [
           "#636efa",
           "#EF553B",
           "#00cc96",
           "#ab63fa",
           "#FFA15A",
           "#19d3f3",
           "#FF6692",
           "#B6E880",
           "#FF97FF",
           "#FECB52"
          ],
          "font": {
           "color": "#2a3f5f"
          },
          "geo": {
           "bgcolor": "white",
           "lakecolor": "white",
           "landcolor": "#E5ECF6",
           "showlakes": true,
           "showland": true,
           "subunitcolor": "white"
          },
          "hoverlabel": {
           "align": "left"
          },
          "hovermode": "closest",
          "mapbox": {
           "style": "light"
          },
          "paper_bgcolor": "white",
          "plot_bgcolor": "#E5ECF6",
          "polar": {
           "angularaxis": {
            "gridcolor": "white",
            "linecolor": "white",
            "ticks": ""
           },
           "bgcolor": "#E5ECF6",
           "radialaxis": {
            "gridcolor": "white",
            "linecolor": "white",
            "ticks": ""
           }
          },
          "scene": {
           "xaxis": {
            "backgroundcolor": "#E5ECF6",
            "gridcolor": "white",
            "gridwidth": 2,
            "linecolor": "white",
            "showbackground": true,
            "ticks": "",
            "zerolinecolor": "white"
           },
           "yaxis": {
            "backgroundcolor": "#E5ECF6",
            "gridcolor": "white",
            "gridwidth": 2,
            "linecolor": "white",
            "showbackground": true,
            "ticks": "",
            "zerolinecolor": "white"
           },
           "zaxis": {
            "backgroundcolor": "#E5ECF6",
            "gridcolor": "white",
            "gridwidth": 2,
            "linecolor": "white",
            "showbackground": true,
            "ticks": "",
            "zerolinecolor": "white"
           }
          },
          "shapedefaults": {
           "line": {
            "color": "#2a3f5f"
           }
          },
          "ternary": {
           "aaxis": {
            "gridcolor": "white",
            "linecolor": "white",
            "ticks": ""
           },
           "baxis": {
            "gridcolor": "white",
            "linecolor": "white",
            "ticks": ""
           },
           "bgcolor": "#E5ECF6",
           "caxis": {
            "gridcolor": "white",
            "linecolor": "white",
            "ticks": ""
           }
          },
          "title": {
           "x": 0.05
          },
          "xaxis": {
           "automargin": true,
           "gridcolor": "white",
           "linecolor": "white",
           "ticks": "",
           "title": {
            "standoff": 15
           },
           "zerolinecolor": "white",
           "zerolinewidth": 2
          },
          "yaxis": {
           "automargin": true,
           "gridcolor": "white",
           "linecolor": "white",
           "ticks": "",
           "title": {
            "standoff": 15
           },
           "zerolinecolor": "white",
           "zerolinewidth": 2
          }
         }
        },
        "title": {
         "text": "Bar Plot of warranty_expiry_date"
        },
        "xaxis": {
         "anchor": "y",
         "domain": [
          0,
          1
         ],
         "title": {
          "text": "warranty_expiry_date"
         }
        },
        "yaxis": {
         "anchor": "x",
         "domain": [
          0,
          1
         ],
         "title": {
          "text": "Count"
         }
        }
       }
      }
     },
     "metadata": {},
     "output_type": "display_data"
    },
    {
     "name": "stdout",
     "output_type": "stream",
     "text": [
      "Value Counts and Percentages for owner_type:\n",
      "owner_type\n",
      "Second    26533\n",
      "First     18580\n",
      "Third      4887\n",
      "Name: count, dtype: int64\n",
      "owner_type\n",
      "Second    53.07\n",
      "First     37.16\n",
      "Third      9.77\n",
      "Name: count, dtype: float64\n",
      "\n"
     ]
    },
    {
     "data": {
      "application/vnd.plotly.v1+json": {
       "config": {
        "plotlyServerURL": "https://plot.ly"
       },
       "data": [
        {
         "alignmentgroup": "True",
         "hovertemplate": "owner_type=%{x}<br>Count=%{y}<br>text=%{text}<extra></extra>",
         "legendgroup": "",
         "marker": {
          "color": "#636efa",
          "pattern": {
           "shape": ""
          }
         },
         "name": "",
         "offsetgroup": "",
         "orientation": "v",
         "showlegend": false,
         "text": [
          "53.07%",
          "37.16%",
          "9.77%"
         ],
         "textposition": "outside",
         "type": "bar",
         "x": [
          "Second",
          "First",
          "Third"
         ],
         "xaxis": "x",
         "y": [
          26533,
          18580,
          4887
         ],
         "yaxis": "y"
        }
       ],
       "layout": {
        "barmode": "relative",
        "legend": {
         "tracegroupgap": 0
        },
        "template": {
         "data": {
          "bar": [
           {
            "error_x": {
             "color": "#2a3f5f"
            },
            "error_y": {
             "color": "#2a3f5f"
            },
            "marker": {
             "line": {
              "color": "#E5ECF6",
              "width": 0.5
             },
             "pattern": {
              "fillmode": "overlay",
              "size": 10,
              "solidity": 0.2
             }
            },
            "type": "bar"
           }
          ],
          "barpolar": [
           {
            "marker": {
             "line": {
              "color": "#E5ECF6",
              "width": 0.5
             },
             "pattern": {
              "fillmode": "overlay",
              "size": 10,
              "solidity": 0.2
             }
            },
            "type": "barpolar"
           }
          ],
          "carpet": [
           {
            "aaxis": {
             "endlinecolor": "#2a3f5f",
             "gridcolor": "white",
             "linecolor": "white",
             "minorgridcolor": "white",
             "startlinecolor": "#2a3f5f"
            },
            "baxis": {
             "endlinecolor": "#2a3f5f",
             "gridcolor": "white",
             "linecolor": "white",
             "minorgridcolor": "white",
             "startlinecolor": "#2a3f5f"
            },
            "type": "carpet"
           }
          ],
          "choropleth": [
           {
            "colorbar": {
             "outlinewidth": 0,
             "ticks": ""
            },
            "type": "choropleth"
           }
          ],
          "contour": [
           {
            "colorbar": {
             "outlinewidth": 0,
             "ticks": ""
            },
            "colorscale": [
             [
              0,
              "#0d0887"
             ],
             [
              0.1111111111111111,
              "#46039f"
             ],
             [
              0.2222222222222222,
              "#7201a8"
             ],
             [
              0.3333333333333333,
              "#9c179e"
             ],
             [
              0.4444444444444444,
              "#bd3786"
             ],
             [
              0.5555555555555556,
              "#d8576b"
             ],
             [
              0.6666666666666666,
              "#ed7953"
             ],
             [
              0.7777777777777778,
              "#fb9f3a"
             ],
             [
              0.8888888888888888,
              "#fdca26"
             ],
             [
              1,
              "#f0f921"
             ]
            ],
            "type": "contour"
           }
          ],
          "contourcarpet": [
           {
            "colorbar": {
             "outlinewidth": 0,
             "ticks": ""
            },
            "type": "contourcarpet"
           }
          ],
          "heatmap": [
           {
            "colorbar": {
             "outlinewidth": 0,
             "ticks": ""
            },
            "colorscale": [
             [
              0,
              "#0d0887"
             ],
             [
              0.1111111111111111,
              "#46039f"
             ],
             [
              0.2222222222222222,
              "#7201a8"
             ],
             [
              0.3333333333333333,
              "#9c179e"
             ],
             [
              0.4444444444444444,
              "#bd3786"
             ],
             [
              0.5555555555555556,
              "#d8576b"
             ],
             [
              0.6666666666666666,
              "#ed7953"
             ],
             [
              0.7777777777777778,
              "#fb9f3a"
             ],
             [
              0.8888888888888888,
              "#fdca26"
             ],
             [
              1,
              "#f0f921"
             ]
            ],
            "type": "heatmap"
           }
          ],
          "heatmapgl": [
           {
            "colorbar": {
             "outlinewidth": 0,
             "ticks": ""
            },
            "colorscale": [
             [
              0,
              "#0d0887"
             ],
             [
              0.1111111111111111,
              "#46039f"
             ],
             [
              0.2222222222222222,
              "#7201a8"
             ],
             [
              0.3333333333333333,
              "#9c179e"
             ],
             [
              0.4444444444444444,
              "#bd3786"
             ],
             [
              0.5555555555555556,
              "#d8576b"
             ],
             [
              0.6666666666666666,
              "#ed7953"
             ],
             [
              0.7777777777777778,
              "#fb9f3a"
             ],
             [
              0.8888888888888888,
              "#fdca26"
             ],
             [
              1,
              "#f0f921"
             ]
            ],
            "type": "heatmapgl"
           }
          ],
          "histogram": [
           {
            "marker": {
             "pattern": {
              "fillmode": "overlay",
              "size": 10,
              "solidity": 0.2
             }
            },
            "type": "histogram"
           }
          ],
          "histogram2d": [
           {
            "colorbar": {
             "outlinewidth": 0,
             "ticks": ""
            },
            "colorscale": [
             [
              0,
              "#0d0887"
             ],
             [
              0.1111111111111111,
              "#46039f"
             ],
             [
              0.2222222222222222,
              "#7201a8"
             ],
             [
              0.3333333333333333,
              "#9c179e"
             ],
             [
              0.4444444444444444,
              "#bd3786"
             ],
             [
              0.5555555555555556,
              "#d8576b"
             ],
             [
              0.6666666666666666,
              "#ed7953"
             ],
             [
              0.7777777777777778,
              "#fb9f3a"
             ],
             [
              0.8888888888888888,
              "#fdca26"
             ],
             [
              1,
              "#f0f921"
             ]
            ],
            "type": "histogram2d"
           }
          ],
          "histogram2dcontour": [
           {
            "colorbar": {
             "outlinewidth": 0,
             "ticks": ""
            },
            "colorscale": [
             [
              0,
              "#0d0887"
             ],
             [
              0.1111111111111111,
              "#46039f"
             ],
             [
              0.2222222222222222,
              "#7201a8"
             ],
             [
              0.3333333333333333,
              "#9c179e"
             ],
             [
              0.4444444444444444,
              "#bd3786"
             ],
             [
              0.5555555555555556,
              "#d8576b"
             ],
             [
              0.6666666666666666,
              "#ed7953"
             ],
             [
              0.7777777777777778,
              "#fb9f3a"
             ],
             [
              0.8888888888888888,
              "#fdca26"
             ],
             [
              1,
              "#f0f921"
             ]
            ],
            "type": "histogram2dcontour"
           }
          ],
          "mesh3d": [
           {
            "colorbar": {
             "outlinewidth": 0,
             "ticks": ""
            },
            "type": "mesh3d"
           }
          ],
          "parcoords": [
           {
            "line": {
             "colorbar": {
              "outlinewidth": 0,
              "ticks": ""
             }
            },
            "type": "parcoords"
           }
          ],
          "pie": [
           {
            "automargin": true,
            "type": "pie"
           }
          ],
          "scatter": [
           {
            "fillpattern": {
             "fillmode": "overlay",
             "size": 10,
             "solidity": 0.2
            },
            "type": "scatter"
           }
          ],
          "scatter3d": [
           {
            "line": {
             "colorbar": {
              "outlinewidth": 0,
              "ticks": ""
             }
            },
            "marker": {
             "colorbar": {
              "outlinewidth": 0,
              "ticks": ""
             }
            },
            "type": "scatter3d"
           }
          ],
          "scattercarpet": [
           {
            "marker": {
             "colorbar": {
              "outlinewidth": 0,
              "ticks": ""
             }
            },
            "type": "scattercarpet"
           }
          ],
          "scattergeo": [
           {
            "marker": {
             "colorbar": {
              "outlinewidth": 0,
              "ticks": ""
             }
            },
            "type": "scattergeo"
           }
          ],
          "scattergl": [
           {
            "marker": {
             "colorbar": {
              "outlinewidth": 0,
              "ticks": ""
             }
            },
            "type": "scattergl"
           }
          ],
          "scattermapbox": [
           {
            "marker": {
             "colorbar": {
              "outlinewidth": 0,
              "ticks": ""
             }
            },
            "type": "scattermapbox"
           }
          ],
          "scatterpolar": [
           {
            "marker": {
             "colorbar": {
              "outlinewidth": 0,
              "ticks": ""
             }
            },
            "type": "scatterpolar"
           }
          ],
          "scatterpolargl": [
           {
            "marker": {
             "colorbar": {
              "outlinewidth": 0,
              "ticks": ""
             }
            },
            "type": "scatterpolargl"
           }
          ],
          "scatterternary": [
           {
            "marker": {
             "colorbar": {
              "outlinewidth": 0,
              "ticks": ""
             }
            },
            "type": "scatterternary"
           }
          ],
          "surface": [
           {
            "colorbar": {
             "outlinewidth": 0,
             "ticks": ""
            },
            "colorscale": [
             [
              0,
              "#0d0887"
             ],
             [
              0.1111111111111111,
              "#46039f"
             ],
             [
              0.2222222222222222,
              "#7201a8"
             ],
             [
              0.3333333333333333,
              "#9c179e"
             ],
             [
              0.4444444444444444,
              "#bd3786"
             ],
             [
              0.5555555555555556,
              "#d8576b"
             ],
             [
              0.6666666666666666,
              "#ed7953"
             ],
             [
              0.7777777777777778,
              "#fb9f3a"
             ],
             [
              0.8888888888888888,
              "#fdca26"
             ],
             [
              1,
              "#f0f921"
             ]
            ],
            "type": "surface"
           }
          ],
          "table": [
           {
            "cells": {
             "fill": {
              "color": "#EBF0F8"
             },
             "line": {
              "color": "white"
             }
            },
            "header": {
             "fill": {
              "color": "#C8D4E3"
             },
             "line": {
              "color": "white"
             }
            },
            "type": "table"
           }
          ]
         },
         "layout": {
          "annotationdefaults": {
           "arrowcolor": "#2a3f5f",
           "arrowhead": 0,
           "arrowwidth": 1
          },
          "autotypenumbers": "strict",
          "coloraxis": {
           "colorbar": {
            "outlinewidth": 0,
            "ticks": ""
           }
          },
          "colorscale": {
           "diverging": [
            [
             0,
             "#8e0152"
            ],
            [
             0.1,
             "#c51b7d"
            ],
            [
             0.2,
             "#de77ae"
            ],
            [
             0.3,
             "#f1b6da"
            ],
            [
             0.4,
             "#fde0ef"
            ],
            [
             0.5,
             "#f7f7f7"
            ],
            [
             0.6,
             "#e6f5d0"
            ],
            [
             0.7,
             "#b8e186"
            ],
            [
             0.8,
             "#7fbc41"
            ],
            [
             0.9,
             "#4d9221"
            ],
            [
             1,
             "#276419"
            ]
           ],
           "sequential": [
            [
             0,
             "#0d0887"
            ],
            [
             0.1111111111111111,
             "#46039f"
            ],
            [
             0.2222222222222222,
             "#7201a8"
            ],
            [
             0.3333333333333333,
             "#9c179e"
            ],
            [
             0.4444444444444444,
             "#bd3786"
            ],
            [
             0.5555555555555556,
             "#d8576b"
            ],
            [
             0.6666666666666666,
             "#ed7953"
            ],
            [
             0.7777777777777778,
             "#fb9f3a"
            ],
            [
             0.8888888888888888,
             "#fdca26"
            ],
            [
             1,
             "#f0f921"
            ]
           ],
           "sequentialminus": [
            [
             0,
             "#0d0887"
            ],
            [
             0.1111111111111111,
             "#46039f"
            ],
            [
             0.2222222222222222,
             "#7201a8"
            ],
            [
             0.3333333333333333,
             "#9c179e"
            ],
            [
             0.4444444444444444,
             "#bd3786"
            ],
            [
             0.5555555555555556,
             "#d8576b"
            ],
            [
             0.6666666666666666,
             "#ed7953"
            ],
            [
             0.7777777777777778,
             "#fb9f3a"
            ],
            [
             0.8888888888888888,
             "#fdca26"
            ],
            [
             1,
             "#f0f921"
            ]
           ]
          },
          "colorway": [
           "#636efa",
           "#EF553B",
           "#00cc96",
           "#ab63fa",
           "#FFA15A",
           "#19d3f3",
           "#FF6692",
           "#B6E880",
           "#FF97FF",
           "#FECB52"
          ],
          "font": {
           "color": "#2a3f5f"
          },
          "geo": {
           "bgcolor": "white",
           "lakecolor": "white",
           "landcolor": "#E5ECF6",
           "showlakes": true,
           "showland": true,
           "subunitcolor": "white"
          },
          "hoverlabel": {
           "align": "left"
          },
          "hovermode": "closest",
          "mapbox": {
           "style": "light"
          },
          "paper_bgcolor": "white",
          "plot_bgcolor": "#E5ECF6",
          "polar": {
           "angularaxis": {
            "gridcolor": "white",
            "linecolor": "white",
            "ticks": ""
           },
           "bgcolor": "#E5ECF6",
           "radialaxis": {
            "gridcolor": "white",
            "linecolor": "white",
            "ticks": ""
           }
          },
          "scene": {
           "xaxis": {
            "backgroundcolor": "#E5ECF6",
            "gridcolor": "white",
            "gridwidth": 2,
            "linecolor": "white",
            "showbackground": true,
            "ticks": "",
            "zerolinecolor": "white"
           },
           "yaxis": {
            "backgroundcolor": "#E5ECF6",
            "gridcolor": "white",
            "gridwidth": 2,
            "linecolor": "white",
            "showbackground": true,
            "ticks": "",
            "zerolinecolor": "white"
           },
           "zaxis": {
            "backgroundcolor": "#E5ECF6",
            "gridcolor": "white",
            "gridwidth": 2,
            "linecolor": "white",
            "showbackground": true,
            "ticks": "",
            "zerolinecolor": "white"
           }
          },
          "shapedefaults": {
           "line": {
            "color": "#2a3f5f"
           }
          },
          "ternary": {
           "aaxis": {
            "gridcolor": "white",
            "linecolor": "white",
            "ticks": ""
           },
           "baxis": {
            "gridcolor": "white",
            "linecolor": "white",
            "ticks": ""
           },
           "bgcolor": "#E5ECF6",
           "caxis": {
            "gridcolor": "white",
            "linecolor": "white",
            "ticks": ""
           }
          },
          "title": {
           "x": 0.05
          },
          "xaxis": {
           "automargin": true,
           "gridcolor": "white",
           "linecolor": "white",
           "ticks": "",
           "title": {
            "standoff": 15
           },
           "zerolinecolor": "white",
           "zerolinewidth": 2
          },
          "yaxis": {
           "automargin": true,
           "gridcolor": "white",
           "linecolor": "white",
           "ticks": "",
           "title": {
            "standoff": 15
           },
           "zerolinecolor": "white",
           "zerolinewidth": 2
          }
         }
        },
        "title": {
         "text": "Bar Plot of owner_type"
        },
        "xaxis": {
         "anchor": "y",
         "domain": [
          0,
          1
         ],
         "title": {
          "text": "owner_type"
         }
        },
        "yaxis": {
         "anchor": "x",
         "domain": [
          0,
          1
         ],
         "title": {
          "text": "Count"
         }
        }
       }
      }
     },
     "metadata": {},
     "output_type": "display_data"
    },
    {
     "name": "stdout",
     "output_type": "stream",
     "text": [
      "Value Counts and Percentages for tire_condition:\n",
      "tire_condition\n",
      "New         16825\n",
      "Worn Out    16622\n",
      "Good        16553\n",
      "Name: count, dtype: int64\n",
      "tire_condition\n",
      "New         33.65\n",
      "Worn Out    33.24\n",
      "Good        33.11\n",
      "Name: count, dtype: float64\n",
      "\n"
     ]
    },
    {
     "data": {
      "application/vnd.plotly.v1+json": {
       "config": {
        "plotlyServerURL": "https://plot.ly"
       },
       "data": [
        {
         "alignmentgroup": "True",
         "hovertemplate": "tire_condition=%{x}<br>Count=%{y}<br>text=%{text}<extra></extra>",
         "legendgroup": "",
         "marker": {
          "color": "#636efa",
          "pattern": {
           "shape": ""
          }
         },
         "name": "",
         "offsetgroup": "",
         "orientation": "v",
         "showlegend": false,
         "text": [
          "33.65%",
          "33.24%",
          "33.11%"
         ],
         "textposition": "outside",
         "type": "bar",
         "x": [
          "New",
          "Worn Out",
          "Good"
         ],
         "xaxis": "x",
         "y": [
          16825,
          16622,
          16553
         ],
         "yaxis": "y"
        }
       ],
       "layout": {
        "barmode": "relative",
        "legend": {
         "tracegroupgap": 0
        },
        "template": {
         "data": {
          "bar": [
           {
            "error_x": {
             "color": "#2a3f5f"
            },
            "error_y": {
             "color": "#2a3f5f"
            },
            "marker": {
             "line": {
              "color": "#E5ECF6",
              "width": 0.5
             },
             "pattern": {
              "fillmode": "overlay",
              "size": 10,
              "solidity": 0.2
             }
            },
            "type": "bar"
           }
          ],
          "barpolar": [
           {
            "marker": {
             "line": {
              "color": "#E5ECF6",
              "width": 0.5
             },
             "pattern": {
              "fillmode": "overlay",
              "size": 10,
              "solidity": 0.2
             }
            },
            "type": "barpolar"
           }
          ],
          "carpet": [
           {
            "aaxis": {
             "endlinecolor": "#2a3f5f",
             "gridcolor": "white",
             "linecolor": "white",
             "minorgridcolor": "white",
             "startlinecolor": "#2a3f5f"
            },
            "baxis": {
             "endlinecolor": "#2a3f5f",
             "gridcolor": "white",
             "linecolor": "white",
             "minorgridcolor": "white",
             "startlinecolor": "#2a3f5f"
            },
            "type": "carpet"
           }
          ],
          "choropleth": [
           {
            "colorbar": {
             "outlinewidth": 0,
             "ticks": ""
            },
            "type": "choropleth"
           }
          ],
          "contour": [
           {
            "colorbar": {
             "outlinewidth": 0,
             "ticks": ""
            },
            "colorscale": [
             [
              0,
              "#0d0887"
             ],
             [
              0.1111111111111111,
              "#46039f"
             ],
             [
              0.2222222222222222,
              "#7201a8"
             ],
             [
              0.3333333333333333,
              "#9c179e"
             ],
             [
              0.4444444444444444,
              "#bd3786"
             ],
             [
              0.5555555555555556,
              "#d8576b"
             ],
             [
              0.6666666666666666,
              "#ed7953"
             ],
             [
              0.7777777777777778,
              "#fb9f3a"
             ],
             [
              0.8888888888888888,
              "#fdca26"
             ],
             [
              1,
              "#f0f921"
             ]
            ],
            "type": "contour"
           }
          ],
          "contourcarpet": [
           {
            "colorbar": {
             "outlinewidth": 0,
             "ticks": ""
            },
            "type": "contourcarpet"
           }
          ],
          "heatmap": [
           {
            "colorbar": {
             "outlinewidth": 0,
             "ticks": ""
            },
            "colorscale": [
             [
              0,
              "#0d0887"
             ],
             [
              0.1111111111111111,
              "#46039f"
             ],
             [
              0.2222222222222222,
              "#7201a8"
             ],
             [
              0.3333333333333333,
              "#9c179e"
             ],
             [
              0.4444444444444444,
              "#bd3786"
             ],
             [
              0.5555555555555556,
              "#d8576b"
             ],
             [
              0.6666666666666666,
              "#ed7953"
             ],
             [
              0.7777777777777778,
              "#fb9f3a"
             ],
             [
              0.8888888888888888,
              "#fdca26"
             ],
             [
              1,
              "#f0f921"
             ]
            ],
            "type": "heatmap"
           }
          ],
          "heatmapgl": [
           {
            "colorbar": {
             "outlinewidth": 0,
             "ticks": ""
            },
            "colorscale": [
             [
              0,
              "#0d0887"
             ],
             [
              0.1111111111111111,
              "#46039f"
             ],
             [
              0.2222222222222222,
              "#7201a8"
             ],
             [
              0.3333333333333333,
              "#9c179e"
             ],
             [
              0.4444444444444444,
              "#bd3786"
             ],
             [
              0.5555555555555556,
              "#d8576b"
             ],
             [
              0.6666666666666666,
              "#ed7953"
             ],
             [
              0.7777777777777778,
              "#fb9f3a"
             ],
             [
              0.8888888888888888,
              "#fdca26"
             ],
             [
              1,
              "#f0f921"
             ]
            ],
            "type": "heatmapgl"
           }
          ],
          "histogram": [
           {
            "marker": {
             "pattern": {
              "fillmode": "overlay",
              "size": 10,
              "solidity": 0.2
             }
            },
            "type": "histogram"
           }
          ],
          "histogram2d": [
           {
            "colorbar": {
             "outlinewidth": 0,
             "ticks": ""
            },
            "colorscale": [
             [
              0,
              "#0d0887"
             ],
             [
              0.1111111111111111,
              "#46039f"
             ],
             [
              0.2222222222222222,
              "#7201a8"
             ],
             [
              0.3333333333333333,
              "#9c179e"
             ],
             [
              0.4444444444444444,
              "#bd3786"
             ],
             [
              0.5555555555555556,
              "#d8576b"
             ],
             [
              0.6666666666666666,
              "#ed7953"
             ],
             [
              0.7777777777777778,
              "#fb9f3a"
             ],
             [
              0.8888888888888888,
              "#fdca26"
             ],
             [
              1,
              "#f0f921"
             ]
            ],
            "type": "histogram2d"
           }
          ],
          "histogram2dcontour": [
           {
            "colorbar": {
             "outlinewidth": 0,
             "ticks": ""
            },
            "colorscale": [
             [
              0,
              "#0d0887"
             ],
             [
              0.1111111111111111,
              "#46039f"
             ],
             [
              0.2222222222222222,
              "#7201a8"
             ],
             [
              0.3333333333333333,
              "#9c179e"
             ],
             [
              0.4444444444444444,
              "#bd3786"
             ],
             [
              0.5555555555555556,
              "#d8576b"
             ],
             [
              0.6666666666666666,
              "#ed7953"
             ],
             [
              0.7777777777777778,
              "#fb9f3a"
             ],
             [
              0.8888888888888888,
              "#fdca26"
             ],
             [
              1,
              "#f0f921"
             ]
            ],
            "type": "histogram2dcontour"
           }
          ],
          "mesh3d": [
           {
            "colorbar": {
             "outlinewidth": 0,
             "ticks": ""
            },
            "type": "mesh3d"
           }
          ],
          "parcoords": [
           {
            "line": {
             "colorbar": {
              "outlinewidth": 0,
              "ticks": ""
             }
            },
            "type": "parcoords"
           }
          ],
          "pie": [
           {
            "automargin": true,
            "type": "pie"
           }
          ],
          "scatter": [
           {
            "fillpattern": {
             "fillmode": "overlay",
             "size": 10,
             "solidity": 0.2
            },
            "type": "scatter"
           }
          ],
          "scatter3d": [
           {
            "line": {
             "colorbar": {
              "outlinewidth": 0,
              "ticks": ""
             }
            },
            "marker": {
             "colorbar": {
              "outlinewidth": 0,
              "ticks": ""
             }
            },
            "type": "scatter3d"
           }
          ],
          "scattercarpet": [
           {
            "marker": {
             "colorbar": {
              "outlinewidth": 0,
              "ticks": ""
             }
            },
            "type": "scattercarpet"
           }
          ],
          "scattergeo": [
           {
            "marker": {
             "colorbar": {
              "outlinewidth": 0,
              "ticks": ""
             }
            },
            "type": "scattergeo"
           }
          ],
          "scattergl": [
           {
            "marker": {
             "colorbar": {
              "outlinewidth": 0,
              "ticks": ""
             }
            },
            "type": "scattergl"
           }
          ],
          "scattermapbox": [
           {
            "marker": {
             "colorbar": {
              "outlinewidth": 0,
              "ticks": ""
             }
            },
            "type": "scattermapbox"
           }
          ],
          "scatterpolar": [
           {
            "marker": {
             "colorbar": {
              "outlinewidth": 0,
              "ticks": ""
             }
            },
            "type": "scatterpolar"
           }
          ],
          "scatterpolargl": [
           {
            "marker": {
             "colorbar": {
              "outlinewidth": 0,
              "ticks": ""
             }
            },
            "type": "scatterpolargl"
           }
          ],
          "scatterternary": [
           {
            "marker": {
             "colorbar": {
              "outlinewidth": 0,
              "ticks": ""
             }
            },
            "type": "scatterternary"
           }
          ],
          "surface": [
           {
            "colorbar": {
             "outlinewidth": 0,
             "ticks": ""
            },
            "colorscale": [
             [
              0,
              "#0d0887"
             ],
             [
              0.1111111111111111,
              "#46039f"
             ],
             [
              0.2222222222222222,
              "#7201a8"
             ],
             [
              0.3333333333333333,
              "#9c179e"
             ],
             [
              0.4444444444444444,
              "#bd3786"
             ],
             [
              0.5555555555555556,
              "#d8576b"
             ],
             [
              0.6666666666666666,
              "#ed7953"
             ],
             [
              0.7777777777777778,
              "#fb9f3a"
             ],
             [
              0.8888888888888888,
              "#fdca26"
             ],
             [
              1,
              "#f0f921"
             ]
            ],
            "type": "surface"
           }
          ],
          "table": [
           {
            "cells": {
             "fill": {
              "color": "#EBF0F8"
             },
             "line": {
              "color": "white"
             }
            },
            "header": {
             "fill": {
              "color": "#C8D4E3"
             },
             "line": {
              "color": "white"
             }
            },
            "type": "table"
           }
          ]
         },
         "layout": {
          "annotationdefaults": {
           "arrowcolor": "#2a3f5f",
           "arrowhead": 0,
           "arrowwidth": 1
          },
          "autotypenumbers": "strict",
          "coloraxis": {
           "colorbar": {
            "outlinewidth": 0,
            "ticks": ""
           }
          },
          "colorscale": {
           "diverging": [
            [
             0,
             "#8e0152"
            ],
            [
             0.1,
             "#c51b7d"
            ],
            [
             0.2,
             "#de77ae"
            ],
            [
             0.3,
             "#f1b6da"
            ],
            [
             0.4,
             "#fde0ef"
            ],
            [
             0.5,
             "#f7f7f7"
            ],
            [
             0.6,
             "#e6f5d0"
            ],
            [
             0.7,
             "#b8e186"
            ],
            [
             0.8,
             "#7fbc41"
            ],
            [
             0.9,
             "#4d9221"
            ],
            [
             1,
             "#276419"
            ]
           ],
           "sequential": [
            [
             0,
             "#0d0887"
            ],
            [
             0.1111111111111111,
             "#46039f"
            ],
            [
             0.2222222222222222,
             "#7201a8"
            ],
            [
             0.3333333333333333,
             "#9c179e"
            ],
            [
             0.4444444444444444,
             "#bd3786"
            ],
            [
             0.5555555555555556,
             "#d8576b"
            ],
            [
             0.6666666666666666,
             "#ed7953"
            ],
            [
             0.7777777777777778,
             "#fb9f3a"
            ],
            [
             0.8888888888888888,
             "#fdca26"
            ],
            [
             1,
             "#f0f921"
            ]
           ],
           "sequentialminus": [
            [
             0,
             "#0d0887"
            ],
            [
             0.1111111111111111,
             "#46039f"
            ],
            [
             0.2222222222222222,
             "#7201a8"
            ],
            [
             0.3333333333333333,
             "#9c179e"
            ],
            [
             0.4444444444444444,
             "#bd3786"
            ],
            [
             0.5555555555555556,
             "#d8576b"
            ],
            [
             0.6666666666666666,
             "#ed7953"
            ],
            [
             0.7777777777777778,
             "#fb9f3a"
            ],
            [
             0.8888888888888888,
             "#fdca26"
            ],
            [
             1,
             "#f0f921"
            ]
           ]
          },
          "colorway": [
           "#636efa",
           "#EF553B",
           "#00cc96",
           "#ab63fa",
           "#FFA15A",
           "#19d3f3",
           "#FF6692",
           "#B6E880",
           "#FF97FF",
           "#FECB52"
          ],
          "font": {
           "color": "#2a3f5f"
          },
          "geo": {
           "bgcolor": "white",
           "lakecolor": "white",
           "landcolor": "#E5ECF6",
           "showlakes": true,
           "showland": true,
           "subunitcolor": "white"
          },
          "hoverlabel": {
           "align": "left"
          },
          "hovermode": "closest",
          "mapbox": {
           "style": "light"
          },
          "paper_bgcolor": "white",
          "plot_bgcolor": "#E5ECF6",
          "polar": {
           "angularaxis": {
            "gridcolor": "white",
            "linecolor": "white",
            "ticks": ""
           },
           "bgcolor": "#E5ECF6",
           "radialaxis": {
            "gridcolor": "white",
            "linecolor": "white",
            "ticks": ""
           }
          },
          "scene": {
           "xaxis": {
            "backgroundcolor": "#E5ECF6",
            "gridcolor": "white",
            "gridwidth": 2,
            "linecolor": "white",
            "showbackground": true,
            "ticks": "",
            "zerolinecolor": "white"
           },
           "yaxis": {
            "backgroundcolor": "#E5ECF6",
            "gridcolor": "white",
            "gridwidth": 2,
            "linecolor": "white",
            "showbackground": true,
            "ticks": "",
            "zerolinecolor": "white"
           },
           "zaxis": {
            "backgroundcolor": "#E5ECF6",
            "gridcolor": "white",
            "gridwidth": 2,
            "linecolor": "white",
            "showbackground": true,
            "ticks": "",
            "zerolinecolor": "white"
           }
          },
          "shapedefaults": {
           "line": {
            "color": "#2a3f5f"
           }
          },
          "ternary": {
           "aaxis": {
            "gridcolor": "white",
            "linecolor": "white",
            "ticks": ""
           },
           "baxis": {
            "gridcolor": "white",
            "linecolor": "white",
            "ticks": ""
           },
           "bgcolor": "#E5ECF6",
           "caxis": {
            "gridcolor": "white",
            "linecolor": "white",
            "ticks": ""
           }
          },
          "title": {
           "x": 0.05
          },
          "xaxis": {
           "automargin": true,
           "gridcolor": "white",
           "linecolor": "white",
           "ticks": "",
           "title": {
            "standoff": 15
           },
           "zerolinecolor": "white",
           "zerolinewidth": 2
          },
          "yaxis": {
           "automargin": true,
           "gridcolor": "white",
           "linecolor": "white",
           "ticks": "",
           "title": {
            "standoff": 15
           },
           "zerolinecolor": "white",
           "zerolinewidth": 2
          }
         }
        },
        "title": {
         "text": "Bar Plot of tire_condition"
        },
        "xaxis": {
         "anchor": "y",
         "domain": [
          0,
          1
         ],
         "title": {
          "text": "tire_condition"
         }
        },
        "yaxis": {
         "anchor": "x",
         "domain": [
          0,
          1
         ],
         "title": {
          "text": "Count"
         }
        }
       }
      }
     },
     "metadata": {},
     "output_type": "display_data"
    },
    {
     "name": "stdout",
     "output_type": "stream",
     "text": [
      "Value Counts and Percentages for brake_condition:\n",
      "brake_condition\n",
      "Worn Out    16685\n",
      "New         16668\n",
      "Good        16647\n",
      "Name: count, dtype: int64\n",
      "brake_condition\n",
      "Worn Out    33.37\n",
      "New         33.34\n",
      "Good        33.29\n",
      "Name: count, dtype: float64\n",
      "\n"
     ]
    },
    {
     "data": {
      "application/vnd.plotly.v1+json": {
       "config": {
        "plotlyServerURL": "https://plot.ly"
       },
       "data": [
        {
         "alignmentgroup": "True",
         "hovertemplate": "brake_condition=%{x}<br>Count=%{y}<br>text=%{text}<extra></extra>",
         "legendgroup": "",
         "marker": {
          "color": "#636efa",
          "pattern": {
           "shape": ""
          }
         },
         "name": "",
         "offsetgroup": "",
         "orientation": "v",
         "showlegend": false,
         "text": [
          "33.37%",
          "33.34%",
          "33.29%"
         ],
         "textposition": "outside",
         "type": "bar",
         "x": [
          "Worn Out",
          "New",
          "Good"
         ],
         "xaxis": "x",
         "y": [
          16685,
          16668,
          16647
         ],
         "yaxis": "y"
        }
       ],
       "layout": {
        "barmode": "relative",
        "legend": {
         "tracegroupgap": 0
        },
        "template": {
         "data": {
          "bar": [
           {
            "error_x": {
             "color": "#2a3f5f"
            },
            "error_y": {
             "color": "#2a3f5f"
            },
            "marker": {
             "line": {
              "color": "#E5ECF6",
              "width": 0.5
             },
             "pattern": {
              "fillmode": "overlay",
              "size": 10,
              "solidity": 0.2
             }
            },
            "type": "bar"
           }
          ],
          "barpolar": [
           {
            "marker": {
             "line": {
              "color": "#E5ECF6",
              "width": 0.5
             },
             "pattern": {
              "fillmode": "overlay",
              "size": 10,
              "solidity": 0.2
             }
            },
            "type": "barpolar"
           }
          ],
          "carpet": [
           {
            "aaxis": {
             "endlinecolor": "#2a3f5f",
             "gridcolor": "white",
             "linecolor": "white",
             "minorgridcolor": "white",
             "startlinecolor": "#2a3f5f"
            },
            "baxis": {
             "endlinecolor": "#2a3f5f",
             "gridcolor": "white",
             "linecolor": "white",
             "minorgridcolor": "white",
             "startlinecolor": "#2a3f5f"
            },
            "type": "carpet"
           }
          ],
          "choropleth": [
           {
            "colorbar": {
             "outlinewidth": 0,
             "ticks": ""
            },
            "type": "choropleth"
           }
          ],
          "contour": [
           {
            "colorbar": {
             "outlinewidth": 0,
             "ticks": ""
            },
            "colorscale": [
             [
              0,
              "#0d0887"
             ],
             [
              0.1111111111111111,
              "#46039f"
             ],
             [
              0.2222222222222222,
              "#7201a8"
             ],
             [
              0.3333333333333333,
              "#9c179e"
             ],
             [
              0.4444444444444444,
              "#bd3786"
             ],
             [
              0.5555555555555556,
              "#d8576b"
             ],
             [
              0.6666666666666666,
              "#ed7953"
             ],
             [
              0.7777777777777778,
              "#fb9f3a"
             ],
             [
              0.8888888888888888,
              "#fdca26"
             ],
             [
              1,
              "#f0f921"
             ]
            ],
            "type": "contour"
           }
          ],
          "contourcarpet": [
           {
            "colorbar": {
             "outlinewidth": 0,
             "ticks": ""
            },
            "type": "contourcarpet"
           }
          ],
          "heatmap": [
           {
            "colorbar": {
             "outlinewidth": 0,
             "ticks": ""
            },
            "colorscale": [
             [
              0,
              "#0d0887"
             ],
             [
              0.1111111111111111,
              "#46039f"
             ],
             [
              0.2222222222222222,
              "#7201a8"
             ],
             [
              0.3333333333333333,
              "#9c179e"
             ],
             [
              0.4444444444444444,
              "#bd3786"
             ],
             [
              0.5555555555555556,
              "#d8576b"
             ],
             [
              0.6666666666666666,
              "#ed7953"
             ],
             [
              0.7777777777777778,
              "#fb9f3a"
             ],
             [
              0.8888888888888888,
              "#fdca26"
             ],
             [
              1,
              "#f0f921"
             ]
            ],
            "type": "heatmap"
           }
          ],
          "heatmapgl": [
           {
            "colorbar": {
             "outlinewidth": 0,
             "ticks": ""
            },
            "colorscale": [
             [
              0,
              "#0d0887"
             ],
             [
              0.1111111111111111,
              "#46039f"
             ],
             [
              0.2222222222222222,
              "#7201a8"
             ],
             [
              0.3333333333333333,
              "#9c179e"
             ],
             [
              0.4444444444444444,
              "#bd3786"
             ],
             [
              0.5555555555555556,
              "#d8576b"
             ],
             [
              0.6666666666666666,
              "#ed7953"
             ],
             [
              0.7777777777777778,
              "#fb9f3a"
             ],
             [
              0.8888888888888888,
              "#fdca26"
             ],
             [
              1,
              "#f0f921"
             ]
            ],
            "type": "heatmapgl"
           }
          ],
          "histogram": [
           {
            "marker": {
             "pattern": {
              "fillmode": "overlay",
              "size": 10,
              "solidity": 0.2
             }
            },
            "type": "histogram"
           }
          ],
          "histogram2d": [
           {
            "colorbar": {
             "outlinewidth": 0,
             "ticks": ""
            },
            "colorscale": [
             [
              0,
              "#0d0887"
             ],
             [
              0.1111111111111111,
              "#46039f"
             ],
             [
              0.2222222222222222,
              "#7201a8"
             ],
             [
              0.3333333333333333,
              "#9c179e"
             ],
             [
              0.4444444444444444,
              "#bd3786"
             ],
             [
              0.5555555555555556,
              "#d8576b"
             ],
             [
              0.6666666666666666,
              "#ed7953"
             ],
             [
              0.7777777777777778,
              "#fb9f3a"
             ],
             [
              0.8888888888888888,
              "#fdca26"
             ],
             [
              1,
              "#f0f921"
             ]
            ],
            "type": "histogram2d"
           }
          ],
          "histogram2dcontour": [
           {
            "colorbar": {
             "outlinewidth": 0,
             "ticks": ""
            },
            "colorscale": [
             [
              0,
              "#0d0887"
             ],
             [
              0.1111111111111111,
              "#46039f"
             ],
             [
              0.2222222222222222,
              "#7201a8"
             ],
             [
              0.3333333333333333,
              "#9c179e"
             ],
             [
              0.4444444444444444,
              "#bd3786"
             ],
             [
              0.5555555555555556,
              "#d8576b"
             ],
             [
              0.6666666666666666,
              "#ed7953"
             ],
             [
              0.7777777777777778,
              "#fb9f3a"
             ],
             [
              0.8888888888888888,
              "#fdca26"
             ],
             [
              1,
              "#f0f921"
             ]
            ],
            "type": "histogram2dcontour"
           }
          ],
          "mesh3d": [
           {
            "colorbar": {
             "outlinewidth": 0,
             "ticks": ""
            },
            "type": "mesh3d"
           }
          ],
          "parcoords": [
           {
            "line": {
             "colorbar": {
              "outlinewidth": 0,
              "ticks": ""
             }
            },
            "type": "parcoords"
           }
          ],
          "pie": [
           {
            "automargin": true,
            "type": "pie"
           }
          ],
          "scatter": [
           {
            "fillpattern": {
             "fillmode": "overlay",
             "size": 10,
             "solidity": 0.2
            },
            "type": "scatter"
           }
          ],
          "scatter3d": [
           {
            "line": {
             "colorbar": {
              "outlinewidth": 0,
              "ticks": ""
             }
            },
            "marker": {
             "colorbar": {
              "outlinewidth": 0,
              "ticks": ""
             }
            },
            "type": "scatter3d"
           }
          ],
          "scattercarpet": [
           {
            "marker": {
             "colorbar": {
              "outlinewidth": 0,
              "ticks": ""
             }
            },
            "type": "scattercarpet"
           }
          ],
          "scattergeo": [
           {
            "marker": {
             "colorbar": {
              "outlinewidth": 0,
              "ticks": ""
             }
            },
            "type": "scattergeo"
           }
          ],
          "scattergl": [
           {
            "marker": {
             "colorbar": {
              "outlinewidth": 0,
              "ticks": ""
             }
            },
            "type": "scattergl"
           }
          ],
          "scattermapbox": [
           {
            "marker": {
             "colorbar": {
              "outlinewidth": 0,
              "ticks": ""
             }
            },
            "type": "scattermapbox"
           }
          ],
          "scatterpolar": [
           {
            "marker": {
             "colorbar": {
              "outlinewidth": 0,
              "ticks": ""
             }
            },
            "type": "scatterpolar"
           }
          ],
          "scatterpolargl": [
           {
            "marker": {
             "colorbar": {
              "outlinewidth": 0,
              "ticks": ""
             }
            },
            "type": "scatterpolargl"
           }
          ],
          "scatterternary": [
           {
            "marker": {
             "colorbar": {
              "outlinewidth": 0,
              "ticks": ""
             }
            },
            "type": "scatterternary"
           }
          ],
          "surface": [
           {
            "colorbar": {
             "outlinewidth": 0,
             "ticks": ""
            },
            "colorscale": [
             [
              0,
              "#0d0887"
             ],
             [
              0.1111111111111111,
              "#46039f"
             ],
             [
              0.2222222222222222,
              "#7201a8"
             ],
             [
              0.3333333333333333,
              "#9c179e"
             ],
             [
              0.4444444444444444,
              "#bd3786"
             ],
             [
              0.5555555555555556,
              "#d8576b"
             ],
             [
              0.6666666666666666,
              "#ed7953"
             ],
             [
              0.7777777777777778,
              "#fb9f3a"
             ],
             [
              0.8888888888888888,
              "#fdca26"
             ],
             [
              1,
              "#f0f921"
             ]
            ],
            "type": "surface"
           }
          ],
          "table": [
           {
            "cells": {
             "fill": {
              "color": "#EBF0F8"
             },
             "line": {
              "color": "white"
             }
            },
            "header": {
             "fill": {
              "color": "#C8D4E3"
             },
             "line": {
              "color": "white"
             }
            },
            "type": "table"
           }
          ]
         },
         "layout": {
          "annotationdefaults": {
           "arrowcolor": "#2a3f5f",
           "arrowhead": 0,
           "arrowwidth": 1
          },
          "autotypenumbers": "strict",
          "coloraxis": {
           "colorbar": {
            "outlinewidth": 0,
            "ticks": ""
           }
          },
          "colorscale": {
           "diverging": [
            [
             0,
             "#8e0152"
            ],
            [
             0.1,
             "#c51b7d"
            ],
            [
             0.2,
             "#de77ae"
            ],
            [
             0.3,
             "#f1b6da"
            ],
            [
             0.4,
             "#fde0ef"
            ],
            [
             0.5,
             "#f7f7f7"
            ],
            [
             0.6,
             "#e6f5d0"
            ],
            [
             0.7,
             "#b8e186"
            ],
            [
             0.8,
             "#7fbc41"
            ],
            [
             0.9,
             "#4d9221"
            ],
            [
             1,
             "#276419"
            ]
           ],
           "sequential": [
            [
             0,
             "#0d0887"
            ],
            [
             0.1111111111111111,
             "#46039f"
            ],
            [
             0.2222222222222222,
             "#7201a8"
            ],
            [
             0.3333333333333333,
             "#9c179e"
            ],
            [
             0.4444444444444444,
             "#bd3786"
            ],
            [
             0.5555555555555556,
             "#d8576b"
            ],
            [
             0.6666666666666666,
             "#ed7953"
            ],
            [
             0.7777777777777778,
             "#fb9f3a"
            ],
            [
             0.8888888888888888,
             "#fdca26"
            ],
            [
             1,
             "#f0f921"
            ]
           ],
           "sequentialminus": [
            [
             0,
             "#0d0887"
            ],
            [
             0.1111111111111111,
             "#46039f"
            ],
            [
             0.2222222222222222,
             "#7201a8"
            ],
            [
             0.3333333333333333,
             "#9c179e"
            ],
            [
             0.4444444444444444,
             "#bd3786"
            ],
            [
             0.5555555555555556,
             "#d8576b"
            ],
            [
             0.6666666666666666,
             "#ed7953"
            ],
            [
             0.7777777777777778,
             "#fb9f3a"
            ],
            [
             0.8888888888888888,
             "#fdca26"
            ],
            [
             1,
             "#f0f921"
            ]
           ]
          },
          "colorway": [
           "#636efa",
           "#EF553B",
           "#00cc96",
           "#ab63fa",
           "#FFA15A",
           "#19d3f3",
           "#FF6692",
           "#B6E880",
           "#FF97FF",
           "#FECB52"
          ],
          "font": {
           "color": "#2a3f5f"
          },
          "geo": {
           "bgcolor": "white",
           "lakecolor": "white",
           "landcolor": "#E5ECF6",
           "showlakes": true,
           "showland": true,
           "subunitcolor": "white"
          },
          "hoverlabel": {
           "align": "left"
          },
          "hovermode": "closest",
          "mapbox": {
           "style": "light"
          },
          "paper_bgcolor": "white",
          "plot_bgcolor": "#E5ECF6",
          "polar": {
           "angularaxis": {
            "gridcolor": "white",
            "linecolor": "white",
            "ticks": ""
           },
           "bgcolor": "#E5ECF6",
           "radialaxis": {
            "gridcolor": "white",
            "linecolor": "white",
            "ticks": ""
           }
          },
          "scene": {
           "xaxis": {
            "backgroundcolor": "#E5ECF6",
            "gridcolor": "white",
            "gridwidth": 2,
            "linecolor": "white",
            "showbackground": true,
            "ticks": "",
            "zerolinecolor": "white"
           },
           "yaxis": {
            "backgroundcolor": "#E5ECF6",
            "gridcolor": "white",
            "gridwidth": 2,
            "linecolor": "white",
            "showbackground": true,
            "ticks": "",
            "zerolinecolor": "white"
           },
           "zaxis": {
            "backgroundcolor": "#E5ECF6",
            "gridcolor": "white",
            "gridwidth": 2,
            "linecolor": "white",
            "showbackground": true,
            "ticks": "",
            "zerolinecolor": "white"
           }
          },
          "shapedefaults": {
           "line": {
            "color": "#2a3f5f"
           }
          },
          "ternary": {
           "aaxis": {
            "gridcolor": "white",
            "linecolor": "white",
            "ticks": ""
           },
           "baxis": {
            "gridcolor": "white",
            "linecolor": "white",
            "ticks": ""
           },
           "bgcolor": "#E5ECF6",
           "caxis": {
            "gridcolor": "white",
            "linecolor": "white",
            "ticks": ""
           }
          },
          "title": {
           "x": 0.05
          },
          "xaxis": {
           "automargin": true,
           "gridcolor": "white",
           "linecolor": "white",
           "ticks": "",
           "title": {
            "standoff": 15
           },
           "zerolinecolor": "white",
           "zerolinewidth": 2
          },
          "yaxis": {
           "automargin": true,
           "gridcolor": "white",
           "linecolor": "white",
           "ticks": "",
           "title": {
            "standoff": 15
           },
           "zerolinecolor": "white",
           "zerolinewidth": 2
          }
         }
        },
        "title": {
         "text": "Bar Plot of brake_condition"
        },
        "xaxis": {
         "anchor": "y",
         "domain": [
          0,
          1
         ],
         "title": {
          "text": "brake_condition"
         }
        },
        "yaxis": {
         "anchor": "x",
         "domain": [
          0,
          1
         ],
         "title": {
          "text": "Count"
         }
        }
       }
      }
     },
     "metadata": {},
     "output_type": "display_data"
    },
    {
     "name": "stdout",
     "output_type": "stream",
     "text": [
      "Value Counts and Percentages for battery_status:\n",
      "battery_status\n",
      "New     16725\n",
      "Good    16657\n",
      "Weak    16618\n",
      "Name: count, dtype: int64\n",
      "battery_status\n",
      "New     33.45\n",
      "Good    33.31\n",
      "Weak    33.24\n",
      "Name: count, dtype: float64\n",
      "\n"
     ]
    },
    {
     "data": {
      "application/vnd.plotly.v1+json": {
       "config": {
        "plotlyServerURL": "https://plot.ly"
       },
       "data": [
        {
         "alignmentgroup": "True",
         "hovertemplate": "battery_status=%{x}<br>Count=%{y}<br>text=%{text}<extra></extra>",
         "legendgroup": "",
         "marker": {
          "color": "#636efa",
          "pattern": {
           "shape": ""
          }
         },
         "name": "",
         "offsetgroup": "",
         "orientation": "v",
         "showlegend": false,
         "text": [
          "33.45%",
          "33.31%",
          "33.24%"
         ],
         "textposition": "outside",
         "type": "bar",
         "x": [
          "New",
          "Good",
          "Weak"
         ],
         "xaxis": "x",
         "y": [
          16725,
          16657,
          16618
         ],
         "yaxis": "y"
        }
       ],
       "layout": {
        "barmode": "relative",
        "legend": {
         "tracegroupgap": 0
        },
        "template": {
         "data": {
          "bar": [
           {
            "error_x": {
             "color": "#2a3f5f"
            },
            "error_y": {
             "color": "#2a3f5f"
            },
            "marker": {
             "line": {
              "color": "#E5ECF6",
              "width": 0.5
             },
             "pattern": {
              "fillmode": "overlay",
              "size": 10,
              "solidity": 0.2
             }
            },
            "type": "bar"
           }
          ],
          "barpolar": [
           {
            "marker": {
             "line": {
              "color": "#E5ECF6",
              "width": 0.5
             },
             "pattern": {
              "fillmode": "overlay",
              "size": 10,
              "solidity": 0.2
             }
            },
            "type": "barpolar"
           }
          ],
          "carpet": [
           {
            "aaxis": {
             "endlinecolor": "#2a3f5f",
             "gridcolor": "white",
             "linecolor": "white",
             "minorgridcolor": "white",
             "startlinecolor": "#2a3f5f"
            },
            "baxis": {
             "endlinecolor": "#2a3f5f",
             "gridcolor": "white",
             "linecolor": "white",
             "minorgridcolor": "white",
             "startlinecolor": "#2a3f5f"
            },
            "type": "carpet"
           }
          ],
          "choropleth": [
           {
            "colorbar": {
             "outlinewidth": 0,
             "ticks": ""
            },
            "type": "choropleth"
           }
          ],
          "contour": [
           {
            "colorbar": {
             "outlinewidth": 0,
             "ticks": ""
            },
            "colorscale": [
             [
              0,
              "#0d0887"
             ],
             [
              0.1111111111111111,
              "#46039f"
             ],
             [
              0.2222222222222222,
              "#7201a8"
             ],
             [
              0.3333333333333333,
              "#9c179e"
             ],
             [
              0.4444444444444444,
              "#bd3786"
             ],
             [
              0.5555555555555556,
              "#d8576b"
             ],
             [
              0.6666666666666666,
              "#ed7953"
             ],
             [
              0.7777777777777778,
              "#fb9f3a"
             ],
             [
              0.8888888888888888,
              "#fdca26"
             ],
             [
              1,
              "#f0f921"
             ]
            ],
            "type": "contour"
           }
          ],
          "contourcarpet": [
           {
            "colorbar": {
             "outlinewidth": 0,
             "ticks": ""
            },
            "type": "contourcarpet"
           }
          ],
          "heatmap": [
           {
            "colorbar": {
             "outlinewidth": 0,
             "ticks": ""
            },
            "colorscale": [
             [
              0,
              "#0d0887"
             ],
             [
              0.1111111111111111,
              "#46039f"
             ],
             [
              0.2222222222222222,
              "#7201a8"
             ],
             [
              0.3333333333333333,
              "#9c179e"
             ],
             [
              0.4444444444444444,
              "#bd3786"
             ],
             [
              0.5555555555555556,
              "#d8576b"
             ],
             [
              0.6666666666666666,
              "#ed7953"
             ],
             [
              0.7777777777777778,
              "#fb9f3a"
             ],
             [
              0.8888888888888888,
              "#fdca26"
             ],
             [
              1,
              "#f0f921"
             ]
            ],
            "type": "heatmap"
           }
          ],
          "heatmapgl": [
           {
            "colorbar": {
             "outlinewidth": 0,
             "ticks": ""
            },
            "colorscale": [
             [
              0,
              "#0d0887"
             ],
             [
              0.1111111111111111,
              "#46039f"
             ],
             [
              0.2222222222222222,
              "#7201a8"
             ],
             [
              0.3333333333333333,
              "#9c179e"
             ],
             [
              0.4444444444444444,
              "#bd3786"
             ],
             [
              0.5555555555555556,
              "#d8576b"
             ],
             [
              0.6666666666666666,
              "#ed7953"
             ],
             [
              0.7777777777777778,
              "#fb9f3a"
             ],
             [
              0.8888888888888888,
              "#fdca26"
             ],
             [
              1,
              "#f0f921"
             ]
            ],
            "type": "heatmapgl"
           }
          ],
          "histogram": [
           {
            "marker": {
             "pattern": {
              "fillmode": "overlay",
              "size": 10,
              "solidity": 0.2
             }
            },
            "type": "histogram"
           }
          ],
          "histogram2d": [
           {
            "colorbar": {
             "outlinewidth": 0,
             "ticks": ""
            },
            "colorscale": [
             [
              0,
              "#0d0887"
             ],
             [
              0.1111111111111111,
              "#46039f"
             ],
             [
              0.2222222222222222,
              "#7201a8"
             ],
             [
              0.3333333333333333,
              "#9c179e"
             ],
             [
              0.4444444444444444,
              "#bd3786"
             ],
             [
              0.5555555555555556,
              "#d8576b"
             ],
             [
              0.6666666666666666,
              "#ed7953"
             ],
             [
              0.7777777777777778,
              "#fb9f3a"
             ],
             [
              0.8888888888888888,
              "#fdca26"
             ],
             [
              1,
              "#f0f921"
             ]
            ],
            "type": "histogram2d"
           }
          ],
          "histogram2dcontour": [
           {
            "colorbar": {
             "outlinewidth": 0,
             "ticks": ""
            },
            "colorscale": [
             [
              0,
              "#0d0887"
             ],
             [
              0.1111111111111111,
              "#46039f"
             ],
             [
              0.2222222222222222,
              "#7201a8"
             ],
             [
              0.3333333333333333,
              "#9c179e"
             ],
             [
              0.4444444444444444,
              "#bd3786"
             ],
             [
              0.5555555555555556,
              "#d8576b"
             ],
             [
              0.6666666666666666,
              "#ed7953"
             ],
             [
              0.7777777777777778,
              "#fb9f3a"
             ],
             [
              0.8888888888888888,
              "#fdca26"
             ],
             [
              1,
              "#f0f921"
             ]
            ],
            "type": "histogram2dcontour"
           }
          ],
          "mesh3d": [
           {
            "colorbar": {
             "outlinewidth": 0,
             "ticks": ""
            },
            "type": "mesh3d"
           }
          ],
          "parcoords": [
           {
            "line": {
             "colorbar": {
              "outlinewidth": 0,
              "ticks": ""
             }
            },
            "type": "parcoords"
           }
          ],
          "pie": [
           {
            "automargin": true,
            "type": "pie"
           }
          ],
          "scatter": [
           {
            "fillpattern": {
             "fillmode": "overlay",
             "size": 10,
             "solidity": 0.2
            },
            "type": "scatter"
           }
          ],
          "scatter3d": [
           {
            "line": {
             "colorbar": {
              "outlinewidth": 0,
              "ticks": ""
             }
            },
            "marker": {
             "colorbar": {
              "outlinewidth": 0,
              "ticks": ""
             }
            },
            "type": "scatter3d"
           }
          ],
          "scattercarpet": [
           {
            "marker": {
             "colorbar": {
              "outlinewidth": 0,
              "ticks": ""
             }
            },
            "type": "scattercarpet"
           }
          ],
          "scattergeo": [
           {
            "marker": {
             "colorbar": {
              "outlinewidth": 0,
              "ticks": ""
             }
            },
            "type": "scattergeo"
           }
          ],
          "scattergl": [
           {
            "marker": {
             "colorbar": {
              "outlinewidth": 0,
              "ticks": ""
             }
            },
            "type": "scattergl"
           }
          ],
          "scattermapbox": [
           {
            "marker": {
             "colorbar": {
              "outlinewidth": 0,
              "ticks": ""
             }
            },
            "type": "scattermapbox"
           }
          ],
          "scatterpolar": [
           {
            "marker": {
             "colorbar": {
              "outlinewidth": 0,
              "ticks": ""
             }
            },
            "type": "scatterpolar"
           }
          ],
          "scatterpolargl": [
           {
            "marker": {
             "colorbar": {
              "outlinewidth": 0,
              "ticks": ""
             }
            },
            "type": "scatterpolargl"
           }
          ],
          "scatterternary": [
           {
            "marker": {
             "colorbar": {
              "outlinewidth": 0,
              "ticks": ""
             }
            },
            "type": "scatterternary"
           }
          ],
          "surface": [
           {
            "colorbar": {
             "outlinewidth": 0,
             "ticks": ""
            },
            "colorscale": [
             [
              0,
              "#0d0887"
             ],
             [
              0.1111111111111111,
              "#46039f"
             ],
             [
              0.2222222222222222,
              "#7201a8"
             ],
             [
              0.3333333333333333,
              "#9c179e"
             ],
             [
              0.4444444444444444,
              "#bd3786"
             ],
             [
              0.5555555555555556,
              "#d8576b"
             ],
             [
              0.6666666666666666,
              "#ed7953"
             ],
             [
              0.7777777777777778,
              "#fb9f3a"
             ],
             [
              0.8888888888888888,
              "#fdca26"
             ],
             [
              1,
              "#f0f921"
             ]
            ],
            "type": "surface"
           }
          ],
          "table": [
           {
            "cells": {
             "fill": {
              "color": "#EBF0F8"
             },
             "line": {
              "color": "white"
             }
            },
            "header": {
             "fill": {
              "color": "#C8D4E3"
             },
             "line": {
              "color": "white"
             }
            },
            "type": "table"
           }
          ]
         },
         "layout": {
          "annotationdefaults": {
           "arrowcolor": "#2a3f5f",
           "arrowhead": 0,
           "arrowwidth": 1
          },
          "autotypenumbers": "strict",
          "coloraxis": {
           "colorbar": {
            "outlinewidth": 0,
            "ticks": ""
           }
          },
          "colorscale": {
           "diverging": [
            [
             0,
             "#8e0152"
            ],
            [
             0.1,
             "#c51b7d"
            ],
            [
             0.2,
             "#de77ae"
            ],
            [
             0.3,
             "#f1b6da"
            ],
            [
             0.4,
             "#fde0ef"
            ],
            [
             0.5,
             "#f7f7f7"
            ],
            [
             0.6,
             "#e6f5d0"
            ],
            [
             0.7,
             "#b8e186"
            ],
            [
             0.8,
             "#7fbc41"
            ],
            [
             0.9,
             "#4d9221"
            ],
            [
             1,
             "#276419"
            ]
           ],
           "sequential": [
            [
             0,
             "#0d0887"
            ],
            [
             0.1111111111111111,
             "#46039f"
            ],
            [
             0.2222222222222222,
             "#7201a8"
            ],
            [
             0.3333333333333333,
             "#9c179e"
            ],
            [
             0.4444444444444444,
             "#bd3786"
            ],
            [
             0.5555555555555556,
             "#d8576b"
            ],
            [
             0.6666666666666666,
             "#ed7953"
            ],
            [
             0.7777777777777778,
             "#fb9f3a"
            ],
            [
             0.8888888888888888,
             "#fdca26"
            ],
            [
             1,
             "#f0f921"
            ]
           ],
           "sequentialminus": [
            [
             0,
             "#0d0887"
            ],
            [
             0.1111111111111111,
             "#46039f"
            ],
            [
             0.2222222222222222,
             "#7201a8"
            ],
            [
             0.3333333333333333,
             "#9c179e"
            ],
            [
             0.4444444444444444,
             "#bd3786"
            ],
            [
             0.5555555555555556,
             "#d8576b"
            ],
            [
             0.6666666666666666,
             "#ed7953"
            ],
            [
             0.7777777777777778,
             "#fb9f3a"
            ],
            [
             0.8888888888888888,
             "#fdca26"
            ],
            [
             1,
             "#f0f921"
            ]
           ]
          },
          "colorway": [
           "#636efa",
           "#EF553B",
           "#00cc96",
           "#ab63fa",
           "#FFA15A",
           "#19d3f3",
           "#FF6692",
           "#B6E880",
           "#FF97FF",
           "#FECB52"
          ],
          "font": {
           "color": "#2a3f5f"
          },
          "geo": {
           "bgcolor": "white",
           "lakecolor": "white",
           "landcolor": "#E5ECF6",
           "showlakes": true,
           "showland": true,
           "subunitcolor": "white"
          },
          "hoverlabel": {
           "align": "left"
          },
          "hovermode": "closest",
          "mapbox": {
           "style": "light"
          },
          "paper_bgcolor": "white",
          "plot_bgcolor": "#E5ECF6",
          "polar": {
           "angularaxis": {
            "gridcolor": "white",
            "linecolor": "white",
            "ticks": ""
           },
           "bgcolor": "#E5ECF6",
           "radialaxis": {
            "gridcolor": "white",
            "linecolor": "white",
            "ticks": ""
           }
          },
          "scene": {
           "xaxis": {
            "backgroundcolor": "#E5ECF6",
            "gridcolor": "white",
            "gridwidth": 2,
            "linecolor": "white",
            "showbackground": true,
            "ticks": "",
            "zerolinecolor": "white"
           },
           "yaxis": {
            "backgroundcolor": "#E5ECF6",
            "gridcolor": "white",
            "gridwidth": 2,
            "linecolor": "white",
            "showbackground": true,
            "ticks": "",
            "zerolinecolor": "white"
           },
           "zaxis": {
            "backgroundcolor": "#E5ECF6",
            "gridcolor": "white",
            "gridwidth": 2,
            "linecolor": "white",
            "showbackground": true,
            "ticks": "",
            "zerolinecolor": "white"
           }
          },
          "shapedefaults": {
           "line": {
            "color": "#2a3f5f"
           }
          },
          "ternary": {
           "aaxis": {
            "gridcolor": "white",
            "linecolor": "white",
            "ticks": ""
           },
           "baxis": {
            "gridcolor": "white",
            "linecolor": "white",
            "ticks": ""
           },
           "bgcolor": "#E5ECF6",
           "caxis": {
            "gridcolor": "white",
            "linecolor": "white",
            "ticks": ""
           }
          },
          "title": {
           "x": 0.05
          },
          "xaxis": {
           "automargin": true,
           "gridcolor": "white",
           "linecolor": "white",
           "ticks": "",
           "title": {
            "standoff": 15
           },
           "zerolinecolor": "white",
           "zerolinewidth": 2
          },
          "yaxis": {
           "automargin": true,
           "gridcolor": "white",
           "linecolor": "white",
           "ticks": "",
           "title": {
            "standoff": 15
           },
           "zerolinecolor": "white",
           "zerolinewidth": 2
          }
         }
        },
        "title": {
         "text": "Bar Plot of battery_status"
        },
        "xaxis": {
         "anchor": "y",
         "domain": [
          0,
          1
         ],
         "title": {
          "text": "battery_status"
         }
        },
        "yaxis": {
         "anchor": "x",
         "domain": [
          0,
          1
         ],
         "title": {
          "text": "Count"
         }
        }
       }
      }
     },
     "metadata": {},
     "output_type": "display_data"
    }
   ],
   "source": [
    "import pandas as pd\n",
    "import plotly.express as px\n",
    "\n",
    "# Assuming 'df' is your DataFrame\n",
    "categorical_df = df.select_dtypes(include=object)\n",
    "\n",
    "for column in categorical_df.columns:\n",
    "    # Value counts and percentages\n",
    "    value_counts = categorical_df[column].value_counts()\n",
    "    percentages = (value_counts / len(categorical_df) * 100).round(2)\n",
    "    print(f\"Value Counts and Percentages for {column}:\\n{value_counts}\\n{percentages}\\n\")\n",
    "\n",
    "    # Bar plot\n",
    "    fig = px.bar(\n",
    "        x=value_counts.index,\n",
    "        y=value_counts.values,\n",
    "        title=f\"Bar Plot of {column}\",\n",
    "        labels={\"x\": column, \"y\": \"Count\"},\n",
    "        text=percentages.astype(str) + \"%\",  # Display percentages on bars\n",
    "    )\n",
    "    fig.update_traces(textposition=\"outside\")  # Position percentages outside bars\n",
    "    fig.show()"
   ]
  },
  {
   "cell_type": "code",
   "execution_count": 36,
   "metadata": {},
   "outputs": [
    {
     "name": "stdout",
     "output_type": "stream",
     "text": [
      "Value Counts and Percentages for Vehicle_Model:\n",
      "Vehicle_Model\n",
      "SUV           6751\n",
      "Bus           6706\n",
      "Van           6689\n",
      "Motorcycle    6637\n",
      "Car           6616\n",
      "Truck         6601\n",
      "Name: count, dtype: int64\n",
      "Vehicle_Model\n",
      "SUV           16.88\n",
      "Bus           16.76\n",
      "Van           16.72\n",
      "Motorcycle    16.59\n",
      "Car           16.54\n",
      "Truck         16.50\n",
      "Name: count, dtype: float64\n",
      "\n"
     ]
    },
    {
     "data": {
      "application/vnd.plotly.v1+json": {
       "config": {
        "plotlyServerURL": "https://plot.ly"
       },
       "data": [
        {
         "alignmentgroup": "True",
         "hovertemplate": "Vehicle_Model=%{x}<br>Count=%{y}<br>text=%{text}<extra></extra>",
         "legendgroup": "",
         "marker": {
          "color": "#636efa",
          "pattern": {
           "shape": ""
          }
         },
         "name": "",
         "offsetgroup": "",
         "orientation": "v",
         "showlegend": false,
         "text": [
          "16.88%",
          "16.76%",
          "16.72%",
          "16.59%",
          "16.54%",
          "16.5%"
         ],
         "textposition": "outside",
         "type": "bar",
         "x": [
          "SUV",
          "Bus",
          "Van",
          "Motorcycle",
          "Car",
          "Truck"
         ],
         "xaxis": "x",
         "y": [
          6751,
          6706,
          6689,
          6637,
          6616,
          6601
         ],
         "yaxis": "y"
        }
       ],
       "layout": {
        "barmode": "relative",
        "legend": {
         "tracegroupgap": 0
        },
        "template": {
         "data": {
          "bar": [
           {
            "error_x": {
             "color": "#2a3f5f"
            },
            "error_y": {
             "color": "#2a3f5f"
            },
            "marker": {
             "line": {
              "color": "#E5ECF6",
              "width": 0.5
             },
             "pattern": {
              "fillmode": "overlay",
              "size": 10,
              "solidity": 0.2
             }
            },
            "type": "bar"
           }
          ],
          "barpolar": [
           {
            "marker": {
             "line": {
              "color": "#E5ECF6",
              "width": 0.5
             },
             "pattern": {
              "fillmode": "overlay",
              "size": 10,
              "solidity": 0.2
             }
            },
            "type": "barpolar"
           }
          ],
          "carpet": [
           {
            "aaxis": {
             "endlinecolor": "#2a3f5f",
             "gridcolor": "white",
             "linecolor": "white",
             "minorgridcolor": "white",
             "startlinecolor": "#2a3f5f"
            },
            "baxis": {
             "endlinecolor": "#2a3f5f",
             "gridcolor": "white",
             "linecolor": "white",
             "minorgridcolor": "white",
             "startlinecolor": "#2a3f5f"
            },
            "type": "carpet"
           }
          ],
          "choropleth": [
           {
            "colorbar": {
             "outlinewidth": 0,
             "ticks": ""
            },
            "type": "choropleth"
           }
          ],
          "contour": [
           {
            "colorbar": {
             "outlinewidth": 0,
             "ticks": ""
            },
            "colorscale": [
             [
              0,
              "#0d0887"
             ],
             [
              0.1111111111111111,
              "#46039f"
             ],
             [
              0.2222222222222222,
              "#7201a8"
             ],
             [
              0.3333333333333333,
              "#9c179e"
             ],
             [
              0.4444444444444444,
              "#bd3786"
             ],
             [
              0.5555555555555556,
              "#d8576b"
             ],
             [
              0.6666666666666666,
              "#ed7953"
             ],
             [
              0.7777777777777778,
              "#fb9f3a"
             ],
             [
              0.8888888888888888,
              "#fdca26"
             ],
             [
              1,
              "#f0f921"
             ]
            ],
            "type": "contour"
           }
          ],
          "contourcarpet": [
           {
            "colorbar": {
             "outlinewidth": 0,
             "ticks": ""
            },
            "type": "contourcarpet"
           }
          ],
          "heatmap": [
           {
            "colorbar": {
             "outlinewidth": 0,
             "ticks": ""
            },
            "colorscale": [
             [
              0,
              "#0d0887"
             ],
             [
              0.1111111111111111,
              "#46039f"
             ],
             [
              0.2222222222222222,
              "#7201a8"
             ],
             [
              0.3333333333333333,
              "#9c179e"
             ],
             [
              0.4444444444444444,
              "#bd3786"
             ],
             [
              0.5555555555555556,
              "#d8576b"
             ],
             [
              0.6666666666666666,
              "#ed7953"
             ],
             [
              0.7777777777777778,
              "#fb9f3a"
             ],
             [
              0.8888888888888888,
              "#fdca26"
             ],
             [
              1,
              "#f0f921"
             ]
            ],
            "type": "heatmap"
           }
          ],
          "heatmapgl": [
           {
            "colorbar": {
             "outlinewidth": 0,
             "ticks": ""
            },
            "colorscale": [
             [
              0,
              "#0d0887"
             ],
             [
              0.1111111111111111,
              "#46039f"
             ],
             [
              0.2222222222222222,
              "#7201a8"
             ],
             [
              0.3333333333333333,
              "#9c179e"
             ],
             [
              0.4444444444444444,
              "#bd3786"
             ],
             [
              0.5555555555555556,
              "#d8576b"
             ],
             [
              0.6666666666666666,
              "#ed7953"
             ],
             [
              0.7777777777777778,
              "#fb9f3a"
             ],
             [
              0.8888888888888888,
              "#fdca26"
             ],
             [
              1,
              "#f0f921"
             ]
            ],
            "type": "heatmapgl"
           }
          ],
          "histogram": [
           {
            "marker": {
             "pattern": {
              "fillmode": "overlay",
              "size": 10,
              "solidity": 0.2
             }
            },
            "type": "histogram"
           }
          ],
          "histogram2d": [
           {
            "colorbar": {
             "outlinewidth": 0,
             "ticks": ""
            },
            "colorscale": [
             [
              0,
              "#0d0887"
             ],
             [
              0.1111111111111111,
              "#46039f"
             ],
             [
              0.2222222222222222,
              "#7201a8"
             ],
             [
              0.3333333333333333,
              "#9c179e"
             ],
             [
              0.4444444444444444,
              "#bd3786"
             ],
             [
              0.5555555555555556,
              "#d8576b"
             ],
             [
              0.6666666666666666,
              "#ed7953"
             ],
             [
              0.7777777777777778,
              "#fb9f3a"
             ],
             [
              0.8888888888888888,
              "#fdca26"
             ],
             [
              1,
              "#f0f921"
             ]
            ],
            "type": "histogram2d"
           }
          ],
          "histogram2dcontour": [
           {
            "colorbar": {
             "outlinewidth": 0,
             "ticks": ""
            },
            "colorscale": [
             [
              0,
              "#0d0887"
             ],
             [
              0.1111111111111111,
              "#46039f"
             ],
             [
              0.2222222222222222,
              "#7201a8"
             ],
             [
              0.3333333333333333,
              "#9c179e"
             ],
             [
              0.4444444444444444,
              "#bd3786"
             ],
             [
              0.5555555555555556,
              "#d8576b"
             ],
             [
              0.6666666666666666,
              "#ed7953"
             ],
             [
              0.7777777777777778,
              "#fb9f3a"
             ],
             [
              0.8888888888888888,
              "#fdca26"
             ],
             [
              1,
              "#f0f921"
             ]
            ],
            "type": "histogram2dcontour"
           }
          ],
          "mesh3d": [
           {
            "colorbar": {
             "outlinewidth": 0,
             "ticks": ""
            },
            "type": "mesh3d"
           }
          ],
          "parcoords": [
           {
            "line": {
             "colorbar": {
              "outlinewidth": 0,
              "ticks": ""
             }
            },
            "type": "parcoords"
           }
          ],
          "pie": [
           {
            "automargin": true,
            "type": "pie"
           }
          ],
          "scatter": [
           {
            "fillpattern": {
             "fillmode": "overlay",
             "size": 10,
             "solidity": 0.2
            },
            "type": "scatter"
           }
          ],
          "scatter3d": [
           {
            "line": {
             "colorbar": {
              "outlinewidth": 0,
              "ticks": ""
             }
            },
            "marker": {
             "colorbar": {
              "outlinewidth": 0,
              "ticks": ""
             }
            },
            "type": "scatter3d"
           }
          ],
          "scattercarpet": [
           {
            "marker": {
             "colorbar": {
              "outlinewidth": 0,
              "ticks": ""
             }
            },
            "type": "scattercarpet"
           }
          ],
          "scattergeo": [
           {
            "marker": {
             "colorbar": {
              "outlinewidth": 0,
              "ticks": ""
             }
            },
            "type": "scattergeo"
           }
          ],
          "scattergl": [
           {
            "marker": {
             "colorbar": {
              "outlinewidth": 0,
              "ticks": ""
             }
            },
            "type": "scattergl"
           }
          ],
          "scattermapbox": [
           {
            "marker": {
             "colorbar": {
              "outlinewidth": 0,
              "ticks": ""
             }
            },
            "type": "scattermapbox"
           }
          ],
          "scatterpolar": [
           {
            "marker": {
             "colorbar": {
              "outlinewidth": 0,
              "ticks": ""
             }
            },
            "type": "scatterpolar"
           }
          ],
          "scatterpolargl": [
           {
            "marker": {
             "colorbar": {
              "outlinewidth": 0,
              "ticks": ""
             }
            },
            "type": "scatterpolargl"
           }
          ],
          "scatterternary": [
           {
            "marker": {
             "colorbar": {
              "outlinewidth": 0,
              "ticks": ""
             }
            },
            "type": "scatterternary"
           }
          ],
          "surface": [
           {
            "colorbar": {
             "outlinewidth": 0,
             "ticks": ""
            },
            "colorscale": [
             [
              0,
              "#0d0887"
             ],
             [
              0.1111111111111111,
              "#46039f"
             ],
             [
              0.2222222222222222,
              "#7201a8"
             ],
             [
              0.3333333333333333,
              "#9c179e"
             ],
             [
              0.4444444444444444,
              "#bd3786"
             ],
             [
              0.5555555555555556,
              "#d8576b"
             ],
             [
              0.6666666666666666,
              "#ed7953"
             ],
             [
              0.7777777777777778,
              "#fb9f3a"
             ],
             [
              0.8888888888888888,
              "#fdca26"
             ],
             [
              1,
              "#f0f921"
             ]
            ],
            "type": "surface"
           }
          ],
          "table": [
           {
            "cells": {
             "fill": {
              "color": "#EBF0F8"
             },
             "line": {
              "color": "white"
             }
            },
            "header": {
             "fill": {
              "color": "#C8D4E3"
             },
             "line": {
              "color": "white"
             }
            },
            "type": "table"
           }
          ]
         },
         "layout": {
          "annotationdefaults": {
           "arrowcolor": "#2a3f5f",
           "arrowhead": 0,
           "arrowwidth": 1
          },
          "autotypenumbers": "strict",
          "coloraxis": {
           "colorbar": {
            "outlinewidth": 0,
            "ticks": ""
           }
          },
          "colorscale": {
           "diverging": [
            [
             0,
             "#8e0152"
            ],
            [
             0.1,
             "#c51b7d"
            ],
            [
             0.2,
             "#de77ae"
            ],
            [
             0.3,
             "#f1b6da"
            ],
            [
             0.4,
             "#fde0ef"
            ],
            [
             0.5,
             "#f7f7f7"
            ],
            [
             0.6,
             "#e6f5d0"
            ],
            [
             0.7,
             "#b8e186"
            ],
            [
             0.8,
             "#7fbc41"
            ],
            [
             0.9,
             "#4d9221"
            ],
            [
             1,
             "#276419"
            ]
           ],
           "sequential": [
            [
             0,
             "#0d0887"
            ],
            [
             0.1111111111111111,
             "#46039f"
            ],
            [
             0.2222222222222222,
             "#7201a8"
            ],
            [
             0.3333333333333333,
             "#9c179e"
            ],
            [
             0.4444444444444444,
             "#bd3786"
            ],
            [
             0.5555555555555556,
             "#d8576b"
            ],
            [
             0.6666666666666666,
             "#ed7953"
            ],
            [
             0.7777777777777778,
             "#fb9f3a"
            ],
            [
             0.8888888888888888,
             "#fdca26"
            ],
            [
             1,
             "#f0f921"
            ]
           ],
           "sequentialminus": [
            [
             0,
             "#0d0887"
            ],
            [
             0.1111111111111111,
             "#46039f"
            ],
            [
             0.2222222222222222,
             "#7201a8"
            ],
            [
             0.3333333333333333,
             "#9c179e"
            ],
            [
             0.4444444444444444,
             "#bd3786"
            ],
            [
             0.5555555555555556,
             "#d8576b"
            ],
            [
             0.6666666666666666,
             "#ed7953"
            ],
            [
             0.7777777777777778,
             "#fb9f3a"
            ],
            [
             0.8888888888888888,
             "#fdca26"
            ],
            [
             1,
             "#f0f921"
            ]
           ]
          },
          "colorway": [
           "#636efa",
           "#EF553B",
           "#00cc96",
           "#ab63fa",
           "#FFA15A",
           "#19d3f3",
           "#FF6692",
           "#B6E880",
           "#FF97FF",
           "#FECB52"
          ],
          "font": {
           "color": "#2a3f5f"
          },
          "geo": {
           "bgcolor": "white",
           "lakecolor": "white",
           "landcolor": "#E5ECF6",
           "showlakes": true,
           "showland": true,
           "subunitcolor": "white"
          },
          "hoverlabel": {
           "align": "left"
          },
          "hovermode": "closest",
          "mapbox": {
           "style": "light"
          },
          "paper_bgcolor": "white",
          "plot_bgcolor": "#E5ECF6",
          "polar": {
           "angularaxis": {
            "gridcolor": "white",
            "linecolor": "white",
            "ticks": ""
           },
           "bgcolor": "#E5ECF6",
           "radialaxis": {
            "gridcolor": "white",
            "linecolor": "white",
            "ticks": ""
           }
          },
          "scene": {
           "xaxis": {
            "backgroundcolor": "#E5ECF6",
            "gridcolor": "white",
            "gridwidth": 2,
            "linecolor": "white",
            "showbackground": true,
            "ticks": "",
            "zerolinecolor": "white"
           },
           "yaxis": {
            "backgroundcolor": "#E5ECF6",
            "gridcolor": "white",
            "gridwidth": 2,
            "linecolor": "white",
            "showbackground": true,
            "ticks": "",
            "zerolinecolor": "white"
           },
           "zaxis": {
            "backgroundcolor": "#E5ECF6",
            "gridcolor": "white",
            "gridwidth": 2,
            "linecolor": "white",
            "showbackground": true,
            "ticks": "",
            "zerolinecolor": "white"
           }
          },
          "shapedefaults": {
           "line": {
            "color": "#2a3f5f"
           }
          },
          "ternary": {
           "aaxis": {
            "gridcolor": "white",
            "linecolor": "white",
            "ticks": ""
           },
           "baxis": {
            "gridcolor": "white",
            "linecolor": "white",
            "ticks": ""
           },
           "bgcolor": "#E5ECF6",
           "caxis": {
            "gridcolor": "white",
            "linecolor": "white",
            "ticks": ""
           }
          },
          "title": {
           "x": 0.05
          },
          "xaxis": {
           "automargin": true,
           "gridcolor": "white",
           "linecolor": "white",
           "ticks": "",
           "title": {
            "standoff": 15
           },
           "zerolinecolor": "white",
           "zerolinewidth": 2
          },
          "yaxis": {
           "automargin": true,
           "gridcolor": "white",
           "linecolor": "white",
           "ticks": "",
           "title": {
            "standoff": 15
           },
           "zerolinecolor": "white",
           "zerolinewidth": 2
          }
         }
        },
        "title": {
         "text": "Bar Plot of Vehicle_Model"
        },
        "xaxis": {
         "anchor": "y",
         "domain": [
          0,
          1
         ],
         "title": {
          "text": "Vehicle_Model"
         }
        },
        "yaxis": {
         "anchor": "x",
         "domain": [
          0,
          1
         ],
         "title": {
          "text": "Count"
         }
        }
       }
      }
     },
     "metadata": {},
     "output_type": "display_data"
    },
    {
     "name": "stdout",
     "output_type": "stream",
     "text": [
      "Value Counts and Percentages for Maintenance_History:\n",
      "Maintenance_History\n",
      "Good       13403\n",
      "Average    13385\n",
      "Poor       13212\n",
      "Name: count, dtype: int64\n",
      "Maintenance_History\n",
      "Good       33.51\n",
      "Average    33.46\n",
      "Poor       33.03\n",
      "Name: count, dtype: float64\n",
      "\n"
     ]
    },
    {
     "data": {
      "application/vnd.plotly.v1+json": {
       "config": {
        "plotlyServerURL": "https://plot.ly"
       },
       "data": [
        {
         "alignmentgroup": "True",
         "hovertemplate": "Maintenance_History=%{x}<br>Count=%{y}<br>text=%{text}<extra></extra>",
         "legendgroup": "",
         "marker": {
          "color": "#636efa",
          "pattern": {
           "shape": ""
          }
         },
         "name": "",
         "offsetgroup": "",
         "orientation": "v",
         "showlegend": false,
         "text": [
          "33.51%",
          "33.46%",
          "33.03%"
         ],
         "textposition": "outside",
         "type": "bar",
         "x": [
          "Good",
          "Average",
          "Poor"
         ],
         "xaxis": "x",
         "y": [
          13403,
          13385,
          13212
         ],
         "yaxis": "y"
        }
       ],
       "layout": {
        "barmode": "relative",
        "legend": {
         "tracegroupgap": 0
        },
        "template": {
         "data": {
          "bar": [
           {
            "error_x": {
             "color": "#2a3f5f"
            },
            "error_y": {
             "color": "#2a3f5f"
            },
            "marker": {
             "line": {
              "color": "#E5ECF6",
              "width": 0.5
             },
             "pattern": {
              "fillmode": "overlay",
              "size": 10,
              "solidity": 0.2
             }
            },
            "type": "bar"
           }
          ],
          "barpolar": [
           {
            "marker": {
             "line": {
              "color": "#E5ECF6",
              "width": 0.5
             },
             "pattern": {
              "fillmode": "overlay",
              "size": 10,
              "solidity": 0.2
             }
            },
            "type": "barpolar"
           }
          ],
          "carpet": [
           {
            "aaxis": {
             "endlinecolor": "#2a3f5f",
             "gridcolor": "white",
             "linecolor": "white",
             "minorgridcolor": "white",
             "startlinecolor": "#2a3f5f"
            },
            "baxis": {
             "endlinecolor": "#2a3f5f",
             "gridcolor": "white",
             "linecolor": "white",
             "minorgridcolor": "white",
             "startlinecolor": "#2a3f5f"
            },
            "type": "carpet"
           }
          ],
          "choropleth": [
           {
            "colorbar": {
             "outlinewidth": 0,
             "ticks": ""
            },
            "type": "choropleth"
           }
          ],
          "contour": [
           {
            "colorbar": {
             "outlinewidth": 0,
             "ticks": ""
            },
            "colorscale": [
             [
              0,
              "#0d0887"
             ],
             [
              0.1111111111111111,
              "#46039f"
             ],
             [
              0.2222222222222222,
              "#7201a8"
             ],
             [
              0.3333333333333333,
              "#9c179e"
             ],
             [
              0.4444444444444444,
              "#bd3786"
             ],
             [
              0.5555555555555556,
              "#d8576b"
             ],
             [
              0.6666666666666666,
              "#ed7953"
             ],
             [
              0.7777777777777778,
              "#fb9f3a"
             ],
             [
              0.8888888888888888,
              "#fdca26"
             ],
             [
              1,
              "#f0f921"
             ]
            ],
            "type": "contour"
           }
          ],
          "contourcarpet": [
           {
            "colorbar": {
             "outlinewidth": 0,
             "ticks": ""
            },
            "type": "contourcarpet"
           }
          ],
          "heatmap": [
           {
            "colorbar": {
             "outlinewidth": 0,
             "ticks": ""
            },
            "colorscale": [
             [
              0,
              "#0d0887"
             ],
             [
              0.1111111111111111,
              "#46039f"
             ],
             [
              0.2222222222222222,
              "#7201a8"
             ],
             [
              0.3333333333333333,
              "#9c179e"
             ],
             [
              0.4444444444444444,
              "#bd3786"
             ],
             [
              0.5555555555555556,
              "#d8576b"
             ],
             [
              0.6666666666666666,
              "#ed7953"
             ],
             [
              0.7777777777777778,
              "#fb9f3a"
             ],
             [
              0.8888888888888888,
              "#fdca26"
             ],
             [
              1,
              "#f0f921"
             ]
            ],
            "type": "heatmap"
           }
          ],
          "heatmapgl": [
           {
            "colorbar": {
             "outlinewidth": 0,
             "ticks": ""
            },
            "colorscale": [
             [
              0,
              "#0d0887"
             ],
             [
              0.1111111111111111,
              "#46039f"
             ],
             [
              0.2222222222222222,
              "#7201a8"
             ],
             [
              0.3333333333333333,
              "#9c179e"
             ],
             [
              0.4444444444444444,
              "#bd3786"
             ],
             [
              0.5555555555555556,
              "#d8576b"
             ],
             [
              0.6666666666666666,
              "#ed7953"
             ],
             [
              0.7777777777777778,
              "#fb9f3a"
             ],
             [
              0.8888888888888888,
              "#fdca26"
             ],
             [
              1,
              "#f0f921"
             ]
            ],
            "type": "heatmapgl"
           }
          ],
          "histogram": [
           {
            "marker": {
             "pattern": {
              "fillmode": "overlay",
              "size": 10,
              "solidity": 0.2
             }
            },
            "type": "histogram"
           }
          ],
          "histogram2d": [
           {
            "colorbar": {
             "outlinewidth": 0,
             "ticks": ""
            },
            "colorscale": [
             [
              0,
              "#0d0887"
             ],
             [
              0.1111111111111111,
              "#46039f"
             ],
             [
              0.2222222222222222,
              "#7201a8"
             ],
             [
              0.3333333333333333,
              "#9c179e"
             ],
             [
              0.4444444444444444,
              "#bd3786"
             ],
             [
              0.5555555555555556,
              "#d8576b"
             ],
             [
              0.6666666666666666,
              "#ed7953"
             ],
             [
              0.7777777777777778,
              "#fb9f3a"
             ],
             [
              0.8888888888888888,
              "#fdca26"
             ],
             [
              1,
              "#f0f921"
             ]
            ],
            "type": "histogram2d"
           }
          ],
          "histogram2dcontour": [
           {
            "colorbar": {
             "outlinewidth": 0,
             "ticks": ""
            },
            "colorscale": [
             [
              0,
              "#0d0887"
             ],
             [
              0.1111111111111111,
              "#46039f"
             ],
             [
              0.2222222222222222,
              "#7201a8"
             ],
             [
              0.3333333333333333,
              "#9c179e"
             ],
             [
              0.4444444444444444,
              "#bd3786"
             ],
             [
              0.5555555555555556,
              "#d8576b"
             ],
             [
              0.6666666666666666,
              "#ed7953"
             ],
             [
              0.7777777777777778,
              "#fb9f3a"
             ],
             [
              0.8888888888888888,
              "#fdca26"
             ],
             [
              1,
              "#f0f921"
             ]
            ],
            "type": "histogram2dcontour"
           }
          ],
          "mesh3d": [
           {
            "colorbar": {
             "outlinewidth": 0,
             "ticks": ""
            },
            "type": "mesh3d"
           }
          ],
          "parcoords": [
           {
            "line": {
             "colorbar": {
              "outlinewidth": 0,
              "ticks": ""
             }
            },
            "type": "parcoords"
           }
          ],
          "pie": [
           {
            "automargin": true,
            "type": "pie"
           }
          ],
          "scatter": [
           {
            "fillpattern": {
             "fillmode": "overlay",
             "size": 10,
             "solidity": 0.2
            },
            "type": "scatter"
           }
          ],
          "scatter3d": [
           {
            "line": {
             "colorbar": {
              "outlinewidth": 0,
              "ticks": ""
             }
            },
            "marker": {
             "colorbar": {
              "outlinewidth": 0,
              "ticks": ""
             }
            },
            "type": "scatter3d"
           }
          ],
          "scattercarpet": [
           {
            "marker": {
             "colorbar": {
              "outlinewidth": 0,
              "ticks": ""
             }
            },
            "type": "scattercarpet"
           }
          ],
          "scattergeo": [
           {
            "marker": {
             "colorbar": {
              "outlinewidth": 0,
              "ticks": ""
             }
            },
            "type": "scattergeo"
           }
          ],
          "scattergl": [
           {
            "marker": {
             "colorbar": {
              "outlinewidth": 0,
              "ticks": ""
             }
            },
            "type": "scattergl"
           }
          ],
          "scattermapbox": [
           {
            "marker": {
             "colorbar": {
              "outlinewidth": 0,
              "ticks": ""
             }
            },
            "type": "scattermapbox"
           }
          ],
          "scatterpolar": [
           {
            "marker": {
             "colorbar": {
              "outlinewidth": 0,
              "ticks": ""
             }
            },
            "type": "scatterpolar"
           }
          ],
          "scatterpolargl": [
           {
            "marker": {
             "colorbar": {
              "outlinewidth": 0,
              "ticks": ""
             }
            },
            "type": "scatterpolargl"
           }
          ],
          "scatterternary": [
           {
            "marker": {
             "colorbar": {
              "outlinewidth": 0,
              "ticks": ""
             }
            },
            "type": "scatterternary"
           }
          ],
          "surface": [
           {
            "colorbar": {
             "outlinewidth": 0,
             "ticks": ""
            },
            "colorscale": [
             [
              0,
              "#0d0887"
             ],
             [
              0.1111111111111111,
              "#46039f"
             ],
             [
              0.2222222222222222,
              "#7201a8"
             ],
             [
              0.3333333333333333,
              "#9c179e"
             ],
             [
              0.4444444444444444,
              "#bd3786"
             ],
             [
              0.5555555555555556,
              "#d8576b"
             ],
             [
              0.6666666666666666,
              "#ed7953"
             ],
             [
              0.7777777777777778,
              "#fb9f3a"
             ],
             [
              0.8888888888888888,
              "#fdca26"
             ],
             [
              1,
              "#f0f921"
             ]
            ],
            "type": "surface"
           }
          ],
          "table": [
           {
            "cells": {
             "fill": {
              "color": "#EBF0F8"
             },
             "line": {
              "color": "white"
             }
            },
            "header": {
             "fill": {
              "color": "#C8D4E3"
             },
             "line": {
              "color": "white"
             }
            },
            "type": "table"
           }
          ]
         },
         "layout": {
          "annotationdefaults": {
           "arrowcolor": "#2a3f5f",
           "arrowhead": 0,
           "arrowwidth": 1
          },
          "autotypenumbers": "strict",
          "coloraxis": {
           "colorbar": {
            "outlinewidth": 0,
            "ticks": ""
           }
          },
          "colorscale": {
           "diverging": [
            [
             0,
             "#8e0152"
            ],
            [
             0.1,
             "#c51b7d"
            ],
            [
             0.2,
             "#de77ae"
            ],
            [
             0.3,
             "#f1b6da"
            ],
            [
             0.4,
             "#fde0ef"
            ],
            [
             0.5,
             "#f7f7f7"
            ],
            [
             0.6,
             "#e6f5d0"
            ],
            [
             0.7,
             "#b8e186"
            ],
            [
             0.8,
             "#7fbc41"
            ],
            [
             0.9,
             "#4d9221"
            ],
            [
             1,
             "#276419"
            ]
           ],
           "sequential": [
            [
             0,
             "#0d0887"
            ],
            [
             0.1111111111111111,
             "#46039f"
            ],
            [
             0.2222222222222222,
             "#7201a8"
            ],
            [
             0.3333333333333333,
             "#9c179e"
            ],
            [
             0.4444444444444444,
             "#bd3786"
            ],
            [
             0.5555555555555556,
             "#d8576b"
            ],
            [
             0.6666666666666666,
             "#ed7953"
            ],
            [
             0.7777777777777778,
             "#fb9f3a"
            ],
            [
             0.8888888888888888,
             "#fdca26"
            ],
            [
             1,
             "#f0f921"
            ]
           ],
           "sequentialminus": [
            [
             0,
             "#0d0887"
            ],
            [
             0.1111111111111111,
             "#46039f"
            ],
            [
             0.2222222222222222,
             "#7201a8"
            ],
            [
             0.3333333333333333,
             "#9c179e"
            ],
            [
             0.4444444444444444,
             "#bd3786"
            ],
            [
             0.5555555555555556,
             "#d8576b"
            ],
            [
             0.6666666666666666,
             "#ed7953"
            ],
            [
             0.7777777777777778,
             "#fb9f3a"
            ],
            [
             0.8888888888888888,
             "#fdca26"
            ],
            [
             1,
             "#f0f921"
            ]
           ]
          },
          "colorway": [
           "#636efa",
           "#EF553B",
           "#00cc96",
           "#ab63fa",
           "#FFA15A",
           "#19d3f3",
           "#FF6692",
           "#B6E880",
           "#FF97FF",
           "#FECB52"
          ],
          "font": {
           "color": "#2a3f5f"
          },
          "geo": {
           "bgcolor": "white",
           "lakecolor": "white",
           "landcolor": "#E5ECF6",
           "showlakes": true,
           "showland": true,
           "subunitcolor": "white"
          },
          "hoverlabel": {
           "align": "left"
          },
          "hovermode": "closest",
          "mapbox": {
           "style": "light"
          },
          "paper_bgcolor": "white",
          "plot_bgcolor": "#E5ECF6",
          "polar": {
           "angularaxis": {
            "gridcolor": "white",
            "linecolor": "white",
            "ticks": ""
           },
           "bgcolor": "#E5ECF6",
           "radialaxis": {
            "gridcolor": "white",
            "linecolor": "white",
            "ticks": ""
           }
          },
          "scene": {
           "xaxis": {
            "backgroundcolor": "#E5ECF6",
            "gridcolor": "white",
            "gridwidth": 2,
            "linecolor": "white",
            "showbackground": true,
            "ticks": "",
            "zerolinecolor": "white"
           },
           "yaxis": {
            "backgroundcolor": "#E5ECF6",
            "gridcolor": "white",
            "gridwidth": 2,
            "linecolor": "white",
            "showbackground": true,
            "ticks": "",
            "zerolinecolor": "white"
           },
           "zaxis": {
            "backgroundcolor": "#E5ECF6",
            "gridcolor": "white",
            "gridwidth": 2,
            "linecolor": "white",
            "showbackground": true,
            "ticks": "",
            "zerolinecolor": "white"
           }
          },
          "shapedefaults": {
           "line": {
            "color": "#2a3f5f"
           }
          },
          "ternary": {
           "aaxis": {
            "gridcolor": "white",
            "linecolor": "white",
            "ticks": ""
           },
           "baxis": {
            "gridcolor": "white",
            "linecolor": "white",
            "ticks": ""
           },
           "bgcolor": "#E5ECF6",
           "caxis": {
            "gridcolor": "white",
            "linecolor": "white",
            "ticks": ""
           }
          },
          "title": {
           "x": 0.05
          },
          "xaxis": {
           "automargin": true,
           "gridcolor": "white",
           "linecolor": "white",
           "ticks": "",
           "title": {
            "standoff": 15
           },
           "zerolinecolor": "white",
           "zerolinewidth": 2
          },
          "yaxis": {
           "automargin": true,
           "gridcolor": "white",
           "linecolor": "white",
           "ticks": "",
           "title": {
            "standoff": 15
           },
           "zerolinecolor": "white",
           "zerolinewidth": 2
          }
         }
        },
        "title": {
         "text": "Bar Plot of Maintenance_History"
        },
        "xaxis": {
         "anchor": "y",
         "domain": [
          0,
          1
         ],
         "title": {
          "text": "Maintenance_History"
         }
        },
        "yaxis": {
         "anchor": "x",
         "domain": [
          0,
          1
         ],
         "title": {
          "text": "Count"
         }
        }
       }
      }
     },
     "metadata": {},
     "output_type": "display_data"
    },
    {
     "name": "stdout",
     "output_type": "stream",
     "text": [
      "Value Counts and Percentages for Fuel_Type:\n",
      "Fuel_Type\n",
      "Diesel      13403\n",
      "Petrol      13308\n",
      "Electric    13289\n",
      "Name: count, dtype: int64\n",
      "Fuel_Type\n",
      "Diesel      33.51\n",
      "Petrol      33.27\n",
      "Electric    33.22\n",
      "Name: count, dtype: float64\n",
      "\n"
     ]
    },
    {
     "data": {
      "application/vnd.plotly.v1+json": {
       "config": {
        "plotlyServerURL": "https://plot.ly"
       },
       "data": [
        {
         "alignmentgroup": "True",
         "hovertemplate": "Fuel_Type=%{x}<br>Count=%{y}<br>text=%{text}<extra></extra>",
         "legendgroup": "",
         "marker": {
          "color": "#636efa",
          "pattern": {
           "shape": ""
          }
         },
         "name": "",
         "offsetgroup": "",
         "orientation": "v",
         "showlegend": false,
         "text": [
          "33.51%",
          "33.27%",
          "33.22%"
         ],
         "textposition": "outside",
         "type": "bar",
         "x": [
          "Diesel",
          "Petrol",
          "Electric"
         ],
         "xaxis": "x",
         "y": [
          13403,
          13308,
          13289
         ],
         "yaxis": "y"
        }
       ],
       "layout": {
        "barmode": "relative",
        "legend": {
         "tracegroupgap": 0
        },
        "template": {
         "data": {
          "bar": [
           {
            "error_x": {
             "color": "#2a3f5f"
            },
            "error_y": {
             "color": "#2a3f5f"
            },
            "marker": {
             "line": {
              "color": "#E5ECF6",
              "width": 0.5
             },
             "pattern": {
              "fillmode": "overlay",
              "size": 10,
              "solidity": 0.2
             }
            },
            "type": "bar"
           }
          ],
          "barpolar": [
           {
            "marker": {
             "line": {
              "color": "#E5ECF6",
              "width": 0.5
             },
             "pattern": {
              "fillmode": "overlay",
              "size": 10,
              "solidity": 0.2
             }
            },
            "type": "barpolar"
           }
          ],
          "carpet": [
           {
            "aaxis": {
             "endlinecolor": "#2a3f5f",
             "gridcolor": "white",
             "linecolor": "white",
             "minorgridcolor": "white",
             "startlinecolor": "#2a3f5f"
            },
            "baxis": {
             "endlinecolor": "#2a3f5f",
             "gridcolor": "white",
             "linecolor": "white",
             "minorgridcolor": "white",
             "startlinecolor": "#2a3f5f"
            },
            "type": "carpet"
           }
          ],
          "choropleth": [
           {
            "colorbar": {
             "outlinewidth": 0,
             "ticks": ""
            },
            "type": "choropleth"
           }
          ],
          "contour": [
           {
            "colorbar": {
             "outlinewidth": 0,
             "ticks": ""
            },
            "colorscale": [
             [
              0,
              "#0d0887"
             ],
             [
              0.1111111111111111,
              "#46039f"
             ],
             [
              0.2222222222222222,
              "#7201a8"
             ],
             [
              0.3333333333333333,
              "#9c179e"
             ],
             [
              0.4444444444444444,
              "#bd3786"
             ],
             [
              0.5555555555555556,
              "#d8576b"
             ],
             [
              0.6666666666666666,
              "#ed7953"
             ],
             [
              0.7777777777777778,
              "#fb9f3a"
             ],
             [
              0.8888888888888888,
              "#fdca26"
             ],
             [
              1,
              "#f0f921"
             ]
            ],
            "type": "contour"
           }
          ],
          "contourcarpet": [
           {
            "colorbar": {
             "outlinewidth": 0,
             "ticks": ""
            },
            "type": "contourcarpet"
           }
          ],
          "heatmap": [
           {
            "colorbar": {
             "outlinewidth": 0,
             "ticks": ""
            },
            "colorscale": [
             [
              0,
              "#0d0887"
             ],
             [
              0.1111111111111111,
              "#46039f"
             ],
             [
              0.2222222222222222,
              "#7201a8"
             ],
             [
              0.3333333333333333,
              "#9c179e"
             ],
             [
              0.4444444444444444,
              "#bd3786"
             ],
             [
              0.5555555555555556,
              "#d8576b"
             ],
             [
              0.6666666666666666,
              "#ed7953"
             ],
             [
              0.7777777777777778,
              "#fb9f3a"
             ],
             [
              0.8888888888888888,
              "#fdca26"
             ],
             [
              1,
              "#f0f921"
             ]
            ],
            "type": "heatmap"
           }
          ],
          "heatmapgl": [
           {
            "colorbar": {
             "outlinewidth": 0,
             "ticks": ""
            },
            "colorscale": [
             [
              0,
              "#0d0887"
             ],
             [
              0.1111111111111111,
              "#46039f"
             ],
             [
              0.2222222222222222,
              "#7201a8"
             ],
             [
              0.3333333333333333,
              "#9c179e"
             ],
             [
              0.4444444444444444,
              "#bd3786"
             ],
             [
              0.5555555555555556,
              "#d8576b"
             ],
             [
              0.6666666666666666,
              "#ed7953"
             ],
             [
              0.7777777777777778,
              "#fb9f3a"
             ],
             [
              0.8888888888888888,
              "#fdca26"
             ],
             [
              1,
              "#f0f921"
             ]
            ],
            "type": "heatmapgl"
           }
          ],
          "histogram": [
           {
            "marker": {
             "pattern": {
              "fillmode": "overlay",
              "size": 10,
              "solidity": 0.2
             }
            },
            "type": "histogram"
           }
          ],
          "histogram2d": [
           {
            "colorbar": {
             "outlinewidth": 0,
             "ticks": ""
            },
            "colorscale": [
             [
              0,
              "#0d0887"
             ],
             [
              0.1111111111111111,
              "#46039f"
             ],
             [
              0.2222222222222222,
              "#7201a8"
             ],
             [
              0.3333333333333333,
              "#9c179e"
             ],
             [
              0.4444444444444444,
              "#bd3786"
             ],
             [
              0.5555555555555556,
              "#d8576b"
             ],
             [
              0.6666666666666666,
              "#ed7953"
             ],
             [
              0.7777777777777778,
              "#fb9f3a"
             ],
             [
              0.8888888888888888,
              "#fdca26"
             ],
             [
              1,
              "#f0f921"
             ]
            ],
            "type": "histogram2d"
           }
          ],
          "histogram2dcontour": [
           {
            "colorbar": {
             "outlinewidth": 0,
             "ticks": ""
            },
            "colorscale": [
             [
              0,
              "#0d0887"
             ],
             [
              0.1111111111111111,
              "#46039f"
             ],
             [
              0.2222222222222222,
              "#7201a8"
             ],
             [
              0.3333333333333333,
              "#9c179e"
             ],
             [
              0.4444444444444444,
              "#bd3786"
             ],
             [
              0.5555555555555556,
              "#d8576b"
             ],
             [
              0.6666666666666666,
              "#ed7953"
             ],
             [
              0.7777777777777778,
              "#fb9f3a"
             ],
             [
              0.8888888888888888,
              "#fdca26"
             ],
             [
              1,
              "#f0f921"
             ]
            ],
            "type": "histogram2dcontour"
           }
          ],
          "mesh3d": [
           {
            "colorbar": {
             "outlinewidth": 0,
             "ticks": ""
            },
            "type": "mesh3d"
           }
          ],
          "parcoords": [
           {
            "line": {
             "colorbar": {
              "outlinewidth": 0,
              "ticks": ""
             }
            },
            "type": "parcoords"
           }
          ],
          "pie": [
           {
            "automargin": true,
            "type": "pie"
           }
          ],
          "scatter": [
           {
            "fillpattern": {
             "fillmode": "overlay",
             "size": 10,
             "solidity": 0.2
            },
            "type": "scatter"
           }
          ],
          "scatter3d": [
           {
            "line": {
             "colorbar": {
              "outlinewidth": 0,
              "ticks": ""
             }
            },
            "marker": {
             "colorbar": {
              "outlinewidth": 0,
              "ticks": ""
             }
            },
            "type": "scatter3d"
           }
          ],
          "scattercarpet": [
           {
            "marker": {
             "colorbar": {
              "outlinewidth": 0,
              "ticks": ""
             }
            },
            "type": "scattercarpet"
           }
          ],
          "scattergeo": [
           {
            "marker": {
             "colorbar": {
              "outlinewidth": 0,
              "ticks": ""
             }
            },
            "type": "scattergeo"
           }
          ],
          "scattergl": [
           {
            "marker": {
             "colorbar": {
              "outlinewidth": 0,
              "ticks": ""
             }
            },
            "type": "scattergl"
           }
          ],
          "scattermapbox": [
           {
            "marker": {
             "colorbar": {
              "outlinewidth": 0,
              "ticks": ""
             }
            },
            "type": "scattermapbox"
           }
          ],
          "scatterpolar": [
           {
            "marker": {
             "colorbar": {
              "outlinewidth": 0,
              "ticks": ""
             }
            },
            "type": "scatterpolar"
           }
          ],
          "scatterpolargl": [
           {
            "marker": {
             "colorbar": {
              "outlinewidth": 0,
              "ticks": ""
             }
            },
            "type": "scatterpolargl"
           }
          ],
          "scatterternary": [
           {
            "marker": {
             "colorbar": {
              "outlinewidth": 0,
              "ticks": ""
             }
            },
            "type": "scatterternary"
           }
          ],
          "surface": [
           {
            "colorbar": {
             "outlinewidth": 0,
             "ticks": ""
            },
            "colorscale": [
             [
              0,
              "#0d0887"
             ],
             [
              0.1111111111111111,
              "#46039f"
             ],
             [
              0.2222222222222222,
              "#7201a8"
             ],
             [
              0.3333333333333333,
              "#9c179e"
             ],
             [
              0.4444444444444444,
              "#bd3786"
             ],
             [
              0.5555555555555556,
              "#d8576b"
             ],
             [
              0.6666666666666666,
              "#ed7953"
             ],
             [
              0.7777777777777778,
              "#fb9f3a"
             ],
             [
              0.8888888888888888,
              "#fdca26"
             ],
             [
              1,
              "#f0f921"
             ]
            ],
            "type": "surface"
           }
          ],
          "table": [
           {
            "cells": {
             "fill": {
              "color": "#EBF0F8"
             },
             "line": {
              "color": "white"
             }
            },
            "header": {
             "fill": {
              "color": "#C8D4E3"
             },
             "line": {
              "color": "white"
             }
            },
            "type": "table"
           }
          ]
         },
         "layout": {
          "annotationdefaults": {
           "arrowcolor": "#2a3f5f",
           "arrowhead": 0,
           "arrowwidth": 1
          },
          "autotypenumbers": "strict",
          "coloraxis": {
           "colorbar": {
            "outlinewidth": 0,
            "ticks": ""
           }
          },
          "colorscale": {
           "diverging": [
            [
             0,
             "#8e0152"
            ],
            [
             0.1,
             "#c51b7d"
            ],
            [
             0.2,
             "#de77ae"
            ],
            [
             0.3,
             "#f1b6da"
            ],
            [
             0.4,
             "#fde0ef"
            ],
            [
             0.5,
             "#f7f7f7"
            ],
            [
             0.6,
             "#e6f5d0"
            ],
            [
             0.7,
             "#b8e186"
            ],
            [
             0.8,
             "#7fbc41"
            ],
            [
             0.9,
             "#4d9221"
            ],
            [
             1,
             "#276419"
            ]
           ],
           "sequential": [
            [
             0,
             "#0d0887"
            ],
            [
             0.1111111111111111,
             "#46039f"
            ],
            [
             0.2222222222222222,
             "#7201a8"
            ],
            [
             0.3333333333333333,
             "#9c179e"
            ],
            [
             0.4444444444444444,
             "#bd3786"
            ],
            [
             0.5555555555555556,
             "#d8576b"
            ],
            [
             0.6666666666666666,
             "#ed7953"
            ],
            [
             0.7777777777777778,
             "#fb9f3a"
            ],
            [
             0.8888888888888888,
             "#fdca26"
            ],
            [
             1,
             "#f0f921"
            ]
           ],
           "sequentialminus": [
            [
             0,
             "#0d0887"
            ],
            [
             0.1111111111111111,
             "#46039f"
            ],
            [
             0.2222222222222222,
             "#7201a8"
            ],
            [
             0.3333333333333333,
             "#9c179e"
            ],
            [
             0.4444444444444444,
             "#bd3786"
            ],
            [
             0.5555555555555556,
             "#d8576b"
            ],
            [
             0.6666666666666666,
             "#ed7953"
            ],
            [
             0.7777777777777778,
             "#fb9f3a"
            ],
            [
             0.8888888888888888,
             "#fdca26"
            ],
            [
             1,
             "#f0f921"
            ]
           ]
          },
          "colorway": [
           "#636efa",
           "#EF553B",
           "#00cc96",
           "#ab63fa",
           "#FFA15A",
           "#19d3f3",
           "#FF6692",
           "#B6E880",
           "#FF97FF",
           "#FECB52"
          ],
          "font": {
           "color": "#2a3f5f"
          },
          "geo": {
           "bgcolor": "white",
           "lakecolor": "white",
           "landcolor": "#E5ECF6",
           "showlakes": true,
           "showland": true,
           "subunitcolor": "white"
          },
          "hoverlabel": {
           "align": "left"
          },
          "hovermode": "closest",
          "mapbox": {
           "style": "light"
          },
          "paper_bgcolor": "white",
          "plot_bgcolor": "#E5ECF6",
          "polar": {
           "angularaxis": {
            "gridcolor": "white",
            "linecolor": "white",
            "ticks": ""
           },
           "bgcolor": "#E5ECF6",
           "radialaxis": {
            "gridcolor": "white",
            "linecolor": "white",
            "ticks": ""
           }
          },
          "scene": {
           "xaxis": {
            "backgroundcolor": "#E5ECF6",
            "gridcolor": "white",
            "gridwidth": 2,
            "linecolor": "white",
            "showbackground": true,
            "ticks": "",
            "zerolinecolor": "white"
           },
           "yaxis": {
            "backgroundcolor": "#E5ECF6",
            "gridcolor": "white",
            "gridwidth": 2,
            "linecolor": "white",
            "showbackground": true,
            "ticks": "",
            "zerolinecolor": "white"
           },
           "zaxis": {
            "backgroundcolor": "#E5ECF6",
            "gridcolor": "white",
            "gridwidth": 2,
            "linecolor": "white",
            "showbackground": true,
            "ticks": "",
            "zerolinecolor": "white"
           }
          },
          "shapedefaults": {
           "line": {
            "color": "#2a3f5f"
           }
          },
          "ternary": {
           "aaxis": {
            "gridcolor": "white",
            "linecolor": "white",
            "ticks": ""
           },
           "baxis": {
            "gridcolor": "white",
            "linecolor": "white",
            "ticks": ""
           },
           "bgcolor": "#E5ECF6",
           "caxis": {
            "gridcolor": "white",
            "linecolor": "white",
            "ticks": ""
           }
          },
          "title": {
           "x": 0.05
          },
          "xaxis": {
           "automargin": true,
           "gridcolor": "white",
           "linecolor": "white",
           "ticks": "",
           "title": {
            "standoff": 15
           },
           "zerolinecolor": "white",
           "zerolinewidth": 2
          },
          "yaxis": {
           "automargin": true,
           "gridcolor": "white",
           "linecolor": "white",
           "ticks": "",
           "title": {
            "standoff": 15
           },
           "zerolinecolor": "white",
           "zerolinewidth": 2
          }
         }
        },
        "title": {
         "text": "Bar Plot of Fuel_Type"
        },
        "xaxis": {
         "anchor": "y",
         "domain": [
          0,
          1
         ],
         "title": {
          "text": "Fuel_Type"
         }
        },
        "yaxis": {
         "anchor": "x",
         "domain": [
          0,
          1
         ],
         "title": {
          "text": "Count"
         }
        }
       }
      }
     },
     "metadata": {},
     "output_type": "display_data"
    },
    {
     "name": "stdout",
     "output_type": "stream",
     "text": [
      "Value Counts and Percentages for Transmission_Type:\n",
      "Transmission_Type\n",
      "Manual       20082\n",
      "Automatic    19918\n",
      "Name: count, dtype: int64\n",
      "Transmission_Type\n",
      "Manual       50.2\n",
      "Automatic    49.8\n",
      "Name: count, dtype: float64\n",
      "\n"
     ]
    },
    {
     "data": {
      "application/vnd.plotly.v1+json": {
       "config": {
        "plotlyServerURL": "https://plot.ly"
       },
       "data": [
        {
         "alignmentgroup": "True",
         "hovertemplate": "Transmission_Type=%{x}<br>Count=%{y}<br>text=%{text}<extra></extra>",
         "legendgroup": "",
         "marker": {
          "color": "#636efa",
          "pattern": {
           "shape": ""
          }
         },
         "name": "",
         "offsetgroup": "",
         "orientation": "v",
         "showlegend": false,
         "text": [
          "50.2%",
          "49.8%"
         ],
         "textposition": "outside",
         "type": "bar",
         "x": [
          "Manual",
          "Automatic"
         ],
         "xaxis": "x",
         "y": [
          20082,
          19918
         ],
         "yaxis": "y"
        }
       ],
       "layout": {
        "barmode": "relative",
        "legend": {
         "tracegroupgap": 0
        },
        "template": {
         "data": {
          "bar": [
           {
            "error_x": {
             "color": "#2a3f5f"
            },
            "error_y": {
             "color": "#2a3f5f"
            },
            "marker": {
             "line": {
              "color": "#E5ECF6",
              "width": 0.5
             },
             "pattern": {
              "fillmode": "overlay",
              "size": 10,
              "solidity": 0.2
             }
            },
            "type": "bar"
           }
          ],
          "barpolar": [
           {
            "marker": {
             "line": {
              "color": "#E5ECF6",
              "width": 0.5
             },
             "pattern": {
              "fillmode": "overlay",
              "size": 10,
              "solidity": 0.2
             }
            },
            "type": "barpolar"
           }
          ],
          "carpet": [
           {
            "aaxis": {
             "endlinecolor": "#2a3f5f",
             "gridcolor": "white",
             "linecolor": "white",
             "minorgridcolor": "white",
             "startlinecolor": "#2a3f5f"
            },
            "baxis": {
             "endlinecolor": "#2a3f5f",
             "gridcolor": "white",
             "linecolor": "white",
             "minorgridcolor": "white",
             "startlinecolor": "#2a3f5f"
            },
            "type": "carpet"
           }
          ],
          "choropleth": [
           {
            "colorbar": {
             "outlinewidth": 0,
             "ticks": ""
            },
            "type": "choropleth"
           }
          ],
          "contour": [
           {
            "colorbar": {
             "outlinewidth": 0,
             "ticks": ""
            },
            "colorscale": [
             [
              0,
              "#0d0887"
             ],
             [
              0.1111111111111111,
              "#46039f"
             ],
             [
              0.2222222222222222,
              "#7201a8"
             ],
             [
              0.3333333333333333,
              "#9c179e"
             ],
             [
              0.4444444444444444,
              "#bd3786"
             ],
             [
              0.5555555555555556,
              "#d8576b"
             ],
             [
              0.6666666666666666,
              "#ed7953"
             ],
             [
              0.7777777777777778,
              "#fb9f3a"
             ],
             [
              0.8888888888888888,
              "#fdca26"
             ],
             [
              1,
              "#f0f921"
             ]
            ],
            "type": "contour"
           }
          ],
          "contourcarpet": [
           {
            "colorbar": {
             "outlinewidth": 0,
             "ticks": ""
            },
            "type": "contourcarpet"
           }
          ],
          "heatmap": [
           {
            "colorbar": {
             "outlinewidth": 0,
             "ticks": ""
            },
            "colorscale": [
             [
              0,
              "#0d0887"
             ],
             [
              0.1111111111111111,
              "#46039f"
             ],
             [
              0.2222222222222222,
              "#7201a8"
             ],
             [
              0.3333333333333333,
              "#9c179e"
             ],
             [
              0.4444444444444444,
              "#bd3786"
             ],
             [
              0.5555555555555556,
              "#d8576b"
             ],
             [
              0.6666666666666666,
              "#ed7953"
             ],
             [
              0.7777777777777778,
              "#fb9f3a"
             ],
             [
              0.8888888888888888,
              "#fdca26"
             ],
             [
              1,
              "#f0f921"
             ]
            ],
            "type": "heatmap"
           }
          ],
          "heatmapgl": [
           {
            "colorbar": {
             "outlinewidth": 0,
             "ticks": ""
            },
            "colorscale": [
             [
              0,
              "#0d0887"
             ],
             [
              0.1111111111111111,
              "#46039f"
             ],
             [
              0.2222222222222222,
              "#7201a8"
             ],
             [
              0.3333333333333333,
              "#9c179e"
             ],
             [
              0.4444444444444444,
              "#bd3786"
             ],
             [
              0.5555555555555556,
              "#d8576b"
             ],
             [
              0.6666666666666666,
              "#ed7953"
             ],
             [
              0.7777777777777778,
              "#fb9f3a"
             ],
             [
              0.8888888888888888,
              "#fdca26"
             ],
             [
              1,
              "#f0f921"
             ]
            ],
            "type": "heatmapgl"
           }
          ],
          "histogram": [
           {
            "marker": {
             "pattern": {
              "fillmode": "overlay",
              "size": 10,
              "solidity": 0.2
             }
            },
            "type": "histogram"
           }
          ],
          "histogram2d": [
           {
            "colorbar": {
             "outlinewidth": 0,
             "ticks": ""
            },
            "colorscale": [
             [
              0,
              "#0d0887"
             ],
             [
              0.1111111111111111,
              "#46039f"
             ],
             [
              0.2222222222222222,
              "#7201a8"
             ],
             [
              0.3333333333333333,
              "#9c179e"
             ],
             [
              0.4444444444444444,
              "#bd3786"
             ],
             [
              0.5555555555555556,
              "#d8576b"
             ],
             [
              0.6666666666666666,
              "#ed7953"
             ],
             [
              0.7777777777777778,
              "#fb9f3a"
             ],
             [
              0.8888888888888888,
              "#fdca26"
             ],
             [
              1,
              "#f0f921"
             ]
            ],
            "type": "histogram2d"
           }
          ],
          "histogram2dcontour": [
           {
            "colorbar": {
             "outlinewidth": 0,
             "ticks": ""
            },
            "colorscale": [
             [
              0,
              "#0d0887"
             ],
             [
              0.1111111111111111,
              "#46039f"
             ],
             [
              0.2222222222222222,
              "#7201a8"
             ],
             [
              0.3333333333333333,
              "#9c179e"
             ],
             [
              0.4444444444444444,
              "#bd3786"
             ],
             [
              0.5555555555555556,
              "#d8576b"
             ],
             [
              0.6666666666666666,
              "#ed7953"
             ],
             [
              0.7777777777777778,
              "#fb9f3a"
             ],
             [
              0.8888888888888888,
              "#fdca26"
             ],
             [
              1,
              "#f0f921"
             ]
            ],
            "type": "histogram2dcontour"
           }
          ],
          "mesh3d": [
           {
            "colorbar": {
             "outlinewidth": 0,
             "ticks": ""
            },
            "type": "mesh3d"
           }
          ],
          "parcoords": [
           {
            "line": {
             "colorbar": {
              "outlinewidth": 0,
              "ticks": ""
             }
            },
            "type": "parcoords"
           }
          ],
          "pie": [
           {
            "automargin": true,
            "type": "pie"
           }
          ],
          "scatter": [
           {
            "fillpattern": {
             "fillmode": "overlay",
             "size": 10,
             "solidity": 0.2
            },
            "type": "scatter"
           }
          ],
          "scatter3d": [
           {
            "line": {
             "colorbar": {
              "outlinewidth": 0,
              "ticks": ""
             }
            },
            "marker": {
             "colorbar": {
              "outlinewidth": 0,
              "ticks": ""
             }
            },
            "type": "scatter3d"
           }
          ],
          "scattercarpet": [
           {
            "marker": {
             "colorbar": {
              "outlinewidth": 0,
              "ticks": ""
             }
            },
            "type": "scattercarpet"
           }
          ],
          "scattergeo": [
           {
            "marker": {
             "colorbar": {
              "outlinewidth": 0,
              "ticks": ""
             }
            },
            "type": "scattergeo"
           }
          ],
          "scattergl": [
           {
            "marker": {
             "colorbar": {
              "outlinewidth": 0,
              "ticks": ""
             }
            },
            "type": "scattergl"
           }
          ],
          "scattermapbox": [
           {
            "marker": {
             "colorbar": {
              "outlinewidth": 0,
              "ticks": ""
             }
            },
            "type": "scattermapbox"
           }
          ],
          "scatterpolar": [
           {
            "marker": {
             "colorbar": {
              "outlinewidth": 0,
              "ticks": ""
             }
            },
            "type": "scatterpolar"
           }
          ],
          "scatterpolargl": [
           {
            "marker": {
             "colorbar": {
              "outlinewidth": 0,
              "ticks": ""
             }
            },
            "type": "scatterpolargl"
           }
          ],
          "scatterternary": [
           {
            "marker": {
             "colorbar": {
              "outlinewidth": 0,
              "ticks": ""
             }
            },
            "type": "scatterternary"
           }
          ],
          "surface": [
           {
            "colorbar": {
             "outlinewidth": 0,
             "ticks": ""
            },
            "colorscale": [
             [
              0,
              "#0d0887"
             ],
             [
              0.1111111111111111,
              "#46039f"
             ],
             [
              0.2222222222222222,
              "#7201a8"
             ],
             [
              0.3333333333333333,
              "#9c179e"
             ],
             [
              0.4444444444444444,
              "#bd3786"
             ],
             [
              0.5555555555555556,
              "#d8576b"
             ],
             [
              0.6666666666666666,
              "#ed7953"
             ],
             [
              0.7777777777777778,
              "#fb9f3a"
             ],
             [
              0.8888888888888888,
              "#fdca26"
             ],
             [
              1,
              "#f0f921"
             ]
            ],
            "type": "surface"
           }
          ],
          "table": [
           {
            "cells": {
             "fill": {
              "color": "#EBF0F8"
             },
             "line": {
              "color": "white"
             }
            },
            "header": {
             "fill": {
              "color": "#C8D4E3"
             },
             "line": {
              "color": "white"
             }
            },
            "type": "table"
           }
          ]
         },
         "layout": {
          "annotationdefaults": {
           "arrowcolor": "#2a3f5f",
           "arrowhead": 0,
           "arrowwidth": 1
          },
          "autotypenumbers": "strict",
          "coloraxis": {
           "colorbar": {
            "outlinewidth": 0,
            "ticks": ""
           }
          },
          "colorscale": {
           "diverging": [
            [
             0,
             "#8e0152"
            ],
            [
             0.1,
             "#c51b7d"
            ],
            [
             0.2,
             "#de77ae"
            ],
            [
             0.3,
             "#f1b6da"
            ],
            [
             0.4,
             "#fde0ef"
            ],
            [
             0.5,
             "#f7f7f7"
            ],
            [
             0.6,
             "#e6f5d0"
            ],
            [
             0.7,
             "#b8e186"
            ],
            [
             0.8,
             "#7fbc41"
            ],
            [
             0.9,
             "#4d9221"
            ],
            [
             1,
             "#276419"
            ]
           ],
           "sequential": [
            [
             0,
             "#0d0887"
            ],
            [
             0.1111111111111111,
             "#46039f"
            ],
            [
             0.2222222222222222,
             "#7201a8"
            ],
            [
             0.3333333333333333,
             "#9c179e"
            ],
            [
             0.4444444444444444,
             "#bd3786"
            ],
            [
             0.5555555555555556,
             "#d8576b"
            ],
            [
             0.6666666666666666,
             "#ed7953"
            ],
            [
             0.7777777777777778,
             "#fb9f3a"
            ],
            [
             0.8888888888888888,
             "#fdca26"
            ],
            [
             1,
             "#f0f921"
            ]
           ],
           "sequentialminus": [
            [
             0,
             "#0d0887"
            ],
            [
             0.1111111111111111,
             "#46039f"
            ],
            [
             0.2222222222222222,
             "#7201a8"
            ],
            [
             0.3333333333333333,
             "#9c179e"
            ],
            [
             0.4444444444444444,
             "#bd3786"
            ],
            [
             0.5555555555555556,
             "#d8576b"
            ],
            [
             0.6666666666666666,
             "#ed7953"
            ],
            [
             0.7777777777777778,
             "#fb9f3a"
            ],
            [
             0.8888888888888888,
             "#fdca26"
            ],
            [
             1,
             "#f0f921"
            ]
           ]
          },
          "colorway": [
           "#636efa",
           "#EF553B",
           "#00cc96",
           "#ab63fa",
           "#FFA15A",
           "#19d3f3",
           "#FF6692",
           "#B6E880",
           "#FF97FF",
           "#FECB52"
          ],
          "font": {
           "color": "#2a3f5f"
          },
          "geo": {
           "bgcolor": "white",
           "lakecolor": "white",
           "landcolor": "#E5ECF6",
           "showlakes": true,
           "showland": true,
           "subunitcolor": "white"
          },
          "hoverlabel": {
           "align": "left"
          },
          "hovermode": "closest",
          "mapbox": {
           "style": "light"
          },
          "paper_bgcolor": "white",
          "plot_bgcolor": "#E5ECF6",
          "polar": {
           "angularaxis": {
            "gridcolor": "white",
            "linecolor": "white",
            "ticks": ""
           },
           "bgcolor": "#E5ECF6",
           "radialaxis": {
            "gridcolor": "white",
            "linecolor": "white",
            "ticks": ""
           }
          },
          "scene": {
           "xaxis": {
            "backgroundcolor": "#E5ECF6",
            "gridcolor": "white",
            "gridwidth": 2,
            "linecolor": "white",
            "showbackground": true,
            "ticks": "",
            "zerolinecolor": "white"
           },
           "yaxis": {
            "backgroundcolor": "#E5ECF6",
            "gridcolor": "white",
            "gridwidth": 2,
            "linecolor": "white",
            "showbackground": true,
            "ticks": "",
            "zerolinecolor": "white"
           },
           "zaxis": {
            "backgroundcolor": "#E5ECF6",
            "gridcolor": "white",
            "gridwidth": 2,
            "linecolor": "white",
            "showbackground": true,
            "ticks": "",
            "zerolinecolor": "white"
           }
          },
          "shapedefaults": {
           "line": {
            "color": "#2a3f5f"
           }
          },
          "ternary": {
           "aaxis": {
            "gridcolor": "white",
            "linecolor": "white",
            "ticks": ""
           },
           "baxis": {
            "gridcolor": "white",
            "linecolor": "white",
            "ticks": ""
           },
           "bgcolor": "#E5ECF6",
           "caxis": {
            "gridcolor": "white",
            "linecolor": "white",
            "ticks": ""
           }
          },
          "title": {
           "x": 0.05
          },
          "xaxis": {
           "automargin": true,
           "gridcolor": "white",
           "linecolor": "white",
           "ticks": "",
           "title": {
            "standoff": 15
           },
           "zerolinecolor": "white",
           "zerolinewidth": 2
          },
          "yaxis": {
           "automargin": true,
           "gridcolor": "white",
           "linecolor": "white",
           "ticks": "",
           "title": {
            "standoff": 15
           },
           "zerolinecolor": "white",
           "zerolinewidth": 2
          }
         }
        },
        "title": {
         "text": "Bar Plot of Transmission_Type"
        },
        "xaxis": {
         "anchor": "y",
         "domain": [
          0,
          1
         ],
         "title": {
          "text": "Transmission_Type"
         }
        },
        "yaxis": {
         "anchor": "x",
         "domain": [
          0,
          1
         ],
         "title": {
          "text": "Count"
         }
        }
       }
      }
     },
     "metadata": {},
     "output_type": "display_data"
    },
    {
     "name": "stdout",
     "output_type": "stream",
     "text": [
      "Value Counts and Percentages for Last_Service_Date:\n",
      "Last_Service_Date\n",
      "08-08-2023    152\n",
      "06-12-2023    146\n",
      "10-04-2023    146\n",
      "15-05-2023    144\n",
      "23-06-2023    142\n",
      "             ... \n",
      "10-08-2023     95\n",
      "16-11-2023     94\n",
      "08-11-2023     93\n",
      "07-05-2023     91\n",
      "08-04-2023     91\n",
      "Name: count, Length: 336, dtype: int64\n",
      "Last_Service_Date\n",
      "08-08-2023    0.38\n",
      "06-12-2023    0.36\n",
      "10-04-2023    0.36\n",
      "15-05-2023    0.36\n",
      "23-06-2023    0.36\n",
      "              ... \n",
      "10-08-2023    0.24\n",
      "16-11-2023    0.24\n",
      "08-11-2023    0.23\n",
      "07-05-2023    0.23\n",
      "08-04-2023    0.23\n",
      "Name: count, Length: 336, dtype: float64\n",
      "\n"
     ]
    },
    {
     "data": {
      "application/vnd.plotly.v1+json": {
       "config": {
        "plotlyServerURL": "https://plot.ly"
       },
       "data": [
        {
         "alignmentgroup": "True",
         "hovertemplate": "Last_Service_Date=%{x}<br>Count=%{y}<br>text=%{text}<extra></extra>",
         "legendgroup": "",
         "marker": {
          "color": "#636efa",
          "pattern": {
           "shape": ""
          }
         },
         "name": "",
         "offsetgroup": "",
         "orientation": "v",
         "showlegend": false,
         "text": [
          "0.38%",
          "0.36%",
          "0.36%",
          "0.36%",
          "0.36%",
          "0.36%",
          "0.35%",
          "0.35%",
          "0.35%",
          "0.35%",
          "0.35%",
          "0.35%",
          "0.34%",
          "0.34%",
          "0.34%",
          "0.34%",
          "0.34%",
          "0.34%",
          "0.34%",
          "0.34%",
          "0.34%",
          "0.34%",
          "0.34%",
          "0.34%",
          "0.34%",
          "0.34%",
          "0.34%",
          "0.34%",
          "0.34%",
          "0.34%",
          "0.34%",
          "0.34%",
          "0.34%",
          "0.34%",
          "0.34%",
          "0.34%",
          "0.33%",
          "0.33%",
          "0.33%",
          "0.33%",
          "0.33%",
          "0.33%",
          "0.33%",
          "0.33%",
          "0.33%",
          "0.33%",
          "0.33%",
          "0.33%",
          "0.33%",
          "0.33%",
          "0.32%",
          "0.32%",
          "0.32%",
          "0.32%",
          "0.32%",
          "0.32%",
          "0.32%",
          "0.32%",
          "0.32%",
          "0.32%",
          "0.32%",
          "0.32%",
          "0.32%",
          "0.32%",
          "0.32%",
          "0.32%",
          "0.32%",
          "0.32%",
          "0.32%",
          "0.32%",
          "0.32%",
          "0.32%",
          "0.32%",
          "0.32%",
          "0.32%",
          "0.32%",
          "0.32%",
          "0.32%",
          "0.32%",
          "0.32%",
          "0.32%",
          "0.32%",
          "0.32%",
          "0.32%",
          "0.32%",
          "0.32%",
          "0.31%",
          "0.31%",
          "0.31%",
          "0.31%",
          "0.31%",
          "0.31%",
          "0.31%",
          "0.31%",
          "0.31%",
          "0.31%",
          "0.31%",
          "0.31%",
          "0.31%",
          "0.31%",
          "0.31%",
          "0.31%",
          "0.31%",
          "0.31%",
          "0.31%",
          "0.31%",
          "0.31%",
          "0.31%",
          "0.31%",
          "0.31%",
          "0.31%",
          "0.31%",
          "0.31%",
          "0.31%",
          "0.31%",
          "0.31%",
          "0.31%",
          "0.31%",
          "0.31%",
          "0.31%",
          "0.31%",
          "0.3%",
          "0.3%",
          "0.3%",
          "0.3%",
          "0.3%",
          "0.3%",
          "0.3%",
          "0.3%",
          "0.3%",
          "0.3%",
          "0.3%",
          "0.3%",
          "0.3%",
          "0.3%",
          "0.3%",
          "0.3%",
          "0.3%",
          "0.3%",
          "0.3%",
          "0.3%",
          "0.3%",
          "0.3%",
          "0.3%",
          "0.3%",
          "0.3%",
          "0.3%",
          "0.3%",
          "0.3%",
          "0.3%",
          "0.3%",
          "0.3%",
          "0.3%",
          "0.3%",
          "0.3%",
          "0.3%",
          "0.3%",
          "0.3%",
          "0.3%",
          "0.3%",
          "0.3%",
          "0.3%",
          "0.3%",
          "0.3%",
          "0.3%",
          "0.3%",
          "0.3%",
          "0.3%",
          "0.3%",
          "0.3%",
          "0.3%",
          "0.3%",
          "0.3%",
          "0.3%",
          "0.3%",
          "0.3%",
          "0.3%",
          "0.3%",
          "0.3%",
          "0.3%",
          "0.29%",
          "0.29%",
          "0.29%",
          "0.29%",
          "0.29%",
          "0.29%",
          "0.29%",
          "0.29%",
          "0.29%",
          "0.29%",
          "0.29%",
          "0.29%",
          "0.29%",
          "0.29%",
          "0.29%",
          "0.29%",
          "0.29%",
          "0.29%",
          "0.29%",
          "0.29%",
          "0.29%",
          "0.29%",
          "0.29%",
          "0.29%",
          "0.29%",
          "0.29%",
          "0.29%",
          "0.29%",
          "0.29%",
          "0.29%",
          "0.29%",
          "0.29%",
          "0.29%",
          "0.29%",
          "0.29%",
          "0.29%",
          "0.29%",
          "0.29%",
          "0.29%",
          "0.29%",
          "0.29%",
          "0.29%",
          "0.29%",
          "0.29%",
          "0.29%",
          "0.28%",
          "0.28%",
          "0.28%",
          "0.28%",
          "0.28%",
          "0.28%",
          "0.28%",
          "0.28%",
          "0.28%",
          "0.28%",
          "0.28%",
          "0.28%",
          "0.28%",
          "0.28%",
          "0.28%",
          "0.28%",
          "0.28%",
          "0.28%",
          "0.28%",
          "0.28%",
          "0.28%",
          "0.28%",
          "0.28%",
          "0.28%",
          "0.28%",
          "0.28%",
          "0.28%",
          "0.28%",
          "0.28%",
          "0.28%",
          "0.28%",
          "0.28%",
          "0.28%",
          "0.28%",
          "0.28%",
          "0.28%",
          "0.28%",
          "0.28%",
          "0.27%",
          "0.27%",
          "0.27%",
          "0.27%",
          "0.27%",
          "0.27%",
          "0.27%",
          "0.27%",
          "0.27%",
          "0.27%",
          "0.27%",
          "0.27%",
          "0.27%",
          "0.27%",
          "0.27%",
          "0.27%",
          "0.27%",
          "0.27%",
          "0.27%",
          "0.27%",
          "0.27%",
          "0.27%",
          "0.27%",
          "0.27%",
          "0.27%",
          "0.27%",
          "0.27%",
          "0.27%",
          "0.27%",
          "0.27%",
          "0.27%",
          "0.27%",
          "0.27%",
          "0.27%",
          "0.26%",
          "0.26%",
          "0.26%",
          "0.26%",
          "0.26%",
          "0.26%",
          "0.26%",
          "0.26%",
          "0.26%",
          "0.26%",
          "0.26%",
          "0.26%",
          "0.26%",
          "0.26%",
          "0.26%",
          "0.26%",
          "0.26%",
          "0.26%",
          "0.26%",
          "0.26%",
          "0.26%",
          "0.26%",
          "0.25%",
          "0.25%",
          "0.25%",
          "0.25%",
          "0.25%",
          "0.25%",
          "0.25%",
          "0.25%",
          "0.25%",
          "0.25%",
          "0.25%",
          "0.25%",
          "0.24%",
          "0.24%",
          "0.23%",
          "0.23%",
          "0.23%"
         ],
         "textposition": "outside",
         "type": "bar",
         "x": [
          "08-08-2023",
          "06-12-2023",
          "10-04-2023",
          "15-05-2023",
          "23-06-2023",
          "25-11-2023",
          "09-04-2023",
          "16-01-2024",
          "23-02-2024",
          "11-12-2023",
          "27-09-2023",
          "21-06-2023",
          "26-09-2023",
          "15-11-2023",
          "18-02-2024",
          "30-06-2023",
          "13-12-2023",
          "20-06-2023",
          "21-09-2023",
          "03-10-2023",
          "01-05-2023",
          "14-07-2023",
          "06-07-2023",
          "31-10-2023",
          "19-07-2023",
          "02-12-2023",
          "06-02-2024",
          "20-10-2023",
          "17-05-2023",
          "13-01-2024",
          "20-11-2023",
          "04-05-2023",
          "20-04-2023",
          "17-04-2023",
          "22-09-2023",
          "15-06-2023",
          "09-12-2023",
          "07-07-2023",
          "18-07-2023",
          "09-09-2023",
          "30-10-2023",
          "14-12-2023",
          "14-05-2023",
          "15-01-2024",
          "26-12-2023",
          "19-05-2023",
          "11-05-2023",
          "23-05-2023",
          "08-02-2024",
          "29-10-2023",
          "03-04-2023",
          "16-09-2023",
          "10-12-2023",
          "31-12-2023",
          "31-08-2023",
          "02-10-2023",
          "05-10-2023",
          "13-05-2023",
          "24-05-2023",
          "08-10-2023",
          "08-07-2023",
          "26-08-2023",
          "29-01-2024",
          "25-07-2023",
          "14-11-2023",
          "17-11-2023",
          "19-01-2024",
          "11-10-2023",
          "12-10-2023",
          "24-11-2023",
          "02-06-2023",
          "25-10-2023",
          "18-11-2023",
          "21-08-2023",
          "16-08-2023",
          "12-09-2023",
          "01-02-2024",
          "29-07-2023",
          "08-12-2023",
          "05-01-2024",
          "01-04-2023",
          "25-01-2024",
          "14-09-2023",
          "07-08-2023",
          "27-06-2023",
          "26-05-2023",
          "10-01-2024",
          "05-11-2023",
          "15-10-2023",
          "31-01-2024",
          "20-12-2023",
          "12-06-2023",
          "03-07-2023",
          "15-08-2023",
          "16-04-2023",
          "05-05-2023",
          "10-06-2023",
          "30-05-2023",
          "27-12-2023",
          "19-09-2023",
          "04-07-2023",
          "03-11-2023",
          "16-07-2023",
          "13-11-2023",
          "06-11-2023",
          "24-10-2023",
          "24-04-2023",
          "19-10-2023",
          "30-07-2023",
          "02-05-2023",
          "02-04-2023",
          "24-01-2024",
          "13-09-2023",
          "22-11-2023",
          "05-09-2023",
          "18-09-2023",
          "22-12-2023",
          "16-05-2023",
          "18-08-2023",
          "28-05-2023",
          "17-02-2024",
          "01-07-2023",
          "19-06-2023",
          "01-06-2023",
          "13-10-2023",
          "20-05-2023",
          "12-05-2023",
          "19-04-2023",
          "24-02-2024",
          "04-01-2024",
          "06-08-2023",
          "07-06-2023",
          "20-02-2024",
          "22-02-2024",
          "08-06-2023",
          "04-06-2023",
          "28-06-2023",
          "25-09-2023",
          "14-01-2024",
          "30-11-2023",
          "06-05-2023",
          "15-07-2023",
          "27-02-2024",
          "03-02-2024",
          "03-09-2023",
          "06-01-2024",
          "02-11-2023",
          "03-05-2023",
          "04-10-2023",
          "21-12-2023",
          "01-09-2023",
          "02-08-2023",
          "05-08-2023",
          "26-02-2024",
          "30-03-2023",
          "20-08-2023",
          "30-09-2023",
          "29-12-2023",
          "21-02-2024",
          "13-02-2024",
          "28-10-2023",
          "11-08-2023",
          "11-11-2023",
          "04-12-2023",
          "11-04-2023",
          "19-12-2023",
          "26-10-2023",
          "22-10-2023",
          "26-07-2023",
          "02-07-2023",
          "22-06-2023",
          "04-09-2023",
          "04-02-2024",
          "16-02-2024",
          "18-04-2023",
          "26-01-2024",
          "06-06-2023",
          "27-05-2023",
          "16-06-2023",
          "01-08-2023",
          "13-04-2023",
          "31-07-2023",
          "18-10-2023",
          "30-08-2023",
          "02-01-2024",
          "26-04-2023",
          "28-07-2023",
          "25-12-2023",
          "19-02-2024",
          "17-08-2023",
          "20-07-2023",
          "30-01-2024",
          "28-08-2023",
          "05-06-2023",
          "28-01-2024",
          "22-04-2023",
          "29-05-2023",
          "02-02-2024",
          "07-02-2024",
          "20-01-2024",
          "09-06-2023",
          "03-01-2024",
          "13-08-2023",
          "18-12-2023",
          "09-07-2023",
          "21-04-2023",
          "15-04-2023",
          "25-08-2023",
          "22-07-2023",
          "24-08-2023",
          "10-11-2023",
          "17-06-2023",
          "27-08-2023",
          "24-09-2023",
          "27-04-2023",
          "10-02-2024",
          "29-04-2023",
          "23-10-2023",
          "15-09-2023",
          "04-11-2023",
          "15-02-2024",
          "25-05-2023",
          "21-11-2023",
          "19-11-2023",
          "01-12-2023",
          "22-01-2024",
          "24-12-2023",
          "23-12-2023",
          "24-06-2023",
          "28-04-2023",
          "09-10-2023",
          "28-02-2024",
          "17-10-2023",
          "24-07-2023",
          "03-08-2023",
          "19-08-2023",
          "21-10-2023",
          "09-01-2024",
          "03-06-2023",
          "12-11-2023",
          "16-10-2023",
          "30-04-2023",
          "23-01-2024",
          "25-06-2023",
          "07-04-2023",
          "16-12-2023",
          "18-05-2023",
          "23-11-2023",
          "31-03-2023",
          "10-07-2023",
          "11-07-2023",
          "18-06-2023",
          "23-04-2023",
          "18-01-2024",
          "11-02-2024",
          "28-09-2023",
          "11-01-2024",
          "07-01-2024",
          "21-05-2023",
          "01-11-2023",
          "14-10-2023",
          "13-07-2023",
          "17-07-2023",
          "14-04-2023",
          "17-09-2023",
          "10-05-2023",
          "27-10-2023",
          "04-08-2023",
          "30-12-2023",
          "13-06-2023",
          "11-09-2023",
          "29-11-2023",
          "09-08-2023",
          "21-07-2023",
          "12-12-2023",
          "31-05-2023",
          "28-11-2023",
          "06-04-2023",
          "17-01-2024",
          "12-02-2024",
          "05-12-2023",
          "01-10-2023",
          "11-06-2023",
          "09-02-2024",
          "07-10-2023",
          "22-08-2023",
          "26-11-2023",
          "07-11-2023",
          "22-05-2023",
          "08-09-2023",
          "07-12-2023",
          "14-02-2024",
          "15-12-2023",
          "09-05-2023",
          "25-04-2023",
          "23-08-2023",
          "06-09-2023",
          "12-08-2023",
          "01-01-2024",
          "12-07-2023",
          "28-12-2023",
          "12-01-2024",
          "14-08-2023",
          "05-07-2023",
          "29-09-2023",
          "08-01-2024",
          "23-07-2023",
          "23-09-2023",
          "05-04-2023",
          "26-06-2023",
          "17-12-2023",
          "04-04-2023",
          "27-11-2023",
          "29-06-2023",
          "12-04-2023",
          "02-09-2023",
          "09-11-2023",
          "27-01-2024",
          "10-10-2023",
          "14-06-2023",
          "03-12-2023",
          "25-02-2024",
          "10-09-2023",
          "27-07-2023",
          "21-01-2024",
          "08-05-2023",
          "07-09-2023",
          "05-02-2024",
          "06-10-2023",
          "29-08-2023",
          "20-09-2023",
          "10-08-2023",
          "16-11-2023",
          "08-11-2023",
          "07-05-2023",
          "08-04-2023"
         ],
         "xaxis": "x",
         "y": [
          152,
          146,
          146,
          144,
          142,
          142,
          141,
          141,
          141,
          140,
          139,
          139,
          138,
          138,
          138,
          138,
          138,
          138,
          138,
          137,
          137,
          137,
          137,
          137,
          136,
          136,
          136,
          135,
          135,
          135,
          135,
          135,
          135,
          134,
          134,
          134,
          133,
          133,
          133,
          133,
          132,
          132,
          132,
          132,
          132,
          132,
          131,
          131,
          131,
          131,
          130,
          130,
          130,
          130,
          130,
          129,
          129,
          129,
          129,
          129,
          129,
          129,
          129,
          129,
          129,
          129,
          129,
          129,
          128,
          128,
          128,
          128,
          128,
          128,
          128,
          128,
          128,
          127,
          127,
          127,
          127,
          126,
          126,
          126,
          126,
          126,
          125,
          125,
          125,
          125,
          125,
          125,
          125,
          125,
          125,
          125,
          125,
          124,
          124,
          124,
          124,
          124,
          124,
          124,
          124,
          124,
          123,
          123,
          123,
          123,
          123,
          123,
          123,
          123,
          123,
          123,
          123,
          123,
          123,
          123,
          123,
          122,
          122,
          122,
          122,
          122,
          122,
          122,
          122,
          122,
          122,
          122,
          122,
          122,
          122,
          122,
          122,
          121,
          121,
          121,
          121,
          121,
          121,
          121,
          121,
          121,
          121,
          121,
          121,
          121,
          120,
          120,
          120,
          120,
          120,
          120,
          120,
          120,
          120,
          120,
          120,
          119,
          119,
          119,
          119,
          119,
          119,
          119,
          119,
          119,
          118,
          118,
          118,
          118,
          118,
          118,
          118,
          118,
          118,
          118,
          117,
          117,
          117,
          117,
          117,
          117,
          117,
          117,
          117,
          117,
          117,
          117,
          117,
          117,
          117,
          117,
          117,
          117,
          116,
          116,
          116,
          116,
          116,
          116,
          116,
          116,
          116,
          115,
          115,
          115,
          115,
          115,
          115,
          115,
          114,
          114,
          114,
          114,
          114,
          114,
          114,
          114,
          114,
          114,
          114,
          113,
          113,
          113,
          113,
          113,
          113,
          113,
          113,
          113,
          112,
          112,
          112,
          112,
          112,
          112,
          112,
          112,
          112,
          112,
          112,
          112,
          112,
          112,
          112,
          112,
          112,
          112,
          112,
          112,
          111,
          111,
          111,
          111,
          111,
          111,
          111,
          111,
          111,
          110,
          110,
          110,
          110,
          110,
          110,
          110,
          110,
          110,
          110,
          110,
          109,
          109,
          109,
          109,
          109,
          109,
          109,
          109,
          109,
          109,
          109,
          108,
          108,
          108,
          108,
          108,
          108,
          108,
          107,
          107,
          107,
          107,
          107,
          106,
          106,
          106,
          106,
          106,
          106,
          106,
          105,
          105,
          104,
          104,
          104,
          104,
          104,
          103,
          103,
          103,
          102,
          102,
          102,
          102,
          102,
          101,
          101,
          101,
          100,
          100,
          100,
          100,
          100,
          99,
          99,
          99,
          99,
          95,
          94,
          93,
          91,
          91
         ],
         "yaxis": "y"
        }
       ],
       "layout": {
        "barmode": "relative",
        "legend": {
         "tracegroupgap": 0
        },
        "template": {
         "data": {
          "bar": [
           {
            "error_x": {
             "color": "#2a3f5f"
            },
            "error_y": {
             "color": "#2a3f5f"
            },
            "marker": {
             "line": {
              "color": "#E5ECF6",
              "width": 0.5
             },
             "pattern": {
              "fillmode": "overlay",
              "size": 10,
              "solidity": 0.2
             }
            },
            "type": "bar"
           }
          ],
          "barpolar": [
           {
            "marker": {
             "line": {
              "color": "#E5ECF6",
              "width": 0.5
             },
             "pattern": {
              "fillmode": "overlay",
              "size": 10,
              "solidity": 0.2
             }
            },
            "type": "barpolar"
           }
          ],
          "carpet": [
           {
            "aaxis": {
             "endlinecolor": "#2a3f5f",
             "gridcolor": "white",
             "linecolor": "white",
             "minorgridcolor": "white",
             "startlinecolor": "#2a3f5f"
            },
            "baxis": {
             "endlinecolor": "#2a3f5f",
             "gridcolor": "white",
             "linecolor": "white",
             "minorgridcolor": "white",
             "startlinecolor": "#2a3f5f"
            },
            "type": "carpet"
           }
          ],
          "choropleth": [
           {
            "colorbar": {
             "outlinewidth": 0,
             "ticks": ""
            },
            "type": "choropleth"
           }
          ],
          "contour": [
           {
            "colorbar": {
             "outlinewidth": 0,
             "ticks": ""
            },
            "colorscale": [
             [
              0,
              "#0d0887"
             ],
             [
              0.1111111111111111,
              "#46039f"
             ],
             [
              0.2222222222222222,
              "#7201a8"
             ],
             [
              0.3333333333333333,
              "#9c179e"
             ],
             [
              0.4444444444444444,
              "#bd3786"
             ],
             [
              0.5555555555555556,
              "#d8576b"
             ],
             [
              0.6666666666666666,
              "#ed7953"
             ],
             [
              0.7777777777777778,
              "#fb9f3a"
             ],
             [
              0.8888888888888888,
              "#fdca26"
             ],
             [
              1,
              "#f0f921"
             ]
            ],
            "type": "contour"
           }
          ],
          "contourcarpet": [
           {
            "colorbar": {
             "outlinewidth": 0,
             "ticks": ""
            },
            "type": "contourcarpet"
           }
          ],
          "heatmap": [
           {
            "colorbar": {
             "outlinewidth": 0,
             "ticks": ""
            },
            "colorscale": [
             [
              0,
              "#0d0887"
             ],
             [
              0.1111111111111111,
              "#46039f"
             ],
             [
              0.2222222222222222,
              "#7201a8"
             ],
             [
              0.3333333333333333,
              "#9c179e"
             ],
             [
              0.4444444444444444,
              "#bd3786"
             ],
             [
              0.5555555555555556,
              "#d8576b"
             ],
             [
              0.6666666666666666,
              "#ed7953"
             ],
             [
              0.7777777777777778,
              "#fb9f3a"
             ],
             [
              0.8888888888888888,
              "#fdca26"
             ],
             [
              1,
              "#f0f921"
             ]
            ],
            "type": "heatmap"
           }
          ],
          "heatmapgl": [
           {
            "colorbar": {
             "outlinewidth": 0,
             "ticks": ""
            },
            "colorscale": [
             [
              0,
              "#0d0887"
             ],
             [
              0.1111111111111111,
              "#46039f"
             ],
             [
              0.2222222222222222,
              "#7201a8"
             ],
             [
              0.3333333333333333,
              "#9c179e"
             ],
             [
              0.4444444444444444,
              "#bd3786"
             ],
             [
              0.5555555555555556,
              "#d8576b"
             ],
             [
              0.6666666666666666,
              "#ed7953"
             ],
             [
              0.7777777777777778,
              "#fb9f3a"
             ],
             [
              0.8888888888888888,
              "#fdca26"
             ],
             [
              1,
              "#f0f921"
             ]
            ],
            "type": "heatmapgl"
           }
          ],
          "histogram": [
           {
            "marker": {
             "pattern": {
              "fillmode": "overlay",
              "size": 10,
              "solidity": 0.2
             }
            },
            "type": "histogram"
           }
          ],
          "histogram2d": [
           {
            "colorbar": {
             "outlinewidth": 0,
             "ticks": ""
            },
            "colorscale": [
             [
              0,
              "#0d0887"
             ],
             [
              0.1111111111111111,
              "#46039f"
             ],
             [
              0.2222222222222222,
              "#7201a8"
             ],
             [
              0.3333333333333333,
              "#9c179e"
             ],
             [
              0.4444444444444444,
              "#bd3786"
             ],
             [
              0.5555555555555556,
              "#d8576b"
             ],
             [
              0.6666666666666666,
              "#ed7953"
             ],
             [
              0.7777777777777778,
              "#fb9f3a"
             ],
             [
              0.8888888888888888,
              "#fdca26"
             ],
             [
              1,
              "#f0f921"
             ]
            ],
            "type": "histogram2d"
           }
          ],
          "histogram2dcontour": [
           {
            "colorbar": {
             "outlinewidth": 0,
             "ticks": ""
            },
            "colorscale": [
             [
              0,
              "#0d0887"
             ],
             [
              0.1111111111111111,
              "#46039f"
             ],
             [
              0.2222222222222222,
              "#7201a8"
             ],
             [
              0.3333333333333333,
              "#9c179e"
             ],
             [
              0.4444444444444444,
              "#bd3786"
             ],
             [
              0.5555555555555556,
              "#d8576b"
             ],
             [
              0.6666666666666666,
              "#ed7953"
             ],
             [
              0.7777777777777778,
              "#fb9f3a"
             ],
             [
              0.8888888888888888,
              "#fdca26"
             ],
             [
              1,
              "#f0f921"
             ]
            ],
            "type": "histogram2dcontour"
           }
          ],
          "mesh3d": [
           {
            "colorbar": {
             "outlinewidth": 0,
             "ticks": ""
            },
            "type": "mesh3d"
           }
          ],
          "parcoords": [
           {
            "line": {
             "colorbar": {
              "outlinewidth": 0,
              "ticks": ""
             }
            },
            "type": "parcoords"
           }
          ],
          "pie": [
           {
            "automargin": true,
            "type": "pie"
           }
          ],
          "scatter": [
           {
            "fillpattern": {
             "fillmode": "overlay",
             "size": 10,
             "solidity": 0.2
            },
            "type": "scatter"
           }
          ],
          "scatter3d": [
           {
            "line": {
             "colorbar": {
              "outlinewidth": 0,
              "ticks": ""
             }
            },
            "marker": {
             "colorbar": {
              "outlinewidth": 0,
              "ticks": ""
             }
            },
            "type": "scatter3d"
           }
          ],
          "scattercarpet": [
           {
            "marker": {
             "colorbar": {
              "outlinewidth": 0,
              "ticks": ""
             }
            },
            "type": "scattercarpet"
           }
          ],
          "scattergeo": [
           {
            "marker": {
             "colorbar": {
              "outlinewidth": 0,
              "ticks": ""
             }
            },
            "type": "scattergeo"
           }
          ],
          "scattergl": [
           {
            "marker": {
             "colorbar": {
              "outlinewidth": 0,
              "ticks": ""
             }
            },
            "type": "scattergl"
           }
          ],
          "scattermapbox": [
           {
            "marker": {
             "colorbar": {
              "outlinewidth": 0,
              "ticks": ""
             }
            },
            "type": "scattermapbox"
           }
          ],
          "scatterpolar": [
           {
            "marker": {
             "colorbar": {
              "outlinewidth": 0,
              "ticks": ""
             }
            },
            "type": "scatterpolar"
           }
          ],
          "scatterpolargl": [
           {
            "marker": {
             "colorbar": {
              "outlinewidth": 0,
              "ticks": ""
             }
            },
            "type": "scatterpolargl"
           }
          ],
          "scatterternary": [
           {
            "marker": {
             "colorbar": {
              "outlinewidth": 0,
              "ticks": ""
             }
            },
            "type": "scatterternary"
           }
          ],
          "surface": [
           {
            "colorbar": {
             "outlinewidth": 0,
             "ticks": ""
            },
            "colorscale": [
             [
              0,
              "#0d0887"
             ],
             [
              0.1111111111111111,
              "#46039f"
             ],
             [
              0.2222222222222222,
              "#7201a8"
             ],
             [
              0.3333333333333333,
              "#9c179e"
             ],
             [
              0.4444444444444444,
              "#bd3786"
             ],
             [
              0.5555555555555556,
              "#d8576b"
             ],
             [
              0.6666666666666666,
              "#ed7953"
             ],
             [
              0.7777777777777778,
              "#fb9f3a"
             ],
             [
              0.8888888888888888,
              "#fdca26"
             ],
             [
              1,
              "#f0f921"
             ]
            ],
            "type": "surface"
           }
          ],
          "table": [
           {
            "cells": {
             "fill": {
              "color": "#EBF0F8"
             },
             "line": {
              "color": "white"
             }
            },
            "header": {
             "fill": {
              "color": "#C8D4E3"
             },
             "line": {
              "color": "white"
             }
            },
            "type": "table"
           }
          ]
         },
         "layout": {
          "annotationdefaults": {
           "arrowcolor": "#2a3f5f",
           "arrowhead": 0,
           "arrowwidth": 1
          },
          "autotypenumbers": "strict",
          "coloraxis": {
           "colorbar": {
            "outlinewidth": 0,
            "ticks": ""
           }
          },
          "colorscale": {
           "diverging": [
            [
             0,
             "#8e0152"
            ],
            [
             0.1,
             "#c51b7d"
            ],
            [
             0.2,
             "#de77ae"
            ],
            [
             0.3,
             "#f1b6da"
            ],
            [
             0.4,
             "#fde0ef"
            ],
            [
             0.5,
             "#f7f7f7"
            ],
            [
             0.6,
             "#e6f5d0"
            ],
            [
             0.7,
             "#b8e186"
            ],
            [
             0.8,
             "#7fbc41"
            ],
            [
             0.9,
             "#4d9221"
            ],
            [
             1,
             "#276419"
            ]
           ],
           "sequential": [
            [
             0,
             "#0d0887"
            ],
            [
             0.1111111111111111,
             "#46039f"
            ],
            [
             0.2222222222222222,
             "#7201a8"
            ],
            [
             0.3333333333333333,
             "#9c179e"
            ],
            [
             0.4444444444444444,
             "#bd3786"
            ],
            [
             0.5555555555555556,
             "#d8576b"
            ],
            [
             0.6666666666666666,
             "#ed7953"
            ],
            [
             0.7777777777777778,
             "#fb9f3a"
            ],
            [
             0.8888888888888888,
             "#fdca26"
            ],
            [
             1,
             "#f0f921"
            ]
           ],
           "sequentialminus": [
            [
             0,
             "#0d0887"
            ],
            [
             0.1111111111111111,
             "#46039f"
            ],
            [
             0.2222222222222222,
             "#7201a8"
            ],
            [
             0.3333333333333333,
             "#9c179e"
            ],
            [
             0.4444444444444444,
             "#bd3786"
            ],
            [
             0.5555555555555556,
             "#d8576b"
            ],
            [
             0.6666666666666666,
             "#ed7953"
            ],
            [
             0.7777777777777778,
             "#fb9f3a"
            ],
            [
             0.8888888888888888,
             "#fdca26"
            ],
            [
             1,
             "#f0f921"
            ]
           ]
          },
          "colorway": [
           "#636efa",
           "#EF553B",
           "#00cc96",
           "#ab63fa",
           "#FFA15A",
           "#19d3f3",
           "#FF6692",
           "#B6E880",
           "#FF97FF",
           "#FECB52"
          ],
          "font": {
           "color": "#2a3f5f"
          },
          "geo": {
           "bgcolor": "white",
           "lakecolor": "white",
           "landcolor": "#E5ECF6",
           "showlakes": true,
           "showland": true,
           "subunitcolor": "white"
          },
          "hoverlabel": {
           "align": "left"
          },
          "hovermode": "closest",
          "mapbox": {
           "style": "light"
          },
          "paper_bgcolor": "white",
          "plot_bgcolor": "#E5ECF6",
          "polar": {
           "angularaxis": {
            "gridcolor": "white",
            "linecolor": "white",
            "ticks": ""
           },
           "bgcolor": "#E5ECF6",
           "radialaxis": {
            "gridcolor": "white",
            "linecolor": "white",
            "ticks": ""
           }
          },
          "scene": {
           "xaxis": {
            "backgroundcolor": "#E5ECF6",
            "gridcolor": "white",
            "gridwidth": 2,
            "linecolor": "white",
            "showbackground": true,
            "ticks": "",
            "zerolinecolor": "white"
           },
           "yaxis": {
            "backgroundcolor": "#E5ECF6",
            "gridcolor": "white",
            "gridwidth": 2,
            "linecolor": "white",
            "showbackground": true,
            "ticks": "",
            "zerolinecolor": "white"
           },
           "zaxis": {
            "backgroundcolor": "#E5ECF6",
            "gridcolor": "white",
            "gridwidth": 2,
            "linecolor": "white",
            "showbackground": true,
            "ticks": "",
            "zerolinecolor": "white"
           }
          },
          "shapedefaults": {
           "line": {
            "color": "#2a3f5f"
           }
          },
          "ternary": {
           "aaxis": {
            "gridcolor": "white",
            "linecolor": "white",
            "ticks": ""
           },
           "baxis": {
            "gridcolor": "white",
            "linecolor": "white",
            "ticks": ""
           },
           "bgcolor": "#E5ECF6",
           "caxis": {
            "gridcolor": "white",
            "linecolor": "white",
            "ticks": ""
           }
          },
          "title": {
           "x": 0.05
          },
          "xaxis": {
           "automargin": true,
           "gridcolor": "white",
           "linecolor": "white",
           "ticks": "",
           "title": {
            "standoff": 15
           },
           "zerolinecolor": "white",
           "zerolinewidth": 2
          },
          "yaxis": {
           "automargin": true,
           "gridcolor": "white",
           "linecolor": "white",
           "ticks": "",
           "title": {
            "standoff": 15
           },
           "zerolinecolor": "white",
           "zerolinewidth": 2
          }
         }
        },
        "title": {
         "text": "Bar Plot of Last_Service_Date"
        },
        "xaxis": {
         "anchor": "y",
         "domain": [
          0,
          1
         ],
         "title": {
          "text": "Last_Service_Date"
         }
        },
        "yaxis": {
         "anchor": "x",
         "domain": [
          0,
          1
         ],
         "title": {
          "text": "Count"
         }
        }
       }
      }
     },
     "metadata": {},
     "output_type": "display_data"
    },
    {
     "name": "stdout",
     "output_type": "stream",
     "text": [
      "Value Counts and Percentages for Warranty_Expiry_Date:\n",
      "Warranty_Expiry_Date\n",
      "13-05-2025    82\n",
      "06-06-2025    81\n",
      "03-06-2024    80\n",
      "16-09-2024    79\n",
      "12-03-2026    76\n",
      "              ..\n",
      "17-11-2025    39\n",
      "17-01-2026    38\n",
      "17-10-2025    37\n",
      "02-11-2024    35\n",
      "27-11-2025    33\n",
      "Name: count, Length: 701, dtype: int64\n",
      "Warranty_Expiry_Date\n",
      "13-05-2025    0.20\n",
      "06-06-2025    0.20\n",
      "03-06-2024    0.20\n",
      "16-09-2024    0.20\n",
      "12-03-2026    0.19\n",
      "              ... \n",
      "17-11-2025    0.10\n",
      "17-01-2026    0.10\n",
      "17-10-2025    0.09\n",
      "02-11-2024    0.09\n",
      "27-11-2025    0.08\n",
      "Name: count, Length: 701, dtype: float64\n",
      "\n"
     ]
    },
    {
     "data": {
      "application/vnd.plotly.v1+json": {
       "config": {
        "plotlyServerURL": "https://plot.ly"
       },
       "data": [
        {
         "alignmentgroup": "True",
         "hovertemplate": "Warranty_Expiry_Date=%{x}<br>Count=%{y}<br>text=%{text}<extra></extra>",
         "legendgroup": "",
         "marker": {
          "color": "#636efa",
          "pattern": {
           "shape": ""
          }
         },
         "name": "",
         "offsetgroup": "",
         "orientation": "v",
         "showlegend": false,
         "text": [
          "0.2%",
          "0.2%",
          "0.2%",
          "0.2%",
          "0.19%",
          "0.19%",
          "0.19%",
          "0.18%",
          "0.18%",
          "0.18%",
          "0.18%",
          "0.18%",
          "0.18%",
          "0.18%",
          "0.18%",
          "0.18%",
          "0.18%",
          "0.18%",
          "0.18%",
          "0.18%",
          "0.18%",
          "0.18%",
          "0.18%",
          "0.18%",
          "0.18%",
          "0.18%",
          "0.18%",
          "0.18%",
          "0.18%",
          "0.18%",
          "0.18%",
          "0.18%",
          "0.18%",
          "0.18%",
          "0.18%",
          "0.18%",
          "0.18%",
          "0.18%",
          "0.17%",
          "0.17%",
          "0.17%",
          "0.17%",
          "0.17%",
          "0.17%",
          "0.17%",
          "0.17%",
          "0.17%",
          "0.17%",
          "0.17%",
          "0.17%",
          "0.17%",
          "0.17%",
          "0.17%",
          "0.17%",
          "0.17%",
          "0.17%",
          "0.17%",
          "0.17%",
          "0.17%",
          "0.17%",
          "0.17%",
          "0.17%",
          "0.17%",
          "0.17%",
          "0.17%",
          "0.17%",
          "0.17%",
          "0.17%",
          "0.17%",
          "0.16%",
          "0.16%",
          "0.16%",
          "0.16%",
          "0.16%",
          "0.16%",
          "0.16%",
          "0.16%",
          "0.16%",
          "0.16%",
          "0.16%",
          "0.16%",
          "0.16%",
          "0.16%",
          "0.16%",
          "0.16%",
          "0.16%",
          "0.16%",
          "0.16%",
          "0.16%",
          "0.16%",
          "0.16%",
          "0.16%",
          "0.16%",
          "0.16%",
          "0.16%",
          "0.16%",
          "0.16%",
          "0.16%",
          "0.16%",
          "0.16%",
          "0.16%",
          "0.16%",
          "0.16%",
          "0.16%",
          "0.16%",
          "0.16%",
          "0.16%",
          "0.16%",
          "0.16%",
          "0.16%",
          "0.16%",
          "0.16%",
          "0.16%",
          "0.16%",
          "0.16%",
          "0.16%",
          "0.16%",
          "0.16%",
          "0.16%",
          "0.16%",
          "0.16%",
          "0.16%",
          "0.16%",
          "0.16%",
          "0.16%",
          "0.16%",
          "0.16%",
          "0.16%",
          "0.16%",
          "0.16%",
          "0.16%",
          "0.16%",
          "0.16%",
          "0.16%",
          "0.16%",
          "0.16%",
          "0.16%",
          "0.16%",
          "0.16%",
          "0.16%",
          "0.16%",
          "0.16%",
          "0.16%",
          "0.16%",
          "0.16%",
          "0.16%",
          "0.16%",
          "0.16%",
          "0.16%",
          "0.16%",
          "0.16%",
          "0.16%",
          "0.16%",
          "0.16%",
          "0.16%",
          "0.16%",
          "0.16%",
          "0.16%",
          "0.16%",
          "0.16%",
          "0.16%",
          "0.16%",
          "0.16%",
          "0.16%",
          "0.16%",
          "0.16%",
          "0.16%",
          "0.16%",
          "0.16%",
          "0.16%",
          "0.16%",
          "0.16%",
          "0.16%",
          "0.16%",
          "0.16%",
          "0.16%",
          "0.16%",
          "0.16%",
          "0.15%",
          "0.15%",
          "0.15%",
          "0.15%",
          "0.15%",
          "0.15%",
          "0.15%",
          "0.15%",
          "0.15%",
          "0.15%",
          "0.15%",
          "0.15%",
          "0.15%",
          "0.15%",
          "0.15%",
          "0.15%",
          "0.15%",
          "0.15%",
          "0.15%",
          "0.15%",
          "0.15%",
          "0.15%",
          "0.15%",
          "0.15%",
          "0.15%",
          "0.15%",
          "0.15%",
          "0.15%",
          "0.15%",
          "0.15%",
          "0.15%",
          "0.15%",
          "0.15%",
          "0.15%",
          "0.15%",
          "0.15%",
          "0.15%",
          "0.15%",
          "0.15%",
          "0.15%",
          "0.15%",
          "0.15%",
          "0.15%",
          "0.15%",
          "0.15%",
          "0.15%",
          "0.15%",
          "0.15%",
          "0.15%",
          "0.15%",
          "0.15%",
          "0.15%",
          "0.15%",
          "0.15%",
          "0.15%",
          "0.15%",
          "0.15%",
          "0.15%",
          "0.15%",
          "0.15%",
          "0.15%",
          "0.15%",
          "0.15%",
          "0.15%",
          "0.15%",
          "0.15%",
          "0.15%",
          "0.15%",
          "0.15%",
          "0.15%",
          "0.15%",
          "0.15%",
          "0.15%",
          "0.15%",
          "0.15%",
          "0.15%",
          "0.15%",
          "0.15%",
          "0.15%",
          "0.15%",
          "0.15%",
          "0.15%",
          "0.15%",
          "0.15%",
          "0.15%",
          "0.15%",
          "0.15%",
          "0.15%",
          "0.15%",
          "0.15%",
          "0.15%",
          "0.15%",
          "0.15%",
          "0.15%",
          "0.15%",
          "0.15%",
          "0.15%",
          "0.15%",
          "0.15%",
          "0.15%",
          "0.15%",
          "0.15%",
          "0.15%",
          "0.15%",
          "0.15%",
          "0.15%",
          "0.15%",
          "0.15%",
          "0.15%",
          "0.15%",
          "0.15%",
          "0.15%",
          "0.15%",
          "0.15%",
          "0.15%",
          "0.15%",
          "0.15%",
          "0.14%",
          "0.14%",
          "0.14%",
          "0.14%",
          "0.14%",
          "0.14%",
          "0.14%",
          "0.14%",
          "0.14%",
          "0.14%",
          "0.14%",
          "0.14%",
          "0.14%",
          "0.14%",
          "0.14%",
          "0.14%",
          "0.14%",
          "0.14%",
          "0.14%",
          "0.14%",
          "0.14%",
          "0.14%",
          "0.14%",
          "0.14%",
          "0.14%",
          "0.14%",
          "0.14%",
          "0.14%",
          "0.14%",
          "0.14%",
          "0.14%",
          "0.14%",
          "0.14%",
          "0.14%",
          "0.14%",
          "0.14%",
          "0.14%",
          "0.14%",
          "0.14%",
          "0.14%",
          "0.14%",
          "0.14%",
          "0.14%",
          "0.14%",
          "0.14%",
          "0.14%",
          "0.14%",
          "0.14%",
          "0.14%",
          "0.14%",
          "0.14%",
          "0.14%",
          "0.14%",
          "0.14%",
          "0.14%",
          "0.14%",
          "0.14%",
          "0.14%",
          "0.14%",
          "0.14%",
          "0.14%",
          "0.14%",
          "0.14%",
          "0.14%",
          "0.14%",
          "0.14%",
          "0.14%",
          "0.14%",
          "0.14%",
          "0.14%",
          "0.14%",
          "0.14%",
          "0.14%",
          "0.14%",
          "0.14%",
          "0.14%",
          "0.14%",
          "0.14%",
          "0.14%",
          "0.14%",
          "0.14%",
          "0.14%",
          "0.14%",
          "0.14%",
          "0.14%",
          "0.14%",
          "0.14%",
          "0.14%",
          "0.14%",
          "0.14%",
          "0.14%",
          "0.14%",
          "0.14%",
          "0.14%",
          "0.14%",
          "0.14%",
          "0.14%",
          "0.14%",
          "0.14%",
          "0.14%",
          "0.14%",
          "0.14%",
          "0.14%",
          "0.14%",
          "0.14%",
          "0.14%",
          "0.14%",
          "0.14%",
          "0.14%",
          "0.14%",
          "0.14%",
          "0.14%",
          "0.14%",
          "0.14%",
          "0.14%",
          "0.14%",
          "0.14%",
          "0.14%",
          "0.14%",
          "0.14%",
          "0.14%",
          "0.14%",
          "0.14%",
          "0.14%",
          "0.14%",
          "0.14%",
          "0.14%",
          "0.14%",
          "0.14%",
          "0.14%",
          "0.14%",
          "0.14%",
          "0.14%",
          "0.14%",
          "0.14%",
          "0.14%",
          "0.14%",
          "0.14%",
          "0.14%",
          "0.14%",
          "0.14%",
          "0.14%",
          "0.14%",
          "0.14%",
          "0.14%",
          "0.14%",
          "0.14%",
          "0.14%",
          "0.14%",
          "0.14%",
          "0.14%",
          "0.14%",
          "0.14%",
          "0.14%",
          "0.14%",
          "0.14%",
          "0.14%",
          "0.14%",
          "0.14%",
          "0.14%",
          "0.14%",
          "0.14%",
          "0.14%",
          "0.14%",
          "0.14%",
          "0.14%",
          "0.14%",
          "0.14%",
          "0.14%",
          "0.14%",
          "0.14%",
          "0.14%",
          "0.14%",
          "0.14%",
          "0.14%",
          "0.14%",
          "0.14%",
          "0.14%",
          "0.14%",
          "0.14%",
          "0.14%",
          "0.14%",
          "0.14%",
          "0.14%",
          "0.14%",
          "0.14%",
          "0.14%",
          "0.13%",
          "0.13%",
          "0.13%",
          "0.13%",
          "0.13%",
          "0.13%",
          "0.13%",
          "0.13%",
          "0.13%",
          "0.13%",
          "0.13%",
          "0.13%",
          "0.13%",
          "0.13%",
          "0.13%",
          "0.13%",
          "0.13%",
          "0.13%",
          "0.13%",
          "0.13%",
          "0.13%",
          "0.13%",
          "0.13%",
          "0.13%",
          "0.13%",
          "0.13%",
          "0.13%",
          "0.13%",
          "0.13%",
          "0.13%",
          "0.13%",
          "0.13%",
          "0.13%",
          "0.13%",
          "0.13%",
          "0.13%",
          "0.13%",
          "0.13%",
          "0.13%",
          "0.13%",
          "0.13%",
          "0.13%",
          "0.13%",
          "0.13%",
          "0.13%",
          "0.13%",
          "0.13%",
          "0.13%",
          "0.13%",
          "0.13%",
          "0.13%",
          "0.13%",
          "0.13%",
          "0.13%",
          "0.13%",
          "0.13%",
          "0.13%",
          "0.13%",
          "0.13%",
          "0.13%",
          "0.13%",
          "0.13%",
          "0.13%",
          "0.13%",
          "0.13%",
          "0.13%",
          "0.13%",
          "0.13%",
          "0.13%",
          "0.13%",
          "0.13%",
          "0.13%",
          "0.13%",
          "0.13%",
          "0.13%",
          "0.13%",
          "0.13%",
          "0.13%",
          "0.13%",
          "0.13%",
          "0.13%",
          "0.13%",
          "0.13%",
          "0.13%",
          "0.13%",
          "0.13%",
          "0.13%",
          "0.13%",
          "0.13%",
          "0.13%",
          "0.13%",
          "0.13%",
          "0.12%",
          "0.12%",
          "0.12%",
          "0.12%",
          "0.12%",
          "0.12%",
          "0.12%",
          "0.12%",
          "0.12%",
          "0.12%",
          "0.12%",
          "0.12%",
          "0.12%",
          "0.12%",
          "0.12%",
          "0.12%",
          "0.12%",
          "0.12%",
          "0.12%",
          "0.12%",
          "0.12%",
          "0.12%",
          "0.12%",
          "0.12%",
          "0.12%",
          "0.12%",
          "0.12%",
          "0.12%",
          "0.12%",
          "0.12%",
          "0.12%",
          "0.12%",
          "0.12%",
          "0.12%",
          "0.12%",
          "0.12%",
          "0.12%",
          "0.12%",
          "0.12%",
          "0.12%",
          "0.12%",
          "0.12%",
          "0.12%",
          "0.12%",
          "0.12%",
          "0.12%",
          "0.12%",
          "0.12%",
          "0.12%",
          "0.12%",
          "0.12%",
          "0.12%",
          "0.12%",
          "0.12%",
          "0.12%",
          "0.12%",
          "0.12%",
          "0.12%",
          "0.12%",
          "0.12%",
          "0.12%",
          "0.12%",
          "0.12%",
          "0.12%",
          "0.12%",
          "0.12%",
          "0.12%",
          "0.12%",
          "0.12%",
          "0.12%",
          "0.12%",
          "0.12%",
          "0.12%",
          "0.12%",
          "0.12%",
          "0.12%",
          "0.12%",
          "0.12%",
          "0.12%",
          "0.12%",
          "0.12%",
          "0.12%",
          "0.12%",
          "0.12%",
          "0.12%",
          "0.12%",
          "0.12%",
          "0.12%",
          "0.12%",
          "0.11%",
          "0.11%",
          "0.11%",
          "0.11%",
          "0.11%",
          "0.11%",
          "0.11%",
          "0.11%",
          "0.11%",
          "0.11%",
          "0.11%",
          "0.11%",
          "0.11%",
          "0.11%",
          "0.11%",
          "0.11%",
          "0.11%",
          "0.11%",
          "0.11%",
          "0.11%",
          "0.11%",
          "0.11%",
          "0.11%",
          "0.1%",
          "0.1%",
          "0.1%",
          "0.1%",
          "0.1%",
          "0.1%",
          "0.1%",
          "0.1%",
          "0.1%",
          "0.1%",
          "0.1%",
          "0.1%",
          "0.09%",
          "0.09%",
          "0.08%"
         ],
         "textposition": "outside",
         "type": "bar",
         "x": [
          "13-05-2025",
          "06-06-2025",
          "03-06-2024",
          "16-09-2024",
          "12-03-2026",
          "09-08-2024",
          "17-05-2024",
          "06-01-2026",
          "06-03-2025",
          "22-01-2026",
          "01-11-2025",
          "01-06-2025",
          "30-06-2025",
          "10-11-2024",
          "13-12-2024",
          "13-08-2025",
          "30-08-2024",
          "05-09-2024",
          "04-10-2025",
          "24-01-2025",
          "11-10-2024",
          "07-11-2024",
          "30-05-2025",
          "05-07-2024",
          "29-09-2024",
          "07-10-2025",
          "01-05-2025",
          "11-11-2024",
          "28-01-2026",
          "19-08-2024",
          "31-05-2025",
          "31-07-2024",
          "10-12-2024",
          "17-09-2025",
          "24-02-2025",
          "02-08-2024",
          "20-07-2024",
          "15-02-2026",
          "03-05-2025",
          "26-06-2025",
          "02-07-2024",
          "08-07-2024",
          "13-07-2025",
          "17-05-2025",
          "31-08-2024",
          "24-01-2026",
          "29-01-2026",
          "05-02-2025",
          "17-08-2024",
          "11-09-2025",
          "15-01-2025",
          "26-10-2025",
          "04-05-2024",
          "25-03-2026",
          "21-08-2025",
          "13-05-2024",
          "22-10-2025",
          "06-10-2025",
          "25-05-2024",
          "03-03-2025",
          "12-05-2024",
          "22-09-2024",
          "21-01-2025",
          "14-10-2024",
          "23-02-2026",
          "21-05-2025",
          "22-07-2024",
          "03-11-2025",
          "08-05-2024",
          "01-08-2025",
          "16-09-2025",
          "17-02-2025",
          "20-09-2024",
          "13-08-2024",
          "05-03-2025",
          "08-10-2025",
          "22-10-2024",
          "14-09-2024",
          "16-07-2025",
          "26-11-2025",
          "15-09-2025",
          "04-06-2025",
          "05-04-2025",
          "24-04-2025",
          "11-07-2024",
          "19-05-2025",
          "20-01-2025",
          "05-09-2025",
          "21-09-2025",
          "28-06-2025",
          "24-11-2024",
          "18-01-2025",
          "07-05-2024",
          "10-06-2025",
          "11-01-2026",
          "07-03-2026",
          "22-06-2024",
          "11-02-2025",
          "26-01-2025",
          "03-09-2024",
          "19-01-2026",
          "31-10-2024",
          "17-01-2025",
          "01-04-2025",
          "26-11-2024",
          "29-01-2025",
          "09-09-2024",
          "20-03-2025",
          "19-06-2024",
          "09-12-2024",
          "16-02-2025",
          "01-05-2024",
          "14-07-2025",
          "17-04-2025",
          "28-11-2025",
          "22-03-2026",
          "23-05-2025",
          "29-05-2024",
          "27-08-2024",
          "12-09-2024",
          "01-11-2024",
          "03-08-2025",
          "12-07-2024",
          "09-03-2025",
          "20-12-2024",
          "06-12-2024",
          "18-12-2025",
          "25-10-2024",
          "27-02-2025",
          "30-04-2024",
          "15-06-2024",
          "09-10-2024",
          "05-05-2025",
          "15-12-2024",
          "24-06-2024",
          "13-12-2025",
          "25-12-2025",
          "24-06-2025",
          "26-10-2024",
          "14-08-2024",
          "10-07-2025",
          "06-11-2025",
          "31-03-2025",
          "23-01-2026",
          "16-01-2025",
          "19-07-2025",
          "24-10-2025",
          "04-08-2024",
          "03-12-2025",
          "06-05-2025",
          "26-02-2026",
          "02-02-2026",
          "07-03-2025",
          "01-10-2024",
          "13-06-2024",
          "14-02-2026",
          "15-11-2025",
          "11-11-2025",
          "28-07-2025",
          "12-09-2025",
          "31-07-2025",
          "23-12-2025",
          "04-01-2025",
          "30-06-2024",
          "26-05-2024",
          "16-03-2026",
          "19-01-2025",
          "21-07-2024",
          "16-05-2024",
          "25-03-2025",
          "01-10-2025",
          "20-12-2025",
          "14-12-2024",
          "16-01-2026",
          "20-03-2026",
          "17-12-2024",
          "20-06-2024",
          "13-02-2025",
          "29-06-2025",
          "31-08-2025",
          "08-06-2025",
          "02-10-2024",
          "23-12-2024",
          "27-03-2026",
          "27-09-2024",
          "23-02-2025",
          "07-07-2025",
          "25-05-2025",
          "23-10-2025",
          "04-09-2024",
          "10-03-2025",
          "08-12-2024",
          "07-12-2025",
          "23-10-2024",
          "23-08-2024",
          "18-01-2026",
          "10-07-2024",
          "13-03-2026",
          "31-05-2024",
          "30-07-2024",
          "27-09-2025",
          "08-09-2024",
          "08-11-2024",
          "18-05-2025",
          "30-12-2025",
          "25-09-2025",
          "23-09-2025",
          "25-07-2025",
          "04-07-2024",
          "14-05-2025",
          "14-12-2025",
          "11-06-2024",
          "09-05-2024",
          "09-07-2025",
          "16-08-2025",
          "08-01-2025",
          "23-07-2024",
          "04-12-2024",
          "25-11-2024",
          "08-12-2025",
          "03-07-2025",
          "06-09-2024",
          "23-11-2024",
          "03-04-2025",
          "17-06-2024",
          "25-12-2024",
          "22-12-2024",
          "04-05-2025",
          "30-08-2025",
          "31-12-2024",
          "27-10-2025",
          "17-02-2026",
          "16-05-2025",
          "18-11-2025",
          "23-07-2025",
          "12-01-2025",
          "06-07-2025",
          "15-02-2025",
          "02-03-2025",
          "03-03-2026",
          "01-06-2024",
          "12-11-2024",
          "13-01-2026",
          "15-03-2026",
          "06-04-2025",
          "22-01-2025",
          "26-02-2025",
          "21-03-2025",
          "16-11-2025",
          "01-07-2025",
          "24-10-2024",
          "16-12-2025",
          "02-05-2025",
          "28-06-2024",
          "29-10-2025",
          "27-07-2024",
          "01-03-2025",
          "22-11-2024",
          "01-09-2025",
          "26-12-2024",
          "15-11-2024",
          "12-12-2024",
          "19-12-2025",
          "19-03-2026",
          "14-08-2025",
          "29-11-2025",
          "06-12-2025",
          "17-07-2024",
          "27-12-2024",
          "27-08-2025",
          "12-07-2025",
          "24-12-2024",
          "12-02-2026",
          "09-07-2024",
          "26-12-2025",
          "30-07-2025",
          "01-02-2026",
          "16-08-2024",
          "02-12-2025",
          "29-12-2025",
          "11-01-2025",
          "13-09-2024",
          "05-06-2025",
          "14-06-2024",
          "18-07-2024",
          "07-02-2026",
          "16-03-2025",
          "25-02-2026",
          "28-11-2024",
          "24-05-2025",
          "11-08-2025",
          "21-01-2026",
          "16-07-2024",
          "19-08-2025",
          "30-03-2025",
          "27-06-2024",
          "27-11-2024",
          "27-04-2025",
          "31-10-2025",
          "09-01-2025",
          "15-04-2025",
          "26-05-2025",
          "21-07-2025",
          "13-07-2024",
          "15-10-2025",
          "10-05-2025",
          "22-04-2025",
          "07-04-2025",
          "03-10-2025",
          "13-01-2025",
          "05-06-2024",
          "19-02-2026",
          "01-02-2025",
          "12-11-2025",
          "19-10-2025",
          "09-11-2024",
          "08-06-2024",
          "28-12-2024",
          "30-11-2025",
          "26-07-2024",
          "15-07-2024",
          "12-08-2024",
          "22-02-2025",
          "01-12-2024",
          "06-09-2025",
          "24-08-2025",
          "21-10-2025",
          "29-09-2025",
          "24-07-2024",
          "25-06-2024",
          "21-12-2025",
          "23-06-2024",
          "12-06-2025",
          "29-04-2024",
          "29-11-2024",
          "15-05-2024",
          "24-07-2025",
          "02-04-2025",
          "24-12-2025",
          "29-12-2024",
          "18-06-2025",
          "01-01-2026",
          "20-05-2024",
          "12-10-2024",
          "08-03-2025",
          "26-09-2024",
          "18-07-2025",
          "01-08-2024",
          "20-05-2025",
          "15-06-2025",
          "28-07-2024",
          "22-05-2025",
          "28-03-2025",
          "10-11-2025",
          "24-03-2026",
          "30-09-2024",
          "09-03-2026",
          "09-02-2026",
          "02-01-2025",
          "26-04-2025",
          "05-02-2026",
          "08-11-2025",
          "11-12-2025",
          "19-04-2025",
          "11-03-2026",
          "16-10-2024",
          "02-09-2025",
          "18-08-2025",
          "04-06-2024",
          "27-01-2025",
          "20-01-2026",
          "15-12-2025",
          "06-07-2024",
          "10-05-2024",
          "20-10-2025",
          "20-10-2024",
          "13-03-2025",
          "24-02-2026",
          "13-11-2025",
          "07-09-2024",
          "08-08-2024",
          "08-09-2025",
          "21-02-2026",
          "10-06-2024",
          "25-04-2025",
          "11-02-2026",
          "19-09-2025",
          "06-02-2025",
          "20-02-2025",
          "04-01-2026",
          "01-01-2025",
          "07-02-2025",
          "06-03-2026",
          "24-03-2025",
          "12-12-2025",
          "18-10-2024",
          "09-08-2025",
          "21-11-2024",
          "29-04-2025",
          "20-06-2025",
          "07-08-2025",
          "10-02-2026",
          "09-11-2025",
          "04-03-2026",
          "25-06-2025",
          "05-07-2025",
          "14-11-2025",
          "28-03-2026",
          "03-05-2024",
          "29-08-2025",
          "02-06-2024",
          "06-11-2024",
          "26-03-2026",
          "06-01-2025",
          "18-08-2024",
          "06-05-2024",
          "04-07-2025",
          "16-11-2024",
          "26-03-2025",
          "18-12-2024",
          "16-06-2025",
          "30-10-2024",
          "19-12-2024",
          "29-03-2025",
          "09-04-2025",
          "02-02-2025",
          "19-11-2024",
          "28-10-2024",
          "20-11-2025",
          "17-03-2026",
          "11-05-2025",
          "21-06-2025",
          "17-10-2024",
          "26-01-2026",
          "25-02-2025",
          "15-08-2025",
          "01-09-2024",
          "25-10-2025",
          "14-01-2026",
          "11-12-2024",
          "11-06-2025",
          "28-08-2025",
          "21-06-2024",
          "04-09-2025",
          "09-06-2024",
          "11-03-2025",
          "27-03-2025",
          "21-02-2025",
          "14-02-2025",
          "23-06-2025",
          "03-01-2026",
          "04-04-2025",
          "02-09-2024",
          "07-11-2025",
          "02-01-2026",
          "05-12-2025",
          "13-10-2024",
          "19-02-2025",
          "03-07-2024",
          "10-09-2024",
          "28-02-2026",
          "25-11-2025",
          "16-10-2025",
          "23-03-2026",
          "15-10-2024",
          "14-11-2024",
          "17-03-2025",
          "27-07-2025",
          "04-08-2025",
          "08-08-2025",
          "19-09-2024",
          "29-10-2024",
          "17-07-2025",
          "24-11-2025",
          "16-04-2025",
          "18-06-2024",
          "22-08-2024",
          "05-08-2025",
          "03-02-2025",
          "27-05-2025",
          "08-07-2025",
          "05-10-2025",
          "07-07-2024",
          "03-02-2026",
          "14-01-2025",
          "26-08-2025",
          "11-04-2025",
          "28-08-2024",
          "11-10-2025",
          "18-11-2024",
          "30-01-2026",
          "14-06-2025",
          "22-09-2025",
          "09-12-2025",
          "01-03-2026",
          "03-01-2025",
          "15-05-2025",
          "30-01-2025",
          "17-08-2025",
          "23-03-2025",
          "30-11-2024",
          "09-10-2025",
          "05-08-2024",
          "21-04-2025",
          "07-06-2025",
          "28-04-2025",
          "21-11-2025",
          "28-10-2025",
          "02-11-2025",
          "11-09-2024",
          "04-03-2025",
          "02-05-2024",
          "22-11-2025",
          "28-09-2025",
          "09-09-2025",
          "29-06-2024",
          "23-11-2025",
          "05-03-2026",
          "03-11-2024",
          "18-03-2026",
          "07-10-2024",
          "18-04-2025",
          "13-06-2025",
          "21-03-2026",
          "04-12-2025",
          "07-08-2024",
          "14-07-2024",
          "28-09-2024",
          "13-10-2025",
          "13-11-2024",
          "04-10-2024",
          "18-09-2025",
          "07-06-2024",
          "08-02-2025",
          "19-05-2024",
          "02-08-2025",
          "28-12-2025",
          "05-01-2026",
          "20-08-2025",
          "07-01-2026",
          "27-12-2025",
          "10-08-2025",
          "20-08-2024",
          "27-06-2025",
          "10-08-2024",
          "26-09-2025",
          "19-03-2025",
          "12-05-2025",
          "29-07-2024",
          "04-11-2025",
          "07-09-2025",
          "15-08-2024",
          "02-12-2024",
          "23-01-2025",
          "30-12-2024",
          "21-08-2024",
          "10-10-2024",
          "15-03-2025",
          "06-08-2024",
          "21-10-2024",
          "07-05-2025",
          "08-02-2026",
          "14-05-2024",
          "15-01-2026",
          "19-11-2025",
          "30-09-2025",
          "28-01-2025",
          "30-10-2025",
          "02-07-2025",
          "14-03-2026",
          "10-02-2025",
          "06-02-2026",
          "30-04-2025",
          "06-06-2024",
          "15-09-2024",
          "25-09-2024",
          "06-08-2025",
          "08-05-2025",
          "27-10-2024",
          "12-08-2025",
          "07-12-2024",
          "07-01-2025",
          "20-04-2025",
          "19-06-2025",
          "23-05-2024",
          "19-10-2024",
          "28-02-2025",
          "24-09-2024",
          "13-04-2025",
          "22-02-2026",
          "27-02-2026",
          "05-11-2025",
          "18-03-2025",
          "21-09-2024",
          "13-02-2026",
          "10-01-2025",
          "03-10-2024",
          "05-12-2024",
          "27-01-2026",
          "15-07-2025",
          "09-02-2025",
          "22-12-2025",
          "18-10-2025",
          "16-02-2026",
          "26-08-2024",
          "25-08-2024",
          "21-12-2024",
          "17-06-2025",
          "20-09-2025",
          "03-08-2024",
          "08-01-2026",
          "24-08-2024",
          "03-09-2025",
          "12-03-2025",
          "10-10-2025",
          "11-08-2024",
          "18-02-2025",
          "16-06-2024",
          "29-03-2026",
          "25-07-2024",
          "09-01-2026",
          "30-05-2024",
          "29-05-2025",
          "22-07-2025",
          "24-09-2025",
          "22-06-2025",
          "31-01-2025",
          "02-03-2026",
          "01-07-2024",
          "27-05-2024",
          "10-09-2025",
          "23-04-2025",
          "17-12-2025",
          "14-04-2025",
          "05-05-2024",
          "20-07-2025",
          "20-11-2024",
          "21-05-2024",
          "18-05-2024",
          "23-08-2025",
          "05-01-2025",
          "05-10-2024",
          "28-05-2025",
          "25-01-2026",
          "22-05-2024",
          "13-09-2025",
          "20-02-2026",
          "04-02-2025",
          "19-07-2024",
          "14-10-2025",
          "08-10-2024",
          "08-04-2025",
          "09-05-2025",
          "03-06-2025",
          "29-08-2024",
          "12-10-2025",
          "24-05-2024",
          "04-02-2026",
          "01-12-2025",
          "12-06-2024",
          "18-02-2026",
          "31-01-2026",
          "03-12-2024",
          "23-09-2024",
          "25-08-2025",
          "12-04-2025",
          "02-10-2025",
          "08-03-2026",
          "14-09-2025",
          "09-06-2025",
          "17-11-2024",
          "12-01-2026",
          "28-04-2024",
          "18-09-2024",
          "06-10-2024",
          "04-11-2024",
          "31-12-2025",
          "10-03-2026",
          "26-07-2025",
          "28-05-2024",
          "17-09-2024",
          "11-05-2024",
          "29-07-2025",
          "10-04-2025",
          "22-03-2025",
          "02-06-2025",
          "14-03-2025",
          "25-01-2025",
          "22-08-2025",
          "10-01-2026",
          "11-07-2025",
          "16-12-2024",
          "05-11-2024",
          "26-06-2024",
          "10-12-2025",
          "12-02-2025",
          "17-11-2025",
          "17-01-2026",
          "17-10-2025",
          "02-11-2024",
          "27-11-2025"
         ],
         "xaxis": "x",
         "y": [
          82,
          81,
          80,
          79,
          76,
          76,
          76,
          74,
          74,
          74,
          74,
          74,
          73,
          73,
          73,
          72,
          72,
          72,
          72,
          72,
          72,
          72,
          72,
          72,
          72,
          72,
          71,
          71,
          71,
          71,
          71,
          70,
          70,
          70,
          70,
          70,
          70,
          70,
          69,
          69,
          69,
          69,
          69,
          69,
          69,
          69,
          69,
          68,
          68,
          68,
          68,
          68,
          68,
          68,
          68,
          68,
          68,
          68,
          67,
          67,
          67,
          67,
          67,
          67,
          67,
          67,
          67,
          67,
          67,
          66,
          66,
          66,
          66,
          66,
          66,
          66,
          66,
          66,
          66,
          66,
          66,
          66,
          66,
          66,
          66,
          66,
          66,
          66,
          66,
          66,
          65,
          65,
          65,
          65,
          65,
          65,
          65,
          65,
          65,
          65,
          65,
          65,
          65,
          65,
          65,
          65,
          65,
          65,
          65,
          65,
          64,
          64,
          64,
          64,
          64,
          64,
          64,
          64,
          64,
          64,
          64,
          64,
          64,
          64,
          64,
          64,
          64,
          64,
          63,
          63,
          63,
          63,
          63,
          63,
          63,
          63,
          63,
          63,
          63,
          63,
          63,
          63,
          63,
          63,
          63,
          62,
          62,
          62,
          62,
          62,
          62,
          62,
          62,
          62,
          62,
          62,
          62,
          62,
          62,
          62,
          62,
          62,
          62,
          62,
          62,
          62,
          62,
          62,
          62,
          62,
          62,
          62,
          62,
          62,
          62,
          62,
          62,
          62,
          61,
          61,
          61,
          61,
          61,
          61,
          61,
          61,
          61,
          61,
          61,
          61,
          61,
          61,
          61,
          61,
          61,
          61,
          61,
          61,
          61,
          61,
          61,
          61,
          61,
          61,
          61,
          61,
          61,
          61,
          61,
          61,
          61,
          61,
          61,
          60,
          60,
          60,
          60,
          60,
          60,
          60,
          60,
          60,
          60,
          60,
          60,
          60,
          60,
          60,
          60,
          60,
          60,
          60,
          60,
          60,
          60,
          60,
          60,
          60,
          60,
          60,
          60,
          60,
          60,
          60,
          60,
          60,
          60,
          59,
          59,
          59,
          59,
          59,
          59,
          59,
          59,
          59,
          59,
          59,
          59,
          59,
          59,
          59,
          59,
          59,
          59,
          59,
          59,
          59,
          59,
          59,
          59,
          59,
          59,
          59,
          59,
          59,
          59,
          59,
          59,
          59,
          59,
          59,
          59,
          59,
          59,
          59,
          59,
          59,
          59,
          59,
          59,
          59,
          59,
          59,
          59,
          58,
          58,
          58,
          58,
          58,
          58,
          58,
          58,
          58,
          58,
          58,
          58,
          58,
          58,
          58,
          58,
          58,
          58,
          58,
          58,
          58,
          58,
          58,
          58,
          58,
          58,
          58,
          58,
          58,
          57,
          57,
          57,
          57,
          57,
          57,
          57,
          57,
          57,
          57,
          57,
          57,
          57,
          57,
          57,
          57,
          57,
          57,
          57,
          57,
          57,
          57,
          57,
          57,
          57,
          57,
          57,
          57,
          57,
          57,
          57,
          57,
          57,
          57,
          57,
          57,
          57,
          57,
          57,
          57,
          57,
          57,
          56,
          56,
          56,
          56,
          56,
          56,
          56,
          56,
          56,
          56,
          56,
          56,
          56,
          56,
          56,
          56,
          56,
          56,
          56,
          56,
          56,
          56,
          56,
          56,
          56,
          56,
          56,
          56,
          56,
          56,
          56,
          56,
          56,
          56,
          56,
          56,
          56,
          56,
          56,
          55,
          55,
          55,
          55,
          55,
          55,
          55,
          55,
          55,
          55,
          55,
          55,
          55,
          55,
          55,
          55,
          55,
          55,
          55,
          55,
          55,
          55,
          55,
          55,
          55,
          55,
          55,
          55,
          55,
          55,
          55,
          55,
          54,
          54,
          54,
          54,
          54,
          54,
          54,
          54,
          54,
          54,
          54,
          54,
          54,
          54,
          54,
          54,
          54,
          54,
          54,
          54,
          54,
          54,
          54,
          54,
          54,
          54,
          54,
          54,
          54,
          54,
          54,
          54,
          54,
          54,
          54,
          54,
          54,
          54,
          54,
          54,
          54,
          54,
          54,
          54,
          54,
          53,
          53,
          53,
          53,
          53,
          53,
          53,
          53,
          53,
          53,
          53,
          53,
          53,
          53,
          53,
          53,
          53,
          53,
          53,
          53,
          53,
          53,
          53,
          53,
          53,
          53,
          53,
          53,
          53,
          53,
          53,
          53,
          53,
          53,
          53,
          53,
          53,
          52,
          52,
          52,
          52,
          52,
          52,
          52,
          52,
          52,
          52,
          52,
          52,
          52,
          52,
          52,
          52,
          52,
          52,
          52,
          52,
          52,
          52,
          52,
          52,
          52,
          52,
          52,
          52,
          52,
          52,
          52,
          52,
          52,
          51,
          51,
          51,
          51,
          51,
          51,
          51,
          51,
          51,
          51,
          51,
          51,
          51,
          51,
          51,
          51,
          51,
          51,
          51,
          51,
          51,
          51,
          50,
          50,
          50,
          50,
          50,
          50,
          50,
          50,
          50,
          50,
          50,
          50,
          50,
          50,
          50,
          50,
          50,
          50,
          50,
          50,
          50,
          50,
          50,
          50,
          50,
          50,
          49,
          49,
          49,
          49,
          49,
          49,
          49,
          49,
          49,
          49,
          49,
          49,
          49,
          49,
          49,
          49,
          49,
          49,
          49,
          49,
          48,
          48,
          48,
          48,
          48,
          48,
          48,
          48,
          48,
          48,
          48,
          48,
          48,
          48,
          47,
          47,
          47,
          47,
          47,
          47,
          47,
          47,
          47,
          47,
          47,
          47,
          47,
          47,
          46,
          46,
          46,
          46,
          46,
          46,
          46,
          46,
          46,
          46,
          46,
          46,
          46,
          46,
          46,
          45,
          45,
          45,
          45,
          45,
          45,
          45,
          45,
          45,
          45,
          45,
          44,
          44,
          44,
          44,
          44,
          44,
          43,
          43,
          43,
          43,
          43,
          43,
          42,
          41,
          41,
          41,
          41,
          41,
          41,
          40,
          40,
          40,
          39,
          38,
          37,
          35,
          33
         ],
         "yaxis": "y"
        }
       ],
       "layout": {
        "barmode": "relative",
        "legend": {
         "tracegroupgap": 0
        },
        "template": {
         "data": {
          "bar": [
           {
            "error_x": {
             "color": "#2a3f5f"
            },
            "error_y": {
             "color": "#2a3f5f"
            },
            "marker": {
             "line": {
              "color": "#E5ECF6",
              "width": 0.5
             },
             "pattern": {
              "fillmode": "overlay",
              "size": 10,
              "solidity": 0.2
             }
            },
            "type": "bar"
           }
          ],
          "barpolar": [
           {
            "marker": {
             "line": {
              "color": "#E5ECF6",
              "width": 0.5
             },
             "pattern": {
              "fillmode": "overlay",
              "size": 10,
              "solidity": 0.2
             }
            },
            "type": "barpolar"
           }
          ],
          "carpet": [
           {
            "aaxis": {
             "endlinecolor": "#2a3f5f",
             "gridcolor": "white",
             "linecolor": "white",
             "minorgridcolor": "white",
             "startlinecolor": "#2a3f5f"
            },
            "baxis": {
             "endlinecolor": "#2a3f5f",
             "gridcolor": "white",
             "linecolor": "white",
             "minorgridcolor": "white",
             "startlinecolor": "#2a3f5f"
            },
            "type": "carpet"
           }
          ],
          "choropleth": [
           {
            "colorbar": {
             "outlinewidth": 0,
             "ticks": ""
            },
            "type": "choropleth"
           }
          ],
          "contour": [
           {
            "colorbar": {
             "outlinewidth": 0,
             "ticks": ""
            },
            "colorscale": [
             [
              0,
              "#0d0887"
             ],
             [
              0.1111111111111111,
              "#46039f"
             ],
             [
              0.2222222222222222,
              "#7201a8"
             ],
             [
              0.3333333333333333,
              "#9c179e"
             ],
             [
              0.4444444444444444,
              "#bd3786"
             ],
             [
              0.5555555555555556,
              "#d8576b"
             ],
             [
              0.6666666666666666,
              "#ed7953"
             ],
             [
              0.7777777777777778,
              "#fb9f3a"
             ],
             [
              0.8888888888888888,
              "#fdca26"
             ],
             [
              1,
              "#f0f921"
             ]
            ],
            "type": "contour"
           }
          ],
          "contourcarpet": [
           {
            "colorbar": {
             "outlinewidth": 0,
             "ticks": ""
            },
            "type": "contourcarpet"
           }
          ],
          "heatmap": [
           {
            "colorbar": {
             "outlinewidth": 0,
             "ticks": ""
            },
            "colorscale": [
             [
              0,
              "#0d0887"
             ],
             [
              0.1111111111111111,
              "#46039f"
             ],
             [
              0.2222222222222222,
              "#7201a8"
             ],
             [
              0.3333333333333333,
              "#9c179e"
             ],
             [
              0.4444444444444444,
              "#bd3786"
             ],
             [
              0.5555555555555556,
              "#d8576b"
             ],
             [
              0.6666666666666666,
              "#ed7953"
             ],
             [
              0.7777777777777778,
              "#fb9f3a"
             ],
             [
              0.8888888888888888,
              "#fdca26"
             ],
             [
              1,
              "#f0f921"
             ]
            ],
            "type": "heatmap"
           }
          ],
          "heatmapgl": [
           {
            "colorbar": {
             "outlinewidth": 0,
             "ticks": ""
            },
            "colorscale": [
             [
              0,
              "#0d0887"
             ],
             [
              0.1111111111111111,
              "#46039f"
             ],
             [
              0.2222222222222222,
              "#7201a8"
             ],
             [
              0.3333333333333333,
              "#9c179e"
             ],
             [
              0.4444444444444444,
              "#bd3786"
             ],
             [
              0.5555555555555556,
              "#d8576b"
             ],
             [
              0.6666666666666666,
              "#ed7953"
             ],
             [
              0.7777777777777778,
              "#fb9f3a"
             ],
             [
              0.8888888888888888,
              "#fdca26"
             ],
             [
              1,
              "#f0f921"
             ]
            ],
            "type": "heatmapgl"
           }
          ],
          "histogram": [
           {
            "marker": {
             "pattern": {
              "fillmode": "overlay",
              "size": 10,
              "solidity": 0.2
             }
            },
            "type": "histogram"
           }
          ],
          "histogram2d": [
           {
            "colorbar": {
             "outlinewidth": 0,
             "ticks": ""
            },
            "colorscale": [
             [
              0,
              "#0d0887"
             ],
             [
              0.1111111111111111,
              "#46039f"
             ],
             [
              0.2222222222222222,
              "#7201a8"
             ],
             [
              0.3333333333333333,
              "#9c179e"
             ],
             [
              0.4444444444444444,
              "#bd3786"
             ],
             [
              0.5555555555555556,
              "#d8576b"
             ],
             [
              0.6666666666666666,
              "#ed7953"
             ],
             [
              0.7777777777777778,
              "#fb9f3a"
             ],
             [
              0.8888888888888888,
              "#fdca26"
             ],
             [
              1,
              "#f0f921"
             ]
            ],
            "type": "histogram2d"
           }
          ],
          "histogram2dcontour": [
           {
            "colorbar": {
             "outlinewidth": 0,
             "ticks": ""
            },
            "colorscale": [
             [
              0,
              "#0d0887"
             ],
             [
              0.1111111111111111,
              "#46039f"
             ],
             [
              0.2222222222222222,
              "#7201a8"
             ],
             [
              0.3333333333333333,
              "#9c179e"
             ],
             [
              0.4444444444444444,
              "#bd3786"
             ],
             [
              0.5555555555555556,
              "#d8576b"
             ],
             [
              0.6666666666666666,
              "#ed7953"
             ],
             [
              0.7777777777777778,
              "#fb9f3a"
             ],
             [
              0.8888888888888888,
              "#fdca26"
             ],
             [
              1,
              "#f0f921"
             ]
            ],
            "type": "histogram2dcontour"
           }
          ],
          "mesh3d": [
           {
            "colorbar": {
             "outlinewidth": 0,
             "ticks": ""
            },
            "type": "mesh3d"
           }
          ],
          "parcoords": [
           {
            "line": {
             "colorbar": {
              "outlinewidth": 0,
              "ticks": ""
             }
            },
            "type": "parcoords"
           }
          ],
          "pie": [
           {
            "automargin": true,
            "type": "pie"
           }
          ],
          "scatter": [
           {
            "fillpattern": {
             "fillmode": "overlay",
             "size": 10,
             "solidity": 0.2
            },
            "type": "scatter"
           }
          ],
          "scatter3d": [
           {
            "line": {
             "colorbar": {
              "outlinewidth": 0,
              "ticks": ""
             }
            },
            "marker": {
             "colorbar": {
              "outlinewidth": 0,
              "ticks": ""
             }
            },
            "type": "scatter3d"
           }
          ],
          "scattercarpet": [
           {
            "marker": {
             "colorbar": {
              "outlinewidth": 0,
              "ticks": ""
             }
            },
            "type": "scattercarpet"
           }
          ],
          "scattergeo": [
           {
            "marker": {
             "colorbar": {
              "outlinewidth": 0,
              "ticks": ""
             }
            },
            "type": "scattergeo"
           }
          ],
          "scattergl": [
           {
            "marker": {
             "colorbar": {
              "outlinewidth": 0,
              "ticks": ""
             }
            },
            "type": "scattergl"
           }
          ],
          "scattermapbox": [
           {
            "marker": {
             "colorbar": {
              "outlinewidth": 0,
              "ticks": ""
             }
            },
            "type": "scattermapbox"
           }
          ],
          "scatterpolar": [
           {
            "marker": {
             "colorbar": {
              "outlinewidth": 0,
              "ticks": ""
             }
            },
            "type": "scatterpolar"
           }
          ],
          "scatterpolargl": [
           {
            "marker": {
             "colorbar": {
              "outlinewidth": 0,
              "ticks": ""
             }
            },
            "type": "scatterpolargl"
           }
          ],
          "scatterternary": [
           {
            "marker": {
             "colorbar": {
              "outlinewidth": 0,
              "ticks": ""
             }
            },
            "type": "scatterternary"
           }
          ],
          "surface": [
           {
            "colorbar": {
             "outlinewidth": 0,
             "ticks": ""
            },
            "colorscale": [
             [
              0,
              "#0d0887"
             ],
             [
              0.1111111111111111,
              "#46039f"
             ],
             [
              0.2222222222222222,
              "#7201a8"
             ],
             [
              0.3333333333333333,
              "#9c179e"
             ],
             [
              0.4444444444444444,
              "#bd3786"
             ],
             [
              0.5555555555555556,
              "#d8576b"
             ],
             [
              0.6666666666666666,
              "#ed7953"
             ],
             [
              0.7777777777777778,
              "#fb9f3a"
             ],
             [
              0.8888888888888888,
              "#fdca26"
             ],
             [
              1,
              "#f0f921"
             ]
            ],
            "type": "surface"
           }
          ],
          "table": [
           {
            "cells": {
             "fill": {
              "color": "#EBF0F8"
             },
             "line": {
              "color": "white"
             }
            },
            "header": {
             "fill": {
              "color": "#C8D4E3"
             },
             "line": {
              "color": "white"
             }
            },
            "type": "table"
           }
          ]
         },
         "layout": {
          "annotationdefaults": {
           "arrowcolor": "#2a3f5f",
           "arrowhead": 0,
           "arrowwidth": 1
          },
          "autotypenumbers": "strict",
          "coloraxis": {
           "colorbar": {
            "outlinewidth": 0,
            "ticks": ""
           }
          },
          "colorscale": {
           "diverging": [
            [
             0,
             "#8e0152"
            ],
            [
             0.1,
             "#c51b7d"
            ],
            [
             0.2,
             "#de77ae"
            ],
            [
             0.3,
             "#f1b6da"
            ],
            [
             0.4,
             "#fde0ef"
            ],
            [
             0.5,
             "#f7f7f7"
            ],
            [
             0.6,
             "#e6f5d0"
            ],
            [
             0.7,
             "#b8e186"
            ],
            [
             0.8,
             "#7fbc41"
            ],
            [
             0.9,
             "#4d9221"
            ],
            [
             1,
             "#276419"
            ]
           ],
           "sequential": [
            [
             0,
             "#0d0887"
            ],
            [
             0.1111111111111111,
             "#46039f"
            ],
            [
             0.2222222222222222,
             "#7201a8"
            ],
            [
             0.3333333333333333,
             "#9c179e"
            ],
            [
             0.4444444444444444,
             "#bd3786"
            ],
            [
             0.5555555555555556,
             "#d8576b"
            ],
            [
             0.6666666666666666,
             "#ed7953"
            ],
            [
             0.7777777777777778,
             "#fb9f3a"
            ],
            [
             0.8888888888888888,
             "#fdca26"
            ],
            [
             1,
             "#f0f921"
            ]
           ],
           "sequentialminus": [
            [
             0,
             "#0d0887"
            ],
            [
             0.1111111111111111,
             "#46039f"
            ],
            [
             0.2222222222222222,
             "#7201a8"
            ],
            [
             0.3333333333333333,
             "#9c179e"
            ],
            [
             0.4444444444444444,
             "#bd3786"
            ],
            [
             0.5555555555555556,
             "#d8576b"
            ],
            [
             0.6666666666666666,
             "#ed7953"
            ],
            [
             0.7777777777777778,
             "#fb9f3a"
            ],
            [
             0.8888888888888888,
             "#fdca26"
            ],
            [
             1,
             "#f0f921"
            ]
           ]
          },
          "colorway": [
           "#636efa",
           "#EF553B",
           "#00cc96",
           "#ab63fa",
           "#FFA15A",
           "#19d3f3",
           "#FF6692",
           "#B6E880",
           "#FF97FF",
           "#FECB52"
          ],
          "font": {
           "color": "#2a3f5f"
          },
          "geo": {
           "bgcolor": "white",
           "lakecolor": "white",
           "landcolor": "#E5ECF6",
           "showlakes": true,
           "showland": true,
           "subunitcolor": "white"
          },
          "hoverlabel": {
           "align": "left"
          },
          "hovermode": "closest",
          "mapbox": {
           "style": "light"
          },
          "paper_bgcolor": "white",
          "plot_bgcolor": "#E5ECF6",
          "polar": {
           "angularaxis": {
            "gridcolor": "white",
            "linecolor": "white",
            "ticks": ""
           },
           "bgcolor": "#E5ECF6",
           "radialaxis": {
            "gridcolor": "white",
            "linecolor": "white",
            "ticks": ""
           }
          },
          "scene": {
           "xaxis": {
            "backgroundcolor": "#E5ECF6",
            "gridcolor": "white",
            "gridwidth": 2,
            "linecolor": "white",
            "showbackground": true,
            "ticks": "",
            "zerolinecolor": "white"
           },
           "yaxis": {
            "backgroundcolor": "#E5ECF6",
            "gridcolor": "white",
            "gridwidth": 2,
            "linecolor": "white",
            "showbackground": true,
            "ticks": "",
            "zerolinecolor": "white"
           },
           "zaxis": {
            "backgroundcolor": "#E5ECF6",
            "gridcolor": "white",
            "gridwidth": 2,
            "linecolor": "white",
            "showbackground": true,
            "ticks": "",
            "zerolinecolor": "white"
           }
          },
          "shapedefaults": {
           "line": {
            "color": "#2a3f5f"
           }
          },
          "ternary": {
           "aaxis": {
            "gridcolor": "white",
            "linecolor": "white",
            "ticks": ""
           },
           "baxis": {
            "gridcolor": "white",
            "linecolor": "white",
            "ticks": ""
           },
           "bgcolor": "#E5ECF6",
           "caxis": {
            "gridcolor": "white",
            "linecolor": "white",
            "ticks": ""
           }
          },
          "title": {
           "x": 0.05
          },
          "xaxis": {
           "automargin": true,
           "gridcolor": "white",
           "linecolor": "white",
           "ticks": "",
           "title": {
            "standoff": 15
           },
           "zerolinecolor": "white",
           "zerolinewidth": 2
          },
          "yaxis": {
           "automargin": true,
           "gridcolor": "white",
           "linecolor": "white",
           "ticks": "",
           "title": {
            "standoff": 15
           },
           "zerolinecolor": "white",
           "zerolinewidth": 2
          }
         }
        },
        "title": {
         "text": "Bar Plot of Warranty_Expiry_Date"
        },
        "xaxis": {
         "anchor": "y",
         "domain": [
          0,
          1
         ],
         "title": {
          "text": "Warranty_Expiry_Date"
         }
        },
        "yaxis": {
         "anchor": "x",
         "domain": [
          0,
          1
         ],
         "title": {
          "text": "Count"
         }
        }
       }
      }
     },
     "metadata": {},
     "output_type": "display_data"
    },
    {
     "name": "stdout",
     "output_type": "stream",
     "text": [
      "Value Counts and Percentages for Owner_Type:\n",
      "Owner_Type\n",
      "Second    13465\n",
      "Third     13325\n",
      "First     13210\n",
      "Name: count, dtype: int64\n",
      "Owner_Type\n",
      "Second    33.66\n",
      "Third     33.31\n",
      "First     33.02\n",
      "Name: count, dtype: float64\n",
      "\n"
     ]
    },
    {
     "data": {
      "application/vnd.plotly.v1+json": {
       "config": {
        "plotlyServerURL": "https://plot.ly"
       },
       "data": [
        {
         "alignmentgroup": "True",
         "hovertemplate": "Owner_Type=%{x}<br>Count=%{y}<br>text=%{text}<extra></extra>",
         "legendgroup": "",
         "marker": {
          "color": "#636efa",
          "pattern": {
           "shape": ""
          }
         },
         "name": "",
         "offsetgroup": "",
         "orientation": "v",
         "showlegend": false,
         "text": [
          "33.66%",
          "33.31%",
          "33.02%"
         ],
         "textposition": "outside",
         "type": "bar",
         "x": [
          "Second",
          "Third",
          "First"
         ],
         "xaxis": "x",
         "y": [
          13465,
          13325,
          13210
         ],
         "yaxis": "y"
        }
       ],
       "layout": {
        "barmode": "relative",
        "legend": {
         "tracegroupgap": 0
        },
        "template": {
         "data": {
          "bar": [
           {
            "error_x": {
             "color": "#2a3f5f"
            },
            "error_y": {
             "color": "#2a3f5f"
            },
            "marker": {
             "line": {
              "color": "#E5ECF6",
              "width": 0.5
             },
             "pattern": {
              "fillmode": "overlay",
              "size": 10,
              "solidity": 0.2
             }
            },
            "type": "bar"
           }
          ],
          "barpolar": [
           {
            "marker": {
             "line": {
              "color": "#E5ECF6",
              "width": 0.5
             },
             "pattern": {
              "fillmode": "overlay",
              "size": 10,
              "solidity": 0.2
             }
            },
            "type": "barpolar"
           }
          ],
          "carpet": [
           {
            "aaxis": {
             "endlinecolor": "#2a3f5f",
             "gridcolor": "white",
             "linecolor": "white",
             "minorgridcolor": "white",
             "startlinecolor": "#2a3f5f"
            },
            "baxis": {
             "endlinecolor": "#2a3f5f",
             "gridcolor": "white",
             "linecolor": "white",
             "minorgridcolor": "white",
             "startlinecolor": "#2a3f5f"
            },
            "type": "carpet"
           }
          ],
          "choropleth": [
           {
            "colorbar": {
             "outlinewidth": 0,
             "ticks": ""
            },
            "type": "choropleth"
           }
          ],
          "contour": [
           {
            "colorbar": {
             "outlinewidth": 0,
             "ticks": ""
            },
            "colorscale": [
             [
              0,
              "#0d0887"
             ],
             [
              0.1111111111111111,
              "#46039f"
             ],
             [
              0.2222222222222222,
              "#7201a8"
             ],
             [
              0.3333333333333333,
              "#9c179e"
             ],
             [
              0.4444444444444444,
              "#bd3786"
             ],
             [
              0.5555555555555556,
              "#d8576b"
             ],
             [
              0.6666666666666666,
              "#ed7953"
             ],
             [
              0.7777777777777778,
              "#fb9f3a"
             ],
             [
              0.8888888888888888,
              "#fdca26"
             ],
             [
              1,
              "#f0f921"
             ]
            ],
            "type": "contour"
           }
          ],
          "contourcarpet": [
           {
            "colorbar": {
             "outlinewidth": 0,
             "ticks": ""
            },
            "type": "contourcarpet"
           }
          ],
          "heatmap": [
           {
            "colorbar": {
             "outlinewidth": 0,
             "ticks": ""
            },
            "colorscale": [
             [
              0,
              "#0d0887"
             ],
             [
              0.1111111111111111,
              "#46039f"
             ],
             [
              0.2222222222222222,
              "#7201a8"
             ],
             [
              0.3333333333333333,
              "#9c179e"
             ],
             [
              0.4444444444444444,
              "#bd3786"
             ],
             [
              0.5555555555555556,
              "#d8576b"
             ],
             [
              0.6666666666666666,
              "#ed7953"
             ],
             [
              0.7777777777777778,
              "#fb9f3a"
             ],
             [
              0.8888888888888888,
              "#fdca26"
             ],
             [
              1,
              "#f0f921"
             ]
            ],
            "type": "heatmap"
           }
          ],
          "heatmapgl": [
           {
            "colorbar": {
             "outlinewidth": 0,
             "ticks": ""
            },
            "colorscale": [
             [
              0,
              "#0d0887"
             ],
             [
              0.1111111111111111,
              "#46039f"
             ],
             [
              0.2222222222222222,
              "#7201a8"
             ],
             [
              0.3333333333333333,
              "#9c179e"
             ],
             [
              0.4444444444444444,
              "#bd3786"
             ],
             [
              0.5555555555555556,
              "#d8576b"
             ],
             [
              0.6666666666666666,
              "#ed7953"
             ],
             [
              0.7777777777777778,
              "#fb9f3a"
             ],
             [
              0.8888888888888888,
              "#fdca26"
             ],
             [
              1,
              "#f0f921"
             ]
            ],
            "type": "heatmapgl"
           }
          ],
          "histogram": [
           {
            "marker": {
             "pattern": {
              "fillmode": "overlay",
              "size": 10,
              "solidity": 0.2
             }
            },
            "type": "histogram"
           }
          ],
          "histogram2d": [
           {
            "colorbar": {
             "outlinewidth": 0,
             "ticks": ""
            },
            "colorscale": [
             [
              0,
              "#0d0887"
             ],
             [
              0.1111111111111111,
              "#46039f"
             ],
             [
              0.2222222222222222,
              "#7201a8"
             ],
             [
              0.3333333333333333,
              "#9c179e"
             ],
             [
              0.4444444444444444,
              "#bd3786"
             ],
             [
              0.5555555555555556,
              "#d8576b"
             ],
             [
              0.6666666666666666,
              "#ed7953"
             ],
             [
              0.7777777777777778,
              "#fb9f3a"
             ],
             [
              0.8888888888888888,
              "#fdca26"
             ],
             [
              1,
              "#f0f921"
             ]
            ],
            "type": "histogram2d"
           }
          ],
          "histogram2dcontour": [
           {
            "colorbar": {
             "outlinewidth": 0,
             "ticks": ""
            },
            "colorscale": [
             [
              0,
              "#0d0887"
             ],
             [
              0.1111111111111111,
              "#46039f"
             ],
             [
              0.2222222222222222,
              "#7201a8"
             ],
             [
              0.3333333333333333,
              "#9c179e"
             ],
             [
              0.4444444444444444,
              "#bd3786"
             ],
             [
              0.5555555555555556,
              "#d8576b"
             ],
             [
              0.6666666666666666,
              "#ed7953"
             ],
             [
              0.7777777777777778,
              "#fb9f3a"
             ],
             [
              0.8888888888888888,
              "#fdca26"
             ],
             [
              1,
              "#f0f921"
             ]
            ],
            "type": "histogram2dcontour"
           }
          ],
          "mesh3d": [
           {
            "colorbar": {
             "outlinewidth": 0,
             "ticks": ""
            },
            "type": "mesh3d"
           }
          ],
          "parcoords": [
           {
            "line": {
             "colorbar": {
              "outlinewidth": 0,
              "ticks": ""
             }
            },
            "type": "parcoords"
           }
          ],
          "pie": [
           {
            "automargin": true,
            "type": "pie"
           }
          ],
          "scatter": [
           {
            "fillpattern": {
             "fillmode": "overlay",
             "size": 10,
             "solidity": 0.2
            },
            "type": "scatter"
           }
          ],
          "scatter3d": [
           {
            "line": {
             "colorbar": {
              "outlinewidth": 0,
              "ticks": ""
             }
            },
            "marker": {
             "colorbar": {
              "outlinewidth": 0,
              "ticks": ""
             }
            },
            "type": "scatter3d"
           }
          ],
          "scattercarpet": [
           {
            "marker": {
             "colorbar": {
              "outlinewidth": 0,
              "ticks": ""
             }
            },
            "type": "scattercarpet"
           }
          ],
          "scattergeo": [
           {
            "marker": {
             "colorbar": {
              "outlinewidth": 0,
              "ticks": ""
             }
            },
            "type": "scattergeo"
           }
          ],
          "scattergl": [
           {
            "marker": {
             "colorbar": {
              "outlinewidth": 0,
              "ticks": ""
             }
            },
            "type": "scattergl"
           }
          ],
          "scattermapbox": [
           {
            "marker": {
             "colorbar": {
              "outlinewidth": 0,
              "ticks": ""
             }
            },
            "type": "scattermapbox"
           }
          ],
          "scatterpolar": [
           {
            "marker": {
             "colorbar": {
              "outlinewidth": 0,
              "ticks": ""
             }
            },
            "type": "scatterpolar"
           }
          ],
          "scatterpolargl": [
           {
            "marker": {
             "colorbar": {
              "outlinewidth": 0,
              "ticks": ""
             }
            },
            "type": "scatterpolargl"
           }
          ],
          "scatterternary": [
           {
            "marker": {
             "colorbar": {
              "outlinewidth": 0,
              "ticks": ""
             }
            },
            "type": "scatterternary"
           }
          ],
          "surface": [
           {
            "colorbar": {
             "outlinewidth": 0,
             "ticks": ""
            },
            "colorscale": [
             [
              0,
              "#0d0887"
             ],
             [
              0.1111111111111111,
              "#46039f"
             ],
             [
              0.2222222222222222,
              "#7201a8"
             ],
             [
              0.3333333333333333,
              "#9c179e"
             ],
             [
              0.4444444444444444,
              "#bd3786"
             ],
             [
              0.5555555555555556,
              "#d8576b"
             ],
             [
              0.6666666666666666,
              "#ed7953"
             ],
             [
              0.7777777777777778,
              "#fb9f3a"
             ],
             [
              0.8888888888888888,
              "#fdca26"
             ],
             [
              1,
              "#f0f921"
             ]
            ],
            "type": "surface"
           }
          ],
          "table": [
           {
            "cells": {
             "fill": {
              "color": "#EBF0F8"
             },
             "line": {
              "color": "white"
             }
            },
            "header": {
             "fill": {
              "color": "#C8D4E3"
             },
             "line": {
              "color": "white"
             }
            },
            "type": "table"
           }
          ]
         },
         "layout": {
          "annotationdefaults": {
           "arrowcolor": "#2a3f5f",
           "arrowhead": 0,
           "arrowwidth": 1
          },
          "autotypenumbers": "strict",
          "coloraxis": {
           "colorbar": {
            "outlinewidth": 0,
            "ticks": ""
           }
          },
          "colorscale": {
           "diverging": [
            [
             0,
             "#8e0152"
            ],
            [
             0.1,
             "#c51b7d"
            ],
            [
             0.2,
             "#de77ae"
            ],
            [
             0.3,
             "#f1b6da"
            ],
            [
             0.4,
             "#fde0ef"
            ],
            [
             0.5,
             "#f7f7f7"
            ],
            [
             0.6,
             "#e6f5d0"
            ],
            [
             0.7,
             "#b8e186"
            ],
            [
             0.8,
             "#7fbc41"
            ],
            [
             0.9,
             "#4d9221"
            ],
            [
             1,
             "#276419"
            ]
           ],
           "sequential": [
            [
             0,
             "#0d0887"
            ],
            [
             0.1111111111111111,
             "#46039f"
            ],
            [
             0.2222222222222222,
             "#7201a8"
            ],
            [
             0.3333333333333333,
             "#9c179e"
            ],
            [
             0.4444444444444444,
             "#bd3786"
            ],
            [
             0.5555555555555556,
             "#d8576b"
            ],
            [
             0.6666666666666666,
             "#ed7953"
            ],
            [
             0.7777777777777778,
             "#fb9f3a"
            ],
            [
             0.8888888888888888,
             "#fdca26"
            ],
            [
             1,
             "#f0f921"
            ]
           ],
           "sequentialminus": [
            [
             0,
             "#0d0887"
            ],
            [
             0.1111111111111111,
             "#46039f"
            ],
            [
             0.2222222222222222,
             "#7201a8"
            ],
            [
             0.3333333333333333,
             "#9c179e"
            ],
            [
             0.4444444444444444,
             "#bd3786"
            ],
            [
             0.5555555555555556,
             "#d8576b"
            ],
            [
             0.6666666666666666,
             "#ed7953"
            ],
            [
             0.7777777777777778,
             "#fb9f3a"
            ],
            [
             0.8888888888888888,
             "#fdca26"
            ],
            [
             1,
             "#f0f921"
            ]
           ]
          },
          "colorway": [
           "#636efa",
           "#EF553B",
           "#00cc96",
           "#ab63fa",
           "#FFA15A",
           "#19d3f3",
           "#FF6692",
           "#B6E880",
           "#FF97FF",
           "#FECB52"
          ],
          "font": {
           "color": "#2a3f5f"
          },
          "geo": {
           "bgcolor": "white",
           "lakecolor": "white",
           "landcolor": "#E5ECF6",
           "showlakes": true,
           "showland": true,
           "subunitcolor": "white"
          },
          "hoverlabel": {
           "align": "left"
          },
          "hovermode": "closest",
          "mapbox": {
           "style": "light"
          },
          "paper_bgcolor": "white",
          "plot_bgcolor": "#E5ECF6",
          "polar": {
           "angularaxis": {
            "gridcolor": "white",
            "linecolor": "white",
            "ticks": ""
           },
           "bgcolor": "#E5ECF6",
           "radialaxis": {
            "gridcolor": "white",
            "linecolor": "white",
            "ticks": ""
           }
          },
          "scene": {
           "xaxis": {
            "backgroundcolor": "#E5ECF6",
            "gridcolor": "white",
            "gridwidth": 2,
            "linecolor": "white",
            "showbackground": true,
            "ticks": "",
            "zerolinecolor": "white"
           },
           "yaxis": {
            "backgroundcolor": "#E5ECF6",
            "gridcolor": "white",
            "gridwidth": 2,
            "linecolor": "white",
            "showbackground": true,
            "ticks": "",
            "zerolinecolor": "white"
           },
           "zaxis": {
            "backgroundcolor": "#E5ECF6",
            "gridcolor": "white",
            "gridwidth": 2,
            "linecolor": "white",
            "showbackground": true,
            "ticks": "",
            "zerolinecolor": "white"
           }
          },
          "shapedefaults": {
           "line": {
            "color": "#2a3f5f"
           }
          },
          "ternary": {
           "aaxis": {
            "gridcolor": "white",
            "linecolor": "white",
            "ticks": ""
           },
           "baxis": {
            "gridcolor": "white",
            "linecolor": "white",
            "ticks": ""
           },
           "bgcolor": "#E5ECF6",
           "caxis": {
            "gridcolor": "white",
            "linecolor": "white",
            "ticks": ""
           }
          },
          "title": {
           "x": 0.05
          },
          "xaxis": {
           "automargin": true,
           "gridcolor": "white",
           "linecolor": "white",
           "ticks": "",
           "title": {
            "standoff": 15
           },
           "zerolinecolor": "white",
           "zerolinewidth": 2
          },
          "yaxis": {
           "automargin": true,
           "gridcolor": "white",
           "linecolor": "white",
           "ticks": "",
           "title": {
            "standoff": 15
           },
           "zerolinecolor": "white",
           "zerolinewidth": 2
          }
         }
        },
        "title": {
         "text": "Bar Plot of Owner_Type"
        },
        "xaxis": {
         "anchor": "y",
         "domain": [
          0,
          1
         ],
         "title": {
          "text": "Owner_Type"
         }
        },
        "yaxis": {
         "anchor": "x",
         "domain": [
          0,
          1
         ],
         "title": {
          "text": "Count"
         }
        }
       }
      }
     },
     "metadata": {},
     "output_type": "display_data"
    },
    {
     "name": "stdout",
     "output_type": "stream",
     "text": [
      "Value Counts and Percentages for Tire_Condition:\n",
      "Tire_Condition\n",
      "New         13451\n",
      "Worn Out    13292\n",
      "Good        13257\n",
      "Name: count, dtype: int64\n",
      "Tire_Condition\n",
      "New         33.63\n",
      "Worn Out    33.23\n",
      "Good        33.14\n",
      "Name: count, dtype: float64\n",
      "\n"
     ]
    },
    {
     "data": {
      "application/vnd.plotly.v1+json": {
       "config": {
        "plotlyServerURL": "https://plot.ly"
       },
       "data": [
        {
         "alignmentgroup": "True",
         "hovertemplate": "Tire_Condition=%{x}<br>Count=%{y}<br>text=%{text}<extra></extra>",
         "legendgroup": "",
         "marker": {
          "color": "#636efa",
          "pattern": {
           "shape": ""
          }
         },
         "name": "",
         "offsetgroup": "",
         "orientation": "v",
         "showlegend": false,
         "text": [
          "33.63%",
          "33.23%",
          "33.14%"
         ],
         "textposition": "outside",
         "type": "bar",
         "x": [
          "New",
          "Worn Out",
          "Good"
         ],
         "xaxis": "x",
         "y": [
          13451,
          13292,
          13257
         ],
         "yaxis": "y"
        }
       ],
       "layout": {
        "barmode": "relative",
        "legend": {
         "tracegroupgap": 0
        },
        "template": {
         "data": {
          "bar": [
           {
            "error_x": {
             "color": "#2a3f5f"
            },
            "error_y": {
             "color": "#2a3f5f"
            },
            "marker": {
             "line": {
              "color": "#E5ECF6",
              "width": 0.5
             },
             "pattern": {
              "fillmode": "overlay",
              "size": 10,
              "solidity": 0.2
             }
            },
            "type": "bar"
           }
          ],
          "barpolar": [
           {
            "marker": {
             "line": {
              "color": "#E5ECF6",
              "width": 0.5
             },
             "pattern": {
              "fillmode": "overlay",
              "size": 10,
              "solidity": 0.2
             }
            },
            "type": "barpolar"
           }
          ],
          "carpet": [
           {
            "aaxis": {
             "endlinecolor": "#2a3f5f",
             "gridcolor": "white",
             "linecolor": "white",
             "minorgridcolor": "white",
             "startlinecolor": "#2a3f5f"
            },
            "baxis": {
             "endlinecolor": "#2a3f5f",
             "gridcolor": "white",
             "linecolor": "white",
             "minorgridcolor": "white",
             "startlinecolor": "#2a3f5f"
            },
            "type": "carpet"
           }
          ],
          "choropleth": [
           {
            "colorbar": {
             "outlinewidth": 0,
             "ticks": ""
            },
            "type": "choropleth"
           }
          ],
          "contour": [
           {
            "colorbar": {
             "outlinewidth": 0,
             "ticks": ""
            },
            "colorscale": [
             [
              0,
              "#0d0887"
             ],
             [
              0.1111111111111111,
              "#46039f"
             ],
             [
              0.2222222222222222,
              "#7201a8"
             ],
             [
              0.3333333333333333,
              "#9c179e"
             ],
             [
              0.4444444444444444,
              "#bd3786"
             ],
             [
              0.5555555555555556,
              "#d8576b"
             ],
             [
              0.6666666666666666,
              "#ed7953"
             ],
             [
              0.7777777777777778,
              "#fb9f3a"
             ],
             [
              0.8888888888888888,
              "#fdca26"
             ],
             [
              1,
              "#f0f921"
             ]
            ],
            "type": "contour"
           }
          ],
          "contourcarpet": [
           {
            "colorbar": {
             "outlinewidth": 0,
             "ticks": ""
            },
            "type": "contourcarpet"
           }
          ],
          "heatmap": [
           {
            "colorbar": {
             "outlinewidth": 0,
             "ticks": ""
            },
            "colorscale": [
             [
              0,
              "#0d0887"
             ],
             [
              0.1111111111111111,
              "#46039f"
             ],
             [
              0.2222222222222222,
              "#7201a8"
             ],
             [
              0.3333333333333333,
              "#9c179e"
             ],
             [
              0.4444444444444444,
              "#bd3786"
             ],
             [
              0.5555555555555556,
              "#d8576b"
             ],
             [
              0.6666666666666666,
              "#ed7953"
             ],
             [
              0.7777777777777778,
              "#fb9f3a"
             ],
             [
              0.8888888888888888,
              "#fdca26"
             ],
             [
              1,
              "#f0f921"
             ]
            ],
            "type": "heatmap"
           }
          ],
          "heatmapgl": [
           {
            "colorbar": {
             "outlinewidth": 0,
             "ticks": ""
            },
            "colorscale": [
             [
              0,
              "#0d0887"
             ],
             [
              0.1111111111111111,
              "#46039f"
             ],
             [
              0.2222222222222222,
              "#7201a8"
             ],
             [
              0.3333333333333333,
              "#9c179e"
             ],
             [
              0.4444444444444444,
              "#bd3786"
             ],
             [
              0.5555555555555556,
              "#d8576b"
             ],
             [
              0.6666666666666666,
              "#ed7953"
             ],
             [
              0.7777777777777778,
              "#fb9f3a"
             ],
             [
              0.8888888888888888,
              "#fdca26"
             ],
             [
              1,
              "#f0f921"
             ]
            ],
            "type": "heatmapgl"
           }
          ],
          "histogram": [
           {
            "marker": {
             "pattern": {
              "fillmode": "overlay",
              "size": 10,
              "solidity": 0.2
             }
            },
            "type": "histogram"
           }
          ],
          "histogram2d": [
           {
            "colorbar": {
             "outlinewidth": 0,
             "ticks": ""
            },
            "colorscale": [
             [
              0,
              "#0d0887"
             ],
             [
              0.1111111111111111,
              "#46039f"
             ],
             [
              0.2222222222222222,
              "#7201a8"
             ],
             [
              0.3333333333333333,
              "#9c179e"
             ],
             [
              0.4444444444444444,
              "#bd3786"
             ],
             [
              0.5555555555555556,
              "#d8576b"
             ],
             [
              0.6666666666666666,
              "#ed7953"
             ],
             [
              0.7777777777777778,
              "#fb9f3a"
             ],
             [
              0.8888888888888888,
              "#fdca26"
             ],
             [
              1,
              "#f0f921"
             ]
            ],
            "type": "histogram2d"
           }
          ],
          "histogram2dcontour": [
           {
            "colorbar": {
             "outlinewidth": 0,
             "ticks": ""
            },
            "colorscale": [
             [
              0,
              "#0d0887"
             ],
             [
              0.1111111111111111,
              "#46039f"
             ],
             [
              0.2222222222222222,
              "#7201a8"
             ],
             [
              0.3333333333333333,
              "#9c179e"
             ],
             [
              0.4444444444444444,
              "#bd3786"
             ],
             [
              0.5555555555555556,
              "#d8576b"
             ],
             [
              0.6666666666666666,
              "#ed7953"
             ],
             [
              0.7777777777777778,
              "#fb9f3a"
             ],
             [
              0.8888888888888888,
              "#fdca26"
             ],
             [
              1,
              "#f0f921"
             ]
            ],
            "type": "histogram2dcontour"
           }
          ],
          "mesh3d": [
           {
            "colorbar": {
             "outlinewidth": 0,
             "ticks": ""
            },
            "type": "mesh3d"
           }
          ],
          "parcoords": [
           {
            "line": {
             "colorbar": {
              "outlinewidth": 0,
              "ticks": ""
             }
            },
            "type": "parcoords"
           }
          ],
          "pie": [
           {
            "automargin": true,
            "type": "pie"
           }
          ],
          "scatter": [
           {
            "fillpattern": {
             "fillmode": "overlay",
             "size": 10,
             "solidity": 0.2
            },
            "type": "scatter"
           }
          ],
          "scatter3d": [
           {
            "line": {
             "colorbar": {
              "outlinewidth": 0,
              "ticks": ""
             }
            },
            "marker": {
             "colorbar": {
              "outlinewidth": 0,
              "ticks": ""
             }
            },
            "type": "scatter3d"
           }
          ],
          "scattercarpet": [
           {
            "marker": {
             "colorbar": {
              "outlinewidth": 0,
              "ticks": ""
             }
            },
            "type": "scattercarpet"
           }
          ],
          "scattergeo": [
           {
            "marker": {
             "colorbar": {
              "outlinewidth": 0,
              "ticks": ""
             }
            },
            "type": "scattergeo"
           }
          ],
          "scattergl": [
           {
            "marker": {
             "colorbar": {
              "outlinewidth": 0,
              "ticks": ""
             }
            },
            "type": "scattergl"
           }
          ],
          "scattermapbox": [
           {
            "marker": {
             "colorbar": {
              "outlinewidth": 0,
              "ticks": ""
             }
            },
            "type": "scattermapbox"
           }
          ],
          "scatterpolar": [
           {
            "marker": {
             "colorbar": {
              "outlinewidth": 0,
              "ticks": ""
             }
            },
            "type": "scatterpolar"
           }
          ],
          "scatterpolargl": [
           {
            "marker": {
             "colorbar": {
              "outlinewidth": 0,
              "ticks": ""
             }
            },
            "type": "scatterpolargl"
           }
          ],
          "scatterternary": [
           {
            "marker": {
             "colorbar": {
              "outlinewidth": 0,
              "ticks": ""
             }
            },
            "type": "scatterternary"
           }
          ],
          "surface": [
           {
            "colorbar": {
             "outlinewidth": 0,
             "ticks": ""
            },
            "colorscale": [
             [
              0,
              "#0d0887"
             ],
             [
              0.1111111111111111,
              "#46039f"
             ],
             [
              0.2222222222222222,
              "#7201a8"
             ],
             [
              0.3333333333333333,
              "#9c179e"
             ],
             [
              0.4444444444444444,
              "#bd3786"
             ],
             [
              0.5555555555555556,
              "#d8576b"
             ],
             [
              0.6666666666666666,
              "#ed7953"
             ],
             [
              0.7777777777777778,
              "#fb9f3a"
             ],
             [
              0.8888888888888888,
              "#fdca26"
             ],
             [
              1,
              "#f0f921"
             ]
            ],
            "type": "surface"
           }
          ],
          "table": [
           {
            "cells": {
             "fill": {
              "color": "#EBF0F8"
             },
             "line": {
              "color": "white"
             }
            },
            "header": {
             "fill": {
              "color": "#C8D4E3"
             },
             "line": {
              "color": "white"
             }
            },
            "type": "table"
           }
          ]
         },
         "layout": {
          "annotationdefaults": {
           "arrowcolor": "#2a3f5f",
           "arrowhead": 0,
           "arrowwidth": 1
          },
          "autotypenumbers": "strict",
          "coloraxis": {
           "colorbar": {
            "outlinewidth": 0,
            "ticks": ""
           }
          },
          "colorscale": {
           "diverging": [
            [
             0,
             "#8e0152"
            ],
            [
             0.1,
             "#c51b7d"
            ],
            [
             0.2,
             "#de77ae"
            ],
            [
             0.3,
             "#f1b6da"
            ],
            [
             0.4,
             "#fde0ef"
            ],
            [
             0.5,
             "#f7f7f7"
            ],
            [
             0.6,
             "#e6f5d0"
            ],
            [
             0.7,
             "#b8e186"
            ],
            [
             0.8,
             "#7fbc41"
            ],
            [
             0.9,
             "#4d9221"
            ],
            [
             1,
             "#276419"
            ]
           ],
           "sequential": [
            [
             0,
             "#0d0887"
            ],
            [
             0.1111111111111111,
             "#46039f"
            ],
            [
             0.2222222222222222,
             "#7201a8"
            ],
            [
             0.3333333333333333,
             "#9c179e"
            ],
            [
             0.4444444444444444,
             "#bd3786"
            ],
            [
             0.5555555555555556,
             "#d8576b"
            ],
            [
             0.6666666666666666,
             "#ed7953"
            ],
            [
             0.7777777777777778,
             "#fb9f3a"
            ],
            [
             0.8888888888888888,
             "#fdca26"
            ],
            [
             1,
             "#f0f921"
            ]
           ],
           "sequentialminus": [
            [
             0,
             "#0d0887"
            ],
            [
             0.1111111111111111,
             "#46039f"
            ],
            [
             0.2222222222222222,
             "#7201a8"
            ],
            [
             0.3333333333333333,
             "#9c179e"
            ],
            [
             0.4444444444444444,
             "#bd3786"
            ],
            [
             0.5555555555555556,
             "#d8576b"
            ],
            [
             0.6666666666666666,
             "#ed7953"
            ],
            [
             0.7777777777777778,
             "#fb9f3a"
            ],
            [
             0.8888888888888888,
             "#fdca26"
            ],
            [
             1,
             "#f0f921"
            ]
           ]
          },
          "colorway": [
           "#636efa",
           "#EF553B",
           "#00cc96",
           "#ab63fa",
           "#FFA15A",
           "#19d3f3",
           "#FF6692",
           "#B6E880",
           "#FF97FF",
           "#FECB52"
          ],
          "font": {
           "color": "#2a3f5f"
          },
          "geo": {
           "bgcolor": "white",
           "lakecolor": "white",
           "landcolor": "#E5ECF6",
           "showlakes": true,
           "showland": true,
           "subunitcolor": "white"
          },
          "hoverlabel": {
           "align": "left"
          },
          "hovermode": "closest",
          "mapbox": {
           "style": "light"
          },
          "paper_bgcolor": "white",
          "plot_bgcolor": "#E5ECF6",
          "polar": {
           "angularaxis": {
            "gridcolor": "white",
            "linecolor": "white",
            "ticks": ""
           },
           "bgcolor": "#E5ECF6",
           "radialaxis": {
            "gridcolor": "white",
            "linecolor": "white",
            "ticks": ""
           }
          },
          "scene": {
           "xaxis": {
            "backgroundcolor": "#E5ECF6",
            "gridcolor": "white",
            "gridwidth": 2,
            "linecolor": "white",
            "showbackground": true,
            "ticks": "",
            "zerolinecolor": "white"
           },
           "yaxis": {
            "backgroundcolor": "#E5ECF6",
            "gridcolor": "white",
            "gridwidth": 2,
            "linecolor": "white",
            "showbackground": true,
            "ticks": "",
            "zerolinecolor": "white"
           },
           "zaxis": {
            "backgroundcolor": "#E5ECF6",
            "gridcolor": "white",
            "gridwidth": 2,
            "linecolor": "white",
            "showbackground": true,
            "ticks": "",
            "zerolinecolor": "white"
           }
          },
          "shapedefaults": {
           "line": {
            "color": "#2a3f5f"
           }
          },
          "ternary": {
           "aaxis": {
            "gridcolor": "white",
            "linecolor": "white",
            "ticks": ""
           },
           "baxis": {
            "gridcolor": "white",
            "linecolor": "white",
            "ticks": ""
           },
           "bgcolor": "#E5ECF6",
           "caxis": {
            "gridcolor": "white",
            "linecolor": "white",
            "ticks": ""
           }
          },
          "title": {
           "x": 0.05
          },
          "xaxis": {
           "automargin": true,
           "gridcolor": "white",
           "linecolor": "white",
           "ticks": "",
           "title": {
            "standoff": 15
           },
           "zerolinecolor": "white",
           "zerolinewidth": 2
          },
          "yaxis": {
           "automargin": true,
           "gridcolor": "white",
           "linecolor": "white",
           "ticks": "",
           "title": {
            "standoff": 15
           },
           "zerolinecolor": "white",
           "zerolinewidth": 2
          }
         }
        },
        "title": {
         "text": "Bar Plot of Tire_Condition"
        },
        "xaxis": {
         "anchor": "y",
         "domain": [
          0,
          1
         ],
         "title": {
          "text": "Tire_Condition"
         }
        },
        "yaxis": {
         "anchor": "x",
         "domain": [
          0,
          1
         ],
         "title": {
          "text": "Count"
         }
        }
       }
      }
     },
     "metadata": {},
     "output_type": "display_data"
    },
    {
     "name": "stdout",
     "output_type": "stream",
     "text": [
      "Value Counts and Percentages for Brake_Condition:\n",
      "Brake_Condition\n",
      "Worn Out    13377\n",
      "New         13329\n",
      "Good        13294\n",
      "Name: count, dtype: int64\n",
      "Brake_Condition\n",
      "Worn Out    33.44\n",
      "New         33.32\n",
      "Good        33.24\n",
      "Name: count, dtype: float64\n",
      "\n"
     ]
    },
    {
     "data": {
      "application/vnd.plotly.v1+json": {
       "config": {
        "plotlyServerURL": "https://plot.ly"
       },
       "data": [
        {
         "alignmentgroup": "True",
         "hovertemplate": "Brake_Condition=%{x}<br>Count=%{y}<br>text=%{text}<extra></extra>",
         "legendgroup": "",
         "marker": {
          "color": "#636efa",
          "pattern": {
           "shape": ""
          }
         },
         "name": "",
         "offsetgroup": "",
         "orientation": "v",
         "showlegend": false,
         "text": [
          "33.44%",
          "33.32%",
          "33.24%"
         ],
         "textposition": "outside",
         "type": "bar",
         "x": [
          "Worn Out",
          "New",
          "Good"
         ],
         "xaxis": "x",
         "y": [
          13377,
          13329,
          13294
         ],
         "yaxis": "y"
        }
       ],
       "layout": {
        "barmode": "relative",
        "legend": {
         "tracegroupgap": 0
        },
        "template": {
         "data": {
          "bar": [
           {
            "error_x": {
             "color": "#2a3f5f"
            },
            "error_y": {
             "color": "#2a3f5f"
            },
            "marker": {
             "line": {
              "color": "#E5ECF6",
              "width": 0.5
             },
             "pattern": {
              "fillmode": "overlay",
              "size": 10,
              "solidity": 0.2
             }
            },
            "type": "bar"
           }
          ],
          "barpolar": [
           {
            "marker": {
             "line": {
              "color": "#E5ECF6",
              "width": 0.5
             },
             "pattern": {
              "fillmode": "overlay",
              "size": 10,
              "solidity": 0.2
             }
            },
            "type": "barpolar"
           }
          ],
          "carpet": [
           {
            "aaxis": {
             "endlinecolor": "#2a3f5f",
             "gridcolor": "white",
             "linecolor": "white",
             "minorgridcolor": "white",
             "startlinecolor": "#2a3f5f"
            },
            "baxis": {
             "endlinecolor": "#2a3f5f",
             "gridcolor": "white",
             "linecolor": "white",
             "minorgridcolor": "white",
             "startlinecolor": "#2a3f5f"
            },
            "type": "carpet"
           }
          ],
          "choropleth": [
           {
            "colorbar": {
             "outlinewidth": 0,
             "ticks": ""
            },
            "type": "choropleth"
           }
          ],
          "contour": [
           {
            "colorbar": {
             "outlinewidth": 0,
             "ticks": ""
            },
            "colorscale": [
             [
              0,
              "#0d0887"
             ],
             [
              0.1111111111111111,
              "#46039f"
             ],
             [
              0.2222222222222222,
              "#7201a8"
             ],
             [
              0.3333333333333333,
              "#9c179e"
             ],
             [
              0.4444444444444444,
              "#bd3786"
             ],
             [
              0.5555555555555556,
              "#d8576b"
             ],
             [
              0.6666666666666666,
              "#ed7953"
             ],
             [
              0.7777777777777778,
              "#fb9f3a"
             ],
             [
              0.8888888888888888,
              "#fdca26"
             ],
             [
              1,
              "#f0f921"
             ]
            ],
            "type": "contour"
           }
          ],
          "contourcarpet": [
           {
            "colorbar": {
             "outlinewidth": 0,
             "ticks": ""
            },
            "type": "contourcarpet"
           }
          ],
          "heatmap": [
           {
            "colorbar": {
             "outlinewidth": 0,
             "ticks": ""
            },
            "colorscale": [
             [
              0,
              "#0d0887"
             ],
             [
              0.1111111111111111,
              "#46039f"
             ],
             [
              0.2222222222222222,
              "#7201a8"
             ],
             [
              0.3333333333333333,
              "#9c179e"
             ],
             [
              0.4444444444444444,
              "#bd3786"
             ],
             [
              0.5555555555555556,
              "#d8576b"
             ],
             [
              0.6666666666666666,
              "#ed7953"
             ],
             [
              0.7777777777777778,
              "#fb9f3a"
             ],
             [
              0.8888888888888888,
              "#fdca26"
             ],
             [
              1,
              "#f0f921"
             ]
            ],
            "type": "heatmap"
           }
          ],
          "heatmapgl": [
           {
            "colorbar": {
             "outlinewidth": 0,
             "ticks": ""
            },
            "colorscale": [
             [
              0,
              "#0d0887"
             ],
             [
              0.1111111111111111,
              "#46039f"
             ],
             [
              0.2222222222222222,
              "#7201a8"
             ],
             [
              0.3333333333333333,
              "#9c179e"
             ],
             [
              0.4444444444444444,
              "#bd3786"
             ],
             [
              0.5555555555555556,
              "#d8576b"
             ],
             [
              0.6666666666666666,
              "#ed7953"
             ],
             [
              0.7777777777777778,
              "#fb9f3a"
             ],
             [
              0.8888888888888888,
              "#fdca26"
             ],
             [
              1,
              "#f0f921"
             ]
            ],
            "type": "heatmapgl"
           }
          ],
          "histogram": [
           {
            "marker": {
             "pattern": {
              "fillmode": "overlay",
              "size": 10,
              "solidity": 0.2
             }
            },
            "type": "histogram"
           }
          ],
          "histogram2d": [
           {
            "colorbar": {
             "outlinewidth": 0,
             "ticks": ""
            },
            "colorscale": [
             [
              0,
              "#0d0887"
             ],
             [
              0.1111111111111111,
              "#46039f"
             ],
             [
              0.2222222222222222,
              "#7201a8"
             ],
             [
              0.3333333333333333,
              "#9c179e"
             ],
             [
              0.4444444444444444,
              "#bd3786"
             ],
             [
              0.5555555555555556,
              "#d8576b"
             ],
             [
              0.6666666666666666,
              "#ed7953"
             ],
             [
              0.7777777777777778,
              "#fb9f3a"
             ],
             [
              0.8888888888888888,
              "#fdca26"
             ],
             [
              1,
              "#f0f921"
             ]
            ],
            "type": "histogram2d"
           }
          ],
          "histogram2dcontour": [
           {
            "colorbar": {
             "outlinewidth": 0,
             "ticks": ""
            },
            "colorscale": [
             [
              0,
              "#0d0887"
             ],
             [
              0.1111111111111111,
              "#46039f"
             ],
             [
              0.2222222222222222,
              "#7201a8"
             ],
             [
              0.3333333333333333,
              "#9c179e"
             ],
             [
              0.4444444444444444,
              "#bd3786"
             ],
             [
              0.5555555555555556,
              "#d8576b"
             ],
             [
              0.6666666666666666,
              "#ed7953"
             ],
             [
              0.7777777777777778,
              "#fb9f3a"
             ],
             [
              0.8888888888888888,
              "#fdca26"
             ],
             [
              1,
              "#f0f921"
             ]
            ],
            "type": "histogram2dcontour"
           }
          ],
          "mesh3d": [
           {
            "colorbar": {
             "outlinewidth": 0,
             "ticks": ""
            },
            "type": "mesh3d"
           }
          ],
          "parcoords": [
           {
            "line": {
             "colorbar": {
              "outlinewidth": 0,
              "ticks": ""
             }
            },
            "type": "parcoords"
           }
          ],
          "pie": [
           {
            "automargin": true,
            "type": "pie"
           }
          ],
          "scatter": [
           {
            "fillpattern": {
             "fillmode": "overlay",
             "size": 10,
             "solidity": 0.2
            },
            "type": "scatter"
           }
          ],
          "scatter3d": [
           {
            "line": {
             "colorbar": {
              "outlinewidth": 0,
              "ticks": ""
             }
            },
            "marker": {
             "colorbar": {
              "outlinewidth": 0,
              "ticks": ""
             }
            },
            "type": "scatter3d"
           }
          ],
          "scattercarpet": [
           {
            "marker": {
             "colorbar": {
              "outlinewidth": 0,
              "ticks": ""
             }
            },
            "type": "scattercarpet"
           }
          ],
          "scattergeo": [
           {
            "marker": {
             "colorbar": {
              "outlinewidth": 0,
              "ticks": ""
             }
            },
            "type": "scattergeo"
           }
          ],
          "scattergl": [
           {
            "marker": {
             "colorbar": {
              "outlinewidth": 0,
              "ticks": ""
             }
            },
            "type": "scattergl"
           }
          ],
          "scattermapbox": [
           {
            "marker": {
             "colorbar": {
              "outlinewidth": 0,
              "ticks": ""
             }
            },
            "type": "scattermapbox"
           }
          ],
          "scatterpolar": [
           {
            "marker": {
             "colorbar": {
              "outlinewidth": 0,
              "ticks": ""
             }
            },
            "type": "scatterpolar"
           }
          ],
          "scatterpolargl": [
           {
            "marker": {
             "colorbar": {
              "outlinewidth": 0,
              "ticks": ""
             }
            },
            "type": "scatterpolargl"
           }
          ],
          "scatterternary": [
           {
            "marker": {
             "colorbar": {
              "outlinewidth": 0,
              "ticks": ""
             }
            },
            "type": "scatterternary"
           }
          ],
          "surface": [
           {
            "colorbar": {
             "outlinewidth": 0,
             "ticks": ""
            },
            "colorscale": [
             [
              0,
              "#0d0887"
             ],
             [
              0.1111111111111111,
              "#46039f"
             ],
             [
              0.2222222222222222,
              "#7201a8"
             ],
             [
              0.3333333333333333,
              "#9c179e"
             ],
             [
              0.4444444444444444,
              "#bd3786"
             ],
             [
              0.5555555555555556,
              "#d8576b"
             ],
             [
              0.6666666666666666,
              "#ed7953"
             ],
             [
              0.7777777777777778,
              "#fb9f3a"
             ],
             [
              0.8888888888888888,
              "#fdca26"
             ],
             [
              1,
              "#f0f921"
             ]
            ],
            "type": "surface"
           }
          ],
          "table": [
           {
            "cells": {
             "fill": {
              "color": "#EBF0F8"
             },
             "line": {
              "color": "white"
             }
            },
            "header": {
             "fill": {
              "color": "#C8D4E3"
             },
             "line": {
              "color": "white"
             }
            },
            "type": "table"
           }
          ]
         },
         "layout": {
          "annotationdefaults": {
           "arrowcolor": "#2a3f5f",
           "arrowhead": 0,
           "arrowwidth": 1
          },
          "autotypenumbers": "strict",
          "coloraxis": {
           "colorbar": {
            "outlinewidth": 0,
            "ticks": ""
           }
          },
          "colorscale": {
           "diverging": [
            [
             0,
             "#8e0152"
            ],
            [
             0.1,
             "#c51b7d"
            ],
            [
             0.2,
             "#de77ae"
            ],
            [
             0.3,
             "#f1b6da"
            ],
            [
             0.4,
             "#fde0ef"
            ],
            [
             0.5,
             "#f7f7f7"
            ],
            [
             0.6,
             "#e6f5d0"
            ],
            [
             0.7,
             "#b8e186"
            ],
            [
             0.8,
             "#7fbc41"
            ],
            [
             0.9,
             "#4d9221"
            ],
            [
             1,
             "#276419"
            ]
           ],
           "sequential": [
            [
             0,
             "#0d0887"
            ],
            [
             0.1111111111111111,
             "#46039f"
            ],
            [
             0.2222222222222222,
             "#7201a8"
            ],
            [
             0.3333333333333333,
             "#9c179e"
            ],
            [
             0.4444444444444444,
             "#bd3786"
            ],
            [
             0.5555555555555556,
             "#d8576b"
            ],
            [
             0.6666666666666666,
             "#ed7953"
            ],
            [
             0.7777777777777778,
             "#fb9f3a"
            ],
            [
             0.8888888888888888,
             "#fdca26"
            ],
            [
             1,
             "#f0f921"
            ]
           ],
           "sequentialminus": [
            [
             0,
             "#0d0887"
            ],
            [
             0.1111111111111111,
             "#46039f"
            ],
            [
             0.2222222222222222,
             "#7201a8"
            ],
            [
             0.3333333333333333,
             "#9c179e"
            ],
            [
             0.4444444444444444,
             "#bd3786"
            ],
            [
             0.5555555555555556,
             "#d8576b"
            ],
            [
             0.6666666666666666,
             "#ed7953"
            ],
            [
             0.7777777777777778,
             "#fb9f3a"
            ],
            [
             0.8888888888888888,
             "#fdca26"
            ],
            [
             1,
             "#f0f921"
            ]
           ]
          },
          "colorway": [
           "#636efa",
           "#EF553B",
           "#00cc96",
           "#ab63fa",
           "#FFA15A",
           "#19d3f3",
           "#FF6692",
           "#B6E880",
           "#FF97FF",
           "#FECB52"
          ],
          "font": {
           "color": "#2a3f5f"
          },
          "geo": {
           "bgcolor": "white",
           "lakecolor": "white",
           "landcolor": "#E5ECF6",
           "showlakes": true,
           "showland": true,
           "subunitcolor": "white"
          },
          "hoverlabel": {
           "align": "left"
          },
          "hovermode": "closest",
          "mapbox": {
           "style": "light"
          },
          "paper_bgcolor": "white",
          "plot_bgcolor": "#E5ECF6",
          "polar": {
           "angularaxis": {
            "gridcolor": "white",
            "linecolor": "white",
            "ticks": ""
           },
           "bgcolor": "#E5ECF6",
           "radialaxis": {
            "gridcolor": "white",
            "linecolor": "white",
            "ticks": ""
           }
          },
          "scene": {
           "xaxis": {
            "backgroundcolor": "#E5ECF6",
            "gridcolor": "white",
            "gridwidth": 2,
            "linecolor": "white",
            "showbackground": true,
            "ticks": "",
            "zerolinecolor": "white"
           },
           "yaxis": {
            "backgroundcolor": "#E5ECF6",
            "gridcolor": "white",
            "gridwidth": 2,
            "linecolor": "white",
            "showbackground": true,
            "ticks": "",
            "zerolinecolor": "white"
           },
           "zaxis": {
            "backgroundcolor": "#E5ECF6",
            "gridcolor": "white",
            "gridwidth": 2,
            "linecolor": "white",
            "showbackground": true,
            "ticks": "",
            "zerolinecolor": "white"
           }
          },
          "shapedefaults": {
           "line": {
            "color": "#2a3f5f"
           }
          },
          "ternary": {
           "aaxis": {
            "gridcolor": "white",
            "linecolor": "white",
            "ticks": ""
           },
           "baxis": {
            "gridcolor": "white",
            "linecolor": "white",
            "ticks": ""
           },
           "bgcolor": "#E5ECF6",
           "caxis": {
            "gridcolor": "white",
            "linecolor": "white",
            "ticks": ""
           }
          },
          "title": {
           "x": 0.05
          },
          "xaxis": {
           "automargin": true,
           "gridcolor": "white",
           "linecolor": "white",
           "ticks": "",
           "title": {
            "standoff": 15
           },
           "zerolinecolor": "white",
           "zerolinewidth": 2
          },
          "yaxis": {
           "automargin": true,
           "gridcolor": "white",
           "linecolor": "white",
           "ticks": "",
           "title": {
            "standoff": 15
           },
           "zerolinecolor": "white",
           "zerolinewidth": 2
          }
         }
        },
        "title": {
         "text": "Bar Plot of Brake_Condition"
        },
        "xaxis": {
         "anchor": "y",
         "domain": [
          0,
          1
         ],
         "title": {
          "text": "Brake_Condition"
         }
        },
        "yaxis": {
         "anchor": "x",
         "domain": [
          0,
          1
         ],
         "title": {
          "text": "Count"
         }
        }
       }
      }
     },
     "metadata": {},
     "output_type": "display_data"
    },
    {
     "name": "stdout",
     "output_type": "stream",
     "text": [
      "Value Counts and Percentages for Battery_Status:\n",
      "Battery_Status\n",
      "New     13406\n",
      "Good    13391\n",
      "Weak    13203\n",
      "Name: count, dtype: int64\n",
      "Battery_Status\n",
      "New     33.52\n",
      "Good    33.48\n",
      "Weak    33.01\n",
      "Name: count, dtype: float64\n",
      "\n"
     ]
    },
    {
     "data": {
      "application/vnd.plotly.v1+json": {
       "config": {
        "plotlyServerURL": "https://plot.ly"
       },
       "data": [
        {
         "alignmentgroup": "True",
         "hovertemplate": "Battery_Status=%{x}<br>Count=%{y}<br>text=%{text}<extra></extra>",
         "legendgroup": "",
         "marker": {
          "color": "#636efa",
          "pattern": {
           "shape": ""
          }
         },
         "name": "",
         "offsetgroup": "",
         "orientation": "v",
         "showlegend": false,
         "text": [
          "33.52%",
          "33.48%",
          "33.01%"
         ],
         "textposition": "outside",
         "type": "bar",
         "x": [
          "New",
          "Good",
          "Weak"
         ],
         "xaxis": "x",
         "y": [
          13406,
          13391,
          13203
         ],
         "yaxis": "y"
        }
       ],
       "layout": {
        "barmode": "relative",
        "legend": {
         "tracegroupgap": 0
        },
        "template": {
         "data": {
          "bar": [
           {
            "error_x": {
             "color": "#2a3f5f"
            },
            "error_y": {
             "color": "#2a3f5f"
            },
            "marker": {
             "line": {
              "color": "#E5ECF6",
              "width": 0.5
             },
             "pattern": {
              "fillmode": "overlay",
              "size": 10,
              "solidity": 0.2
             }
            },
            "type": "bar"
           }
          ],
          "barpolar": [
           {
            "marker": {
             "line": {
              "color": "#E5ECF6",
              "width": 0.5
             },
             "pattern": {
              "fillmode": "overlay",
              "size": 10,
              "solidity": 0.2
             }
            },
            "type": "barpolar"
           }
          ],
          "carpet": [
           {
            "aaxis": {
             "endlinecolor": "#2a3f5f",
             "gridcolor": "white",
             "linecolor": "white",
             "minorgridcolor": "white",
             "startlinecolor": "#2a3f5f"
            },
            "baxis": {
             "endlinecolor": "#2a3f5f",
             "gridcolor": "white",
             "linecolor": "white",
             "minorgridcolor": "white",
             "startlinecolor": "#2a3f5f"
            },
            "type": "carpet"
           }
          ],
          "choropleth": [
           {
            "colorbar": {
             "outlinewidth": 0,
             "ticks": ""
            },
            "type": "choropleth"
           }
          ],
          "contour": [
           {
            "colorbar": {
             "outlinewidth": 0,
             "ticks": ""
            },
            "colorscale": [
             [
              0,
              "#0d0887"
             ],
             [
              0.1111111111111111,
              "#46039f"
             ],
             [
              0.2222222222222222,
              "#7201a8"
             ],
             [
              0.3333333333333333,
              "#9c179e"
             ],
             [
              0.4444444444444444,
              "#bd3786"
             ],
             [
              0.5555555555555556,
              "#d8576b"
             ],
             [
              0.6666666666666666,
              "#ed7953"
             ],
             [
              0.7777777777777778,
              "#fb9f3a"
             ],
             [
              0.8888888888888888,
              "#fdca26"
             ],
             [
              1,
              "#f0f921"
             ]
            ],
            "type": "contour"
           }
          ],
          "contourcarpet": [
           {
            "colorbar": {
             "outlinewidth": 0,
             "ticks": ""
            },
            "type": "contourcarpet"
           }
          ],
          "heatmap": [
           {
            "colorbar": {
             "outlinewidth": 0,
             "ticks": ""
            },
            "colorscale": [
             [
              0,
              "#0d0887"
             ],
             [
              0.1111111111111111,
              "#46039f"
             ],
             [
              0.2222222222222222,
              "#7201a8"
             ],
             [
              0.3333333333333333,
              "#9c179e"
             ],
             [
              0.4444444444444444,
              "#bd3786"
             ],
             [
              0.5555555555555556,
              "#d8576b"
             ],
             [
              0.6666666666666666,
              "#ed7953"
             ],
             [
              0.7777777777777778,
              "#fb9f3a"
             ],
             [
              0.8888888888888888,
              "#fdca26"
             ],
             [
              1,
              "#f0f921"
             ]
            ],
            "type": "heatmap"
           }
          ],
          "heatmapgl": [
           {
            "colorbar": {
             "outlinewidth": 0,
             "ticks": ""
            },
            "colorscale": [
             [
              0,
              "#0d0887"
             ],
             [
              0.1111111111111111,
              "#46039f"
             ],
             [
              0.2222222222222222,
              "#7201a8"
             ],
             [
              0.3333333333333333,
              "#9c179e"
             ],
             [
              0.4444444444444444,
              "#bd3786"
             ],
             [
              0.5555555555555556,
              "#d8576b"
             ],
             [
              0.6666666666666666,
              "#ed7953"
             ],
             [
              0.7777777777777778,
              "#fb9f3a"
             ],
             [
              0.8888888888888888,
              "#fdca26"
             ],
             [
              1,
              "#f0f921"
             ]
            ],
            "type": "heatmapgl"
           }
          ],
          "histogram": [
           {
            "marker": {
             "pattern": {
              "fillmode": "overlay",
              "size": 10,
              "solidity": 0.2
             }
            },
            "type": "histogram"
           }
          ],
          "histogram2d": [
           {
            "colorbar": {
             "outlinewidth": 0,
             "ticks": ""
            },
            "colorscale": [
             [
              0,
              "#0d0887"
             ],
             [
              0.1111111111111111,
              "#46039f"
             ],
             [
              0.2222222222222222,
              "#7201a8"
             ],
             [
              0.3333333333333333,
              "#9c179e"
             ],
             [
              0.4444444444444444,
              "#bd3786"
             ],
             [
              0.5555555555555556,
              "#d8576b"
             ],
             [
              0.6666666666666666,
              "#ed7953"
             ],
             [
              0.7777777777777778,
              "#fb9f3a"
             ],
             [
              0.8888888888888888,
              "#fdca26"
             ],
             [
              1,
              "#f0f921"
             ]
            ],
            "type": "histogram2d"
           }
          ],
          "histogram2dcontour": [
           {
            "colorbar": {
             "outlinewidth": 0,
             "ticks": ""
            },
            "colorscale": [
             [
              0,
              "#0d0887"
             ],
             [
              0.1111111111111111,
              "#46039f"
             ],
             [
              0.2222222222222222,
              "#7201a8"
             ],
             [
              0.3333333333333333,
              "#9c179e"
             ],
             [
              0.4444444444444444,
              "#bd3786"
             ],
             [
              0.5555555555555556,
              "#d8576b"
             ],
             [
              0.6666666666666666,
              "#ed7953"
             ],
             [
              0.7777777777777778,
              "#fb9f3a"
             ],
             [
              0.8888888888888888,
              "#fdca26"
             ],
             [
              1,
              "#f0f921"
             ]
            ],
            "type": "histogram2dcontour"
           }
          ],
          "mesh3d": [
           {
            "colorbar": {
             "outlinewidth": 0,
             "ticks": ""
            },
            "type": "mesh3d"
           }
          ],
          "parcoords": [
           {
            "line": {
             "colorbar": {
              "outlinewidth": 0,
              "ticks": ""
             }
            },
            "type": "parcoords"
           }
          ],
          "pie": [
           {
            "automargin": true,
            "type": "pie"
           }
          ],
          "scatter": [
           {
            "fillpattern": {
             "fillmode": "overlay",
             "size": 10,
             "solidity": 0.2
            },
            "type": "scatter"
           }
          ],
          "scatter3d": [
           {
            "line": {
             "colorbar": {
              "outlinewidth": 0,
              "ticks": ""
             }
            },
            "marker": {
             "colorbar": {
              "outlinewidth": 0,
              "ticks": ""
             }
            },
            "type": "scatter3d"
           }
          ],
          "scattercarpet": [
           {
            "marker": {
             "colorbar": {
              "outlinewidth": 0,
              "ticks": ""
             }
            },
            "type": "scattercarpet"
           }
          ],
          "scattergeo": [
           {
            "marker": {
             "colorbar": {
              "outlinewidth": 0,
              "ticks": ""
             }
            },
            "type": "scattergeo"
           }
          ],
          "scattergl": [
           {
            "marker": {
             "colorbar": {
              "outlinewidth": 0,
              "ticks": ""
             }
            },
            "type": "scattergl"
           }
          ],
          "scattermapbox": [
           {
            "marker": {
             "colorbar": {
              "outlinewidth": 0,
              "ticks": ""
             }
            },
            "type": "scattermapbox"
           }
          ],
          "scatterpolar": [
           {
            "marker": {
             "colorbar": {
              "outlinewidth": 0,
              "ticks": ""
             }
            },
            "type": "scatterpolar"
           }
          ],
          "scatterpolargl": [
           {
            "marker": {
             "colorbar": {
              "outlinewidth": 0,
              "ticks": ""
             }
            },
            "type": "scatterpolargl"
           }
          ],
          "scatterternary": [
           {
            "marker": {
             "colorbar": {
              "outlinewidth": 0,
              "ticks": ""
             }
            },
            "type": "scatterternary"
           }
          ],
          "surface": [
           {
            "colorbar": {
             "outlinewidth": 0,
             "ticks": ""
            },
            "colorscale": [
             [
              0,
              "#0d0887"
             ],
             [
              0.1111111111111111,
              "#46039f"
             ],
             [
              0.2222222222222222,
              "#7201a8"
             ],
             [
              0.3333333333333333,
              "#9c179e"
             ],
             [
              0.4444444444444444,
              "#bd3786"
             ],
             [
              0.5555555555555556,
              "#d8576b"
             ],
             [
              0.6666666666666666,
              "#ed7953"
             ],
             [
              0.7777777777777778,
              "#fb9f3a"
             ],
             [
              0.8888888888888888,
              "#fdca26"
             ],
             [
              1,
              "#f0f921"
             ]
            ],
            "type": "surface"
           }
          ],
          "table": [
           {
            "cells": {
             "fill": {
              "color": "#EBF0F8"
             },
             "line": {
              "color": "white"
             }
            },
            "header": {
             "fill": {
              "color": "#C8D4E3"
             },
             "line": {
              "color": "white"
             }
            },
            "type": "table"
           }
          ]
         },
         "layout": {
          "annotationdefaults": {
           "arrowcolor": "#2a3f5f",
           "arrowhead": 0,
           "arrowwidth": 1
          },
          "autotypenumbers": "strict",
          "coloraxis": {
           "colorbar": {
            "outlinewidth": 0,
            "ticks": ""
           }
          },
          "colorscale": {
           "diverging": [
            [
             0,
             "#8e0152"
            ],
            [
             0.1,
             "#c51b7d"
            ],
            [
             0.2,
             "#de77ae"
            ],
            [
             0.3,
             "#f1b6da"
            ],
            [
             0.4,
             "#fde0ef"
            ],
            [
             0.5,
             "#f7f7f7"
            ],
            [
             0.6,
             "#e6f5d0"
            ],
            [
             0.7,
             "#b8e186"
            ],
            [
             0.8,
             "#7fbc41"
            ],
            [
             0.9,
             "#4d9221"
            ],
            [
             1,
             "#276419"
            ]
           ],
           "sequential": [
            [
             0,
             "#0d0887"
            ],
            [
             0.1111111111111111,
             "#46039f"
            ],
            [
             0.2222222222222222,
             "#7201a8"
            ],
            [
             0.3333333333333333,
             "#9c179e"
            ],
            [
             0.4444444444444444,
             "#bd3786"
            ],
            [
             0.5555555555555556,
             "#d8576b"
            ],
            [
             0.6666666666666666,
             "#ed7953"
            ],
            [
             0.7777777777777778,
             "#fb9f3a"
            ],
            [
             0.8888888888888888,
             "#fdca26"
            ],
            [
             1,
             "#f0f921"
            ]
           ],
           "sequentialminus": [
            [
             0,
             "#0d0887"
            ],
            [
             0.1111111111111111,
             "#46039f"
            ],
            [
             0.2222222222222222,
             "#7201a8"
            ],
            [
             0.3333333333333333,
             "#9c179e"
            ],
            [
             0.4444444444444444,
             "#bd3786"
            ],
            [
             0.5555555555555556,
             "#d8576b"
            ],
            [
             0.6666666666666666,
             "#ed7953"
            ],
            [
             0.7777777777777778,
             "#fb9f3a"
            ],
            [
             0.8888888888888888,
             "#fdca26"
            ],
            [
             1,
             "#f0f921"
            ]
           ]
          },
          "colorway": [
           "#636efa",
           "#EF553B",
           "#00cc96",
           "#ab63fa",
           "#FFA15A",
           "#19d3f3",
           "#FF6692",
           "#B6E880",
           "#FF97FF",
           "#FECB52"
          ],
          "font": {
           "color": "#2a3f5f"
          },
          "geo": {
           "bgcolor": "white",
           "lakecolor": "white",
           "landcolor": "#E5ECF6",
           "showlakes": true,
           "showland": true,
           "subunitcolor": "white"
          },
          "hoverlabel": {
           "align": "left"
          },
          "hovermode": "closest",
          "mapbox": {
           "style": "light"
          },
          "paper_bgcolor": "white",
          "plot_bgcolor": "#E5ECF6",
          "polar": {
           "angularaxis": {
            "gridcolor": "white",
            "linecolor": "white",
            "ticks": ""
           },
           "bgcolor": "#E5ECF6",
           "radialaxis": {
            "gridcolor": "white",
            "linecolor": "white",
            "ticks": ""
           }
          },
          "scene": {
           "xaxis": {
            "backgroundcolor": "#E5ECF6",
            "gridcolor": "white",
            "gridwidth": 2,
            "linecolor": "white",
            "showbackground": true,
            "ticks": "",
            "zerolinecolor": "white"
           },
           "yaxis": {
            "backgroundcolor": "#E5ECF6",
            "gridcolor": "white",
            "gridwidth": 2,
            "linecolor": "white",
            "showbackground": true,
            "ticks": "",
            "zerolinecolor": "white"
           },
           "zaxis": {
            "backgroundcolor": "#E5ECF6",
            "gridcolor": "white",
            "gridwidth": 2,
            "linecolor": "white",
            "showbackground": true,
            "ticks": "",
            "zerolinecolor": "white"
           }
          },
          "shapedefaults": {
           "line": {
            "color": "#2a3f5f"
           }
          },
          "ternary": {
           "aaxis": {
            "gridcolor": "white",
            "linecolor": "white",
            "ticks": ""
           },
           "baxis": {
            "gridcolor": "white",
            "linecolor": "white",
            "ticks": ""
           },
           "bgcolor": "#E5ECF6",
           "caxis": {
            "gridcolor": "white",
            "linecolor": "white",
            "ticks": ""
           }
          },
          "title": {
           "x": 0.05
          },
          "xaxis": {
           "automargin": true,
           "gridcolor": "white",
           "linecolor": "white",
           "ticks": "",
           "title": {
            "standoff": 15
           },
           "zerolinecolor": "white",
           "zerolinewidth": 2
          },
          "yaxis": {
           "automargin": true,
           "gridcolor": "white",
           "linecolor": "white",
           "ticks": "",
           "title": {
            "standoff": 15
           },
           "zerolinecolor": "white",
           "zerolinewidth": 2
          }
         }
        },
        "title": {
         "text": "Bar Plot of Battery_Status"
        },
        "xaxis": {
         "anchor": "y",
         "domain": [
          0,
          1
         ],
         "title": {
          "text": "Battery_Status"
         }
        },
        "yaxis": {
         "anchor": "x",
         "domain": [
          0,
          1
         ],
         "title": {
          "text": "Count"
         }
        }
       }
      }
     },
     "metadata": {},
     "output_type": "display_data"
    }
   ],
   "source": [
    "import pandas as pd\n",
    "import plotly.express as px\n",
    "\n",
    "# Assuming 'df' is your DataFrame\n",
    "categorical_df = df_dropped.select_dtypes(include=object)\n",
    "\n",
    "for column in categorical_df.columns:\n",
    "    # Value counts and percentages\n",
    "    value_counts = categorical_df[column].value_counts()\n",
    "    percentages = (value_counts / len(categorical_df) * 100).round(2)\n",
    "    print(f\"Value Counts and Percentages for {column}:\\n{value_counts}\\n{percentages}\\n\")\n",
    "\n",
    "    # Bar plot\n",
    "    fig = px.bar(\n",
    "        x=value_counts.index,\n",
    "        y=value_counts.values,\n",
    "        title=f\"Bar Plot of {column}\",\n",
    "        labels={\"x\": column, \"y\": \"Count\"},\n",
    "        text=percentages.astype(str) + \"%\",  # Display percentages on bars\n",
    "    )\n",
    "    fig.update_traces(textposition=\"outside\")  # Position percentages outside bars\n",
    "    fig.show()"
   ]
  },
  {
   "cell_type": "code",
   "execution_count": null,
   "metadata": {},
   "outputs": [],
   "source": []
  }
 ],
 "metadata": {
  "kernelspec": {
   "display_name": "Python 3",
   "language": "python",
   "name": "python3"
  },
  "language_info": {
   "codemirror_mode": {
    "name": "ipython",
    "version": 3
   },
   "file_extension": ".py",
   "mimetype": "text/x-python",
   "name": "python",
   "nbconvert_exporter": "python",
   "pygments_lexer": "ipython3",
   "version": "3.8.0"
  }
 },
 "nbformat": 4,
 "nbformat_minor": 2
}
